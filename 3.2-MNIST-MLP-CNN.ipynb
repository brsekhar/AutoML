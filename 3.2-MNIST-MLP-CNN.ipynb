{
  "nbformat": 4,
  "nbformat_minor": 0,
  "metadata": {
    "kernelspec": {
      "display_name": "book",
      "language": "python",
      "name": "book"
    },
    "language_info": {
      "codemirror_mode": {
        "name": "ipython",
        "version": 3
      },
      "file_extension": ".py",
      "mimetype": "text/x-python",
      "name": "python",
      "nbconvert_exporter": "python",
      "pygments_lexer": "ipython3",
      "version": "3.6.2"
    },
    "colab": {
      "name": "Copy of 3.2-MNIST-MLP-CNN.ipynb",
      "provenance": [],
      "collapsed_sections": []
    }
  },
  "cells": [
    {
      "cell_type": "code",
      "metadata": {
        "id": "0tkFaDV9JQ3y"
      },
      "source": [
        "import tensorflow as tf\n",
        "tf.random.set_seed(42)"
      ],
      "execution_count": 1,
      "outputs": []
    },
    {
      "cell_type": "markdown",
      "metadata": {
        "id": "XWdR3P81JQ31"
      },
      "source": [
        "## Load data"
      ]
    },
    {
      "cell_type": "code",
      "metadata": {
        "id": "XhujAZ8CJQ32"
      },
      "source": [
        "from tensorflow.keras.datasets import mnist\n",
        "\n",
        "(train_images, train_labels), (test_images, test_labels) =  mnist.load_data()"
      ],
      "execution_count": 2,
      "outputs": []
    },
    {
      "cell_type": "markdown",
      "metadata": {
        "id": "H-CuDm8WJQ32"
      },
      "source": [
        "## Explore data"
      ]
    },
    {
      "cell_type": "code",
      "metadata": {
        "id": "zVOklfHFJQ32",
        "colab": {
          "base_uri": "https://localhost:8080/"
        },
        "outputId": "8292837d-efb4-45a3-fae9-7a0a873259dc"
      },
      "source": [
        "train_images.shape, test_images.shape"
      ],
      "execution_count": 3,
      "outputs": [
        {
          "output_type": "execute_result",
          "data": {
            "text/plain": [
              "((60000, 28, 28), (10000, 28, 28))"
            ]
          },
          "metadata": {},
          "execution_count": 3
        }
      ]
    },
    {
      "cell_type": "code",
      "metadata": {
        "id": "Hq2fiQXSJQ33",
        "colab": {
          "base_uri": "https://localhost:8080/"
        },
        "outputId": "057ad95d-01f2-4d54-81b7-cadc9717d91d"
      },
      "source": [
        "len(train_labels), len(test_labels)"
      ],
      "execution_count": 4,
      "outputs": [
        {
          "output_type": "execute_result",
          "data": {
            "text/plain": [
              "(60000, 10000)"
            ]
          },
          "metadata": {},
          "execution_count": 4
        }
      ]
    },
    {
      "cell_type": "code",
      "metadata": {
        "id": "9m0H_pl0JQ34",
        "colab": {
          "base_uri": "https://localhost:8080/"
        },
        "outputId": "b0766393-7151-4de9-c68c-f25e1e1c40b5"
      },
      "source": [
        "train_labels, test_labels"
      ],
      "execution_count": 5,
      "outputs": [
        {
          "output_type": "execute_result",
          "data": {
            "text/plain": [
              "(array([5, 0, 4, ..., 5, 6, 8], dtype=uint8),\n",
              " array([7, 2, 1, ..., 4, 5, 6], dtype=uint8))"
            ]
          },
          "metadata": {},
          "execution_count": 5
        }
      ]
    },
    {
      "cell_type": "code",
      "metadata": {
        "id": "l_MzLZa3JQ34",
        "colab": {
          "base_uri": "https://localhost:8080/",
          "height": 281
        },
        "outputId": "7d9768bb-f61e-4228-9f14-7667cea9a117"
      },
      "source": [
        "import matplotlib.pyplot as plt\n",
        "\n",
        "plt.figure()\n",
        "plt.imshow(train_images[0]) # , cmap='gray'\n",
        "plt.colorbar()\n",
        "plt.title('Label is {label}'.format(label=train_labels[0]))\n",
        "plt.show()"
      ],
      "execution_count": 6,
      "outputs": [
        {
          "output_type": "display_data",
          "data": {
            "image/png": "[encoded data removed]",
            "text/plain": [
              "<Figure size 432x288 with 2 Axes>"
            ]
          },
          "metadata": {
            "needs_background": "light"
          }
        }
      ]
    },
    {
      "cell_type": "markdown",
      "metadata": {
        "id": "7dkOPfK5JQ35"
      },
      "source": [
        "## Data Preparation: scaling"
      ]
    },
    {
      "cell_type": "code",
      "metadata": {
        "id": "uuCCbBs4JQ35"
      },
      "source": [
        "train_images = train_images / 255.0\n",
        "test_images = test_images / 255.0"
      ],
      "execution_count": 7,
      "outputs": []
    },
    {
      "cell_type": "code",
      "metadata": {
        "id": "ZW3FCFctJQ36",
        "colab": {
          "base_uri": "https://localhost:8080/",
          "height": 148
        },
        "outputId": "5a8b6ec5-5eef-49ec-97db-21e6f132a019"
      },
      "source": [
        "%matplotlib inline\n",
        "import matplotlib\n",
        "import matplotlib.pyplot as plt\n",
        "\n",
        "# plot first 20 images\n",
        "n = 20\n",
        "_, axes = plt.subplots(2, 10, figsize=(10, 2))\n",
        "plt.tight_layout()\n",
        "for i in range(n):\n",
        "    row, col = i // 10, i % 10\n",
        "    axes[row, col].set_axis_off()\n",
        "    axes[row, col].imshow(train_images[i,], cmap=plt.cm.binary, interpolation='nearest') # plt.cm.gray_r\n",
        "    axes[row, col].set_title('Label: %i' % train_labels[i])"
      ],
      "execution_count": 8,
      "outputs": [
        {
          "output_type": "display_data",
          "data": {
            "image/png": "[encoded data removed]",
            "text/plain": [
              "<Figure size 720x144 with 20 Axes>"
            ]
          },
          "metadata": {
            "needs_background": "light"
          }
        }
      ]
    },
    {
      "cell_type": "markdown",
      "metadata": {
        "id": "jSm7Zv3GJQ36"
      },
      "source": [
        "## Build MLP"
      ]
    },
    {
      "cell_type": "code",
      "metadata": {
        "id": "TxXK8zdQJQ37"
      },
      "source": [
        "from tensorflow import keras\n",
        "from tensorflow.keras import layers\n",
        "\n",
        "mlp_model = keras.Sequential([\n",
        "    keras.layers.Flatten(input_shape=train_images.shape[1:]),\n",
        "    keras.layers.Dense(128, activation='relu'),\n",
        "    keras.layers.Dense(10, activation='softmax')\n",
        "])\n",
        "mlp_model.compile(optimizer='adam',\n",
        "          loss=tf.keras.losses.SparseCategoricalCrossentropy(),\n",
        "          metrics=['accuracy'])"
      ],
      "execution_count": 9,
      "outputs": []
    },
    {
      "cell_type": "code",
      "metadata": {
        "id": "LpeGd-FFJQ37",
        "colab": {
          "base_uri": "https://localhost:8080/"
        },
        "outputId": "0f5a6cfa-6cc2-495c-f175-e5c0c5ab351c"
      },
      "source": [
        "mlp_model.summary()"
      ],
      "execution_count": 10,
      "outputs": [
        {
          "output_type": "stream",
          "name": "stdout",
          "text": [
            "Model: \"sequential\"\n",
            "_________________________________________________________________\n",
            "Layer (type)                 Output Shape              Param #   \n",
            "=================================================================\n",
            "flatten (Flatten)            (None, 784)               0         \n",
            "_________________________________________________________________\n",
            "dense (Dense)                (None, 128)               100480    \n",
            "_________________________________________________________________\n",
            "dense_1 (Dense)              (None, 10)                1290      \n",
            "=================================================================\n",
            "Total params: 101,770\n",
            "Trainable params: 101,770\n",
            "Non-trainable params: 0\n",
            "_________________________________________________________________\n"
          ]
        }
      ]
    },
    {
      "cell_type": "code",
      "metadata": {
        "id": "Dj5GUTJFJQ38",
        "colab": {
          "base_uri": "https://localhost:8080/"
        },
        "outputId": "361c2169-780c-4a28-f20f-78287410a64b"
      },
      "source": [
        "mlp_model.fit(train_images, train_labels, epochs=5, batch_size=64, verbose=1)"
      ],
      "execution_count": 11,
      "outputs": [
        {
          "output_type": "stream",
          "name": "stdout",
          "text": [
            "Epoch 1/5\n",
            "938/938 [==============================] - 7s 6ms/step - loss: 0.3037 - accuracy: 0.9148\n",
            "Epoch 2/5\n",
            "938/938 [==============================] - 4s 4ms/step - loss: 0.1373 - accuracy: 0.9602\n",
            "Epoch 3/5\n",
            "938/938 [==============================] - 3s 3ms/step - loss: 0.0936 - accuracy: 0.9730\n",
            "Epoch 4/5\n",
            "938/938 [==============================] - 3s 3ms/step - loss: 0.0699 - accuracy: 0.9793\n",
            "Epoch 5/5\n",
            "938/938 [==============================] - 3s 3ms/step - loss: 0.0549 - accuracy: 0.9839\n"
          ]
        },
        {
          "output_type": "execute_result",
          "data": {
            "text/plain": [
              "<keras.callbacks.History at 0x7f2b2a8cadd0>"
            ]
          },
          "metadata": {},
          "execution_count": 11
        }
      ]
    },
    {
      "cell_type": "code",
      "metadata": {
        "id": "jIwXpkwqJQ38",
        "colab": {
          "base_uri": "https://localhost:8080/"
        },
        "outputId": "6e45af96-dbdc-447c-c04a-b0d4d5b719b9"
      },
      "source": [
        "test_loss, test_acc = mlp_model.evaluate(test_images,  test_labels, verbose=0)\n",
        "test_acc"
      ],
      "execution_count": 12,
      "outputs": [
        {
          "output_type": "execute_result",
          "data": {
            "text/plain": [
              "0.9747999906539917"
            ]
          },
          "metadata": {},
          "execution_count": 12
        }
      ]
    },
    {
      "cell_type": "markdown",
      "metadata": {
        "id": "1xoEcnk1JQ38"
      },
      "source": [
        "## Build CNN"
      ]
    },
    {
      "cell_type": "code",
      "metadata": {
        "id": "g_jMwK6nJQ39"
      },
      "source": [
        "def build_cnn():\n",
        "    model = keras.Sequential([\n",
        "        keras.layers.Conv2D(32, (3, 3), activation='relu', input_shape= train_images.shape[1:] + (1, )),\n",
        "        keras.layers.MaxPooling2D((2, 2)),\n",
        "        keras.layers.Conv2D(64, (3, 3), activation='relu'),\n",
        "        keras.layers.MaxPooling2D((2, 2)),\n",
        "        keras.layers.Conv2D(64, (3, 3), activation='relu'),       \n",
        "        keras.layers.Flatten(),\n",
        "        keras.layers.Dense(64, activation='relu'),\n",
        "        keras.layers.Dense(10, activation='softmax')\n",
        "    ])\n",
        "    \n",
        "    model.compile(optimizer='adam',\n",
        "              loss=tf.keras.losses.SparseCategoricalCrossentropy(),\n",
        "              metrics=['accuracy'])\n",
        "    return model"
      ],
      "execution_count": 13,
      "outputs": []
    },
    {
      "cell_type": "code",
      "metadata": {
        "id": "JC0VHqM-JQ3-"
      },
      "source": [
        "cnn_model = build_cnn()"
      ],
      "execution_count": 14,
      "outputs": []
    },
    {
      "cell_type": "code",
      "metadata": {
        "id": "d64ueRp3JQ3-",
        "colab": {
          "base_uri": "https://localhost:8080/"
        },
        "outputId": "d1917d02-dd7d-4d9a-8150-cecce77c7ede"
      },
      "source": [
        "cnn_model.summary()"
      ],
      "execution_count": 15,
      "outputs": [
        {
          "output_type": "stream",
          "name": "stdout",
          "text": [
            "Model: \"sequential_1\"\n",
            "_________________________________________________________________\n",
            "Layer (type)                 Output Shape              Param #   \n",
            "=================================================================\n",
            "conv2d (Conv2D)              (None, 26, 26, 32)        320       \n",
            "_________________________________________________________________\n",
            "max_pooling2d (MaxPooling2D) (None, 13, 13, 32)        0         \n",
            "_________________________________________________________________\n",
            "conv2d_1 (Conv2D)            (None, 11, 11, 64)        18496     \n",
            "_________________________________________________________________\n",
            "max_pooling2d_1 (MaxPooling2 (None, 5, 5, 64)          0         \n",
            "_________________________________________________________________\n",
            "conv2d_2 (Conv2D)            (None, 3, 3, 64)          36928     \n",
            "_________________________________________________________________\n",
            "flatten_1 (Flatten)          (None, 576)               0         \n",
            "_________________________________________________________________\n",
            "dense_2 (Dense)              (None, 64)                36928     \n",
            "_________________________________________________________________\n",
            "dense_3 (Dense)              (None, 10)                650       \n",
            "=================================================================\n",
            "Total params: 93,322\n",
            "Trainable params: 93,322\n",
            "Non-trainable params: 0\n",
            "_________________________________________________________________\n"
          ]
        }
      ]
    },
    {
      "cell_type": "code",
      "metadata": {
        "id": "-5Kt2afWJQ3-",
        "colab": {
          "base_uri": "https://localhost:8080/"
        },
        "outputId": "45ae8548-5403-467d-d008-b99c38f4cedf"
      },
      "source": [
        "train_images_4d = train_images[..., tf.newaxis]\n",
        "test_images_4d = test_images[..., tf.newaxis]\n",
        "train_images_4d.shape, test_images_4d.shape"
      ],
      "execution_count": 16,
      "outputs": [
        {
          "output_type": "execute_result",
          "data": {
            "text/plain": [
              "((60000, 28, 28, 1), (10000, 28, 28, 1))"
            ]
          },
          "metadata": {},
          "execution_count": 16
        }
      ]
    },
    {
      "cell_type": "code",
      "metadata": {
        "id": "DRGLPLXcJQ3_",
        "colab": {
          "base_uri": "https://localhost:8080/"
        },
        "outputId": "502c277b-8b96-4015-ad66-809bcd9c4859"
      },
      "source": [
        "cnn_model.fit(train_images_4d, train_labels, epochs=5, batch_size=64, verbose=1)"
      ],
      "execution_count": 17,
      "outputs": [
        {
          "output_type": "stream",
          "name": "stdout",
          "text": [
            "Epoch 1/5\n",
            "938/938 [==============================] - 52s 55ms/step - loss: 0.1883 - accuracy: 0.9427\n",
            "Epoch 2/5\n",
            "938/938 [==============================] - 53s 56ms/step - loss: 0.0526 - accuracy: 0.9837\n",
            "Epoch 3/5\n",
            "938/938 [==============================] - 52s 55ms/step - loss: 0.0376 - accuracy: 0.9883\n",
            "Epoch 4/5\n",
            "938/938 [==============================] - 52s 55ms/step - loss: 0.0290 - accuracy: 0.9911\n",
            "Epoch 5/5\n",
            "938/938 [==============================] - 52s 56ms/step - loss: 0.0233 - accuracy: 0.9924\n"
          ]
        },
        {
          "output_type": "execute_result",
          "data": {
            "text/plain": [
              "<keras.callbacks.History at 0x7f2b37ec7a90>"
            ]
          },
          "metadata": {},
          "execution_count": 17
        }
      ]
    },
    {
      "cell_type": "code",
      "metadata": {
        "id": "rTOAtRwpJQ3_",
        "colab": {
          "base_uri": "https://localhost:8080/"
        },
        "outputId": "9471f6a7-19c1-4080-b054-cdbb94dc06a5"
      },
      "source": [
        "test_loss, test_acc = cnn_model.evaluate(test_images_4d,  test_labels, verbose=0)\n",
        "test_acc"
      ],
      "execution_count": 18,
      "outputs": [
        {
          "output_type": "execute_result",
          "data": {
            "text/plain": [
              "0.9890000224113464"
            ]
          },
          "metadata": {},
          "execution_count": 18
        }
      ]
    },
    {
      "cell_type": "markdown",
      "metadata": {
        "id": "cmtnDCz2JQ3_"
      },
      "source": [
        "## Make predictions"
      ]
    },
    {
      "cell_type": "code",
      "metadata": {
        "id": "mpYWxnRIJQ4A",
        "colab": {
          "base_uri": "https://localhost:8080/"
        },
        "outputId": "e463a847-c636-41cd-fb2d-29827e24e4c4"
      },
      "source": [
        "test_predictions = cnn_model.predict(test_images_4d)\n",
        "test_predictions[:5]"
      ],
      "execution_count": 19,
      "outputs": [
        {
          "output_type": "execute_result",
          "data": {
            "text/plain": [
              "array([[3.84047549e-09, 6.78562699e-08, 2.99618137e-07, 9.71605573e-07,\n",
              "        8.41359480e-08, 7.15603710e-09, 3.66719865e-14, 9.99996781e-01,\n",
              "        1.74116082e-07, 1.62966774e-06],\n",
              "       [1.39899887e-08, 6.44863485e-06, 9.99993205e-01, 4.27024069e-08,\n",
              "        1.19003388e-07, 8.33544844e-10, 1.25475790e-08, 1.52682034e-09,\n",
              "        2.06294288e-07, 2.91852786e-09],\n",
              "       [1.23445332e-07, 9.99979377e-01, 2.54028549e-07, 3.70118292e-09,\n",
              "        7.86788405e-06, 3.11259055e-06, 1.20823316e-07, 8.33987451e-06,\n",
              "        6.37926462e-07, 1.79338898e-07],\n",
              "       [9.99870181e-01, 3.40352169e-09, 6.01858062e-07, 3.36806835e-07,\n",
              "        1.91185180e-07, 4.16704324e-06, 1.90607007e-05, 9.20366074e-06,\n",
              "        4.15522294e-07, 9.57312805e-05],\n",
              "       [1.07382645e-08, 3.52653160e-07, 3.03753040e-07, 1.63677242e-07,\n",
              "        9.99951005e-01, 7.82374343e-07, 4.19300932e-08, 8.36001846e-07,\n",
              "        7.20754212e-09, 4.64620061e-05]], dtype=float32)"
            ]
          },
          "metadata": {},
          "execution_count": 19
        }
      ]
    },
    {
      "cell_type": "code",
      "metadata": {
        "id": "dCeRBqrPJQ4A",
        "colab": {
          "base_uri": "https://localhost:8080/"
        },
        "outputId": "bfcda223-1d01-405a-acf5-9f6aaf7db7dc"
      },
      "source": [
        "import numpy as np\n",
        "np.argmax(test_predictions[0])"
      ],
      "execution_count": 20,
      "outputs": [
        {
          "output_type": "execute_result",
          "data": {
            "text/plain": [
              "7"
            ]
          },
          "metadata": {},
          "execution_count": 20
        }
      ]
    },
    {
      "cell_type": "code",
      "metadata": {
        "id": "XgHcdoZzJQ4A",
        "colab": {
          "base_uri": "https://localhost:8080/"
        },
        "outputId": "ddb7e8cd-6c7a-4d40-b1cd-aa9eab344991"
      },
      "source": [
        "test_labels[0]"
      ],
      "execution_count": 21,
      "outputs": [
        {
          "output_type": "execute_result",
          "data": {
            "text/plain": [
              "7"
            ]
          },
          "metadata": {},
          "execution_count": 21
        }
      ]
    }
  ]
}