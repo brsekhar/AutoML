{
  "nbformat": 4,
  "nbformat_minor": 0,
  "metadata": {
    "colab": {
      "name": "Copy of Copy of 6.1.1-Tune-MLP-with-customized-MLP-block.ipynb",
      "provenance": [],
      "collapsed_sections": []
    },
    "kernelspec": {
      "name": "python3",
      "display_name": "Python 3"
    }
  },
  "cells": [
    {
      "cell_type": "code",
      "metadata": {
        "id": "RYvkutqKV_Xc"
      },
      "source": [
        "!pip install autokeras -q"
      ],
      "execution_count": null,
      "outputs": []
    },
    {
      "cell_type": "markdown",
      "metadata": {
        "id": "O12L7nYtaH1T"
      },
      "source": [
        "## Customize a block for tuning the number of units"
      ]
    },
    {
      "cell_type": "code",
      "metadata": {
        "id": "CSc0uZiuWGEa"
      },
      "source": [
        "from tensorflow import keras\n",
        "from tensorflow.keras import layers\n",
        "\n",
        "def build_mlp():\n",
        "    input_node = keras.Input(shape=(20,))\n",
        "    \n",
        "    output_node = layers.Dense(units=32, activation='relu')(input_node)\n",
        "    output_node = layers.Dense(units=32, activation='relu')(output_node)\n",
        "    output_node = layers.Dense(units=1, activation='sigmoid')(output_node)\n",
        "    \n",
        "    model = keras.Model(input_node, output_node)\n",
        "    return model \n",
        "\n",
        "mlp_model = build_mlp()"
      ],
      "execution_count": null,
      "outputs": []
    },
    {
      "cell_type": "code",
      "metadata": {
        "id": "OxJkpc8kvKW1"
      },
      "source": [
        "import autokeras as ak\n",
        "import tensorflow as tf\n",
        "from tensorflow.keras import layers\n",
        " \n",
        "class MlpBlock(ak.Block):\n",
        " \n",
        "  def build(self, hp, inputs):\n",
        " \n",
        "    input_node = tf.nest.flatten(inputs)[0]\n",
        " \n",
        "    units = hp.Int(name='units', min_value=32, max_value=512, step=32)\n",
        " \n",
        "    output_node = layers.Dense(units=units, activation='relu')(input_node)\n",
        "    output_node = layers.Dense(units=units,\n",
        "    activation='relu')(output_node)\n",
        " \n",
        "    return output_node"
      ],
      "execution_count": null,
      "outputs": []
    },
    {
      "cell_type": "code",
      "metadata": {
        "id": "CQJYNyVxWGQb"
      },
      "source": [
        "import autokeras as ak\n",
        "import tensorflow as tf\n",
        "from tensorflow.keras import layers\n",
        "\n",
        "\n",
        "class MlpBlock(ak.Block):\n",
        "\n",
        "  def build(self, hp, inputs):\n",
        "  \n",
        "    input_node = tf.nest.flatten(inputs)[0]\n",
        "    \n",
        "    units_1 = hp.Int(name='units_1', min_value=32, max_value=512, step=32)\n",
        "    \n",
        "    units_2 = hp.Int(name='units_2', min_value=32, max_value=512, step=32)  \n",
        "        \n",
        "    output_node = layers.Dense(units=units_1, activation='relu')(input_node)\n",
        "    \n",
        "    output_node = layers.Dense(units=units_2, activation='relu')(output_node)\n",
        "    \n",
        "    return output_node"
      ],
      "execution_count": null,
      "outputs": []
    },
    {
      "cell_type": "markdown",
      "metadata": {
        "id": "pF1eEA_raLfT"
      },
      "source": [
        "## Customize a block for tuning different types of hyperparameters"
      ]
    },
    {
      "cell_type": "code",
      "metadata": {
        "id": "KlBEuS36WGS4"
      },
      "source": [
        "import autokeras as ak\n",
        "import tensorflow as tf\n",
        "from tensorflow.keras import layers\n",
        "\n",
        "\n",
        "class MlpBlock(ak.Block):\n",
        "  def build(self, hp, inputs):\n",
        "    output_node = tf.nest.flatten(inputs)[0]\n",
        "    for i in range(hp.Choice(\"num_layers\", [1, 2, 3])):\n",
        "      output_node = layers.Dense(units=hp.Int('units_' + str(i),\n",
        "                                              min_value=32,\n",
        "                                              max_value=512,\n",
        "                                              step=32),\n",
        "                                 activation='relu')(output_node)\n",
        "    return output_node"
      ],
      "execution_count": null,
      "outputs": []
    },
    {
      "cell_type": "code",
      "metadata": {
        "id": "3EZQsr_8WGVU"
      },
      "source": [
        "import autokeras as ak\n",
        "import tensorflow as tf\n",
        "from tensorflow.keras import layers\n",
        "\n",
        "\n",
        "class MlpBlock(ak.Block):\n",
        "  def build(self, hp, inputs):\n",
        "    output_node = tf.nest.flatten(inputs)[0]\n",
        "    for i in range(hp.Choice(\"num_layers\", [1, 2, 3])):\n",
        "      output_node = layers.Dense(units=hp.Int('units_' + str(i),\n",
        "                                              min_value=32,\n",
        "                                              max_value=512,\n",
        "                                              step=32),\n",
        "                                 activation='relu')(output_node)\n",
        "    if hp.Boolean(\"dropout\"):\n",
        "      output_node = layers.Dropout(rate=hp.Float(\"dropout_rate\",\n",
        "                                                 min_value=0,\n",
        "                                                 max_value=1))(output_node)\n",
        "    return output_node"
      ],
      "execution_count": null,
      "outputs": []
    },
    {
      "cell_type": "markdown",
      "metadata": {
        "id": "oHriV6Lza214"
      },
      "source": [
        "## Using the customized block to create an AutoML pipeline"
      ]
    },
    {
      "cell_type": "code",
      "metadata": {
        "colab": {
          "base_uri": "https://localhost:8080/"
        },
        "id": "mCq8Zd4hWGXw",
        "outputId": "25d13445-d5a4-49e3-81de-863123163cd8"
      },
      "source": [
        "import keras_tuner as kt\n",
        "hp = kt.HyperParameters()\n",
        "inputs = tf.keras.Input(shape=(20,))\n",
        "MlpBlock().build(hp, inputs)"
      ],
      "execution_count": null,
      "outputs": [
        {
          "output_type": "execute_result",
          "data": {
            "text/plain": [
              "<KerasTensor: shape=(None, 32) dtype=float32 (created by layer 'dense')>"
            ]
          },
          "metadata": {
            "tags": []
          },
          "execution_count": 3
        }
      ]
    },
    {
      "cell_type": "code",
      "metadata": {
        "colab": {
          "base_uri": "https://localhost:8080/"
        },
        "id": "vX-_sR9HWGaX",
        "outputId": "925052fb-d48c-4041-b363-da9f181ad7b0"
      },
      "source": [
        "import numpy as np\n",
        "x_train = np.random.rand(100, 20)\n",
        "y_train = np.random.rand(100, 1)\n",
        "x_test = np.random.rand(100, 20)\n",
        "\n",
        "input_node = ak.StructuredDataInput()\n",
        "output_node = MlpBlock()(input_node)\n",
        "output_node = ak.RegressionHead()(output_node)\n",
        "auto_model = ak.AutoModel(input_node, output_node, max_trials=3, overwrite=True)\n",
        "auto_model.fit(x_train, y_train, epochs=1)"
      ],
      "execution_count": null,
      "outputs": [
        {
          "output_type": "stream",
          "text": [
            "Trial 3 Complete [00h 00m 00s]\n",
            "val_loss: 0.6489289402961731\n",
            "\n",
            "Best val_loss So Far: 0.6489289402961731\n",
            "Total elapsed time: 00h 00m 02s\n",
            "INFO:tensorflow:Oracle triggered exit\n",
            "4/4 [==============================] - 0s 4ms/step - loss: 1.1067 - mean_squared_error: 1.1067\n",
            "INFO:tensorflow:Assets written to: ./auto_model/best_model/assets\n"
          ],
          "name": "stdout"
        }
      ]
    },
    {
      "cell_type": "code",
      "metadata": {
        "colab": {
          "base_uri": "https://localhost:8080/"
        },
        "id": "Zf4B-dkOWGcq",
        "outputId": "871aebf5-bdb0-4df3-b3a5-ad0d63e3fa00"
      },
      "source": [
        "auto_model.predict(x_test).shape"
      ],
      "execution_count": null,
      "outputs": [
        {
          "output_type": "execute_result",
          "data": {
            "text/plain": [
              "(100, 1)"
            ]
          },
          "metadata": {
            "tags": []
          },
          "execution_count": 5
        }
      ]
    },
    {
      "cell_type": "code",
      "metadata": {
        "colab": {
          "base_uri": "https://localhost:8080/"
        },
        "id": "kCWIN-AvWGfH",
        "outputId": "b09f84ac-85f0-4f21-aaaf-8bef9751b2c0"
      },
      "source": [
        "auto_model.tuner.search_space_summary()"
      ],
      "execution_count": null,
      "outputs": [
        {
          "output_type": "stream",
          "text": [
            "Search space summary\n",
            "Default search space size: 7\n",
            "mlp_block_1/num_layers (Choice)\n",
            "{'default': 1, 'conditions': [], 'values': [1, 2, 3], 'ordered': True}\n",
            "mlp_block_1/units_0 (Int)\n",
            "{'default': None, 'conditions': [], 'min_value': 32, 'max_value': 512, 'step': 32, 'sampling': None}\n",
            "mlp_block_1/dropout (Boolean)\n",
            "{'default': False, 'conditions': []}\n",
            "regression_head_1/dropout (Choice)\n",
            "{'default': 0, 'conditions': [], 'values': [0.0, 0.25, 0.5], 'ordered': True}\n",
            "optimizer (Choice)\n",
            "{'default': 'adam', 'conditions': [], 'values': ['adam', 'sgd', 'adam_weight_decay'], 'ordered': False}\n",
            "learning_rate (Choice)\n",
            "{'default': 0.001, 'conditions': [], 'values': [0.1, 0.01, 0.001, 0.0001, 2e-05, 1e-05], 'ordered': True}\n",
            "mlp_block_1/dropout_rate (Float)\n",
            "{'default': 0.0, 'conditions': [], 'min_value': 0.0, 'max_value': 1.0, 'step': None, 'sampling': None}\n"
          ],
          "name": "stdout"
        }
      ]
    }
  ]
}