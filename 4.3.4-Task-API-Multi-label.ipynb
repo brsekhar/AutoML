{
  "nbformat": 4,
  "nbformat_minor": 0,
  "metadata": {
    "colab": {
      "name": "Copy of ImageClassifier.ipynb",
      "provenance": [],
      "collapsed_sections": []
    },
    "kernelspec": {
      "display_name": "Python 3",
      "language": "python",
      "name": "python3"
    },
    "language_info": {
      "codemirror_mode": {
        "name": "ipython",
        "version": 3
      },
      "file_extension": ".py",
      "mimetype": "text/x-python",
      "name": "python",
      "nbconvert_exporter": "python",
      "pygments_lexer": "ipython3",
      "version": "3.6.2"
    }
  },
  "cells": [
    {
      "cell_type": "code",
      "metadata": {
        "id": "5aX1dRHHVUUs"
      },
      "source": [
        "!pip install -r https://raw.githubusercontent.com/datamllab/automl-in-action-notebooks/master/requirements.txt"
      ],
      "execution_count": null,
      "outputs": []
    },
    {
      "cell_type": "code",
      "metadata": {
        "id": "a5xB5lKIbQ_g"
      },
      "source": [
        "import tensorflow as tf\n",
        "import autokeras as ak"
      ],
      "execution_count": null,
      "outputs": []
    },
    {
      "cell_type": "markdown",
      "metadata": {
        "id": "0D7scqBWkg5t"
      },
      "source": [
        "### Create synthetic multi-label dataset"
      ]
    },
    {
      "cell_type": "code",
      "metadata": {
        "id": "YACSvJ81h_Ry"
      },
      "source": [
        "from sklearn.datasets import make_multilabel_classification\n",
        "\n",
        "X, Y = make_multilabel_classification(n_samples=100, n_features = 64,\n",
        "                                      n_classes=3, n_labels=2,\n",
        "                                      allow_unlabeled=False,\n",
        "                                      random_state=1)\n",
        "X = X.reshape((100, 8, 8))\n",
        "X.shape, Y.shape"
      ],
      "execution_count": null,
      "outputs": []
    },
    {
      "cell_type": "code",
      "metadata": {
        "id": "m3jVJcZ_bQ_k"
      },
      "source": [
        "x_train, x_test, y_train, y_test = X[:80], X[80:], Y[:80], Y[80:]"
      ],
      "execution_count": null,
      "outputs": []
    },
    {
      "cell_type": "markdown",
      "metadata": {
        "id": "N5xlStkakqJn"
      },
      "source": [
        "### Run the ImageClassifier for multi-label classification"
      ]
    },
    {
      "cell_type": "code",
      "metadata": {
        "id": "QfnaDrkPiTTg",
        "scrolled": false
      },
      "source": [
        "# Initialize the image classifier.\n",
        "clf = ak.ImageClassifier(max_trials=10, multi_label=True, overwrite=True) # It tries two different pipelines.\n",
        "\n",
        "# Feed the image classifier with training data \n",
        "# 20% of the data is used as validation data by default for tuning\n",
        "# the process may run for a bit long time, please try to use GPU\n",
        "clf.fit(x_train, y_train, epochs=3, verbose=2) # each model is trained for three epochs"
      ],
      "execution_count": null,
      "outputs": []
    },
    {
      "cell_type": "markdown",
      "metadata": {
        "id": "zo5PeGkGbQ_m"
      },
      "source": [
        "\n",
        "### Predict with the best model.\n"
      ]
    },
    {
      "cell_type": "code",
      "metadata": {
        "id": "jPSNnpP6TDAP"
      },
      "source": [
        "predicted_y = clf.predict(x_test)\n",
        "print(\"The prediction shape is: {}\".format(predicted_y.shape))\n",
        "print(\"The predicted labels of the first five instances are:\\n {}\".format(predicted_y[:5, :]))"
      ],
      "execution_count": null,
      "outputs": []
    },
    {
      "cell_type": "code",
      "metadata": {
        "id": "ENEc_5kaTJzn"
      },
      "source": [
        "test_loss, test_acc = clf.evaluate(x_test, y_test, verbose=0)\n",
        "print('Test accuracy: ', test_acc)"
      ],
      "execution_count": null,
      "outputs": []
    }
  ]
}
