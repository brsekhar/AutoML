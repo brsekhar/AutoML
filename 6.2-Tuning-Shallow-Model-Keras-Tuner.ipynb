{
  "nbformat": 4,
  "nbformat_minor": 0,
  "metadata": {
    "kernelspec": {
      "display_name": "Python 3",
      "language": "python",
      "name": "python3"
    },
    "language_info": {
      "codemirror_mode": {
        "name": "ipython",
        "version": 3
      },
      "file_extension": ".py",
      "mimetype": "text/x-python",
      "name": "python",
      "nbconvert_exporter": "python",
      "pygments_lexer": "ipython3",
      "version": "3.6.3"
    },
    "colab": {
      "name": "Copy of 6.2-Tuning-Shallow-Model-Keras-Tuner.ipynb",
      "provenance": [],
      "collapsed_sections": []
    },
    "accelerator": "GPU"
  },
  "cells": [
    {
      "cell_type": "code",
      "metadata": {
        "id": "5aX1dRHHVUUs"
      },
      "source": [
        "!pip install -r https://raw.githubusercontent.com/datamllab/automl-in-action-notebooks/master/requirements.txt"
      ],
      "execution_count": null,
      "outputs": []
    },
    {
      "cell_type": "code",
      "metadata": {
        "id": "Rvv9HQhy5W6S"
      },
      "source": [
        "import keras_tuner as kt"
      ],
      "execution_count": 2,
      "outputs": []
    },
    {
      "cell_type": "markdown",
      "metadata": {
        "id": "tNFH8Vsx4c5G"
      },
      "source": [
        "## Load data"
      ]
    },
    {
      "cell_type": "code",
      "metadata": {
        "id": "dxERoY1c4c5H",
        "colab": {
          "base_uri": "https://localhost:8080/"
        },
        "outputId": "b4ee9945-0d96-4858-9db2-202bc363a21b"
      },
      "source": [
        "# Import the dataset loading function from sklearn\n",
        "from sklearn.datasets import load_digits\n",
        "\n",
        "# Load the hand-written digits dataset\n",
        "digits = load_digits()\n",
        "\n",
        "# Get the images and corresponding labels\n",
        "images, labels = digits.images, digits.target\n",
        "images.shape, labels.shape"
      ],
      "execution_count": 3,
      "outputs": [
        {
          "output_type": "execute_result",
          "data": {
            "text/plain": [
              "((1797, 8, 8), (1797,))"
            ]
          },
          "metadata": {},
          "execution_count": 3
        }
      ]
    },
    {
      "cell_type": "markdown",
      "metadata": {
        "id": "vwWKskpc4c5I"
      },
      "source": [
        "## Exploratory data analysis & Data preprocessing &  feature engineering"
      ]
    },
    {
      "cell_type": "code",
      "metadata": {
        "id": "KAnIqp_s4c5J",
        "colab": {
          "base_uri": "https://localhost:8080/"
        },
        "outputId": "ce4e53a4-e309-4d96-e1a1-386d976dd286"
      },
      "source": [
        "# reshape images to vectors\n",
        "n_samples = len(images)\n",
        "X = images.reshape((n_samples, -1))\n",
        "X.shape"
      ],
      "execution_count": 4,
      "outputs": [
        {
          "output_type": "execute_result",
          "data": {
            "text/plain": [
              "(1797, 64)"
            ]
          },
          "metadata": {},
          "execution_count": 4
        }
      ]
    },
    {
      "cell_type": "code",
      "metadata": {
        "id": "CB4Qieaw4c5K",
        "colab": {
          "base_uri": "https://localhost:8080/"
        },
        "outputId": "37cc5549-abd2-47d3-eb7d-49b0533835d6"
      },
      "source": [
        "# Split data into train and test subsets\n",
        "from sklearn.model_selection import train_test_split\n",
        "X_train, X_test, y_train, y_test = train_test_split(\n",
        "    X, labels, test_size=0.2, shuffle=False)\n",
        "\n",
        "print(\"Shape of the training data: {}\".format(X_train.shape))\n",
        "print(\"Shape of the testing data: {}\".format(X_test.shape))"
      ],
      "execution_count": 5,
      "outputs": [
        {
          "output_type": "stream",
          "name": "stdout",
          "text": [
            "Shape of the training data: (1437, 64)\n",
            "Shape of the testing data: (360, 64)\n"
          ]
        }
      ]
    },
    {
      "cell_type": "code",
      "metadata": {
        "id": "fL6MYGEN4c5L",
        "colab": {
          "base_uri": "https://localhost:8080/"
        },
        "outputId": "38a32932-8726-4adc-a312-7fa25095ceb1"
      },
      "source": [
        "X_train.shape, X_test.shape"
      ],
      "execution_count": 6,
      "outputs": [
        {
          "output_type": "execute_result",
          "data": {
            "text/plain": [
              "((1437, 64), (360, 64))"
            ]
          },
          "metadata": {},
          "execution_count": 6
        }
      ]
    },
    {
      "cell_type": "code",
      "metadata": {
        "id": "6xfE1emN4c5I",
        "colab": {
          "base_uri": "https://localhost:8080/",
          "height": 148
        },
        "outputId": "f747d1ef-3e9f-4ec7-f6b3-7e0c2e7d38de"
      },
      "source": [
        "%matplotlib inline\n",
        "import matplotlib\n",
        "import matplotlib.pyplot as plt\n",
        "\n",
        "# plot first 20 images\n",
        "n = 20\n",
        "_, axes = plt.subplots(2, 10, figsize=(10, 2))\n",
        "plt.tight_layout()\n",
        "for i in range(n):\n",
        "    row, col = i // 10, i % 10\n",
        "    axes[row, col].set_axis_off()\n",
        "    axes[row, col].imshow(images[i,], cmap=plt.cm.gray_r, interpolation='nearest')\n",
        "    axes[row, col].set_title('Label: %i' % labels[i])"
      ],
      "execution_count": 7,
      "outputs": [
        {
          "output_type": "display_data",
          "data": {
            "image/png": "[encoded data removed]",
            "text/plain": [
              "<Figure size 720x144 with 20 Axes>"
            ]
          },
          "metadata": {
            "needs_background": "light"
          }
        }
      ]
    },
    {
      "cell_type": "markdown",
      "metadata": {
        "id": "NQ9PyugO4c5N"
      },
      "source": [
        "## KerasTuner tuning: joint hyperparameter tuning and model selection"
      ]
    },
    {
      "cell_type": "code",
      "metadata": {
        "id": "N9FnJQ7c4c5N",
        "colab": {
          "base_uri": "https://localhost:8080/"
        },
        "outputId": "aaa5d723-df63-47cd-ae70-5fb7111c4489"
      },
      "source": [
        "from sklearn.svm import SVC\n",
        "from sklearn.ensemble import RandomForestClassifier\n",
        "from keras_tuner.engine import hyperparameters as hp\n",
        "\n",
        "\n",
        "def build_model(hp):\n",
        "    model_type = hp.Choice('model_type', ['svm', 'random_forest'])\n",
        "    if model_type == 'svm':\n",
        "        with hp.conditional_scope('model_type', 'svm'):\n",
        "            model = SVC(C=hp.Float('C', 1e-3, 10, sampling='linear', default=1),\n",
        "                        kernel=hp.Choice(\"kernel_type\", ['linear', 'rbf'], default=\"linear\"), \n",
        "                        random_state=42)\n",
        "    elif model_type == 'random_forest':\n",
        "        with hp.conditional_scope('model_type', 'random_forest'):\n",
        "            model =  RandomForestClassifier(\n",
        "                n_estimators=hp.Int('n_estimators', 10, 200, step=10),\n",
        "                max_depth=hp.Int('max_depth', 3, 10))\n",
        "    else:\n",
        "        raise ValueError('Unrecognized model_type')\n",
        "    return model\n",
        "\n"
      ],
      "execution_count": 8,
      "outputs": [
        {
          "output_type": "stream",
          "name": "stderr",
          "text": [
            "/usr/local/lib/python3.7/dist-packages/ipykernel_launcher.py:3: DeprecationWarning: `import kerastuner` is deprecated, please use `import keras_tuner`.\n",
            "  This is separate from the ipykernel package so we can avoid doing imports until\n"
          ]
        }
      ]
    },
    {
      "cell_type": "markdown",
      "metadata": {
        "id": "8SAAzEhjgfea"
      },
      "source": [
        "### Random Search Algorithm"
      ]
    },
    {
      "cell_type": "code",
      "metadata": {
        "id": "a2p0TGTsgeGW",
        "colab": {
          "base_uri": "https://localhost:8080/"
        },
        "outputId": "10711933-9fbe-49ca-ae6e-5eb1073294be"
      },
      "source": [
        "from sklearn.model_selection import KFold\n",
        "import sklearn.pipeline\n",
        "\n",
        "random_tuner = kt.tuners.SklearnTuner(\n",
        "        oracle=kt.oracles.RandomSearch(\n",
        "            objective=kt.Objective('score', 'max'),\n",
        "            max_trials=30,\n",
        "            seed=42),\n",
        "        hypermodel=build_model,\n",
        "        cv=KFold(3, shuffle=True, random_state=42),\n",
        "        overwrite=True,\n",
        "        project_name='random_tuner')\n",
        "\n",
        "random_tuner.search(X_train, y_train)"
      ],
      "execution_count": 9,
      "outputs": [
        {
          "output_type": "stream",
          "name": "stdout",
          "text": [
            "Trial 30 Complete [00h 00m 00s]\n",
            "score: 0.9617258176757133\n",
            "\n",
            "Best score So Far: 0.9937369519832986\n",
            "Total elapsed time: 00h 00m 29s\n",
            "INFO:tensorflow:Oracle triggered exit\n"
          ]
        }
      ]
    },
    {
      "cell_type": "code",
      "metadata": {
        "id": "o-RwxId1gqIS",
        "colab": {
          "base_uri": "https://localhost:8080/"
        },
        "outputId": "47b8fcf2-a7ca-4975-eeeb-a9cb237e99bd"
      },
      "source": [
        "random_tuner.search_space_summary()"
      ],
      "execution_count": 10,
      "outputs": [
        {
          "output_type": "stream",
          "name": "stdout",
          "text": [
            "Search space summary\n",
            "Default search space size: 5\n",
            "model_type (Choice)\n",
            "{'default': 'svm', 'conditions': [], 'values': ['svm', 'random_forest'], 'ordered': False}\n",
            "C (Float)\n",
            "{'default': 1, 'conditions': [{'class_name': 'Parent', 'config': {'name': 'model_type', 'values': ['svm']}}], 'min_value': 0.001, 'max_value': 10.0, 'step': None, 'sampling': 'linear'}\n",
            "kernel_type (Choice)\n",
            "{'default': 'linear', 'conditions': [{'class_name': 'Parent', 'config': {'name': 'model_type', 'values': ['svm']}}], 'values': ['linear', 'rbf'], 'ordered': False}\n",
            "n_estimators (Int)\n",
            "{'default': None, 'conditions': [{'class_name': 'Parent', 'config': {'name': 'model_type', 'values': ['random_forest']}}], 'min_value': 10, 'max_value': 200, 'step': 10, 'sampling': None}\n",
            "max_depth (Int)\n",
            "{'default': None, 'conditions': [{'class_name': 'Parent', 'config': {'name': 'model_type', 'values': ['random_forest']}}], 'min_value': 3, 'max_value': 10, 'step': 1, 'sampling': None}\n"
          ]
        }
      ]
    },
    {
      "cell_type": "code",
      "metadata": {
        "id": "qW1TKFMGgq57",
        "colab": {
          "base_uri": "https://localhost:8080/"
        },
        "outputId": "d0ce476e-75fc-40b2-872b-102ca063a879"
      },
      "source": [
        "random_tuner.results_summary(1)"
      ],
      "execution_count": 11,
      "outputs": [
        {
          "output_type": "stream",
          "name": "stdout",
          "text": [
            "Results summary\n",
            "Results in ./random_tuner\n",
            "Showing 1 best trials\n",
            "Objective(name='score', direction='max')\n",
            "Trial summary\n",
            "Hyperparameters:\n",
            "model_type: svm\n",
            "C: 3.5191107120229987\n",
            "kernel_type: rbf\n",
            "Score: 0.9937369519832986\n"
          ]
        }
      ]
    },
    {
      "cell_type": "code",
      "metadata": {
        "id": "J5cwktoWVX27",
        "colab": {
          "base_uri": "https://localhost:8080/"
        },
        "outputId": "6f47690a-7d29-4271-d408-ad84958d68fc"
      },
      "source": [
        "# Evaluate the best discovered model\n",
        "from sklearn.metrics import accuracy_score\n",
        "\n",
        "best_model = random_tuner.get_best_models(1)[0]\n",
        "best_model.fit(X_train, y_train)\n",
        "y_pred_test = best_model.predict(X_test)\n",
        "test_acc = accuracy_score(y_test, y_pred_test)\n",
        "print(\"The prediction accuracy on test set: {:.2f} %\".format(test_acc * 100))"
      ],
      "execution_count": 12,
      "outputs": [
        {
          "output_type": "stream",
          "name": "stdout",
          "text": [
            "The prediction accuracy on test set: 95.83 %\n"
          ]
        }
      ]
    },
    {
      "cell_type": "markdown",
      "metadata": {
        "id": "AvucUJkJ7cth"
      },
      "source": [
        "## KerasTuner tuning: whole pipeline with shallow models"
      ]
    },
    {
      "cell_type": "code",
      "metadata": {
        "id": "1ZCHPc6dhs_s",
        "colab": {
          "base_uri": "https://localhost:8080/"
        },
        "outputId": "7a0e1424-fdfd-4afe-ba9e-132bd0dd2fc0"
      },
      "source": [
        "from keras_tuner.engine import hyperparameters as hp\n",
        "from sklearn.decomposition import PCA\n",
        "from sklearn.svm import SVC\n",
        "from sklearn.ensemble import RandomForestClassifier\n",
        "from sklearn.pipeline import Pipeline\n",
        "\n",
        "\n",
        "def build_pipeline(hp):\n",
        "\n",
        "    # select hyperparameters of PCA\n",
        "    n_components=hp.Choice(\"n_components\", [2, 5, 10], default=5)\n",
        "    pca = PCA(n_components=n_components)\n",
        "\n",
        "    # select model type\n",
        "    model_type = hp.Choice('model_type', ['svm', 'random_forest'])\n",
        "    if model_type == 'svm':\n",
        "        with hp.conditional_scope('model_type', 'svm'):\n",
        "            model = SVC(C=hp.Float('C', 1e-3, 10, sampling='linear', default=1),\n",
        "                        kernel=hp.Choice(\"kernel_type\", ['linear', 'rbf'], default=\"linear\"), \n",
        "                        random_state=42)\n",
        "    elif model_type == 'random_forest':\n",
        "        with hp.conditional_scope('model_type', 'random_forest'):\n",
        "            model =  RandomForestClassifier(\n",
        "                n_estimators=hp.Int('n_estimators', 10, 200, step=10),\n",
        "                max_depth=hp.Int('max_depth', 3, 10))\n",
        "    else:\n",
        "        raise ValueError('Unrecognized model_type')\n",
        "\n",
        "    # create pipeline\n",
        "    pipeline = Pipeline([\n",
        "        ('pca', pca),\n",
        "        ('clf', model)\n",
        "        ])\n",
        "\n",
        "    return pipeline\n",
        "\n",
        "tuner = kt.tuners.Sklearn(\n",
        "        oracle=kt.oracles.RandomSearch(\n",
        "            objective=kt.Objective('score', 'max'),\n",
        "            max_trials=3),\n",
        "        hypermodel=build_pipeline,\n",
        "        overwrite=True)\n",
        "tuner.search(X_train, y_train)"
      ],
      "execution_count": 13,
      "outputs": [
        {
          "output_type": "stream",
          "name": "stdout",
          "text": [
            "Trial 3 Complete [00h 00m 01s]\n",
            "score: 0.6499637049941929\n",
            "\n",
            "Best score So Far: 0.7250846883468836\n",
            "Total elapsed time: 00h 00m 03s\n",
            "INFO:tensorflow:Oracle triggered exit\n"
          ]
        }
      ]
    },
    {
      "cell_type": "code",
      "metadata": {
        "colab": {
          "base_uri": "https://localhost:8080/"
        },
        "id": "GC2a_fXCnz07",
        "outputId": "4eeb6934-0374-46e5-d1ea-de87a799575a"
      },
      "source": [
        "tuner.results_summary(1)"
      ],
      "execution_count": 14,
      "outputs": [
        {
          "output_type": "stream",
          "name": "stdout",
          "text": [
            "Results summary\n",
            "Results in ./untitled_project\n",
            "Showing 1 best trials\n",
            "Objective(name='score', direction='max')\n",
            "Trial summary\n",
            "Hyperparameters:\n",
            "n_components: 5\n",
            "model_type: random_forest\n",
            "n_estimators: 10\n",
            "max_depth: 3\n",
            "Score: 0.7250846883468836\n"
          ]
        }
      ]
    },
    {
      "cell_type": "code",
      "metadata": {
        "colab": {
          "base_uri": "https://localhost:8080/"
        },
        "id": "ds0JCzjoQ44K",
        "outputId": "a107387c-b18b-4cb5-9eb6-d52c5b0fc2dc"
      },
      "source": [
        "# Evaluate the best discovered model\n",
        "from sklearn.metrics import accuracy_score\n",
        "\n",
        "best_pipeline = tuner.get_best_models(1)[0]\n",
        "best_pipeline.fit(X_train, y_train)\n",
        "y_pred_test = best_pipeline.predict(X_test)\n",
        "test_acc = accuracy_score(y_test, y_pred_test)\n",
        "print(\"The prediction accuracy on test set: {:.2f} %\".format(test_acc * 100))"
      ],
      "execution_count": 15,
      "outputs": [
        {
          "output_type": "stream",
          "name": "stdout",
          "text": [
            "The prediction accuracy on test set: 71.11 %\n"
          ]
        }
      ]
    },
    {
      "cell_type": "code",
      "metadata": {
        "id": "ouE1YRTuRcIg",
        "colab": {
          "base_uri": "https://localhost:8080/"
        },
        "outputId": "74682106-407f-4e3b-eb53-fc175ef949f9"
      },
      "source": [
        "bo_tuner = kt.tuners.SklearnTuner(\n",
        "        oracle=kt.oracles.BayesianOptimization(\n",
        "            objective=kt.Objective('score', 'max'),\n",
        "            max_trials=30,\n",
        "            seed=42),\n",
        "        hypermodel=build_pipeline,\n",
        "        cv=KFold(3, shuffle=True, random_state=42),\n",
        "        overwrite=True,\n",
        "        project_name='bo_tuner')\n",
        "\n",
        "bo_tuner.search(X_train, y_train)"
      ],
      "execution_count": 16,
      "outputs": [
        {
          "output_type": "stream",
          "name": "stdout",
          "text": [
            "Trial 30 Complete [00h 00m 00s]\n",
            "score: 0.9812108559498957\n",
            "\n",
            "Best score So Far: 0.9826026443980515\n",
            "Total elapsed time: 00h 01m 37s\n",
            "INFO:tensorflow:Oracle triggered exit\n"
          ]
        }
      ]
    },
    {
      "cell_type": "code",
      "metadata": {
        "id": "gv-lrWeHRhJw",
        "colab": {
          "base_uri": "https://localhost:8080/"
        },
        "outputId": "830783bc-efbf-4ec1-89e8-fea6dddeae50"
      },
      "source": [
        "bo_tuner.search_space_summary()"
      ],
      "execution_count": 17,
      "outputs": [
        {
          "output_type": "stream",
          "name": "stdout",
          "text": [
            "Search space summary\n",
            "Default search space size: 6\n",
            "n_components (Choice)\n",
            "{'default': 5, 'conditions': [], 'values': [2, 5, 10], 'ordered': True}\n",
            "model_type (Choice)\n",
            "{'default': 'svm', 'conditions': [], 'values': ['svm', 'random_forest'], 'ordered': False}\n",
            "C (Float)\n",
            "{'default': 1, 'conditions': [{'class_name': 'Parent', 'config': {'name': 'model_type', 'values': ['svm']}}], 'min_value': 0.001, 'max_value': 10.0, 'step': None, 'sampling': 'linear'}\n",
            "kernel_type (Choice)\n",
            "{'default': 'linear', 'conditions': [{'class_name': 'Parent', 'config': {'name': 'model_type', 'values': ['svm']}}], 'values': ['linear', 'rbf'], 'ordered': False}\n",
            "n_estimators (Int)\n",
            "{'default': None, 'conditions': [{'class_name': 'Parent', 'config': {'name': 'model_type', 'values': ['random_forest']}}], 'min_value': 10, 'max_value': 200, 'step': 10, 'sampling': None}\n",
            "max_depth (Int)\n",
            "{'default': None, 'conditions': [{'class_name': 'Parent', 'config': {'name': 'model_type', 'values': ['random_forest']}}], 'min_value': 3, 'max_value': 10, 'step': 1, 'sampling': None}\n"
          ]
        }
      ]
    },
    {
      "cell_type": "code",
      "metadata": {
        "id": "xtI4Ln63RhRS",
        "colab": {
          "base_uri": "https://localhost:8080/"
        },
        "outputId": "ba9e88d8-112f-4968-a473-385de40a971d"
      },
      "source": [
        "bo_tuner.results_summary(1)"
      ],
      "execution_count": 18,
      "outputs": [
        {
          "output_type": "stream",
          "name": "stdout",
          "text": [
            "Results summary\n",
            "Results in ./bo_tuner\n",
            "Showing 1 best trials\n",
            "Objective(name='score', direction='max')\n",
            "Trial summary\n",
            "Hyperparameters:\n",
            "n_components: 10\n",
            "model_type: svm\n",
            "C: 4.085950256665684\n",
            "kernel_type: rbf\n",
            "Score: 0.9826026443980515\n"
          ]
        }
      ]
    },
    {
      "cell_type": "code",
      "metadata": {
        "id": "0pyvXFV3Rhaj",
        "colab": {
          "base_uri": "https://localhost:8080/"
        },
        "outputId": "91829473-57bc-4b6e-82d7-16368ea97d90"
      },
      "source": [
        "# Evaluate the best discovered model\n",
        "from sklearn.metrics import accuracy_score\n",
        "\n",
        "best_model = bo_tuner.get_best_models(1)[0]\n",
        "best_model.fit(X_train, y_train)\n",
        "y_pred_test = best_model.predict(X_test)\n",
        "test_acc = accuracy_score(y_test, y_pred_test)\n",
        "print(\"The prediction accuracy on test set: {:.2f} %\".format(test_acc * 100))"
      ],
      "execution_count": 19,
      "outputs": [
        {
          "output_type": "stream",
          "name": "stdout",
          "text": [
            "The prediction accuracy on test set: 94.44 %\n"
          ]
        }
      ]
    },
    {
      "cell_type": "markdown",
      "metadata": {
        "id": "-rS6UikO8FNN"
      },
      "source": [
        "# Automated Feature Engineering"
      ]
    },
    {
      "cell_type": "code",
      "metadata": {
        "id": "Bk0i96gG8Jmv"
      },
      "source": [
        "import tensorflow as tf\n",
        "\n",
        "TRAIN_DATA_URL = \"https://storage.googleapis.com/tf-datasets/titanic/train.csv\"\n",
        "TEST_DATA_URL = \"https://storage.googleapis.com/tf-datasets/titanic/eval.csv\"\n",
        "\n",
        "train_file_path = tf.keras.utils.get_file(\"train.csv\", TRAIN_DATA_URL)\n",
        "test_file_path = tf.keras.utils.get_file(\"eval.csv\", TEST_DATA_URL)"
      ],
      "execution_count": 20,
      "outputs": []
    },
    {
      "cell_type": "code",
      "metadata": {
        "colab": {
          "base_uri": "https://localhost:8080/",
          "height": 203
        },
        "id": "Ot9Rb3Xn8f57",
        "outputId": "bf80dfbf-f99b-47be-8e04-cc52beffe945"
      },
      "source": [
        "import pandas as pd\n",
        "\n",
        "x_train = pd.read_csv(train_file_path)\n",
        "y_train = x_train.pop(\"survived\")\n",
        "y_train = pd.DataFrame(y_train)\n",
        "\n",
        "x_test = pd.read_csv(test_file_path)\n",
        "y_test = x_test.pop(\"survived\")\n",
        "\n",
        "x_train.head()"
      ],
      "execution_count": 21,
      "outputs": [
        {
          "output_type": "execute_result",
          "data": {
            "text/html": [
              "<div>\n",
              "<style scoped>\n",
              "    .dataframe tbody tr th:only-of-type {\n",
              "        vertical-align: middle;\n",
              "    }\n",
              "\n",
              "    .dataframe tbody tr th {\n",
              "        vertical-align: top;\n",
              "    }\n",
              "\n",
              "    .dataframe thead th {\n",
              "        text-align: right;\n",
              "    }\n",
              "</style>\n",
              "<table border=\"1\" class=\"dataframe\">\n",
              "  <thead>\n",
              "    <tr style=\"text-align: right;\">\n",
              "      <th></th>\n",
              "      <th>sex</th>\n",
              "      <th>age</th>\n",
              "      <th>n_siblings_spouses</th>\n",
              "      <th>parch</th>\n",
              "      <th>fare</th>\n",
              "      <th>class</th>\n",
              "      <th>deck</th>\n",
              "      <th>embark_town</th>\n",
              "      <th>alone</th>\n",
              "    </tr>\n",
              "  </thead>\n",
              "  <tbody>\n",
              "    <tr>\n",
              "      <th>0</th>\n",
              "      <td>male</td>\n",
              "      <td>22.0</td>\n",
              "      <td>1</td>\n",
              "      <td>0</td>\n",
              "      <td>7.2500</td>\n",
              "      <td>Third</td>\n",
              "      <td>unknown</td>\n",
              "      <td>Southampton</td>\n",
              "      <td>n</td>\n",
              "    </tr>\n",
              "    <tr>\n",
              "      <th>1</th>\n",
              "      <td>female</td>\n",
              "      <td>38.0</td>\n",
              "      <td>1</td>\n",
              "      <td>0</td>\n",
              "      <td>71.2833</td>\n",
              "      <td>First</td>\n",
              "      <td>C</td>\n",
              "      <td>Cherbourg</td>\n",
              "      <td>n</td>\n",
              "    </tr>\n",
              "    <tr>\n",
              "      <th>2</th>\n",
              "      <td>female</td>\n",
              "      <td>26.0</td>\n",
              "      <td>0</td>\n",
              "      <td>0</td>\n",
              "      <td>7.9250</td>\n",
              "      <td>Third</td>\n",
              "      <td>unknown</td>\n",
              "      <td>Southampton</td>\n",
              "      <td>y</td>\n",
              "    </tr>\n",
              "    <tr>\n",
              "      <th>3</th>\n",
              "      <td>female</td>\n",
              "      <td>35.0</td>\n",
              "      <td>1</td>\n",
              "      <td>0</td>\n",
              "      <td>53.1000</td>\n",
              "      <td>First</td>\n",
              "      <td>C</td>\n",
              "      <td>Southampton</td>\n",
              "      <td>n</td>\n",
              "    </tr>\n",
              "    <tr>\n",
              "      <th>4</th>\n",
              "      <td>male</td>\n",
              "      <td>28.0</td>\n",
              "      <td>0</td>\n",
              "      <td>0</td>\n",
              "      <td>8.4583</td>\n",
              "      <td>Third</td>\n",
              "      <td>unknown</td>\n",
              "      <td>Queenstown</td>\n",
              "      <td>y</td>\n",
              "    </tr>\n",
              "  </tbody>\n",
              "</table>\n",
              "</div>"
            ],
            "text/plain": [
              "      sex   age  n_siblings_spouses  parch  ...  class     deck  embark_town alone\n",
              "0    male  22.0                   1      0  ...  Third  unknown  Southampton     n\n",
              "1  female  38.0                   1      0  ...  First        C    Cherbourg     n\n",
              "2  female  26.0                   0      0  ...  Third  unknown  Southampton     y\n",
              "3  female  35.0                   1      0  ...  First        C  Southampton     n\n",
              "4    male  28.0                   0      0  ...  Third  unknown   Queenstown     y\n",
              "\n",
              "[5 rows x 9 columns]"
            ]
          },
          "metadata": {},
          "execution_count": 21
        }
      ]
    },
    {
      "cell_type": "code",
      "metadata": {
        "id": "_c-ksNbu8jT_"
      },
      "source": [
        "from sklearn.preprocessing import OrdinalEncoder, OneHotEncoder, StandardScaler\n",
        "from sklearn.impute import SimpleImputer\n",
        "from sklearn.pipeline import Pipeline\n",
        "\n",
        "numerical_columns = ['age', 'fare']\n",
        "one_hot_columns = ['n_siblings_spouses', 'class']\n",
        "int_columns = ['sex', 'parch', 'deck', 'embark_town', 'alone']\n",
        "\n",
        "numerical_transformer = Pipeline(steps=[\n",
        "  ('imputer', SimpleImputer(strategy='median')),\n",
        "  ('normalizer', StandardScaler())\n",
        "])\n",
        "\n",
        "one_hot_transformer = Pipeline(steps=[\n",
        "  ('imputer', SimpleImputer(strategy='constant', fill_value='None')),\n",
        "  ('one_hot_encoder', OneHotEncoder(handle_unknown='ignore'))\n",
        "])\n",
        "\n",
        "int_transformer = Pipeline(steps=[\n",
        "  ('imputer', SimpleImputer(strategy='constant', fill_value='None')),\n",
        "  ('label_encoder', OrdinalEncoder(handle_unknown='use_encoded_value', unknown_value=-1))\n",
        "])"
      ],
      "execution_count": 22,
      "outputs": []
    },
    {
      "cell_type": "code",
      "metadata": {
        "id": "PQH-_wIM9BNc"
      },
      "source": [
        "from sklearn.base import BaseEstimator, TransformerMixin\n",
        "\n",
        "class CategoricalCombination(BaseEstimator, TransformerMixin):\n",
        "  def __init__(self, name_a, name_b):\n",
        "    self.name_a = name_a\n",
        "    self.name_b = name_b\n",
        "    self.encoder = OrdinalEncoder(handle_unknown='use_encoded_value', unknown_value=-1)\n",
        "\n",
        "  def fit(self, x, y=None, **kwargs):\n",
        "    temp_column = x[self.name_a].astype(str) + x[self.name_b].astype(str)\n",
        "    self.encoder.fit(temp_column.to_frame())\n",
        "    return self\n",
        "\n",
        "  def transform(self, x, **kwargs):\n",
        "    temp_column = x[self.name_a].astype(str) + x[self.name_b].astype(str)\n",
        "    temp_column = self.encoder.transform(temp_column.to_frame())\n",
        "    return temp_column"
      ],
      "execution_count": 23,
      "outputs": []
    },
    {
      "cell_type": "code",
      "metadata": {
        "colab": {
          "base_uri": "https://localhost:8080/"
        },
        "id": "XBOix5Kn9NVn",
        "outputId": "143056c8-ed60-4bde-9d61-fa58adfa3c93"
      },
      "source": [
        "temp_data = pd.DataFrame({\n",
        "    '1': ['A', 'A', 'A', 'B', 'B', 'B'],\n",
        "    '2': [1, 0, 1, 0, 1, 1]\n",
        "})\n",
        "print(temp_data.head(6))"
      ],
      "execution_count": 24,
      "outputs": [
        {
          "output_type": "stream",
          "name": "stdout",
          "text": [
            "   1  2\n",
            "0  A  1\n",
            "1  A  0\n",
            "2  A  1\n",
            "3  B  0\n",
            "4  B  1\n",
            "5  B  1\n"
          ]
        }
      ]
    },
    {
      "cell_type": "code",
      "metadata": {
        "colab": {
          "base_uri": "https://localhost:8080/"
        },
        "id": "TBqjb_Hz9T_r",
        "outputId": "974dae35-877f-4fc3-c610-86cdcad2a505"
      },
      "source": [
        "transformer = CategoricalCombination('1', '2')\n",
        "print(transformer.fit_transform(temp_data))"
      ],
      "execution_count": 25,
      "outputs": [
        {
          "output_type": "stream",
          "name": "stdout",
          "text": [
            "[[1.]\n",
            " [0.]\n",
            " [1.]\n",
            " [2.]\n",
            " [3.]\n",
            " [3.]]\n"
          ]
        }
      ]
    },
    {
      "cell_type": "code",
      "metadata": {
        "id": "AIXb7ZCe9c0N"
      },
      "source": [
        "class MeanEncoder(BaseEstimator, TransformerMixin):\n",
        "  def __init__(self, categorical_name, numerical_name):\n",
        "    self.categorical_name = categorical_name\n",
        "    self.numerical_name = numerical_name\n",
        "    self.means = None\n",
        "\n",
        "  def fit(self, x, y=None, **kwargs):\n",
        "    self.mean = x.groupby(self.categorical_name)[self.numerical_name].mean()\n",
        "    return self\n",
        "\n",
        "  def transform(self, x, **kwargs):\n",
        "    return x[self.categorical_name].map(self.mean).to_frame()"
      ],
      "execution_count": 26,
      "outputs": []
    },
    {
      "cell_type": "code",
      "metadata": {
        "colab": {
          "base_uri": "https://localhost:8080/"
        },
        "id": "4cJARrh-9ll-",
        "outputId": "a3d048bf-4890-46e0-f11b-7845297159c3"
      },
      "source": [
        "temp_data = pd.DataFrame({\n",
        "    'a': ['A', 'A', 'B', 'B', 'C', 'C'],\n",
        "    'b': [1, 1, 1, 0, 1, -1]\n",
        "})\n",
        "print(temp_data.head(6))\n",
        "encoder = MeanEncoder('a', 'b')\n",
        "print(encoder.fit_transform(temp_data).head(6))"
      ],
      "execution_count": 27,
      "outputs": [
        {
          "output_type": "stream",
          "name": "stdout",
          "text": [
            "   a  b\n",
            "0  A  1\n",
            "1  A  1\n",
            "2  B  1\n",
            "3  B  0\n",
            "4  C  1\n",
            "5  C -1\n",
            "     a\n",
            "0  1.0\n",
            "1  1.0\n",
            "2  0.5\n",
            "3  0.5\n",
            "4  0.0\n",
            "5  0.0\n"
          ]
        }
      ]
    },
    {
      "cell_type": "code",
      "metadata": {
        "id": "2CpKr0kQ9qs7"
      },
      "source": [
        "from sklearn.compose import ColumnTransformer\n",
        "\n",
        "column_transformer = ColumnTransformer(transformers=[\n",
        "  ('numerical', numerical_transformer, numerical_columns),\n",
        "  ('one_hot', one_hot_transformer, one_hot_columns),\n",
        "  ('int', int_transformer, int_columns),\n",
        "  ('categorical_combination', CategoricalCombination('sex', 'class'), ['sex', 'class']),\n",
        "  ('mean', MeanEncoder('embark_town', 'age'), ['embark_town', 'age'])\n",
        "])"
      ],
      "execution_count": 28,
      "outputs": []
    },
    {
      "cell_type": "code",
      "metadata": {
        "colab": {
          "base_uri": "https://localhost:8080/"
        },
        "id": "mEUrh2_0943f",
        "outputId": "eebd8d73-5702-4172-d645-51dadaa6e3d2"
      },
      "source": [
        "from sklearn.svm import SVC\n",
        "from sklearn.feature_selection import SelectKBest\n",
        "from sklearn.feature_selection import mutual_info_classif\n",
        "\n",
        "pipeline = Pipeline(steps=[\n",
        "  ('preprocessing', column_transformer),\n",
        "  ('feature_selection', SelectKBest(mutual_info_classif, k=8)),\n",
        "  ('model', SVC()),\n",
        "])\n",
        "pipeline.fit(x_train, y_train)"
      ],
      "execution_count": 29,
      "outputs": [
        {
          "output_type": "stream",
          "name": "stderr",
          "text": [
            "/usr/local/lib/python3.7/dist-packages/sklearn/utils/validation.py:985: DataConversionWarning: A column-vector y was passed when a 1d array was expected. Please change the shape of y to (n_samples, ), for example using ravel().\n",
            "  y = column_or_1d(y, warn=True)\n",
            "/usr/local/lib/python3.7/dist-packages/sklearn/utils/validation.py:985: DataConversionWarning: A column-vector y was passed when a 1d array was expected. Please change the shape of y to (n_samples, ), for example using ravel().\n",
            "  y = column_or_1d(y, warn=True)\n"
          ]
        },
        {
          "output_type": "execute_result",
          "data": {
            "text/plain": [
              "Pipeline(steps=[('preprocessing',\n",
              "                 ColumnTransformer(transformers=[('numerical',\n",
              "                                                  Pipeline(steps=[('imputer',\n",
              "                                                                   SimpleImputer(strategy='median')),\n",
              "                                                                  ('normalizer',\n",
              "                                                                   StandardScaler())]),\n",
              "                                                  ['age', 'fare']),\n",
              "                                                 ('one_hot',\n",
              "                                                  Pipeline(steps=[('imputer',\n",
              "                                                                   SimpleImputer(fill_value='None',\n",
              "                                                                                 strategy='constant')),\n",
              "                                                                  ('one_hot_encoder',\n",
              "                                                                   OneHotEncoder(handle_unknown='ignore'))]),\n",
              "                                                  ['n_sibl...\n",
              "                                                  ['sex', 'parch', 'deck',\n",
              "                                                   'embark_town', 'alone']),\n",
              "                                                 ('categorical_combination',\n",
              "                                                  CategoricalCombination(name_a='sex',\n",
              "                                                                         name_b='class'),\n",
              "                                                  ['sex', 'class']),\n",
              "                                                 ('mean',\n",
              "                                                  MeanEncoder(categorical_name='embark_town',\n",
              "                                                              numerical_name='age'),\n",
              "                                                  ['embark_town', 'age'])])),\n",
              "                ('feature_selection',\n",
              "                 SelectKBest(k=8,\n",
              "                             score_func=<function mutual_info_classif at 0x7fd7c00ada70>)),\n",
              "                ('model', SVC())])"
            ]
          },
          "metadata": {},
          "execution_count": 29
        }
      ]
    },
    {
      "cell_type": "code",
      "metadata": {
        "colab": {
          "base_uri": "https://localhost:8080/"
        },
        "id": "o3I9vAd7-JKk",
        "outputId": "93a8b8f5-73c5-4baa-a713-7c5b568fc042"
      },
      "source": [
        "from sklearn.metrics import accuracy_score\n",
        "\n",
        "y_pred = pipeline.predict(x_test)\n",
        "print('Accuracy: ', accuracy_score(y_test, y_pred))"
      ],
      "execution_count": 30,
      "outputs": [
        {
          "output_type": "stream",
          "name": "stdout",
          "text": [
            "Accuracy:  0.7424242424242424\n"
          ]
        }
      ]
    },
    {
      "cell_type": "code",
      "metadata": {
        "id": "RokKnXmD-PCk"
      },
      "source": [
        "import numpy as np\n",
        "\n",
        "mean_column_pairs = []\n",
        "for int_col in int_columns:\n",
        "  for num_col in numerical_columns:\n",
        "    mean_column_pairs.append((int_col, num_col))\n",
        "\n",
        "cat_column_pairs = []\n",
        "for index1 in range(len(int_columns)):\n",
        "  for index2 in range(index1 + 1, len(int_columns)):\n",
        "    cat_column_pairs.append((int_columns[index1], int_columns[index2]))\n",
        "\n",
        "mean_column_pairs = np.array(mean_column_pairs)\n",
        "cat_column_pairs = np.array(cat_column_pairs)"
      ],
      "execution_count": 31,
      "outputs": []
    },
    {
      "cell_type": "code",
      "metadata": {
        "id": "3-8sArZt-Z39"
      },
      "source": [
        "transformers = []\n",
        "for index, (col1, col2) in enumerate(cat_column_pairs):\n",
        "    if not hp.Boolean('combine_{i}'.format(i=index)):\n",
        "      continue\n",
        "    col1 = str(col1)\n",
        "    col2 = str(col2)\n",
        "    transformers.append((\n",
        "        col1 + col2,\n",
        "        CategoricalCombination(col1, col2),\n",
        "        [col1, col2]))"
      ],
      "execution_count": 32,
      "outputs": []
    },
    {
      "cell_type": "code",
      "metadata": {
        "id": "R6aUBezC-jtN"
      },
      "source": [
        "import keras_tuner as kt\n",
        "\n",
        "def build_model(hp):\n",
        "  numerical_transformer = Pipeline(steps=[\n",
        "    ('imputer', SimpleImputer(strategy='median')),\n",
        "    ('normalizer', StandardScaler())\n",
        "  ])\n",
        "\n",
        "  one_hot_transformer = Pipeline(steps=[\n",
        "    ('imputer', SimpleImputer(strategy='constant', fill_value='None')),\n",
        "    ('one_hot_encoder', OneHotEncoder(handle_unknown='ignore'))\n",
        "  ])\n",
        "\n",
        "  int_transformer = Pipeline(steps=[\n",
        "    ('imputer', SimpleImputer(strategy='constant', fill_value='None')),\n",
        "    ('label_encoder', OrdinalEncoder(handle_unknown='use_encoded_value', unknown_value=-1))\n",
        "  ])\n",
        "\n",
        "  transformers = [\n",
        "    ('numerical', numerical_transformer, numerical_columns),\n",
        "    ('one_hot', one_hot_transformer, one_hot_columns),\n",
        "    ('int', int_transformer, int_columns),\n",
        "  ]\n",
        "  for index, (col1, col2) in enumerate(cat_column_pairs):\n",
        "    if not hp.Boolean('combine_{i}'.format(i=index)):\n",
        "      continue\n",
        "    col1 = str(col1)\n",
        "    col2 = str(col2)\n",
        "    transformers.append((\n",
        "        col1 + col2,\n",
        "        CategoricalCombination(col1, col2),\n",
        "        [col1, col2]))\n",
        "\n",
        "  for index, (col1, col2) in enumerate(mean_column_pairs):\n",
        "    if not hp.Boolean('mean_{i}'.format(i=index)):\n",
        "      continue\n",
        "    col1 = str(col1)\n",
        "    col2 = str(col2)\n",
        "    transformers.append((\n",
        "        col1 + col2,\n",
        "        MeanEncoder(col1, col2),\n",
        "        [col1, col2]))\n",
        "  print(transformers)\n",
        "  pipeline = Pipeline(steps=[\n",
        "    ('preprocessing', ColumnTransformer(transformers=transformers)),\n",
        "    ('impute', SimpleImputer(strategy='median')),\n",
        "    ('model_selection', SelectKBest(\n",
        "        mutual_info_classif,\n",
        "        k=hp.Int('best_k',\n",
        "                 5,\n",
        "                 13 + len(transformers) - 3))),\n",
        "    ('model', SVC()),\n",
        "  ])\n",
        "\n",
        "  return pipeline"
      ],
      "execution_count": 33,
      "outputs": []
    },
    {
      "cell_type": "code",
      "metadata": {
        "colab": {
          "base_uri": "https://localhost:8080/"
        },
        "id": "bJuMowIu-_yT",
        "outputId": "edc42113-304c-42ed-a56e-2b7a0fcf60e0"
      },
      "source": [
        "build_model(kt.HyperParameters()).fit(x_train, y_train)"
      ],
      "execution_count": 34,
      "outputs": [
        {
          "output_type": "stream",
          "name": "stdout",
          "text": [
            "[('numerical', Pipeline(steps=[('imputer', SimpleImputer(strategy='median')),\n",
            "                ('normalizer', StandardScaler())]), ['age', 'fare']), ('one_hot', Pipeline(steps=[('imputer',\n",
            "                 SimpleImputer(fill_value='None', strategy='constant')),\n",
            "                ('one_hot_encoder', OneHotEncoder(handle_unknown='ignore'))]), ['n_siblings_spouses', 'class']), ('int', Pipeline(steps=[('imputer',\n",
            "                 SimpleImputer(fill_value='None', strategy='constant')),\n",
            "                ('label_encoder',\n",
            "                 OrdinalEncoder(handle_unknown='use_encoded_value',\n",
            "                                unknown_value=-1))]), ['sex', 'parch', 'deck', 'embark_town', 'alone'])]\n"
          ]
        },
        {
          "output_type": "stream",
          "name": "stderr",
          "text": [
            "/usr/local/lib/python3.7/dist-packages/sklearn/utils/validation.py:985: DataConversionWarning: A column-vector y was passed when a 1d array was expected. Please change the shape of y to (n_samples, ), for example using ravel().\n",
            "  y = column_or_1d(y, warn=True)\n",
            "/usr/local/lib/python3.7/dist-packages/sklearn/utils/validation.py:985: DataConversionWarning: A column-vector y was passed when a 1d array was expected. Please change the shape of y to (n_samples, ), for example using ravel().\n",
            "  y = column_or_1d(y, warn=True)\n"
          ]
        },
        {
          "output_type": "execute_result",
          "data": {
            "text/plain": [
              "Pipeline(steps=[('preprocessing',\n",
              "                 ColumnTransformer(transformers=[('numerical',\n",
              "                                                  Pipeline(steps=[('imputer',\n",
              "                                                                   SimpleImputer(strategy='median')),\n",
              "                                                                  ('normalizer',\n",
              "                                                                   StandardScaler())]),\n",
              "                                                  ['age', 'fare']),\n",
              "                                                 ('one_hot',\n",
              "                                                  Pipeline(steps=[('imputer',\n",
              "                                                                   SimpleImputer(fill_value='None',\n",
              "                                                                                 strategy='constant')),\n",
              "                                                                  ('one_hot_encoder',\n",
              "                                                                   OneHotEncoder(handle_unknown='ignore'))]),\n",
              "                                                  ['n_sibl...\n",
              "                                                  Pipeline(steps=[('imputer',\n",
              "                                                                   SimpleImputer(fill_value='None',\n",
              "                                                                                 strategy='constant')),\n",
              "                                                                  ('label_encoder',\n",
              "                                                                   OrdinalEncoder(handle_unknown='use_encoded_value',\n",
              "                                                                                  unknown_value=-1))]),\n",
              "                                                  ['sex', 'parch', 'deck',\n",
              "                                                   'embark_town', 'alone'])])),\n",
              "                ('impute', SimpleImputer(strategy='median')),\n",
              "                ('model_selection',\n",
              "                 SelectKBest(k=5,\n",
              "                             score_func=<function mutual_info_classif at 0x7fd7c00ada70>)),\n",
              "                ('model', SVC())])"
            ]
          },
          "metadata": {},
          "execution_count": 34
        }
      ]
    },
    {
      "cell_type": "code",
      "metadata": {
        "colab": {
          "base_uri": "https://localhost:8080/"
        },
        "id": "PNRcBcjG_CMQ",
        "outputId": "8bf61039-1bdf-48d2-b981-394e858a7137"
      },
      "source": [
        "from sklearn import metrics\n",
        "import sklearn\n",
        "\n",
        "tuner = kt.SklearnTuner(\n",
        "    kt.oracles.RandomSearchOracle(\n",
        "        objective=kt.Objective('score', 'max'),\n",
        "        max_trials=10,\n",
        "    ),\n",
        "    build_model,\n",
        "    scoring=metrics.make_scorer(metrics.accuracy_score),\n",
        "    overwrite=True,\n",
        ")\n",
        "tuner.search(x_train, y_train)"
      ],
      "execution_count": 35,
      "outputs": [
        {
          "output_type": "stream",
          "name": "stdout",
          "text": [
            "Trial 10 Complete [00h 00m 00s]\n",
            "score: 0.8053587301587302\n",
            "\n",
            "Best score So Far: 0.8101460317460317\n",
            "Total elapsed time: 00h 00m 11s\n",
            "INFO:tensorflow:Oracle triggered exit\n"
          ]
        }
      ]
    }
  ]
}
