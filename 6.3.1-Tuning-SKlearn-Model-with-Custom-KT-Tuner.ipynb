{
  "nbformat": 4,
  "nbformat_minor": 0,
  "metadata": {
    "colab": {
      "name": "Copy of 6.3.1-Tuning-SKlearn-Model-with-Custom-KT-Tuner.ipynb",
      "provenance": [],
      "collapsed_sections": []
    },
    "kernelspec": {
      "name": "python3",
      "display_name": "Python 3"
    }
  },
  "cells": [
    {
      "cell_type": "code",
      "metadata": {
        "id": "hhZa9WF1NjBB",
        "colab": {
          "base_uri": "https://localhost:8080/"
        },
        "outputId": "d27bb951-71fe-4c1e-e1e0-c83f9eb72c84"
      },
      "source": [
        "!pip install keras-tuner -q"
      ],
      "execution_count": 1,
      "outputs": [
        {
          "output_type": "stream",
          "name": "stdout",
          "text": [
            "\u001b[?25l\r\u001b[K     |███▍                            | 10 kB 17.9 MB/s eta 0:00:01\r\u001b[K     |██████▊                         | 20 kB 23.3 MB/s eta 0:00:01\r\u001b[K     |██████████                      | 30 kB 28.5 MB/s eta 0:00:01\r\u001b[K     |█████████████▍                  | 40 kB 26.1 MB/s eta 0:00:01\r\u001b[K     |████████████████▊               | 51 kB 12.6 MB/s eta 0:00:01\r\u001b[K     |████████████████████            | 61 kB 10.0 MB/s eta 0:00:01\r\u001b[K     |███████████████████████▍        | 71 kB 9.8 MB/s eta 0:00:01\r\u001b[K     |██████████████████████████▊     | 81 kB 10.8 MB/s eta 0:00:01\r\u001b[K     |██████████████████████████████▏ | 92 kB 9.7 MB/s eta 0:00:01\r\u001b[K     |████████████████████████████████| 97 kB 2.8 MB/s \n",
            "\u001b[?25h"
          ]
        }
      ]
    },
    {
      "cell_type": "code",
      "metadata": {
        "id": "R2B-3-wo4xqP",
        "colab": {
          "base_uri": "https://localhost:8080/"
        },
        "outputId": "b1801ec1-96cc-4325-9067-38b985b17764"
      },
      "source": [
        "import os\n",
        "import pickle\n",
        "import tensorflow as tf\n",
        "import kerastuner as kt\n",
        "\n",
        "\n",
        "class ShallowTuner(kt.engine.base_tuner.BaseTuner):\n",
        "    def __init__(self, oracle, hypermodel, **kwargs):\n",
        "        super(ShallowTuner, self).__init__(oracle=oracle, hypermodel=hypermodel, **kwargs)\n",
        "\n",
        "    def search(self, X, y, validation_data):\n",
        "        \"\"\"performs hyperparameter search.\"\"\"\n",
        "        return super(ShallowTuner, self).search(X, y, validation_data)\n",
        "\n",
        "    def run_trial(self, trial, X, y, validation_data):\n",
        "        model = self.hypermodel.build(trial.hyperparameters) # build the model\n",
        "        model.fit(X, y) # fit the model\n",
        "        X_val, y_val = validation_data  # get the validation data\n",
        "        eval_score = model.score(X_val, y_val) # evaluate the model\n",
        "        self.oracle.update_trial(trial.trial_id, {'score': eval_score})  # inform the oracle of the eval result, the result is a dictionary with the metric names as the keys.\n",
        "        self.save_model(trial.trial_id, model) # save the model to disk\n",
        "\n",
        "    def save_model(self, trial_id, model, step=0):\n",
        "        \"\"\"save the model with pickle\"\"\"\n",
        "        fname = os.path.join(self.get_trial_dir(trial_id), 'model.pickle')\n",
        "        with tf.io.gfile.GFile(fname, 'wb') as f:\n",
        "            pickle.dump(model, f)\n",
        "\n",
        "    def load_model(self, trial):\n",
        "        \"\"\"load the model with pickle\"\"\"\n",
        "        fname = os.path.join(\n",
        "            self.get_trial_dir(trial.trial_id), 'model.pickle')\n",
        "        with tf.io.gfile.GFile(fname, 'rb') as f:\n",
        "            return pickle.load(f)"
      ],
      "execution_count": 2,
      "outputs": [
        {
          "output_type": "stream",
          "name": "stderr",
          "text": [
            "/usr/local/lib/python3.7/dist-packages/ipykernel_launcher.py:4: DeprecationWarning: `import kerastuner` is deprecated, please use `import keras_tuner`.\n",
            "  after removing the cwd from sys.path.\n"
          ]
        }
      ]
    },
    {
      "cell_type": "code",
      "metadata": {
        "id": "qSOa8hU3NtUu"
      },
      "source": [
        "from sklearn.datasets import load_digits\n",
        "\n",
        "# Load the hand-written digits dataset\n",
        "digits = load_digits()\n",
        "\n",
        "# Get the images and corresponding labels\n",
        "images, labels = digits.images, digits.target\n",
        "images.shape, labels.shape\n",
        "\n",
        "# reshape images to vectors\n",
        "n_samples = len(images)\n",
        "X = images.reshape((n_samples, -1))\n",
        "\n",
        "# Split data into train and test subsets\n",
        "from sklearn.model_selection import train_test_split\n",
        "X_train, X_test, y_train, y_test = train_test_split(\n",
        "    X, labels, test_size=0.2, shuffle=False)\n",
        "X_train, X_val, y_train, y_val = train_test_split(\n",
        "    X_train, y_train, test_size=0.2, shuffle=False)\n",
        "\n"
      ],
      "execution_count": 3,
      "outputs": []
    },
    {
      "cell_type": "code",
      "metadata": {
        "id": "FgGy2i6JN35h",
        "colab": {
          "base_uri": "https://localhost:8080/"
        },
        "outputId": "1bdf964c-8cb5-487d-f125-3376bdf3d52f"
      },
      "source": [
        "from sklearn.svm import SVC\n",
        "from sklearn.ensemble import RandomForestClassifier\n",
        "from kerastuner.engine import hyperparameters as hp\n",
        "\n",
        "\n",
        "def build_model(hp):\n",
        "    model_type = hp.Choice('model_type', ['svm', 'random_forest'])\n",
        "    if model_type == 'svm':\n",
        "        with hp.conditional_scope('model_type', 'svm'):\n",
        "            model = SVC(C=hp.Float('C', 1e-3, 10, sampling='linear', default=1),\n",
        "                        kernel=hp.Choice(\"kernel_type\", ['linear', 'rbf'], default=\"linear\"),\n",
        "                        random_state=42)\n",
        "    elif model_type == 'random_forest':\n",
        "        with hp.conditional_scope('model_type', 'random_forest'):\n",
        "            model =  RandomForestClassifier(\n",
        "                n_estimators=hp.Int('n_estimators', 10, 200, step=10),\n",
        "                max_depth=hp.Int('max_depth', 3, 10))\n",
        "    else:\n",
        "        raise ValueError('Unrecognized model_type')\n",
        "    return model\n",
        "\n",
        "my_sklearn_tuner = ShallowTuner(\n",
        "        oracle=kt.oracles.RandomSearch(\n",
        "            objective=kt.Objective('score', 'max'),\n",
        "            max_trials=10,\n",
        "            seed=42),\n",
        "        hypermodel=build_model,\n",
        "        overwrite=True,\n",
        "        project_name='my_sklearn_tuner')\n",
        "\n",
        "my_sklearn_tuner.search(X_train, y_train, validation_data=(X_val, y_val))"
      ],
      "execution_count": 4,
      "outputs": [
        {
          "output_type": "stream",
          "name": "stdout",
          "text": [
            "Trial 10 Complete [00h 00m 00s]\n",
            "score: 0.9722222222222222\n",
            "\n",
            "Best score So Far: 0.9861111111111112\n",
            "Total elapsed time: 00h 00m 01s\n",
            "INFO:tensorflow:Oracle triggered exit\n"
          ]
        }
      ]
    },
    {
      "cell_type": "code",
      "metadata": {
        "id": "M7Xc0NftN2o1",
        "colab": {
          "base_uri": "https://localhost:8080/"
        },
        "outputId": "c66de36c-e9b2-4f53-9c07-30d906604fec"
      },
      "source": [
        "# Evaluate the best discovered model\n",
        "from sklearn.metrics import accuracy_score\n",
        "\n",
        "best_model = my_sklearn_tuner.get_best_models(1)[0]\n",
        "best_model.fit(X_train, y_train)\n",
        "y_pred_test = best_model.predict(X_test)\n",
        "test_acc = accuracy_score(y_test, y_pred_test)\n",
        "print(\"The prediction accuracy on test set: {:.2f} %\".format(test_acc * 100))"
      ],
      "execution_count": 5,
      "outputs": [
        {
          "output_type": "stream",
          "name": "stdout",
          "text": [
            "The prediction accuracy on test set: 95.00 %\n"
          ]
        }
      ]
    }
  ]
}