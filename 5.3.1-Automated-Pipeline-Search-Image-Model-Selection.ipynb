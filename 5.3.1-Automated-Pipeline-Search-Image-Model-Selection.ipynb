{
  "nbformat": 4,
  "nbformat_minor": 0,
  "metadata": {
    "colab": {
      "name": "Copy of ImageClassifier.ipynb",
      "provenance": [],
      "collapsed_sections": []
    },
    "kernelspec": {
      "display_name": "Python 3",
      "language": "python",
      "name": "python3"
    },
    "language_info": {
      "codemirror_mode": {
        "name": "ipython",
        "version": 3
      },
      "file_extension": ".py",
      "mimetype": "text/x-python",
      "name": "python",
      "nbconvert_exporter": "python",
      "pygments_lexer": "ipython3",
      "version": "3.7.3"
    }
  },
  "cells": [
    {
      "cell_type": "code",
      "metadata": {
        "id": "5aX1dRHHVUUs"
      },
      "source": [
        "!pip install -r https://raw.githubusercontent.com/datamllab/automl-in-action-notebooks/master/requirements.txt"
      ],
      "execution_count": null,
      "outputs": []
    },
    {
      "cell_type": "markdown",
      "metadata": {
        "id": "0D7scqBWkg5t"
      },
      "source": [
        "## Load MNIST dataset"
      ]
    },
    {
      "cell_type": "code",
      "metadata": {
        "id": "YACSvJ81h_Ry"
      },
      "source": [
        "from tensorflow.keras.datasets import cifar10, fashion_mnist, mnist\n",
        "(x_train, y_train), (x_test, y_test) = mnist.load_data()\n",
        "print('Training image shape:', x_train.shape) # (60000, 28, 28)\n",
        "print('Training label shape:', y_train.shape) # (60000,)\n",
        "print('First five training labels:', y_train[:5]) # array([5 0 4 1 9], dtype=uint8)"
      ],
      "execution_count": null,
      "outputs": []
    },
    {
      "cell_type": "markdown",
      "metadata": {
        "id": "N5xlStkakqJn"
      },
      "source": [
        "## ResNetBlock"
      ]
    },
    {
      "cell_type": "code",
      "metadata": {
        "id": "QfnaDrkPiTTg",
        "scrolled": true
      },
      "source": [
        "import timeit\n",
        "import autokeras as ak\n",
        "input_node = ak.ImageInput()\n",
        "output_node = ak.Normalization()(input_node)\n",
        "output_node = ak.ResNetBlock()(output_node)\n",
        "output_node = ak.ClassificationHead()(output_node)\n",
        "\n",
        "resnet_auto_model = ak.AutoModel(\n",
        "    inputs=input_node, \n",
        "    outputs=output_node,\n",
        "    max_trials=3,\n",
        "    overwrite=True,\n",
        "    seed=42)\n",
        "\n",
        "start_time = timeit.default_timer()\n",
        "# Use the first 100 training samples for 1 epoch with batch_size=8 as a quick demo.\n",
        "# You may run with the full dataset with 10 epochs and a larger batch size, but expect a longer training time.\n",
        "resnet_auto_model.fit(x_train[:100], y_train[:100], epochs=1, batch_size=8)\n",
        "stop_time = timeit.default_timer()\n",
        "print('Total time: {time} seconds.'.format(time=round(stop_time - start_time, 2)))"
      ],
      "execution_count": null,
      "outputs": []
    },
    {
      "cell_type": "markdown",
      "metadata": {
        "id": "pFIipY7oTwAl"
      },
      "source": [
        "### Get the summarized results during the tuning process"
      ]
    },
    {
      "cell_type": "code",
      "metadata": {
        "scrolled": true,
        "id": "JUVwxtltTwAl"
      },
      "source": [
        "resnet_auto_model.tuner.results_summary()"
      ],
      "execution_count": null,
      "outputs": []
    },
    {
      "cell_type": "markdown",
      "metadata": {
        "id": "OeaNtd4-TwAm"
      },
      "source": [
        "### Display best model"
      ]
    },
    {
      "cell_type": "code",
      "metadata": {
        "id": "K0MjosgwTwAm"
      },
      "source": [
        "best_resnet_model = resnet_auto_model.export_model()\n",
        "best_resnet_model.summary()"
      ],
      "execution_count": null,
      "outputs": []
    },
    {
      "cell_type": "markdown",
      "metadata": {
        "id": "ISPduxYITwAm"
      },
      "source": [
        "### Evaluate the best resnet model on the test data."
      ]
    },
    {
      "cell_type": "code",
      "metadata": {
        "id": "ENEc_5kaTJzn"
      },
      "source": [
        "# Only evaluating the first 100 samples as a quick demo\n",
        "test_loss, test_acc = resnet_auto_model.evaluate(x_test[:100], y_test[:100], batch_size=8)\n",
        "print('Accuracy: {accuracy}%'.format(accuracy=round(test_acc * 100, 2)))"
      ],
      "execution_count": null,
      "outputs": []
    },
    {
      "cell_type": "markdown",
      "metadata": {
        "id": "nK75wttGTwAn"
      },
      "source": [
        "## XceptionBlock"
      ]
    },
    {
      "cell_type": "code",
      "metadata": {
        "id": "Fr2Aw1WPTwAn"
      },
      "source": [
        "import autokeras as ak\n",
        "\n",
        "input_node = ak.ImageInput()\n",
        "output_node = ak.Normalization()(input_node)\n",
        "output_node = ak.XceptionBlock()(output_node)\n",
        "output_node = ak.ClassificationHead()(output_node)\n",
        "\n",
        "xception_auto_model = ak.AutoModel(\n",
        "    inputs=input_node, \n",
        "    outputs=output_node,\n",
        "    max_trials=3,\n",
        "    overwrite=True,\n",
        "    seed=42)\n",
        "\n",
        "start_time = timeit.default_timer()\n",
        "# Use the first 100 training samples for 1 epoch with batch_size=8 as a quick demo.\n",
        "# You may run with the full dataset with 10 epochs and a larger batch size, but expect a longer training time.\n",
        "xception_auto_model.fit(x_train[:100], y_train[:100], epochs=1, batch_size=8)\n",
        "stop_time = timeit.default_timer()\n",
        "print('Total time: {time} seconds.'.format(time=round(stop_time - start_time, 2)))"
      ],
      "execution_count": null,
      "outputs": []
    },
    {
      "cell_type": "markdown",
      "metadata": {
        "id": "apu1Vm-NTwAn"
      },
      "source": [
        "### Display the best xception model"
      ]
    },
    {
      "cell_type": "code",
      "metadata": {
        "id": "c2UbWC54TwAo"
      },
      "source": [
        "import tensorflow as tf\n",
        "best_xception_model = xception_auto_model.export_model()\n",
        "tf.keras.utils.plot_model(best_xception_model, show_shapes=True, expand_nested=True) # rankdir='LR'"
      ],
      "execution_count": null,
      "outputs": []
    },
    {
      "cell_type": "code",
      "metadata": {
        "id": "LsOiozyXTwAo"
      },
      "source": [
        "best_xception_model.summary()"
      ],
      "execution_count": null,
      "outputs": []
    },
    {
      "cell_type": "markdown",
      "metadata": {
        "id": "H9svy9JuTwAo"
      },
      "source": [
        "### Evaluate the best xception model on the test data."
      ]
    },
    {
      "cell_type": "code",
      "metadata": {
        "id": "xUGOroBoTwAo"
      },
      "source": [
        "# Only evaluating the first 100 samples as a quick demo\n",
        "test_loss, test_acc = resnet_auto_model.evaluate(x_test[:100], y_test[:100])\n",
        "print('Accuracy: {accuracy}%'.format(accuracy=round(test_acc * 100, 2)))"
      ],
      "execution_count": null,
      "outputs": []
    },
    {
      "cell_type": "markdown",
      "metadata": {
        "id": "OiBxQr1ETwAp"
      },
      "source": [
        "## HyperBlock for image classification (ImageBlock)"
      ]
    },
    {
      "cell_type": "code",
      "metadata": {
        "id": "IES9uqKkTwAp"
      },
      "source": [
        "import timeit\n",
        "import autokeras as ak\n",
        "\n",
        "input_node = ak.ImageInput()\n",
        "output_node = ak.ImageBlock(\n",
        "                # Normalize the dataset.\n",
        "                normalize=True,\n",
        "                # Do not do data augmentation.\n",
        "                augment=False)(input_node)\n",
        "output_node = ak.ClassificationHead(dropout=0.0)(output_node)\n",
        "\n",
        "auto_model = ak.AutoModel(\n",
        "    inputs=input_node, \n",
        "    outputs=output_node,\n",
        "    max_trials=3,\n",
        "    overwrite=True,\n",
        "    seed=42)\n",
        "\n",
        "start_time = timeit.default_timer()\n",
        "# Use the first 100 training samples for 1 epoch and batch_size=8 as a quick demo.\n",
        "# You may run with the full dataset with 10 epochs with a larger batch size, but expect a longer training time.\n",
        "auto_model.fit(x_train[:100], y_train[:100], epochs=1, batch_size=8)\n",
        "stop_time = timeit.default_timer()\n",
        "print('Total time: {time} seconds.'.format(time=round(stop_time - start_time, 2)))"
      ],
      "execution_count": null,
      "outputs": []
    },
    {
      "cell_type": "code",
      "metadata": {
        "id": "GU6orWfrTwAq"
      },
      "source": [
        "auto_model.tuner.results_summary(num_trials=1)"
      ],
      "execution_count": null,
      "outputs": []
    },
    {
      "cell_type": "code",
      "metadata": {
        "id": "LIo5ZjepTwAq"
      },
      "source": [
        "best_model = auto_model.export_model()\n",
        "best_model.summary()"
      ],
      "execution_count": null,
      "outputs": []
    },
    {
      "cell_type": "code",
      "metadata": {
        "id": "AO5D1B5pTwAr"
      },
      "source": [
        "# Only evaluating the first 100 samples as a quick demo\n",
        "test_loss, test_acc = auto_model.evaluate(x_test[:100], y_test[:100], batch_size=8)\n",
        "print('Accuracy: {accuracy}%'.format(accuracy=round(test_acc * 100, 2)))"
      ],
      "execution_count": null,
      "outputs": []
    }
  ]
}
