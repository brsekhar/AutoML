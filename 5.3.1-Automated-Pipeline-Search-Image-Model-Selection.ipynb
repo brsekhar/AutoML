{
 "cells": [
  {
   "cell_type": "code",
   "execution_count": 1,
   "metadata": {},
   "outputs": [],
   "source": [
    "import tensorflow as tf\n",
    "import autokeras as ak"
   ]
  },
  {
   "cell_type": "code",
   "execution_count": 6,
   "metadata": {},
   "outputs": [],
   "source": [
    "gpus = tf.config.experimental.list_physical_devices('GPU')\n",
    "tf.config.experimental.set_visible_devices(gpus[-1], 'GPU')"
   ]
  },
  {
   "cell_type": "markdown",
   "metadata": {
    "colab_type": "text",
    "id": "0D7scqBWkg5t"
   },
   "source": [
    "## Load MNIST dataset"
   ]
  },
  {
   "cell_type": "code",
   "execution_count": 7,
   "metadata": {
    "colab": {},
    "colab_type": "code",
    "id": "YACSvJ81h_Ry"
   },
   "outputs": [
    {
     "name": "stdout",
     "output_type": "stream",
     "text": [
      "Training image shape: (60000, 28, 28)\n",
      "Training label shape: (60000,)\n",
      "First five training labels: [5 0 4 1 9]\n"
     ]
    }
   ],
   "source": [
    "from tensorflow.keras.datasets import cifar10, fashion_mnist, mnist\n",
    "(x_train, y_train), (x_test, y_test) = mnist.load_data()\n",
    "print('Training image shape:', x_train.shape) # (60000, 28, 28)\n",
    "print('Training label shape:', y_train.shape) # (60000,)\n",
    "print('First five training labels:', y_train[:5]) # array([5 0 4 1 9], dtype=uint8)"
   ]
  },
  {
   "cell_type": "markdown",
   "metadata": {
    "colab_type": "text",
    "id": "N5xlStkakqJn"
   },
   "source": [
    "## ResNetBlock"
   ]
  },
  {
   "cell_type": "code",
   "execution_count": null,
   "metadata": {
    "colab": {},
    "colab_type": "code",
    "id": "QfnaDrkPiTTg",
    "scrolled": true
   },
   "outputs": [],
   "source": [
    "import timeit\n",
    "\n",
    "input_node = ak.ImageInput()\n",
    "output_node = ak.Normalization()(input_node)\n",
    "output_node = ak.ResNetBlock()(output_node) # version=\"v2\", pretrained=False\n",
    "output_node = ak.ClassificationHead()(output_node)\n",
    "\n",
    "resnet_auto_model = ak.AutoModel(\n",
    "    inputs=input_node, \n",
    "    outputs=output_node,\n",
    "    max_trials=3,\n",
    "    overwrite=True,\n",
    "    seed=42)\n",
    "\n",
    "start_time = timeit.default_timer()\n",
    "resnet_auto_model.fit(x_train, y_train, epochs=10, batch_size=64)\n",
    "stop_time = timeit.default_timer()\n",
    "print('Total time: {time} seconds.'.format(time=round(stop_time - start_time, 2)))"
   ]
  },
  {
   "cell_type": "markdown",
   "metadata": {},
   "source": [
    "### Get the summarized results during the tuning process"
   ]
  },
  {
   "cell_type": "code",
   "execution_count": null,
   "metadata": {
    "scrolled": true
   },
   "outputs": [],
   "source": [
    "resnet_auto_model.tuner.results_summary()"
   ]
  },
  {
   "cell_type": "markdown",
   "metadata": {},
   "source": [
    "### Display best model"
   ]
  },
  {
   "cell_type": "code",
   "execution_count": null,
   "metadata": {},
   "outputs": [],
   "source": [
    "best_resnet_model = resnet_auto_model.export_model()\n",
    "best_resnet_model.summary()"
   ]
  },
  {
   "cell_type": "markdown",
   "metadata": {},
   "source": [
    "### Evaluate the best resnet model on the test data."
   ]
  },
  {
   "cell_type": "code",
   "execution_count": null,
   "metadata": {
    "colab": {},
    "colab_type": "code",
    "id": "ENEc_5kaTJzn"
   },
   "outputs": [],
   "source": [
    "\n",
    "test_loss, test_acc = resnet_auto_model.evaluate(x_test, y_test, verbose=0)\n",
    "print('Accuracy: {accuracy}%'.format(accuracy=round(test_acc * 100, 2)))\n",
    "\n"
   ]
  },
  {
   "cell_type": "markdown",
   "metadata": {},
   "source": [
    "## XceptionBlock"
   ]
  },
  {
   "cell_type": "code",
   "execution_count": null,
   "metadata": {},
   "outputs": [],
   "source": [
    "import autokeras as ak\n",
    "\n",
    "input_node = ak.ImageInput()\n",
    "output_node = ak.Normalization()(input_node)\n",
    "output_node = ak.XceptionBlock()(output_node)\n",
    "output_node = ak.ClassificationHead()(output_node)\n",
    "\n",
    "xception_auto_model = ak.AutoModel(\n",
    "    inputs=input_node, \n",
    "    outputs=output_node,\n",
    "    max_trials=3,\n",
    "    overwrite=True,\n",
    "    seed=42)\n",
    "\n",
    "start_time = timeit.default_timer()\n",
    "xception_auto_model.fit(x_train, y_train, epochs=10, batch_size=64)\n",
    "stop_time = timeit.default_timer()\n",
    "print('Total time: {time} seconds.'.format(time=round(stop_time - start_time, 2)))"
   ]
  },
  {
   "cell_type": "markdown",
   "metadata": {},
   "source": [
    "### Display the best xception model"
   ]
  },
  {
   "cell_type": "code",
   "execution_count": null,
   "metadata": {},
   "outputs": [],
   "source": [
    "best_xception_model = xception_auto_model.export_model()\n",
    "tf.keras.utils.plot_model(best_xception_model, show_shapes=True, expand_nested=True) # rankdir='LR'"
   ]
  },
  {
   "cell_type": "code",
   "execution_count": null,
   "metadata": {},
   "outputs": [],
   "source": [
    "best_xception_model.summary()"
   ]
  },
  {
   "cell_type": "markdown",
   "metadata": {},
   "source": [
    "### Evaluate the best xception model on the test data."
   ]
  },
  {
   "cell_type": "code",
   "execution_count": null,
   "metadata": {},
   "outputs": [],
   "source": [
    "\n",
    "test_loss, test_acc = resnet_auto_model.evaluate(x_test, y_test, verbose=0)\n",
    "print('Accuracy: {accuracy}%'.format(accuracy=round(test_acc * 100, 2)))\n",
    "\n"
   ]
  },
  {
   "cell_type": "markdown",
   "metadata": {},
   "source": [
    "## HyperBlock for image classification (ImageBlock)"
   ]
  },
  {
   "cell_type": "code",
   "execution_count": 21,
   "metadata": {},
   "outputs": [
    {
     "name": "stdout",
     "output_type": "stream",
     "text": [
      "Trial 10 Complete [00h 03m 38s]\n",
      "val_loss: 0.09551089257001877\n",
      "\n",
      "Best val_loss So Far: 0.06062331795692444\n",
      "Total elapsed time: 01h 02m 03s\n",
      "INFO:tensorflow:Oracle triggered exit\n",
      "Epoch 1/3\n",
      "1875/1875 [==============================] - 78s 42ms/step - loss: 0.1326 - accuracy: 0.9614\n",
      "Epoch 2/3\n",
      "1875/1875 [==============================] - 78s 42ms/step - loss: 0.0576 - accuracy: 0.9836\n",
      "Epoch 3/3\n",
      "1875/1875 [==============================] - 78s 42ms/step - loss: 0.0425 - accuracy: 0.9877\n",
      "INFO:tensorflow:Assets written to: ./auto_model/best_model/assets\n",
      "Total time: 4008.61 seconds.\n"
     ]
    }
   ],
   "source": [
    "import timeit\n",
    "import autokeras as ak\n",
    "\n",
    "input_node = ak.ImageInput()\n",
    "output_node = ak.ImageBlock(\n",
    "                # Normalize the dataset.\n",
    "                normalize=True,\n",
    "                # Do not do data augmentation.\n",
    "                augment=False)(input_node)\n",
    "output_node = ak.ClassificationHead(dropout=0.0)(output_node)\n",
    "\n",
    "auto_model = ak.AutoModel(\n",
    "    inputs=input_node, \n",
    "    outputs=output_node,\n",
    "    max_trials=10,\n",
    "    overwrite=True,\n",
    "    seed=42)\n",
    "\n",
    "start_time = timeit.default_timer()\n",
    "auto_model.fit(x_train, y_train, epochs=3, batch_size=32) # , batch_size=64\n",
    "stop_time = timeit.default_timer()\n",
    "print('Total time: {time} seconds.'.format(time=round(stop_time - start_time, 2)))"
   ]
  },
  {
   "cell_type": "code",
   "execution_count": 27,
   "metadata": {},
   "outputs": [
    {
     "name": "stdout",
     "output_type": "stream",
     "text": [
      "Results summary\n",
      "Results in ./auto_model\n",
      "Showing 1 best trials\n",
      "Objective(name='val_loss', direction='min')\n",
      "Trial summary\n",
      "Hyperparameters:\n",
      "image_block_1/block_type: xception\n",
      "classification_head_1/spatial_reduction_1/reduction_type: global_avg\n",
      "optimizer: adam\n",
      "learning_rate: 0.001\n",
      "image_block_1/xception_block_1/pretrained: False\n",
      "image_block_1/xception_block_1/imagenet_size: False\n",
      "Score: 0.06062331795692444\n"
     ]
    }
   ],
   "source": [
    "auto_model.tuner.results_summary(num_trials=1)"
   ]
  },
  {
   "cell_type": "code",
   "execution_count": 24,
   "metadata": {},
   "outputs": [
    {
     "name": "stdout",
     "output_type": "stream",
     "text": [
      "Model: \"functional_1\"\n",
      "__________________________________________________________________________________________________\n",
      "Layer (type)                    Output Shape         Param #     Connected to                     \n",
      "==================================================================================================\n",
      "input_1 (InputLayer)            [(None, 28, 28)]     0                                            \n",
      "__________________________________________________________________________________________________\n",
      "cast_to_float32 (CastToFloat32) (None, 28, 28)       0           input_1[0][0]                    \n",
      "__________________________________________________________________________________________________\n",
      "expand_last_dim (ExpandLastDim) (None, 28, 28, 1)    0           cast_to_float32[0][0]            \n",
      "__________________________________________________________________________________________________\n",
      "normalization (Normalization)   (None, 28, 28, 1)    3           expand_last_dim[0][0]            \n",
      "__________________________________________________________________________________________________\n",
      "resizing (Resizing)             (None, 71, 71, 1)    0           normalization[0][0]              \n",
      "__________________________________________________________________________________________________\n",
      "concatenate (Concatenate)       (None, 71, 71, 3)    0           resizing[0][0]                   \n",
      "                                                                 resizing[0][0]                   \n",
      "                                                                 resizing[0][0]                   \n",
      "__________________________________________________________________________________________________\n",
      "xception (Functional)           (None, 3, 3, 2048)   20861480    concatenate[0][0]                \n",
      "__________________________________________________________________________________________________\n",
      "global_average_pooling2d (Globa (None, 2048)         0           xception[0][0]                   \n",
      "__________________________________________________________________________________________________\n",
      "dense (Dense)                   (None, 10)           20490       global_average_pooling2d[0][0]   \n",
      "__________________________________________________________________________________________________\n",
      "classification_head_1 (Softmax) (None, 10)           0           dense[0][0]                      \n",
      "==================================================================================================\n",
      "Total params: 20,881,973\n",
      "Trainable params: 20,827,442\n",
      "Non-trainable params: 54,531\n",
      "__________________________________________________________________________________________________\n"
     ]
    }
   ],
   "source": [
    "best_model = auto_model.export_model()\n",
    "best_model.summary()"
   ]
  },
  {
   "cell_type": "code",
   "execution_count": 25,
   "metadata": {},
   "outputs": [
    {
     "name": "stdout",
     "output_type": "stream",
     "text": [
      "Accuracy: 98.57%\n"
     ]
    }
   ],
   "source": [
    "\n",
    "test_loss, test_acc = auto_model.evaluate(x_test, y_test, verbose=0)\n",
    "print('Accuracy: {accuracy}%'.format(accuracy=round(test_acc * 100, 2)))\n",
    "\n"
   ]
  },
  {
   "cell_type": "code",
   "execution_count": null,
   "metadata": {},
   "outputs": [],
   "source": []
  },
  {
   "cell_type": "code",
   "execution_count": null,
   "metadata": {},
   "outputs": [],
   "source": []
  },
  {
   "cell_type": "markdown",
   "metadata": {
    "colab_type": "text",
    "id": "FBykhsofDoKf"
   },
   "source": [
    "## Reference\n",
    "[ImageClassifier](/image_classifier),\n",
    "[AutoModel](/auto_model/#automodel-class),\n",
    "[ImageBlock](/block/#imageblock-class),\n",
    "[Normalization](/preprocessor/#normalization-class),\n",
    "[ImageAugmentation](/preprocessor/#image-augmentation-class),\n",
    "[ResNetBlock](/block/#resnetblock-class),\n",
    "[ImageInput](/node/#imageinput-class),\n",
    "[ClassificationHead](/head/#classificationhead-class)."
   ]
  },
  {
   "cell_type": "code",
   "execution_count": null,
   "metadata": {},
   "outputs": [],
   "source": []
  }
 ],
 "metadata": {
  "colab": {
   "collapsed_sections": [],
   "name": "ImageClassifier.ipynb",
   "provenance": []
  },
  "kernelspec": {
   "display_name": "Python 3",
   "language": "python",
   "name": "python3"
  },
  "language_info": {
   "codemirror_mode": {
    "name": "ipython",
    "version": 3
   },
   "file_extension": ".py",
   "mimetype": "text/x-python",
   "name": "python",
   "nbconvert_exporter": "python",
   "pygments_lexer": "ipython3",
   "version": "3.6.2"
  }
 },
 "nbformat": 4,
 "nbformat_minor": 1
}
