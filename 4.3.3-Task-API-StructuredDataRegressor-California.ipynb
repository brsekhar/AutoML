{
  "nbformat": 4,
  "nbformat_minor": 0,
  "metadata": {
    "colab": {
      "name": "Copy of ImageClassifier.ipynb",
      "provenance": [],
      "collapsed_sections": []
    },
    "kernelspec": {
      "display_name": "book",
      "language": "python",
      "name": "book"
    },
    "language_info": {
      "codemirror_mode": {
        "name": "ipython",
        "version": 3
      },
      "file_extension": ".py",
      "mimetype": "text/x-python",
      "name": "python",
      "nbconvert_exporter": "python",
      "pygments_lexer": "ipython3",
      "version": "3.6.2"
    }
  },
  "cells": [
    {
      "cell_type": "code",
      "metadata": {
        "id": "5aX1dRHHVUUs"
      },
      "source": [
        "!pip install -r https://raw.githubusercontent.com/datamllab/automl-in-action-notebooks/master/requirements.txt"
      ],
      "execution_count": null,
      "outputs": []
    },
    {
      "cell_type": "markdown",
      "metadata": {
        "id": "0D7scqBWkg5t"
      },
      "source": [
        "### Load California housing price prediction dataset"
      ]
    },
    {
      "cell_type": "code",
      "metadata": {
        "id": "YACSvJ81h_Ry"
      },
      "source": [
        "from sklearn.datasets import fetch_california_housing\n",
        "\n",
        "house_dataset = fetch_california_housing()\n",
        "\n",
        "# Import pandas package to format the data\n",
        "import pandas as pd\n",
        "\n",
        "# Extract features with their names into the a dataframe format\n",
        "data = pd.DataFrame(house_dataset.data, columns=house_dataset.feature_names)\n",
        "\n",
        "# Extract target with their names into a pd.Series object with name MEDV\n",
        "target = pd.Series(house_dataset.target, name = 'MEDV')\n",
        "\n",
        "from sklearn.model_selection import train_test_split\n",
        "train_data, test_data, train_targets, test_targets = train_test_split(data, target, test_size=0.2, random_state=42)"
      ],
      "execution_count": null,
      "outputs": []
    },
    {
      "cell_type": "code",
      "metadata": {
        "id": "TSzlYn97Zqhd"
      },
      "source": [
        "# Check the shape of whole dataset and the splited training and test set\n",
        "print(\"--Shape of the whole data--\\n {}\".format(data.shape))\n",
        "print(\"\\n--Shape of the target vector--\\n {}\".format(target.shape))\n",
        "print(\"\\n--Shape of the training data--\\n {}\".format(train_data.shape))\n",
        "print(\"\\n--Shape of the testing data--\\n {}\".format(test_data.shape))"
      ],
      "execution_count": null,
      "outputs": []
    },
    {
      "cell_type": "markdown",
      "metadata": {
        "id": "N5xlStkakqJn"
      },
      "source": [
        "### Run the StructuredDataRegressor"
      ]
    },
    {
      "cell_type": "code",
      "metadata": {
        "id": "QfnaDrkPiTTg"
      },
      "source": [
        "import autokeras as ak\n",
        "\n",
        "regressor = ak.StructuredDataRegressor(max_trials=10, overwrite=True)\n",
        "regressor.fit(x=train_data, y=train_targets, batch_size=1024)"
      ],
      "execution_count": null,
      "outputs": []
    },
    {
      "cell_type": "markdown",
      "metadata": {
        "id": "YbpMWLjiZqhf"
      },
      "source": [
        "\n",
        "### Predict with the best model.\n"
      ]
    },
    {
      "cell_type": "code",
      "metadata": {
        "id": "jPSNnpP6TDAP"
      },
      "source": [
        "predicted_y = regressor.predict(test_data)\n",
        "print(predicted_y)"
      ],
      "execution_count": null,
      "outputs": []
    },
    {
      "cell_type": "markdown",
      "metadata": {
        "id": "79W2QOyPZqhg"
      },
      "source": [
        "### Evaluate the best model on the test data."
      ]
    },
    {
      "cell_type": "code",
      "metadata": {
        "id": "ENEc_5kaTJzn"
      },
      "source": [
        "\n",
        "test_loss, test_mse = regressor.evaluate(test_data, test_targets, verbose=0)\n",
        "print('Test MSE: ', test_mse)\n"
      ],
      "execution_count": null,
      "outputs": []
    }
  ]
}
