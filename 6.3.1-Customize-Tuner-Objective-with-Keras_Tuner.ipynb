{
  "nbformat": 4,
  "nbformat_minor": 0,
  "metadata": {
    "colab": {
      "name": "kt-tuner.ipynb",
      "provenance": [],
      "collapsed_sections": []
    },
    "kernelspec": {
      "name": "python3",
      "display_name": "Python 3"
    }
  },
  "cells": [
    {
      "cell_type": "code",
      "metadata": {
        "id": "hhZa9WF1NjBB",
        "colab": {
          "base_uri": "https://localhost:8080/"
        },
        "outputId": "065cf8c3-f88e-4d81-b2c7-5ca35c0ac294"
      },
      "source": [
        "!pip install keras-tuner -q"
      ],
      "execution_count": 1,
      "outputs": [
        {
          "output_type": "stream",
          "text": [
            "\u001b[?25l\r\u001b[K     |█████▏                          | 10kB 16.6MB/s eta 0:00:01\r\u001b[K     |██████████▍                     | 20kB 18.0MB/s eta 0:00:01\r\u001b[K     |███████████████▋                | 30kB 11.7MB/s eta 0:00:01\r\u001b[K     |████████████████████▉           | 40kB 9.5MB/s eta 0:00:01\r\u001b[K     |██████████████████████████      | 51kB 5.4MB/s eta 0:00:01\r\u001b[K     |███████████████████████████████▎| 61kB 6.3MB/s eta 0:00:01\r\u001b[K     |████████████████████████████████| 71kB 3.8MB/s \n",
            "\u001b[?25h  Building wheel for keras-tuner (setup.py) ... \u001b[?25l\u001b[?25hdone\n",
            "  Building wheel for terminaltables (setup.py) ... \u001b[?25l\u001b[?25hdone\n"
          ],
          "name": "stdout"
        }
      ]
    },
    {
      "cell_type": "code",
      "metadata": {
        "id": "R2B-3-wo4xqP"
      },
      "source": [
        "import collections\n",
        "import numpy as np\n",
        "import os\n",
        "import pickle\n",
        "from sklearn import model_selection\n",
        "from sklearn.pipeline import Pipeline\n",
        "import tensorflow as tf\n",
        "import kerastuner as kt\n",
        "\n",
        "\n",
        "class ShallowTuner(kt.engine.base_tuner.BaseTuner):\n",
        "    def run_trial(self,\n",
        "                  trial,\n",
        "                  X,\n",
        "                  y,\n",
        "                  validation_data):\n",
        "        model = self.hypermodel.build(trial.hyperparameters) # build the model\n",
        "        model.fit(X, y) # fit the model\n",
        "        X_test, y_test = validation_data  # get the validation data\n",
        "        self.oracle.update_trial(trial.trial_id, {'score': model.score(X_test, y_test)})  # inform the oracle of the eval result, the result is a dictionary with the metric names as the keys.\n",
        "        self.save_model(trial.trial_id, model) # save the model to disk\n",
        "\n",
        "    def save_model(self, trial_id, model, step=0):\n",
        "        \"\"\"save the model with pickle\"\"\"\n",
        "        fname = os.path.join(self.get_trial_dir(trial_id), 'model.pickle')\n",
        "        with tf.io.gfile.GFile(fname, 'wb') as f:\n",
        "            pickle.dump(model, f)\n",
        "\n",
        "    def load_model(self, trial):\n",
        "        \"\"\"load the model with pickle\"\"\"\n",
        "        fname = os.path.join(\n",
        "            self.get_trial_dir(trial.trial_id), 'model.pickle')\n",
        "        with tf.io.gfile.GFile(fname, 'rb') as f:\n",
        "            return pickle.load(f)"
      ],
      "execution_count": 13,
      "outputs": []
    },
    {
      "cell_type": "code",
      "metadata": {
        "id": "qSOa8hU3NtUu"
      },
      "source": [
        "from sklearn.datasets import load_digits\n",
        "\n",
        "# Load the hand-written digits dataset\n",
        "digits = load_digits()\n",
        "\n",
        "# Get the images and corresponding labels\n",
        "images, labels = digits.images, digits.target\n",
        "images.shape, labels.shape\n",
        "\n",
        "# reshape images to vectors\n",
        "n_samples = len(digits.images)\n",
        "X = digits.images.reshape((n_samples, -1))\n",
        "\n",
        "# Split data into train and test subsets\n",
        "from sklearn.model_selection import train_test_split\n",
        "X_train, X_test, y_train, y_test = train_test_split(\n",
        "    X, labels, test_size=0.2, shuffle=False)\n",
        "X_train, X_val, y_train, y_val = train_test_split(\n",
        "    X_train, y_train, test_size=0.2, shuffle=False)\n",
        "\n"
      ],
      "execution_count": 14,
      "outputs": []
    },
    {
      "cell_type": "code",
      "metadata": {
        "id": "FgGy2i6JN35h",
        "colab": {
          "base_uri": "https://localhost:8080/"
        },
        "outputId": "1a587aff-5399-46c9-c103-83895566fa69"
      },
      "source": [
        "from sklearn.svm import SVC\n",
        "from sklearn.ensemble import RandomForestClassifier\n",
        "from kerastuner.engine import hyperparameters as hp\n",
        "\n",
        "\n",
        "def build_model(hp):\n",
        "    model_type = hp.Choice('model_type', ['svm', 'random_forest'])\n",
        "    if model_type == 'svm':\n",
        "        with hp.conditional_scope('model_type', 'svm'):\n",
        "            model = SVC(C=hp.Float('C', 1e-3, 10, sampling='linear', default=1),\n",
        "                        kernel=hp.Choice(\"kernel_type\", ['linear', 'rbf'], default=\"linear\"),\n",
        "                        random_state=42)\n",
        "    elif model_type == 'random_forest':\n",
        "        with hp.conditional_scope('model_type', 'random_forest'):\n",
        "            model =  RandomForestClassifier(\n",
        "                n_estimators=hp.Int('n_estimators', 10, 200, step=10),\n",
        "                max_depth=hp.Int('max_depth', 3, 10))\n",
        "    else:\n",
        "        raise ValueError('Unrecognized model_type')\n",
        "    return model\n",
        "\n",
        "random_tuner = ShallowTuner(\n",
        "        oracle=kt.oracles.RandomSearch(\n",
        "            objective=kt.Objective('score', 'max'),\n",
        "            max_trials=3,\n",
        "            seed=42),\n",
        "        hypermodel=build_model,\n",
        "        overwrite=True,\n",
        "        project_name='random_tuner')\n",
        "\n",
        "random_tuner.search(X_train, y_train, validation_data=(X_val, y_val))"
      ],
      "execution_count": 15,
      "outputs": [
        {
          "output_type": "stream",
          "text": [
            "Trial 3 Complete [00h 00m 00s]\n",
            "score: 0.9861111111111112\n",
            "\n",
            "Best score So Far: 0.9861111111111112\n",
            "Total elapsed time: 00h 00m 00s\n",
            "INFO:tensorflow:Oracle triggered exit\n"
          ],
          "name": "stdout"
        }
      ]
    },
    {
      "cell_type": "code",
      "metadata": {
        "id": "M7Xc0NftN2o1",
        "colab": {
          "base_uri": "https://localhost:8080/"
        },
        "outputId": "4a5f26f9-6f36-4796-bacb-172b01907c91"
      },
      "source": [
        "# Evaluate the best discovered model\n",
        "from sklearn.metrics import accuracy_score\n",
        "\n",
        "best_model = random_tuner.get_best_models(1)[0]\n",
        "best_model.fit(X_train, y_train)\n",
        "y_pred_test = best_model.predict(X_test)\n",
        "test_acc = accuracy_score(y_test, y_pred_test)\n",
        "print(\"The prediction accuracy on test set: {:.2f} %\".format(test_acc * 100))"
      ],
      "execution_count": 16,
      "outputs": [
        {
          "output_type": "stream",
          "text": [
            "The prediction accuracy on test set: 95.00 %\n"
          ],
          "name": "stdout"
        }
      ]
    },
    {
      "cell_type": "code",
      "metadata": {
        "id": "CI7yiqj4Mf3j"
      },
      "source": [
        "from kerastuner.engine import hyperparameters as hp\n",
        "from sklearn.decomposition import PCA\n",
        "from sklearn.svm import SVC\n",
        "from sklearn.ensemble import RandomForestClassifier\n",
        "from sklearn.pipeline import Pipeline\n",
        "\n",
        "\n",
        "def build_pipeline(hp):\n",
        "\n",
        "    # select hyperparameters of PCA\n",
        "    n_components=hp.Choice(\"n_components\", [2, 5, 10], default=5)\n",
        "    pca = PCA(n_components=n_components)\n",
        "\n",
        "    # select model type\n",
        "    model_type = hp.Choice('model_type', ['svm', 'random_forest'])\n",
        "    if model_type == 'svm':\n",
        "        with hp.conditional_scope('model_type', 'svm'):\n",
        "            model = SVC(C=hp.Float('C', 1e-3, 10, sampling='linear', default=1),\n",
        "                        kernel=hp.Choice(\"kernel_type\", ['linear', 'rbf'], default=\"linear\"),\n",
        "                        random_state=42)\n",
        "    elif model_type == 'random_forest':\n",
        "        with hp.conditional_scope('model_type', 'random_forest'):\n",
        "            model =  RandomForestClassifier(\n",
        "                n_estimators=hp.Int('n_estimators', 10, 200, step=10),\n",
        "                max_depth=hp.Int('max_depth', 3, 10))\n",
        "    else:\n",
        "        raise ValueError('Unrecognized model_type')\n",
        "\n",
        "    # create pipeline\n",
        "    pipeline = Pipeline([\n",
        "        ('pca', pca),\n",
        "        ('clf', model)\n",
        "        ])\n",
        "\n",
        "    return pipeline"
      ],
      "execution_count": 17,
      "outputs": []
    },
    {
      "cell_type": "code",
      "metadata": {
        "colab": {
          "base_uri": "https://localhost:8080/"
        },
        "id": "m5Wcc2fjMnPl",
        "outputId": "fc1afef0-d319-47cc-c254-f17aaee9b440"
      },
      "source": [
        "tuner = ShallowTuner(\n",
        "        oracle=kt.oracles.RandomSearch(\n",
        "            objective=kt.Objective('score', 'max'),\n",
        "            max_trials=3),\n",
        "        hypermodel=build_pipeline,\n",
        "        overwrite=True)\n",
        "tuner.search(X_train, y_train, validation_data=(X_val, y_val))"
      ],
      "execution_count": 18,
      "outputs": [
        {
          "output_type": "stream",
          "text": [
            "Trial 3 Complete [00h 00m 00s]\n",
            "score: 0.5763888888888888\n",
            "\n",
            "Best score So Far: 0.8159722222222222\n",
            "Total elapsed time: 00h 00m 01s\n",
            "INFO:tensorflow:Oracle triggered exit\n"
          ],
          "name": "stdout"
        }
      ]
    },
    {
      "cell_type": "code",
      "metadata": {
        "colab": {
          "base_uri": "https://localhost:8080/"
        },
        "id": "wEU9cr5rMpVR",
        "outputId": "74b12c22-3a3b-46f8-cf12-c3069f2897d1"
      },
      "source": [
        "from sklearn.metrics import accuracy_score\n",
        "\n",
        "best_pipeline = tuner.get_best_models(1)[0]\n",
        "best_pipeline.fit(X_train, y_train)\n",
        "y_pred_test = best_pipeline.predict(X_test)\n",
        "test_acc = accuracy_score(y_test, y_pred_test)\n",
        "print(\"The prediction accuracy on test set: {:.2f} %\".format(test_acc * 100))"
      ],
      "execution_count": 19,
      "outputs": [
        {
          "output_type": "stream",
          "text": [
            "The prediction accuracy on test set: 76.67 %\n"
          ],
          "name": "stdout"
        }
      ]
    }
  ]
}
