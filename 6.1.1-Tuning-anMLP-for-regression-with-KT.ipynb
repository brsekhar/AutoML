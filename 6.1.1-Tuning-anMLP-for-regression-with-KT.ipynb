{
  "nbformat": 4,
  "nbformat_minor": 0,
  "metadata": {
    "colab": {
      "name": "6.1.1.ipynb",
      "provenance": [],
      "collapsed_sections": []
    },
    "kernelspec": {
      "name": "python3",
      "display_name": "Python 3"
    },
    "language_info": {
      "name": "python"
    }
  },
  "cells": [
    {
      "cell_type": "code",
      "metadata": {
        "colab": {
          "base_uri": "https://localhost:8080/"
        },
        "id": "I8lkrqDszo2u",
        "outputId": "510fa56c-99f6-4576-d3ef-b277bee9cc80"
      },
      "source": [
        "!pip install keras-tuner"
      ],
      "execution_count": 1,
      "outputs": [
        {
          "output_type": "stream",
          "name": "stdout",
          "text": [
            "Collecting keras-tuner\n",
            "  Downloading keras_tuner-1.0.4-py3-none-any.whl (97 kB)\n",
            "\u001b[?25l\r\u001b[K     |███▍                            | 10 kB 9.4 MB/s eta 0:00:01\r\u001b[K     |██████▊                         | 20 kB 12.0 MB/s eta 0:00:01\r\u001b[K     |██████████                      | 30 kB 5.0 MB/s eta 0:00:01\r\u001b[K     |█████████████▍                  | 40 kB 6.2 MB/s eta 0:00:01\r\u001b[K     |████████████████▊               | 51 kB 5.8 MB/s eta 0:00:01\r\u001b[K     |████████████████████            | 61 kB 5.0 MB/s eta 0:00:01\r\u001b[K     |███████████████████████▍        | 71 kB 5.5 MB/s eta 0:00:01\r\u001b[K     |██████████████████████████▊     | 81 kB 6.1 MB/s eta 0:00:01\r\u001b[K     |██████████████████████████████▏ | 92 kB 5.0 MB/s eta 0:00:01\r\u001b[K     |████████████████████████████████| 97 kB 2.3 MB/s \n",
            "\u001b[?25hRequirement already satisfied: ipython in /usr/local/lib/python3.7/dist-packages (from keras-tuner) (5.5.0)\n",
            "Requirement already satisfied: numpy in /usr/local/lib/python3.7/dist-packages (from keras-tuner) (1.19.5)\n",
            "Collecting kt-legacy\n",
            "  Downloading kt_legacy-1.0.4-py3-none-any.whl (9.6 kB)\n",
            "Requirement already satisfied: tensorboard in /usr/local/lib/python3.7/dist-packages (from keras-tuner) (2.6.0)\n",
            "Requirement already satisfied: requests in /usr/local/lib/python3.7/dist-packages (from keras-tuner) (2.23.0)\n",
            "Requirement already satisfied: packaging in /usr/local/lib/python3.7/dist-packages (from keras-tuner) (21.0)\n",
            "Requirement already satisfied: scipy in /usr/local/lib/python3.7/dist-packages (from keras-tuner) (1.4.1)\n",
            "Requirement already satisfied: simplegeneric>0.8 in /usr/local/lib/python3.7/dist-packages (from ipython->keras-tuner) (0.8.1)\n",
            "Requirement already satisfied: pickleshare in /usr/local/lib/python3.7/dist-packages (from ipython->keras-tuner) (0.7.5)\n",
            "Requirement already satisfied: setuptools>=18.5 in /usr/local/lib/python3.7/dist-packages (from ipython->keras-tuner) (57.4.0)\n",
            "Requirement already satisfied: decorator in /usr/local/lib/python3.7/dist-packages (from ipython->keras-tuner) (4.4.2)\n",
            "Requirement already satisfied: traitlets>=4.2 in /usr/local/lib/python3.7/dist-packages (from ipython->keras-tuner) (5.1.0)\n",
            "Requirement already satisfied: pexpect in /usr/local/lib/python3.7/dist-packages (from ipython->keras-tuner) (4.8.0)\n",
            "Requirement already satisfied: pygments in /usr/local/lib/python3.7/dist-packages (from ipython->keras-tuner) (2.6.1)\n",
            "Requirement already satisfied: prompt-toolkit<2.0.0,>=1.0.4 in /usr/local/lib/python3.7/dist-packages (from ipython->keras-tuner) (1.0.18)\n",
            "Requirement already satisfied: six>=1.9.0 in /usr/local/lib/python3.7/dist-packages (from prompt-toolkit<2.0.0,>=1.0.4->ipython->keras-tuner) (1.15.0)\n",
            "Requirement already satisfied: wcwidth in /usr/local/lib/python3.7/dist-packages (from prompt-toolkit<2.0.0,>=1.0.4->ipython->keras-tuner) (0.2.5)\n",
            "Requirement already satisfied: pyparsing>=2.0.2 in /usr/local/lib/python3.7/dist-packages (from packaging->keras-tuner) (2.4.7)\n",
            "Requirement already satisfied: ptyprocess>=0.5 in /usr/local/lib/python3.7/dist-packages (from pexpect->ipython->keras-tuner) (0.7.0)\n",
            "Requirement already satisfied: chardet<4,>=3.0.2 in /usr/local/lib/python3.7/dist-packages (from requests->keras-tuner) (3.0.4)\n",
            "Requirement already satisfied: certifi>=2017.4.17 in /usr/local/lib/python3.7/dist-packages (from requests->keras-tuner) (2021.5.30)\n",
            "Requirement already satisfied: idna<3,>=2.5 in /usr/local/lib/python3.7/dist-packages (from requests->keras-tuner) (2.10)\n",
            "Requirement already satisfied: urllib3!=1.25.0,!=1.25.1,<1.26,>=1.21.1 in /usr/local/lib/python3.7/dist-packages (from requests->keras-tuner) (1.24.3)\n",
            "Requirement already satisfied: google-auth<2,>=1.6.3 in /usr/local/lib/python3.7/dist-packages (from tensorboard->keras-tuner) (1.35.0)\n",
            "Requirement already satisfied: tensorboard-data-server<0.7.0,>=0.6.0 in /usr/local/lib/python3.7/dist-packages (from tensorboard->keras-tuner) (0.6.1)\n",
            "Requirement already satisfied: werkzeug>=0.11.15 in /usr/local/lib/python3.7/dist-packages (from tensorboard->keras-tuner) (1.0.1)\n",
            "Requirement already satisfied: absl-py>=0.4 in /usr/local/lib/python3.7/dist-packages (from tensorboard->keras-tuner) (0.12.0)\n",
            "Requirement already satisfied: grpcio>=1.24.3 in /usr/local/lib/python3.7/dist-packages (from tensorboard->keras-tuner) (1.41.0)\n",
            "Requirement already satisfied: wheel>=0.26 in /usr/local/lib/python3.7/dist-packages (from tensorboard->keras-tuner) (0.37.0)\n",
            "Requirement already satisfied: protobuf>=3.6.0 in /usr/local/lib/python3.7/dist-packages (from tensorboard->keras-tuner) (3.17.3)\n",
            "Requirement already satisfied: markdown>=2.6.8 in /usr/local/lib/python3.7/dist-packages (from tensorboard->keras-tuner) (3.3.4)\n",
            "Requirement already satisfied: google-auth-oauthlib<0.5,>=0.4.1 in /usr/local/lib/python3.7/dist-packages (from tensorboard->keras-tuner) (0.4.6)\n",
            "Requirement already satisfied: tensorboard-plugin-wit>=1.6.0 in /usr/local/lib/python3.7/dist-packages (from tensorboard->keras-tuner) (1.8.0)\n",
            "Requirement already satisfied: cachetools<5.0,>=2.0.0 in /usr/local/lib/python3.7/dist-packages (from google-auth<2,>=1.6.3->tensorboard->keras-tuner) (4.2.4)\n",
            "Requirement already satisfied: pyasn1-modules>=0.2.1 in /usr/local/lib/python3.7/dist-packages (from google-auth<2,>=1.6.3->tensorboard->keras-tuner) (0.2.8)\n",
            "Requirement already satisfied: rsa<5,>=3.1.4 in /usr/local/lib/python3.7/dist-packages (from google-auth<2,>=1.6.3->tensorboard->keras-tuner) (4.7.2)\n",
            "Requirement already satisfied: requests-oauthlib>=0.7.0 in /usr/local/lib/python3.7/dist-packages (from google-auth-oauthlib<0.5,>=0.4.1->tensorboard->keras-tuner) (1.3.0)\n",
            "Requirement already satisfied: importlib-metadata in /usr/local/lib/python3.7/dist-packages (from markdown>=2.6.8->tensorboard->keras-tuner) (4.8.1)\n",
            "Requirement already satisfied: pyasn1<0.5.0,>=0.4.6 in /usr/local/lib/python3.7/dist-packages (from pyasn1-modules>=0.2.1->google-auth<2,>=1.6.3->tensorboard->keras-tuner) (0.4.8)\n",
            "Requirement already satisfied: oauthlib>=3.0.0 in /usr/local/lib/python3.7/dist-packages (from requests-oauthlib>=0.7.0->google-auth-oauthlib<0.5,>=0.4.1->tensorboard->keras-tuner) (3.1.1)\n",
            "Requirement already satisfied: typing-extensions>=3.6.4 in /usr/local/lib/python3.7/dist-packages (from importlib-metadata->markdown>=2.6.8->tensorboard->keras-tuner) (3.7.4.3)\n",
            "Requirement already satisfied: zipp>=0.5 in /usr/local/lib/python3.7/dist-packages (from importlib-metadata->markdown>=2.6.8->tensorboard->keras-tuner) (3.6.0)\n",
            "Installing collected packages: kt-legacy, keras-tuner\n",
            "Successfully installed keras-tuner-1.0.4 kt-legacy-1.0.4\n"
          ]
        }
      ]
    },
    {
      "cell_type": "code",
      "metadata": {
        "id": "NilE4iFGz2f6"
      },
      "source": [
        "import tensorflow as tf\n",
        "from tensorflow import keras\n",
        "from tensorflow.keras import layers\n",
        "\n",
        "def build_model(hp):\n",
        "  input_node = keras.Input(shape=(20,))\n",
        "  units = hp.Int('units', min_value=32, max_value=512, step=32)\n",
        "  output_node = layers.Dense(units=units, activation='relu')(input_node)\n",
        "  output_node = layers.Dense(units=units, activation='relu')(output_node)\n",
        "  output_node = layers.Dense(units=1, activation='sigmoid')(output_node)\n",
        "  model = keras.Model(input_node, output_node)\n",
        "\n",
        "  optimizer = tf.keras.optimizers.Adam(learning_rate=1e-3)\n",
        "  model.compile(\n",
        "    optimizer=optimizer,\n",
        "    loss='mse',\n",
        "    metrics=['mae'])\n",
        "  return model"
      ],
      "execution_count": 2,
      "outputs": []
    },
    {
      "cell_type": "code",
      "metadata": {
        "id": "75wbh7-yz4uG"
      },
      "source": [
        "from keras_tuner import RandomSearch\n",
        "\n",
        "tuner = RandomSearch(\n",
        "    build_model,\n",
        "    objective='val_mae',\n",
        "    max_trials=5,\n",
        "    executions_per_trial=3,\n",
        "    directory='my_dir',\n",
        "    project_name='helloworld')"
      ],
      "execution_count": 3,
      "outputs": []
    },
    {
      "cell_type": "code",
      "metadata": {
        "colab": {
          "base_uri": "https://localhost:8080/"
        },
        "id": "fZyB4vVKz90z",
        "outputId": "1de1dd1a-d545-4c16-b446-bf3d5bbe7548"
      },
      "source": [
        "tuner.search_space_summary()"
      ],
      "execution_count": 4,
      "outputs": [
        {
          "output_type": "stream",
          "name": "stdout",
          "text": [
            "Search space summary\n",
            "Default search space size: 1\n",
            "units (Int)\n",
            "{'default': None, 'conditions': [], 'min_value': 32, 'max_value': 512, 'step': 32, 'sampling': None}\n"
          ]
        }
      ]
    },
    {
      "cell_type": "code",
      "metadata": {
        "colab": {
          "base_uri": "https://localhost:8080/"
        },
        "id": "3j969ukf0A-I",
        "outputId": "fff5502d-ca1b-4627-a2b6-89c1b8757f56"
      },
      "source": [
        "import numpy as np\n",
        "x_train = np.random.rand(100, 20)\n",
        "y_train = np.random.rand(100, 1)\n",
        "x_val = np.random.rand(20, 20)\n",
        "y_val = np.random.rand(20, 1)\n",
        "\n",
        "tuner.search(x_train, y_train, epochs=1, validation_data=(x_val, y_val))"
      ],
      "execution_count": 5,
      "outputs": [
        {
          "output_type": "stream",
          "name": "stdout",
          "text": [
            "Trial 5 Complete [00h 00m 02s]\n",
            "val_mae: 0.22459365924199423\n",
            "\n",
            "Best val_mae So Far: 0.21783710519472757\n",
            "Total elapsed time: 00h 00m 24s\n",
            "INFO:tensorflow:Oracle triggered exit\n"
          ]
        }
      ]
    },
    {
      "cell_type": "code",
      "metadata": {
        "colab": {
          "base_uri": "https://localhost:8080/"
        },
        "id": "RE9zaE1y0FUO",
        "outputId": "2808719f-450d-474e-94ce-8429368ede98"
      },
      "source": [
        "tuner.results_summary(5)"
      ],
      "execution_count": 6,
      "outputs": [
        {
          "output_type": "stream",
          "name": "stdout",
          "text": [
            "Results summary\n",
            "Results in my_dir/helloworld\n",
            "Showing 5 best trials\n",
            "Objective(name='val_mae', direction='min')\n",
            "Trial summary\n",
            "Hyperparameters:\n",
            "units: 224\n",
            "Score: 0.21783710519472757\n",
            "Trial summary\n",
            "Hyperparameters:\n",
            "units: 416\n",
            "Score: 0.21908955772717795\n",
            "Trial summary\n",
            "Hyperparameters:\n",
            "units: 192\n",
            "Score: 0.22459365924199423\n",
            "Trial summary\n",
            "Hyperparameters:\n",
            "units: 352\n",
            "Score: 0.22488305469353995\n",
            "Trial summary\n",
            "Hyperparameters:\n",
            "units: 448\n",
            "Score: 0.22935916483402252\n"
          ]
        }
      ]
    },
    {
      "cell_type": "code",
      "metadata": {
        "colab": {
          "base_uri": "https://localhost:8080/"
        },
        "id": "D2hf6KG_0KOr",
        "outputId": "3a092c3d-8ace-4bbd-cdc1-eaefe704437f"
      },
      "source": [
        "from tensorflow import keras\n",
        "best_models = tuner.get_best_models(num_models=2)\n",
        "best_model = best_models[0]\n",
        "best_model.save('path_to_best_model')\n",
        "best_model = keras.models.load_model('path_to_best_model')\n",
        "print(best_model.predict(x_val))\n",
        "best_model.summary()"
      ],
      "execution_count": 7,
      "outputs": [
        {
          "output_type": "stream",
          "name": "stdout",
          "text": [
            "INFO:tensorflow:Assets written to: path_to_best_model/assets\n",
            "[[0.598885  ]\n",
            " [0.5619056 ]\n",
            " [0.5612072 ]\n",
            " [0.55784094]\n",
            " [0.5542791 ]\n",
            " [0.5752317 ]\n",
            " [0.568797  ]\n",
            " [0.53858554]\n",
            " [0.5366706 ]\n",
            " [0.5515216 ]\n",
            " [0.529739  ]\n",
            " [0.565692  ]\n",
            " [0.5646275 ]\n",
            " [0.58155847]\n",
            " [0.55058855]\n",
            " [0.55425227]\n",
            " [0.5594124 ]\n",
            " [0.542532  ]\n",
            " [0.5591536 ]\n",
            " [0.5534017 ]]\n",
            "Model: \"model\"\n",
            "_________________________________________________________________\n",
            "Layer (type)                 Output Shape              Param #   \n",
            "=================================================================\n",
            "input_1 (InputLayer)         [(None, 20)]              0         \n",
            "_________________________________________________________________\n",
            "dense (Dense)                (None, 224)               4704      \n",
            "_________________________________________________________________\n",
            "dense_1 (Dense)              (None, 224)               50400     \n",
            "_________________________________________________________________\n",
            "dense_2 (Dense)              (None, 1)                 225       \n",
            "=================================================================\n",
            "Total params: 55,329\n",
            "Trainable params: 55,329\n",
            "Non-trainable params: 0\n",
            "_________________________________________________________________\n"
          ]
        }
      ]
    },
    {
      "cell_type": "code",
      "metadata": {
        "colab": {
          "base_uri": "https://localhost:8080/"
        },
        "id": "U3nLWMo00PxF",
        "outputId": "e886e019-df1b-42b9-cd82-1e42f54c6b60"
      },
      "source": [
        "def build_model(hp):\n",
        "  input_node = keras.Input(shape=(20,))\n",
        "  units = hp.Int('units', min_value=32, max_value=512, step=32)\n",
        "  output_node = layers.Dense(units=units, activation='relu')(input_node)\n",
        "  output_node = layers.Dense(units=units, activation='relu')(output_node)\n",
        "  output_node = layers.Dense(units=1, activation='sigmoid')(output_node)\n",
        "  model = keras.Model(input_node, output_node)\n",
        "  optimizer_name = hp.Choice('optimizer', ['adam', 'adadelta'])\n",
        "  learning_rate = hp.Float('learning_rate', min_value=1e-5, max_value=0.1,\n",
        "                           sampling='log')\n",
        "  if optimizer_name == 'adam':\n",
        "    optimizer = tf.keras.optimizers.Adam(learning_rate=learning_rate)\n",
        "  else:\n",
        "    optimizer = tf.keras.optimizers.Adadelta(learning_rate=learning_rate)\n",
        "  model.compile(\n",
        "    optimizer=optimizer,\n",
        "    loss='mse',\n",
        "    metrics=['mae'])\n",
        "  return model\n",
        "\n",
        "tuner = RandomSearch(\n",
        "    build_model,\n",
        "    objective=\"val_mae\",\n",
        "    max_trials=5,\n",
        "    executions_per_trial=3,\n",
        "    directory='my_dir',\n",
        "    project_name='helloworld')"
      ],
      "execution_count": 8,
      "outputs": [
        {
          "output_type": "stream",
          "name": "stdout",
          "text": [
            "INFO:tensorflow:Reloading Oracle from existing project my_dir/helloworld/oracle.json\n",
            "INFO:tensorflow:Reloading Tuner from my_dir/helloworld/tuner0.json\n"
          ]
        }
      ]
    },
    {
      "cell_type": "code",
      "metadata": {
        "colab": {
          "base_uri": "https://localhost:8080/"
        },
        "id": "crjDM_ia0Sng",
        "outputId": "9b8cfa0a-0425-4d6a-9787-94b433b6e053"
      },
      "source": [
        "from tensorflow.keras.layers.experimental.preprocessing import Normalization\n",
        "\n",
        "layer = Normalization(input_shape=(20,))\n",
        "layer.adapt(x_train)\n",
        "\n",
        "model = tf.keras.Sequential([layer, tf.keras.layers.Dense(1)])\n",
        "model.compile(optimizer='adam', loss='mse')\n",
        "model.fit(x_train, y_train)"
      ],
      "execution_count": 9,
      "outputs": [
        {
          "output_type": "stream",
          "name": "stdout",
          "text": [
            "4/4 [==============================] - 0s 3ms/step - loss: 1.8392\n"
          ]
        },
        {
          "output_type": "execute_result",
          "data": {
            "text/plain": [
              "<keras.callbacks.History at 0x7fd8900fca90>"
            ]
          },
          "metadata": {},
          "execution_count": 9
        }
      ]
    },
    {
      "cell_type": "code",
      "metadata": {
        "id": "Y5HB9OxN0aem"
      },
      "source": [
        "from keras_tuner import HyperModel\n",
        "\n",
        "class Regressor(HyperModel): \n",
        "  def __init__(self, data):\n",
        "    self.data = data\n",
        "\n",
        "  def build(self, hp):\n",
        "    model = tf.keras.Sequential()\n",
        "    if hp.Boolean('normalize'):\n",
        "        layer = Normalization(input_shape=(20,))\n",
        "        layer.adapt(self.data)\n",
        "        model.add(layer)\n",
        "    model.add(tf.keras.layers.Dense(1))\n",
        "    model.compile(optimizer='adam', loss='mse')\n",
        "    return model\n",
        "\n",
        "hypermodel = Regressor(x_train)"
      ],
      "execution_count": 10,
      "outputs": []
    },
    {
      "cell_type": "code",
      "metadata": {
        "colab": {
          "base_uri": "https://localhost:8080/"
        },
        "id": "GWHUReSP0eDn",
        "outputId": "0d7874e1-28e8-4fbd-a37e-d488950fbf7e"
      },
      "source": [
        "tuner = RandomSearch(hypermodel, objective='val_loss', max_trials=2)\n",
        "tuner.search(x_train, y_train, validation_data=(x_val, y_val))"
      ],
      "execution_count": 11,
      "outputs": [
        {
          "output_type": "stream",
          "name": "stdout",
          "text": [
            "Trial 2 Complete [00h 00m 00s]\n",
            "val_loss: 2.238662004470825\n",
            "\n",
            "Best val_loss So Far: 0.217946857213974\n",
            "Total elapsed time: 00h 00m 01s\n",
            "INFO:tensorflow:Oracle triggered exit\n"
          ]
        }
      ]
    }
  ]
}