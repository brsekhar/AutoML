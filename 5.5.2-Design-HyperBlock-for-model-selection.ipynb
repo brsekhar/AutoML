{
  "nbformat": 4,
  "nbformat_minor": 0,
  "metadata": {
    "colab": {
      "name": "5.5.2-Design-HyperBlock-for-model-selection.ipynb",
      "provenance": [],
      "collapsed_sections": []
    },
    "kernelspec": {
      "name": "python3",
      "display_name": "Python 3"
    }
  },
  "cells": [
    {
      "cell_type": "code",
      "metadata": {
        "colab": {
          "base_uri": "https://localhost:8080/"
        },
        "id": "9L2IgG77kfPN",
        "outputId": "8275acbe-bcaf-4aea-bb7d-ff462bcd1cbd"
      },
      "source": [
        "pip install autokeras -q"
      ],
      "execution_count": 1,
      "outputs": [
        {
          "output_type": "stream",
          "text": [
            "\u001b[K     |████████████████████████████████| 174kB 3.9MB/s \n",
            "\u001b[K     |████████████████████████████████| 71kB 3.7MB/s \n",
            "\u001b[?25h  Building wheel for keras-tuner (setup.py) ... \u001b[?25l\u001b[?25hdone\n",
            "  Building wheel for terminaltables (setup.py) ... \u001b[?25l\u001b[?25hdone\n"
          ],
          "name": "stdout"
        }
      ]
    },
    {
      "cell_type": "code",
      "metadata": {
        "colab": {
          "base_uri": "https://localhost:8080/"
        },
        "id": "20i2PAby8nL7",
        "outputId": "100eadc9-2d9a-4039-9374-305595311238"
      },
      "source": [
        "import tensorflow as tf\n",
        "import numpy as np\n",
        "\n",
        "model = tf.keras.applications.DenseNet121(\n",
        "    include_top=False,\n",
        "    weights=None)\n",
        "print(model(np.random.rand(100, 32, 32, 3)).shape)"
      ],
      "execution_count": 2,
      "outputs": [
        {
          "output_type": "stream",
          "text": [
            "(100, 1, 1, 1024)\n"
          ],
          "name": "stdout"
        }
      ]
    },
    {
      "cell_type": "markdown",
      "metadata": {
        "id": "MOyRKCY1Sgrn"
      },
      "source": [
        "### Build an AutoML block to select among different DenseNet models"
      ]
    },
    {
      "cell_type": "code",
      "metadata": {
        "id": "YqC_VALG9FF6"
      },
      "source": [
        "import autokeras as ak\n",
        "import tensorflow as tf\n",
        "\n",
        "\n",
        "class DenseNetBlock(ak.Block):\n",
        "  def build(self, hp, inputs):\n",
        "    version = hp.Choice(\"version\", [\"DenseNet121\", \"DenseNet169\", \"DenseNet201\"])\n",
        "    if version == \"DenseNet121\":\n",
        "      dense_net_func = tf.keras.applications.DenseNet121\n",
        "    elif version == \"DenseNet169\":\n",
        "      dense_net_func = tf.keras.applications.DenseNet169\n",
        "    elif version == \"DenseNet201\":\n",
        "      dense_net_func = tf.keras.applications.DenseNet201\n",
        "    return dense_net_func(include_top=False, weights=None)(inputs)"
      ],
      "execution_count": 3,
      "outputs": []
    },
    {
      "cell_type": "markdown",
      "metadata": {
        "id": "tLA791RmSZTg"
      },
      "source": [
        "### Build a HyperBlock to select between DenseNet and ResNet"
      ]
    },
    {
      "cell_type": "code",
      "metadata": {
        "id": "hnQadk679FI5"
      },
      "source": [
        "# Model selection block\n",
        "class SelectionBlock(ak.Block):\n",
        "  def build(self, hp, inputs):\n",
        "    if hp.Choice(\"model\", [\"densenet\", \"resnet\"]) == \"densenet\":\n",
        "        outputs = DenseNetBlock().build(hp, inputs)\n",
        "    else:\n",
        "        outputs = ak.ResNetBlock().build(hp, inputs)\n",
        "    return outputs"
      ],
      "execution_count": 4,
      "outputs": []
    },
    {
      "cell_type": "code",
      "metadata": {
        "id": "lJLdPT-n9FLg"
      },
      "source": [
        "# Model selection block with conditional scope\n",
        "class SelectionBlock(ak.Block):\n",
        "  def build(self, hp, inputs):\n",
        "    if hp.Choice(\"model\", [\"densenet\", \"resnet\"]) == \"densenet\":\n",
        "      with hp.conditional_scope(\"model\", [\"densenet\"]):\n",
        "        outputs = DenseNetBlock().build(hp, inputs)\n",
        "    else:\n",
        "      with hp.conditional_scope(\"model\", [\"resnet\"]):\n",
        "        outputs = ak.ResNetBlock().build(hp, inputs)\n",
        "    return outputs"
      ],
      "execution_count": 5,
      "outputs": []
    },
    {
      "cell_type": "markdown",
      "metadata": {
        "id": "3GjxUJ_TSF-d"
      },
      "source": [
        "### Build model with the customized HyperBlock and conduct search"
      ]
    },
    {
      "cell_type": "code",
      "metadata": {
        "colab": {
          "base_uri": "https://localhost:8080/"
        },
        "id": "XQ3gARlu9FOI",
        "outputId": "53c0af4c-8a76-4b2f-8599-18a4f8767de3"
      },
      "source": [
        "input_node = ak.ImageInput()\n",
        "output_node = SelectionBlock()(input_node)\n",
        "output_node = ak.ClassificationHead()(output_node)\n",
        "auto_model = ak.AutoModel(input_node, output_node, max_trials=5, overwrite=True)\n",
        "\n",
        "from tensorflow.keras.datasets import cifar10\n",
        "\n",
        "(x_train, y_train), (x_test, y_test) = cifar10.load_data()\n",
        "auto_model.fit(x_train[:100], y_train[:100], epochs=1)"
      ],
      "execution_count": 6,
      "outputs": [
        {
          "output_type": "stream",
          "text": [
            "Trial 5 Complete [00h 00m 17s]\n",
            "val_loss: 2.11826229095459\n",
            "\n",
            "Best val_loss So Far: 2.11826229095459\n",
            "Total elapsed time: 00h 01m 39s\n",
            "INFO:tensorflow:Oracle triggered exit\n",
            "WARNING:tensorflow:5 out of the last 13 calls to <function Model.make_train_function.<locals>.train_function at 0x7fe202310320> triggered tf.function retracing. Tracing is expensive and the excessive number of tracings could be due to (1) creating @tf.function repeatedly in a loop, (2) passing tensors with different shapes, (3) passing Python objects instead of tensors. For (1), please define your @tf.function outside of the loop. For (2), @tf.function has experimental_relax_shapes=True option that relaxes argument shapes that can avoid unnecessary retracing. For (3), please refer to https://www.tensorflow.org/guide/function#controlling_retracing and https://www.tensorflow.org/api_docs/python/tf/function for  more details.\n",
            "4/4 [==============================] - 11s 445ms/step - loss: 2.9181 - accuracy: 0.0829\n",
            "INFO:tensorflow:Assets written to: ./auto_model/best_model/assets\n"
          ],
          "name": "stdout"
        }
      ]
    },
    {
      "cell_type": "code",
      "metadata": {
        "colab": {
          "base_uri": "https://localhost:8080/"
        },
        "id": "_H_d06-tGIJA",
        "outputId": "fc203a15-ec22-42cf-ab50-df403f8e0c05"
      },
      "source": [
        "auto_model.tuner.search_space_summary()"
      ],
      "execution_count": 7,
      "outputs": [
        {
          "output_type": "stream",
          "text": [
            "Search space summary\n",
            "Default search space size: 9\n",
            "selection_block_1/model (Choice)\n",
            "{'default': 'densenet', 'conditions': [], 'values': ['densenet', 'resnet'], 'ordered': False}\n",
            "selection_block_1/dense_net_block_1/version (Choice)\n",
            "{'default': 'DenseNet121', 'conditions': [{'class_name': 'Parent', 'config': {'name': 'selection_block_1/model', 'values': ['densenet']}}], 'values': ['DenseNet121', 'DenseNet169', 'DenseNet201'], 'ordered': False}\n",
            "classification_head_1/spatial_reduction_1/reduction_type (Choice)\n",
            "{'default': 'flatten', 'conditions': [], 'values': ['flatten', 'global_max', 'global_avg'], 'ordered': False}\n",
            "classification_head_1/dropout (Choice)\n",
            "{'default': 0, 'conditions': [], 'values': [0.0, 0.25, 0.5], 'ordered': True}\n",
            "optimizer (Choice)\n",
            "{'default': 'adam', 'conditions': [], 'values': ['adam', 'sgd', 'adam_weight_decay'], 'ordered': False}\n",
            "learning_rate (Choice)\n",
            "{'default': 0.001, 'conditions': [], 'values': [0.1, 0.01, 0.001, 0.0001, 2e-05, 1e-05], 'ordered': True}\n",
            "selection_block_1/res_net_block_1/pretrained (Boolean)\n",
            "{'default': False, 'conditions': [{'class_name': 'Parent', 'config': {'name': 'selection_block_1/model', 'values': ['resnet']}}]}\n",
            "selection_block_1/res_net_block_1/version (Choice)\n",
            "{'default': 'resnet50', 'conditions': [{'class_name': 'Parent', 'config': {'name': 'selection_block_1/model', 'values': ['resnet']}}], 'values': ['resnet50', 'resnet101', 'resnet152', 'resnet50_v2', 'resnet101_v2', 'resnet152_v2'], 'ordered': False}\n",
            "selection_block_1/res_net_block_1/imagenet_size (Boolean)\n",
            "{'default': False, 'conditions': [{'class_name': 'Parent', 'config': {'name': 'selection_block_1/model', 'values': ['resnet']}}]}\n"
          ],
          "name": "stdout"
        }
      ]
    },
    {
      "cell_type": "code",
      "metadata": {
        "id": "U3Qm5EwCGJYQ"
      },
      "source": [
        ""
      ],
      "execution_count": null,
      "outputs": []
    }
  ]
}