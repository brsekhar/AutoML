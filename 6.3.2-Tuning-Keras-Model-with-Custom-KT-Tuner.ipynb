{
  "nbformat": 4,
  "nbformat_minor": 0,
  "metadata": {
    "colab": {
      "name": "Copy of 6.3.2-Tuning-Keras-Model-with-Custom-KT-Tuner.ipynb",
      "provenance": [],
      "collapsed_sections": []
    },
    "kernelspec": {
      "display_name": "Python 3",
      "name": "python3"
    }
  },
  "cells": [
    {
      "cell_type": "code",
      "metadata": {
        "id": "5aX1dRHHVUUs"
      },
      "source": [
        "!pip install -r https://raw.githubusercontent.com/datamllab/automl-in-action-notebooks/master/requirements.txt"
      ],
      "execution_count": null,
      "outputs": []
    },
    {
      "cell_type": "code",
      "metadata": {
        "id": "yNBm5ZIVAmVF",
        "colab": {
          "base_uri": "https://localhost:8080/"
        },
        "outputId": "5bd72315-358d-4c0f-e19a-9e8e4f481fc1"
      },
      "source": [
        "import copy\n",
        "import os\n",
        "\n",
        "import tensorflow as tf\n",
        "import keras_tuner as kt\n",
        "\n",
        "class DeepTuner(kt.Tuner):\n",
        "\n",
        "    def run_trial(self, trial, X, y, validation_data, **fit_kwargs):\n",
        "        model = self.hypermodel.build(trial.hyperparameters)\n",
        "\n",
        "        model.fit(X, y, batch_size=trial.hyperparameters.Choice(\"batch_size\", [16, 32]),\n",
        "                  **fit_kwargs)\n",
        "\n",
        "        X_val, y_val = validation_data  # get the validation data\n",
        "        eval_scores = model.evaluate(X_val, y_val)\n",
        "        self.save_model(trial.trial_id, model) # save the model to disk\n",
        "        return {name: value for name, value in zip(\n",
        "            model.metrics_names, \n",
        "            eval_scores)}  # inform the oracle of the eval result, the result is a dictionary with the metric names as the keys.\n",
        "\n",
        "    def save_model(self, trial_id, model, step=0):\n",
        "        fname = os.path.join(self.get_trial_dir(trial_id), 'model')\n",
        "        model.save(fname)\n",
        "\n",
        "    def load_model(self, trial):\n",
        "        fname = os.path.join(self.get_trial_dir(trial.trial_id), 'model')\n",
        "        model = tf.keras.models.load_model(fname)\n",
        "        return model\n",
        "\n"
      ],
      "execution_count": null,
      "outputs": [
        {
          "output_type": "stream",
          "name": "stderr",
          "text": [
            "/usr/local/lib/python3.7/dist-packages/ipykernel_launcher.py:6: DeprecationWarning: `import kerastuner` is deprecated, please use `import keras_tuner`.\n",
            "  \n"
          ]
        }
      ]
    },
    {
      "cell_type": "code",
      "metadata": {
        "colab": {
          "base_uri": "https://localhost:8080/"
        },
        "id": "AOxBj6biAGHl",
        "outputId": "73c289bf-3d39-48ad-f4ff-2f9201e63d9b"
      },
      "source": [
        "from sklearn.datasets import load_digits\n",
        "\n",
        "# Load the hand-written digits dataset\n",
        "digits = load_digits()\n",
        "\n",
        "# Get the images and corresponding labels\n",
        "images, labels = digits.images, digits.target\n",
        "images.shape, labels.shape\n",
        "\n",
        "# reshape images to vectors\n",
        "n_samples = len(images)\n",
        "X = images.reshape((n_samples, -1))\n",
        "\n",
        "# Split data into train and test subsets\n",
        "from sklearn.model_selection import train_test_split\n",
        "X_train, X_test, y_train, y_test = train_test_split(\n",
        "    X, labels, test_size=0.2, shuffle=False)\n",
        "X_train, X_val, y_train, y_val = train_test_split(\n",
        "    X_train, y_train, test_size=0.2, shuffle=False)\n",
        "print(X_train.shape)\n",
        "print(y_train.shape)\n",
        "print(X_test.shape)\n",
        "print(y_train[:10])"
      ],
      "execution_count": null,
      "outputs": [
        {
          "output_type": "stream",
          "name": "stdout",
          "text": [
            "(1149, 64)\n",
            "(1149,)\n",
            "(360, 64)\n",
            "[0 1 2 3 4 5 6 7 8 9]\n"
          ]
        }
      ]
    },
    {
      "cell_type": "code",
      "metadata": {
        "colab": {
          "base_uri": "https://localhost:8080/"
        },
        "id": "EZNVjmEyDkyS",
        "outputId": "4da978b6-c7b0-4a3f-c72f-04312471b8dc"
      },
      "source": [
        "import kerastuner as kt\n",
        "\n",
        "def build_model(hp):\n",
        "    model = tf.keras.Sequential()\n",
        "    model.add(tf.keras.Input(shape=(64,)))\n",
        "    for i in range(hp.Int('num_layers', min_value=1, max_value=4)):\n",
        "        model.add(tf.keras.layers.Dense(hp.Int(\n",
        "            'units_{i}'.format(i=i), min_value=32, max_value=128, step=32), activation='relu'))\n",
        "    model.add(tf.keras.layers.Dense(10, activation='softmax'))\n",
        "    model.compile(loss='sparse_categorical_crossentropy', metrics=['accuracy'])\n",
        "    return model\n",
        "\n",
        "random_tuner = DeepTuner(\n",
        "        oracle=kt.oracles.RandomSearch(\n",
        "            objective=kt.Objective('accuracy', 'max'),\n",
        "            max_trials=10,\n",
        "            seed=42),\n",
        "        hypermodel=build_model,\n",
        "        overwrite=True,\n",
        "        project_name='random_tuner')\n",
        "\n",
        "random_tuner.search(X_train, y_train, validation_data=(X_val, y_val), epochs=10)\n",
        "random_tuner.search_space_summary()"
      ],
      "execution_count": null,
      "outputs": [
        {
          "output_type": "stream",
          "name": "stdout",
          "text": [
            "Trial 10 Complete [00h 00m 01s]\n",
            "accuracy: 0.9409722089767456\n",
            "\n",
            "Best accuracy So Far: 0.9618055820465088\n",
            "Total elapsed time: 00h 00m 27s\n",
            "INFO:tensorflow:Oracle triggered exit\n",
            "Search space summary\n",
            "Default search space size: 6\n",
            "num_layers (Int)\n",
            "{'default': None, 'conditions': [], 'min_value': 1, 'max_value': 4, 'step': 1, 'sampling': None}\n",
            "units_0 (Int)\n",
            "{'default': None, 'conditions': [], 'min_value': 32, 'max_value': 128, 'step': 32, 'sampling': None}\n",
            "units_1 (Int)\n",
            "{'default': None, 'conditions': [], 'min_value': 32, 'max_value': 128, 'step': 32, 'sampling': None}\n",
            "units_2 (Int)\n",
            "{'default': None, 'conditions': [], 'min_value': 32, 'max_value': 128, 'step': 32, 'sampling': None}\n",
            "batch_size (Choice)\n",
            "{'default': 16, 'conditions': [], 'values': [16, 32], 'ordered': True}\n",
            "units_3 (Int)\n",
            "{'default': None, 'conditions': [], 'min_value': 32, 'max_value': 128, 'step': 32, 'sampling': None}\n"
          ]
        }
      ]
    },
    {
      "cell_type": "code",
      "metadata": {
        "colab": {
          "base_uri": "https://localhost:8080/"
        },
        "id": "j3R4udwvFbrM",
        "outputId": "ca46d667-a3cc-4e54-c26b-2b8042b970ee"
      },
      "source": [
        "best_model = random_tuner.get_best_models(1)[0]\n",
        "y_pred_test = best_model.evaluate(X_test, y_test)\n",
        "print(best_model.metrics_names)\n",
        "print(y_pred_test)"
      ],
      "execution_count": null,
      "outputs": [
        {
          "output_type": "stream",
          "name": "stdout",
          "text": [
            "12/12 [==============================] - 0s 1ms/step - loss: 0.3861 - accuracy: 0.9056\n",
            "['loss', 'accuracy']\n",
            "[0.3861478269100189, 0.9055555462837219]\n"
          ]
        }
      ]
    }
  ]
}
