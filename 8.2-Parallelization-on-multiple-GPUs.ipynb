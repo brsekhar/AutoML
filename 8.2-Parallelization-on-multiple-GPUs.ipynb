{
  "nbformat": 4,
  "nbformat_minor": 0,
  "metadata": {
    "colab": {
      "name": "8.2-Parallelization-on-multiple-GPUs",
      "provenance": [],
      "collapsed_sections": []
    },
    "kernelspec": {
      "name": "python3",
      "display_name": "Python 3"
    },
    "language_info": {
      "name": "python"
    }
  },
  "cells": [
    {
      "cell_type": "code",
      "metadata": {
        "id": "lWOVfB9-cqZT"
      },
      "source": [
        "!pip install autokeras -q"
      ],
      "execution_count": 1,
      "outputs": []
    },
    {
      "cell_type": "markdown",
      "metadata": {
        "id": "2oVkVPNmOZbF"
      },
      "source": [
        "## 8.2.1 Data parallelism"
      ]
    },
    {
      "cell_type": "code",
      "metadata": {
        "colab": {
          "base_uri": "https://localhost:8080/"
        },
        "id": "-WP19qo_gX7U",
        "outputId": "666a09f5-a15e-437c-d577-bd2d68b28931"
      },
      "source": [
        "import tensorflow as tf\n",
        "from tensorflow.keras.datasets import mnist\n",
        "import autokeras as ak\n",
        "\n",
        "(x_train, y_train), (x_test, y_test) = mnist.load_data()\n",
        "clf = ak.ImageClassifier(\n",
        "    overwrite=True,\n",
        "    max_trials=1,\n",
        "    distribution_strategy=tf.distribute.MirroredStrategy())\n",
        "clf.fit(x_train, y_train, epochs=1)"
      ],
      "execution_count": 2,
      "outputs": [
        {
          "output_type": "stream",
          "text": [
            "Trial 1 Complete [00h 01m 54s]\n",
            "val_loss: 0.061207693070173264\n",
            "\n",
            "Best val_loss So Far: 0.061207693070173264\n",
            "Total elapsed time: 00h 01m 54s\n",
            "INFO:tensorflow:Oracle triggered exit\n",
            "1875/1875 [==============================] - 133s 70ms/step - loss: 0.1572 - accuracy: 0.9515\n",
            "INFO:tensorflow:Assets written to: ./image_classifier/best_model/assets\n"
          ],
          "name": "stdout"
        }
      ]
    },
    {
      "cell_type": "code",
      "metadata": {
        "colab": {
          "base_uri": "https://localhost:8080/"
        },
        "id": "6o7u0_RyT6v7",
        "outputId": "0a8a9926-f1cf-4e87-825f-44443db2a547"
      },
      "source": [
        "import kerastuner as kt\n",
        "\n",
        "def build_model(hp):\n",
        "    model = tf.keras.Sequential()\n",
        "    model.add(tf.keras.layers.Flatten())\n",
        "    model.add(tf.keras.layers.Dense(\n",
        "        units=hp.Int('units', min_value=32, max_value=512, step=32),\n",
        "        activation='relu'))\n",
        "    model.add(tf.keras.layers.Dense(10, activation='softmax'))\n",
        "    model.compile(optimizer='adam', loss='sparse_categorical_crossentropy')\n",
        "    return model\n",
        "\n",
        "tuner = kt.RandomSearch(\n",
        "    build_model,\n",
        "    objective='val_loss',\n",
        "    max_trials=1,\n",
        "    directory='my_dir',\n",
        "    distribution_strategy=tf.distribute.MirroredStrategy(),\n",
        "    project_name='helloworld')\n",
        "\n",
        "tuner.search(x_train, y_train,\n",
        "             epochs=1,\n",
        "             validation_data=(x_test, y_test))"
      ],
      "execution_count": 3,
      "outputs": [
        {
          "output_type": "stream",
          "text": [
            "WARNING:tensorflow:There are non-GPU devices in `tf.distribute.Strategy`, not using nccl allreduce.\n",
            "WARNING:tensorflow:Collective ops is not configured at program startup. Some performance features may not be enabled.\n",
            "INFO:tensorflow:Using MirroredStrategy with devices ('/job:localhost/replica:0/task:0/device:CPU:0',)\n",
            "INFO:tensorflow:Reloading Oracle from existing project my_dir/helloworld/oracle.json\n",
            "INFO:tensorflow:Reloading Tuner from my_dir/helloworld/tuner0.json\n",
            "INFO:tensorflow:Oracle triggered exit\n"
          ],
          "name": "stdout"
        },
        {
          "output_type": "stream",
          "text": [
            "/usr/local/lib/python3.7/dist-packages/ipykernel_launcher.py:1: DeprecationWarning: `import kerastuner` is deprecated, please use `import keras_tuner`.\n",
            "  \"\"\"Entry point for launching an IPython kernel.\n"
          ],
          "name": "stderr"
        }
      ]
    },
    {
      "cell_type": "markdown",
      "metadata": {
        "id": "4r0tpeekOhBr"
      },
      "source": [
        "## 8.2.2 Model parallelism"
      ]
    },
    {
      "cell_type": "code",
      "metadata": {
        "colab": {
          "base_uri": "https://localhost:8080/"
        },
        "id": "80qeLm_4p5cB",
        "outputId": "93b61e4b-57d2-4f79-97fb-c92240cf0818"
      },
      "source": [
        "import tensorflow as tf\n",
        "print(\"Num GPUs Available: \", len(tf.config.list_physical_devices('GPU')))"
      ],
      "execution_count": 4,
      "outputs": [
        {
          "output_type": "stream",
          "text": [
            "Num GPUs Available:  0\n"
          ],
          "name": "stdout"
        }
      ]
    },
    {
      "cell_type": "code",
      "metadata": {
        "colab": {
          "base_uri": "https://localhost:8080/"
        },
        "id": "FdzHPLV_skhV",
        "outputId": "e0a43bf3-152b-4663-fc94-115d1def40bc"
      },
      "source": [
        "import tensorflow as tf\n",
        "\n",
        "\n",
        "tf.debugging.set_log_device_placement(True)\n",
        "\n",
        "# Place tensors on the CPU\n",
        "with tf.device('/CPU:0'):\n",
        "  a = tf.constant([[1.0, 2.0, 3.0], [4.0, 5.0, 6.0]])\n",
        "  b = tf.constant([[1.0, 2.0], [3.0, 4.0], [5.0, 6.0]])\n",
        "\n",
        "# Run on the GPU\n",
        "c = tf.matmul(a, b)\n",
        "print(c)"
      ],
      "execution_count": 5,
      "outputs": [
        {
          "output_type": "stream",
          "text": [
            "tf.Tensor(\n",
            "[[22. 28.]\n",
            " [49. 64.]], shape=(2, 2), dtype=float32)\n"
          ],
          "name": "stdout"
        }
      ]
    },
    {
      "cell_type": "markdown",
      "metadata": {
        "id": "b2GGnAGNO2-x"
      },
      "source": [
        "## 8.2.3 Parallel tuning\n",
        "\n",
        "Note: The code below are only for the convenience of copying. It should be setup on your machines and run locally.\n",
        "\n",
        "```shell\n",
        "export KERASTUNER_TUNER_ID=\"chief\"\n",
        "export KERASTUNER_ORACLE_IP=\"127.0.0.1\"\n",
        "export KERASTUNER_ORACLE_PORT=\"8000\"\n",
        "python run_tuning.py\n",
        "```\n",
        "\n",
        "```shell\n",
        "export KERASTUNER_TUNER_ID=\"tuner0\"\n",
        "export KERASTUNER_ORACLE_IP=\"127.0.0.1\"\n",
        "export KERASTUNER_ORACLE_PORT=\"8000\"\n",
        "python run_tuning.py\n",
        "```"
      ]
    },
    {
      "cell_type": "code",
      "metadata": {
        "colab": {
          "base_uri": "https://localhost:8080/"
        },
        "id": "YZ5qneqlQMd1",
        "outputId": "d42bf9f3-aeec-41ce-fd4e-a9e24f28bf0b"
      },
      "source": [
        "import tensorflow as tf\n",
        "from tensorflow.keras.datasets import mnist\n",
        "import autokeras as ak\n",
        "import kerastuner as kt\n",
        "\n",
        "(x_train, y_train), (x_test, y_test) = mnist.load_data()\n",
        "\n",
        "def build_model(hp):\n",
        "  model = tf.keras.Sequential()\n",
        "  model.add(tf.keras.layers.Flatten())\n",
        "  model.add(tf.keras.layers.Dense(\n",
        "  units=hp.Int('units', min_value=32, max_value=512, step=32),\n",
        "  activation='relu'))\n",
        "  model.add(tf.keras.layers.Dense(10, activation='softmax'))\n",
        "  model.compile(optimizer='adam', loss='sparse_categorical_crossentropy')\n",
        "  return model\n",
        "\n",
        "tuner = kt.RandomSearch(\n",
        "  build_model,\n",
        "  objective='val_loss',\n",
        "  max_trials=1,\n",
        "  directory='result_dir',\n",
        "  project_name='helloworld')\n",
        "\n",
        "tuner.search(x_train, y_train,\n",
        "  epochs=1,\n",
        "  validation_data=(x_test, y_test))"
      ],
      "execution_count": 6,
      "outputs": [
        {
          "output_type": "stream",
          "text": [
            "INFO:tensorflow:Reloading Oracle from existing project result_dir/helloworld/oracle.json\n",
            "INFO:tensorflow:Reloading Tuner from result_dir/helloworld/tuner0.json\n",
            "INFO:tensorflow:Oracle triggered exit\n"
          ],
          "name": "stdout"
        }
      ]
    }
  ]
}