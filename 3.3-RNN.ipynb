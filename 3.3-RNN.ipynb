{
  "nbformat": 4,
  "nbformat_minor": 0,
  "metadata": {
    "kernelspec": {
      "display_name": "Python 3",
      "language": "python",
      "name": "python3"
    },
    "language_info": {
      "codemirror_mode": {
        "name": "ipython",
        "version": 3
      },
      "file_extension": ".py",
      "mimetype": "text/x-python",
      "name": "python",
      "nbconvert_exporter": "python",
      "pygments_lexer": "ipython3",
      "version": "3.6.2"
    },
    "colab": {
      "name": "Copy of 3.3-RNN.ipynb",
      "provenance": [],
      "collapsed_sections": []
    }
  },
  "cells": [
    {
      "cell_type": "markdown",
      "metadata": {
        "id": "yy2epv0pMOcm"
      },
      "source": [
        "# RNN\n",
        "In this section, we will introduce how to use recurrent neural networks for text classification.\n",
        "The dataset we use is the IMDB Movie Reviews.\n",
        "We use the reviews written by the users as the input and try to predict whether the they are positive or negative.\n",
        "\n",
        "## Preparing the data\n",
        "\n",
        "You can use the following code to load the IMDB dataset.\n"
      ]
    },
    {
      "cell_type": "code",
      "metadata": {
        "id": "1CjWZk7aMOcq",
        "colab": {
          "base_uri": "https://localhost:8080/"
        },
        "outputId": "5e8f896d-4ca2-4079-93e9-36d07298042b"
      },
      "source": [
        "import tensorflow as tf\n",
        "tf.random.set_seed(42)\n",
        "\n",
        "from tensorflow.keras.datasets import imdb\n",
        "from tensorflow.keras.preprocessing import sequence\n",
        "\n",
        "max_words = 10000\n",
        "embedding_dim = 32\n",
        "\n",
        "(train_data, train_labels), (test_data, test_labels) = imdb.load_data(\n",
        "    num_words=max_words)\n",
        "print(train_data.shape)\n",
        "print(train_labels.shape)\n",
        "print(train_data[:2])\n",
        "print(train_labels[:2])"
      ],
      "execution_count": 1,
      "outputs": [
        {
          "output_type": "stream",
          "name": "stdout",
          "text": [
            "(25000,)\n",
            "(25000,)\n",
            "[list([1, 14, 22, 16, 43, 530, 973, 1622, 1385, 65, 458, 4468, 66, 3941, 4, 173, 36, 256, 5, 25, 100, 43, 838, 112, 50, 670, 2, 9, 35, 480, 284, 5, 150, 4, 172, 112, 167, 2, 336, 385, 39, 4, 172, 4536, 1111, 17, 546, 38, 13, 447, 4, 192, 50, 16, 6, 147, 2025, 19, 14, 22, 4, 1920, 4613, 469, 4, 22, 71, 87, 12, 16, 43, 530, 38, 76, 15, 13, 1247, 4, 22, 17, 515, 17, 12, 16, 626, 18, 2, 5, 62, 386, 12, 8, 316, 8, 106, 5, 4, 2223, 5244, 16, 480, 66, 3785, 33, 4, 130, 12, 16, 38, 619, 5, 25, 124, 51, 36, 135, 48, 25, 1415, 33, 6, 22, 12, 215, 28, 77, 52, 5, 14, 407, 16, 82, 2, 8, 4, 107, 117, 5952, 15, 256, 4, 2, 7, 3766, 5, 723, 36, 71, 43, 530, 476, 26, 400, 317, 46, 7, 4, 2, 1029, 13, 104, 88, 4, 381, 15, 297, 98, 32, 2071, 56, 26, 141, 6, 194, 7486, 18, 4, 226, 22, 21, 134, 476, 26, 480, 5, 144, 30, 5535, 18, 51, 36, 28, 224, 92, 25, 104, 4, 226, 65, 16, 38, 1334, 88, 12, 16, 283, 5, 16, 4472, 113, 103, 32, 15, 16, 5345, 19, 178, 32])\n",
            " list([1, 194, 1153, 194, 8255, 78, 228, 5, 6, 1463, 4369, 5012, 134, 26, 4, 715, 8, 118, 1634, 14, 394, 20, 13, 119, 954, 189, 102, 5, 207, 110, 3103, 21, 14, 69, 188, 8, 30, 23, 7, 4, 249, 126, 93, 4, 114, 9, 2300, 1523, 5, 647, 4, 116, 9, 35, 8163, 4, 229, 9, 340, 1322, 4, 118, 9, 4, 130, 4901, 19, 4, 1002, 5, 89, 29, 952, 46, 37, 4, 455, 9, 45, 43, 38, 1543, 1905, 398, 4, 1649, 26, 6853, 5, 163, 11, 3215, 2, 4, 1153, 9, 194, 775, 7, 8255, 2, 349, 2637, 148, 605, 2, 8003, 15, 123, 125, 68, 2, 6853, 15, 349, 165, 4362, 98, 5, 4, 228, 9, 43, 2, 1157, 15, 299, 120, 5, 120, 174, 11, 220, 175, 136, 50, 9, 4373, 228, 8255, 5, 2, 656, 245, 2350, 5, 4, 9837, 131, 152, 491, 18, 2, 32, 7464, 1212, 14, 9, 6, 371, 78, 22, 625, 64, 1382, 9, 8, 168, 145, 23, 4, 1690, 15, 16, 4, 1355, 5, 28, 6, 52, 154, 462, 33, 89, 78, 285, 16, 145, 95])]\n",
            "[1 0]\n"
          ]
        }
      ]
    },
    {
      "cell_type": "markdown",
      "metadata": {
        "id": "OdZ1uOQ5MOcs"
      },
      "source": [
        "The code above would load the reviews into train_data and test_data, load the labels (positive or negative) into train_labels and test_labels. As you can see the reviews in train_data are lists of integers instead of texts. It is because the raw texts cannot be used as an input to a neural network. Neural networks only accepts numerical data as inputs.\n",
        "\n",
        "The integers we see above is the raw text data after a preprocessing step named tokenization. It first split each review into a list of words and assign an integer to each of the words. For example, a scentence \"How are you? How are you doing?\" will be transformed into a list of words as [\"how\", \"are\", \"you\", \"how\", \"are\", \"you\", \"doing\"]. Then transformed to [5, 8, 9, 5, 8, 9, 7]. The integers doesn't have special meanings but a representation of the words. Same integers represents the same words, different integers represents different words.\n",
        "\n",
        "The labels are also integers, where 1 represents positive, 0 represents negative.\n",
        "\n",
        "Then, we pad the data to the same length."
      ]
    },
    {
      "cell_type": "code",
      "metadata": {
        "id": "LJwOU8WSMOct",
        "colab": {
          "base_uri": "https://localhost:8080/"
        },
        "outputId": "8349415a-4ede-422c-905b-7a7429c5f056"
      },
      "source": [
        "# Pad the sequence to length max_len.\n",
        "maxlen = 100\n",
        "print(len(train_data[0]))\n",
        "print(len(train_data[1]))\n",
        "train_data = sequence.pad_sequences(train_data, maxlen=maxlen)\n",
        "test_data = sequence.pad_sequences(test_data, maxlen=maxlen)\n",
        "print(train_data.shape)\n",
        "print(train_labels.shape)"
      ],
      "execution_count": 2,
      "outputs": [
        {
          "output_type": "stream",
          "name": "stdout",
          "text": [
            "218\n",
            "189\n",
            "(25000, 100)\n",
            "(25000,)\n"
          ]
        }
      ]
    },
    {
      "cell_type": "markdown",
      "metadata": {
        "id": "NCXD4_TMMOct"
      },
      "source": [
        "## Building your network\n",
        "The next step is to build your neural network model and train it.\n",
        "We will introduce the neural network in three steps.\n",
        "The first step is the embedding, which transform each integer list into a list of vectors.\n",
        "The second step is to feed the vectors to the recurrent neural network.\n",
        "The third step is to use the output of the recurrent neural network for classification.\n",
        "### Embedding\n",
        "Embedding means find a corresponding numerical vector for each word, which is now an integer in the list.\n",
        "The numerical vector can be seen as the coordinate of a point in the space.\n",
        "We embed the words into specific points in the space.\n",
        "That is why we call the process embedding.\n",
        "\n",
        "To implement it, we use a Keras Embedding layer.\n",
        "First, we need to create a Keras Sequential model.\n",
        "Then, we add the layers one by one to the model.\n",
        "The order of the layers is from the input to the output."
      ]
    },
    {
      "cell_type": "code",
      "metadata": {
        "id": "3s4g59NCMOcu",
        "colab": {
          "base_uri": "https://localhost:8080/"
        },
        "outputId": "92f9515a-6806-4b88-b636-fbef614906c8"
      },
      "source": [
        "from tensorflow.keras.layers import Embedding\n",
        "from tensorflow.keras import Sequential\n",
        "\n",
        "max_words = 10000\n",
        "embedding_dim = 32\n",
        "\n",
        "model = Sequential()\n",
        "model.add(Embedding(max_words, embedding_dim))\n",
        "model.summary()"
      ],
      "execution_count": 3,
      "outputs": [
        {
          "output_type": "stream",
          "name": "stdout",
          "text": [
            "Model: \"sequential\"\n",
            "_________________________________________________________________\n",
            "Layer (type)                 Output Shape              Param #   \n",
            "=================================================================\n",
            "embedding (Embedding)        (None, None, 32)          320000    \n",
            "=================================================================\n",
            "Total params: 320,000\n",
            "Trainable params: 320,000\n",
            "Non-trainable params: 0\n",
            "_________________________________________________________________\n"
          ]
        }
      ]
    },
    {
      "cell_type": "markdown",
      "metadata": {
        "id": "693AaE3lMOcv"
      },
      "source": [
        "In the code above, we initialized an Embedding layer.\n",
        "The max_words is the vocabulary size, which is an integer meaning how many different words are there in the input data.\n",
        "The integer 16 means the length of the vector representation fro each word is 32.\n",
        "The output tensor of the Embedding layer is (batch_size, max_len, embedding_dim).\n",
        "### Recurrent Neural Networks\n",
        "After the embedding layer, we need to use a recurrent neural network for the classification.\n",
        "Recurrent neural networks can handle sequential inputs.\n",
        "For example, we input a movie review as a sequence of word embedding vectors to it, which are the output of the embedding layer.\n",
        "Each vector has a length of 32.\n",
        "Each review contains 100 vectors.\n",
        "If we see the RNN as a whole, it takes 100 vectors of length 16 altogether.\n",
        "However, in the real case, it takes one vector at a time.\n",
        "\n",
        "Each time the RNN takes in a word embedding vector,\n",
        "it not only takes the word embedding vector, but another state vector as well.\n",
        "You can think the state vector as the memory of the RNN.\n",
        "It memorizes the previous words it taken as input.\n",
        "In the first step, the RNN has no previous words to remember.\n",
        "It takes an initial state, which is usually empty,\n",
        "and the first word embedding vector as input.\n",
        "The output of the first step is actually the state to be input to the second step.\n",
        "For the rest of the steps, the RNN will just take the previous output and the current input as input,\n",
        "and output the state for the next step.\n",
        "For the last step, the output state is the final output we will use for the classification.\n",
        "\n",
        "We can use the following python code to illustrate the process.\n",
        "```python\n",
        "state = [0] * 32\n",
        "for i in range(100):\n",
        "    state = rnn(embedding[i], state)\n",
        "return state\n",
        "```\n",
        "The returned state is the final output of the RNN.\n",
        "\n",
        "Sometimes, we may also need to collect the output of each step as shown in the following code.\n",
        "```python\n",
        "state = [0] * 32\n",
        "output = []\n",
        "for i in range(100):\n",
        "    state = rnn(embedding[i], state)\n",
        "    output.append(state)\n",
        "return output\n",
        "```\n",
        "In the code above, the output of an RNN can also be a sequence of vectors, which is the same format as the input to the RNN.\n",
        "Therefore, we can make the RNN deeper by stacking multiple RNN layers together.\n",
        "\n",
        "\n",
        "To implement the RNN described, we need the SimpleRNN layer in Keras."
      ]
    },
    {
      "cell_type": "code",
      "metadata": {
        "id": "l30AjnHZMOcw",
        "colab": {
          "base_uri": "https://localhost:8080/"
        },
        "outputId": "d5e743b3-8ba1-40ed-9c62-bb8869ec0ce5"
      },
      "source": [
        "from tensorflow.keras.layers import SimpleRNN\n",
        "\n",
        "model.add(SimpleRNN(embedding_dim, return_sequences=True))\n",
        "model.add(SimpleRNN(embedding_dim, return_sequences=True))\n",
        "model.add(SimpleRNN(embedding_dim, return_sequences=True))\n",
        "model.add(SimpleRNN(embedding_dim))\n",
        "model.summary()"
      ],
      "execution_count": 4,
      "outputs": [
        {
          "output_type": "stream",
          "name": "stdout",
          "text": [
            "Model: \"sequential\"\n",
            "_________________________________________________________________\n",
            "Layer (type)                 Output Shape              Param #   \n",
            "=================================================================\n",
            "embedding (Embedding)        (None, None, 32)          320000    \n",
            "_________________________________________________________________\n",
            "simple_rnn (SimpleRNN)       (None, None, 32)          2080      \n",
            "_________________________________________________________________\n",
            "simple_rnn_1 (SimpleRNN)     (None, None, 32)          2080      \n",
            "_________________________________________________________________\n",
            "simple_rnn_2 (SimpleRNN)     (None, None, 32)          2080      \n",
            "_________________________________________________________________\n",
            "simple_rnn_3 (SimpleRNN)     (None, 32)                2080      \n",
            "=================================================================\n",
            "Total params: 328,320\n",
            "Trainable params: 328,320\n",
            "Non-trainable params: 0\n",
            "_________________________________________________________________\n"
          ]
        }
      ]
    },
    {
      "cell_type": "markdown",
      "metadata": {
        "id": "Zfh9aL6AMOcx"
      },
      "source": [
        "The return_sequences parameter controlls whether to collect all the output vectors of an RNN or only collect the last output. It is set to False by default.\n",
        "### Classification Head\n",
        "Then we will use the output of the last SimpleRNN layer, which is a vector of length 32, as the input to the classification head.\n",
        "In the classification head, we use a fully-connected layer for the classification.\n",
        "Then we compile and train the model.\n"
      ]
    },
    {
      "cell_type": "code",
      "metadata": {
        "id": "bNwtQ6-IMOcx",
        "colab": {
          "base_uri": "https://localhost:8080/"
        },
        "outputId": "b30b32a7-b505-4bec-e5a1-04471a7deded"
      },
      "source": [
        "from tensorflow.keras.layers import Dense\n",
        "\n",
        "model.add(Dense(1, activation='sigmoid'))\n",
        "model.compile(optimizer='adam', metrics=['acc'], loss='binary_crossentropy')\n",
        "model.fit(train_data, \n",
        "          train_labels,\n",
        "          epochs=2,\n",
        "          batch_size=128)"
      ],
      "execution_count": 5,
      "outputs": [
        {
          "output_type": "stream",
          "name": "stdout",
          "text": [
            "Epoch 1/2\n",
            "196/196 [==============================] - 30s 119ms/step - loss: 0.6258 - acc: 0.6111\n",
            "Epoch 2/2\n",
            "196/196 [==============================] - 23s 117ms/step - loss: 0.3361 - acc: 0.8573\n"
          ]
        },
        {
          "output_type": "execute_result",
          "data": {
            "text/plain": [
              "<keras.callbacks.History at 0x7f295dbb2290>"
            ]
          },
          "metadata": {},
          "execution_count": 5
        }
      ]
    },
    {
      "cell_type": "markdown",
      "metadata": {
        "id": "Pa4uz2F7MOcy"
      },
      "source": [
        "Then we can validate our model on the testing data."
      ]
    },
    {
      "cell_type": "code",
      "metadata": {
        "id": "IsxFSzYXMOcy",
        "colab": {
          "base_uri": "https://localhost:8080/"
        },
        "outputId": "6dedcc2e-4dbd-49e3-f7b2-cf9d42278863"
      },
      "source": [
        "model.evaluate(test_data, test_labels)"
      ],
      "execution_count": 6,
      "outputs": [
        {
          "output_type": "stream",
          "name": "stdout",
          "text": [
            "782/782 [==============================] - 28s 35ms/step - loss: 0.3684 - acc: 0.8402\n"
          ]
        },
        {
          "output_type": "execute_result",
          "data": {
            "text/plain": [
              "[0.36835795640945435, 0.8402000069618225]"
            ]
          },
          "metadata": {},
          "execution_count": 6
        }
      ]
    }
  ]
}