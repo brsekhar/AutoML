{
  "nbformat": 4,
  "nbformat_minor": 0,
  "metadata": {
    "colab": {
      "name": "deep_tuner.ipynb",
      "provenance": [],
      "collapsed_sections": []
    },
    "kernelspec": {
      "name": "python3",
      "display_name": "Python 3"
    }
  },
  "cells": [
    {
      "cell_type": "code",
      "metadata": {
        "colab": {
          "base_uri": "https://localhost:8080/"
        },
        "id": "NCv-NB5A7t97",
        "outputId": "43d72992-8c04-4d55-f30b-48af964dfecf"
      },
      "source": [
        "!pip install keras-tuner -q"
      ],
      "execution_count": 1,
      "outputs": [
        {
          "output_type": "stream",
          "text": [
            "\u001b[?25l\r\u001b[K     |█████▏                          | 10kB 16.9MB/s eta 0:00:01\r\u001b[K     |██████████▍                     | 20kB 5.6MB/s eta 0:00:01\r\u001b[K     |███████████████▋                | 30kB 7.4MB/s eta 0:00:01\r\u001b[K     |████████████████████▉           | 40kB 6.3MB/s eta 0:00:01\r\u001b[K     |██████████████████████████      | 51kB 4.5MB/s eta 0:00:01\r\u001b[K     |███████████████████████████████▎| 61kB 5.2MB/s eta 0:00:01\r\u001b[K     |████████████████████████████████| 71kB 3.4MB/s \n",
            "\u001b[?25h  Building wheel for keras-tuner (setup.py) ... \u001b[?25l\u001b[?25hdone\n",
            "  Building wheel for terminaltables (setup.py) ... \u001b[?25l\u001b[?25hdone\n"
          ],
          "name": "stdout"
        }
      ]
    },
    {
      "cell_type": "code",
      "metadata": {
        "id": "yNBm5ZIVAmVF"
      },
      "source": [
        "import copy\n",
        "import os\n",
        "\n",
        "import tensorflow as tf\n",
        "\n",
        "from kerastuner.engine import base_tuner\n",
        "\n",
        "class DeepTuner(base_tuner.BaseTuner):\n",
        "\n",
        "    def run_trial(self, trial, x, y, validation_data, **fit_kwargs):\n",
        "        model = self.hypermodel.build(trial.hyperparameters)\n",
        "        model.fit(x, y, validation_data=validation_data,\n",
        "                  batch_size=trial.hyperparameters.Choice(\"batch_size\", [16, 32]),\n",
        "                  **fit_kwargs)\n",
        "\n",
        "        x_val, y_val = validation_data  # get the validation data\n",
        "        self.oracle.update_trial(trial.trial_id,\n",
        "                                 {name: value for name, value in zip(\n",
        "                                     model.metrics_names, \n",
        "                                     model.evaluate(x_val, y_val))})  # inform the oracle of the eval result, the result is a dictionary with the metric names as the keys.\n",
        "        self.save_model(trial.trial_id, model) # save the model to disk\n",
        "\n",
        "    def save_model(self, trial_id, model):\n",
        "        fname = os.path.join(self.get_trial_dir(trial_id), 'model')\n",
        "        model.save(fname)\n",
        "\n",
        "    def load_model(self, trial):\n",
        "        fname = os.path.join(self.get_trial_dir(trial.trial_id), 'model')\n",
        "        model = tf.keras.models.load_model(fname)\n",
        "        return model\n",
        "\n"
      ],
      "execution_count": 2,
      "outputs": []
    },
    {
      "cell_type": "code",
      "metadata": {
        "id": "AOxBj6biAGHl",
        "colab": {
          "base_uri": "https://localhost:8080/"
        },
        "outputId": "9391b6b2-e280-4749-abd6-adcfad103685"
      },
      "source": [
        "from sklearn.datasets import load_digits\n",
        "\n",
        "# Load the hand-written digits dataset\n",
        "digits = load_digits()\n",
        "\n",
        "# Get the images and corresponding labels\n",
        "images, labels = digits.images, digits.target\n",
        "images.shape, labels.shape\n",
        "\n",
        "# reshape images to vectors\n",
        "n_samples = len(digits.images)\n",
        "X = digits.images.reshape((n_samples, -1))\n",
        "\n",
        "# Split data into train and test subsets\n",
        "from sklearn.model_selection import train_test_split\n",
        "x_train, x_test, y_train, y_test = train_test_split(\n",
        "    X, labels, test_size=0.2, shuffle=False)\n",
        "x_train, x_val, y_train, y_val = train_test_split(\n",
        "    x_train, y_train, test_size=0.2, shuffle=False)\n",
        "print(x_train.shape)\n",
        "print(y_train.shape)\n",
        "print(x_test.shape)\n",
        "print(y_train[:10])"
      ],
      "execution_count": 10,
      "outputs": [
        {
          "output_type": "stream",
          "text": [
            "(1149, 64)\n",
            "(1149,)\n",
            "(360, 64)\n",
            "[0 1 2 3 4 5 6 7 8 9]\n"
          ],
          "name": "stdout"
        }
      ]
    },
    {
      "cell_type": "code",
      "metadata": {
        "colab": {
          "base_uri": "https://localhost:8080/"
        },
        "id": "EZNVjmEyDkyS",
        "outputId": "896e2e7f-3fed-4026-8567-24743435f894"
      },
      "source": [
        "import kerastuner as kt\n",
        "\n",
        "def build_model(hp):\n",
        "    model = tf.keras.Sequential()\n",
        "    model.add(tf.keras.Input(shape=(64,)))\n",
        "    for i in range(hp.Int('num_layers', min_value=1, max_value=4)):\n",
        "        model.add(tf.keras.layers.Dense(hp.Int(\n",
        "            'units_{i}'.format(i=i), min_value=32, max_value=128, step=32), activation='relu'))\n",
        "    model.add(tf.keras.layers.Dense(10, activation='softmax'))\n",
        "    model.compile(loss='sparse_categorical_crossentropy', metrics=['accuracy'])\n",
        "    return model\n",
        "\n",
        "random_tuner = DeepTuner(\n",
        "        oracle=kt.oracles.RandomSearch(\n",
        "            objective=kt.Objective('accuracy', 'max'),\n",
        "            max_trials=10,\n",
        "            seed=42),\n",
        "        hypermodel=build_model,\n",
        "        overwrite=True,\n",
        "        project_name='random_tuner')\n",
        "\n",
        "random_tuner.search(x_train, y_train, validation_data=(x_test, y_test), epochs=10)\n",
        "random_tuner.search_space_summary()"
      ],
      "execution_count": 11,
      "outputs": [
        {
          "output_type": "stream",
          "text": [
            "Trial 10 Complete [00h 00m 02s]\n",
            "accuracy: 0.8805555701255798\n",
            "\n",
            "Best accuracy So Far: 0.9083333611488342\n",
            "Total elapsed time: 00h 00m 28s\n",
            "INFO:tensorflow:Oracle triggered exit\n",
            "Search space summary\n",
            "Default search space size: 6\n",
            "num_layers (Int)\n",
            "{'default': None, 'conditions': [], 'min_value': 1, 'max_value': 4, 'step': 1, 'sampling': None}\n",
            "units_0 (Int)\n",
            "{'default': None, 'conditions': [], 'min_value': 32, 'max_value': 128, 'step': 32, 'sampling': None}\n",
            "units_1 (Int)\n",
            "{'default': None, 'conditions': [], 'min_value': 32, 'max_value': 128, 'step': 32, 'sampling': None}\n",
            "units_2 (Int)\n",
            "{'default': None, 'conditions': [], 'min_value': 32, 'max_value': 128, 'step': 32, 'sampling': None}\n",
            "batch_size (Choice)\n",
            "{'default': 16, 'conditions': [], 'values': [16, 32], 'ordered': True}\n",
            "units_3 (Int)\n",
            "{'default': None, 'conditions': [], 'min_value': 32, 'max_value': 128, 'step': 32, 'sampling': None}\n"
          ],
          "name": "stdout"
        }
      ]
    },
    {
      "cell_type": "code",
      "metadata": {
        "colab": {
          "base_uri": "https://localhost:8080/"
        },
        "id": "j3R4udwvFbrM",
        "outputId": "9fd0c28c-b90f-4c70-d3cf-838793703859"
      },
      "source": [
        "best_model = random_tuner.get_best_models(1)[0]\n",
        "y_pred_test = best_model.evaluate(x_test, y_test)\n",
        "print(y_pred_test)"
      ],
      "execution_count": 12,
      "outputs": [
        {
          "output_type": "stream",
          "text": [
            "12/12 [==============================] - 0s 2ms/step - loss: 0.4298 - accuracy: 0.9083\n",
            "[0.4297814965248108, 0.9083333611488342]\n"
          ],
          "name": "stdout"
        }
      ]
    }
  ]
}