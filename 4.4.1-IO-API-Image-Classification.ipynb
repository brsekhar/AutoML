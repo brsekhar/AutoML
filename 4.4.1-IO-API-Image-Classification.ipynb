{
  "nbformat": 4,
  "nbformat_minor": 0,
  "metadata": {
    "colab": {
      "name": "Copy of ImageClassifier.ipynb",
      "provenance": [],
      "collapsed_sections": []
    },
    "kernelspec": {
      "display_name": "Python 3",
      "language": "python",
      "name": "python3"
    },
    "language_info": {
      "codemirror_mode": {
        "name": "ipython",
        "version": 3
      },
      "file_extension": ".py",
      "mimetype": "text/x-python",
      "name": "python",
      "nbconvert_exporter": "python",
      "pygments_lexer": "ipython3",
      "version": "3.6.2"
    }
  },
  "cells": [
    {
      "cell_type": "code",
      "metadata": {
        "id": "5aX1dRHHVUUs"
      },
      "source": [
        "!pip install -r https://raw.githubusercontent.com/datamllab/automl-in-action-notebooks/master/requirements.txt"
      ],
      "execution_count": null,
      "outputs": []
    },
    {
      "cell_type": "markdown",
      "metadata": {
        "id": "0D7scqBWkg5t"
      },
      "source": [
        "### Load MNIST dataset"
      ]
    },
    {
      "cell_type": "code",
      "metadata": {
        "id": "YACSvJ81h_Ry"
      },
      "source": [
        "from tensorflow.keras.datasets import mnist\n",
        "(x_train, y_train), (x_test, y_test) = mnist.load_data()\n",
        "print('Training image shape:', x_train.shape) # (60000, 28, 28)\n",
        "print('Training label shape:', y_train.shape) # (60000,)\n",
        "print('First five training labels:', y_train[:5]) # array([5 0 4 1 9], dtype=uint8)"
      ],
      "execution_count": null,
      "outputs": []
    },
    {
      "cell_type": "markdown",
      "metadata": {
        "id": "N5xlStkakqJn"
      },
      "source": [
        "### IO API for image classification"
      ]
    },
    {
      "cell_type": "code",
      "metadata": {
        "id": "QfnaDrkPiTTg"
      },
      "source": [
        "import autokeras as ak\n",
        "\n",
        "# Initialize the IO API.\n",
        "io_model = ak.AutoModel(\n",
        "    inputs = ak.ImageInput(),\n",
        "    outputs = ak.ClassificationHead(loss='categorical_crossentropy', metrics=['accuracy']),\n",
        "    objective = 'val_loss',\n",
        "    tuner = 'random',\n",
        "    max_trials=3,\n",
        "    overwrite=True)\n",
        "\n",
        "# Fit the model with prepared data.\n",
        "# Use the first 100 training samples for 1 epoch as a quick demo.\n",
        "# You may run with the full dataset with 10 epochs, but expect a longer training time.\n",
        "io_model.fit(x_train[:100], y_train[:100], epochs=1)"
      ],
      "execution_count": null,
      "outputs": []
    },
    {
      "cell_type": "markdown",
      "metadata": {
        "id": "13KowX51cihR"
      },
      "source": [
        "### Get the summarized results during the tuning process (return the best 10 models if existed)"
      ]
    },
    {
      "cell_type": "code",
      "metadata": {
        "id": "PdNePczNcihS"
      },
      "source": [
        "io_model.tuner.results_summary()"
      ],
      "execution_count": null,
      "outputs": []
    },
    {
      "cell_type": "markdown",
      "metadata": {
        "id": "ad_-1beDcihS"
      },
      "source": [
        "### Retrieve best model"
      ]
    },
    {
      "cell_type": "code",
      "metadata": {
        "id": "qI2XuA47cihT"
      },
      "source": [
        "best_model = io_model.export_model()\n",
        "best_model.summary()"
      ],
      "execution_count": null,
      "outputs": []
    },
    {
      "cell_type": "markdown",
      "metadata": {
        "id": "JkWC31DfcihT"
      },
      "source": [
        "\n",
        "### Predict with the best model."
      ]
    },
    {
      "cell_type": "code",
      "metadata": {
        "id": "jPSNnpP6TDAP"
      },
      "source": [
        "predicted_y = io_model.predict(x_test[:100])\n",
        "print(predicted_y)"
      ],
      "execution_count": null,
      "outputs": []
    },
    {
      "cell_type": "markdown",
      "metadata": {
        "id": "B3urZwpNcihU"
      },
      "source": [
        "### Evaluate the best model on the test data."
      ]
    },
    {
      "cell_type": "code",
      "metadata": {
        "id": "ENEc_5kaTJzn"
      },
      "source": [
        "test_loss, test_acc = io_model.evaluate(x_test[:100], y_test[:100])\n",
        "print('Test accuracy: ', test_acc)"
      ],
      "execution_count": null,
      "outputs": []
    }
  ]
}
