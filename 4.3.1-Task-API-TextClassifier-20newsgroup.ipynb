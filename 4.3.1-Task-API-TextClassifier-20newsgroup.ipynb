{
  "nbformat": 4,
  "nbformat_minor": 0,
  "metadata": {
    "colab": {
      "name": "Copy of ImageClassifier.ipynb",
      "provenance": [],
      "collapsed_sections": []
    },
    "kernelspec": {
      "display_name": "Python 3",
      "language": "python",
      "name": "python3"
    },
    "language_info": {
      "codemirror_mode": {
        "name": "ipython",
        "version": 3
      },
      "file_extension": ".py",
      "mimetype": "text/x-python",
      "name": "python",
      "nbconvert_exporter": "python",
      "pygments_lexer": "ipython3",
      "version": "3.6.2"
    },
    "accelerator": "GPU"
  },
  "cells": [
    {
      "cell_type": "code",
      "metadata": {
        "id": "Cs9uWI7MU4oM"
      },
      "source": [
        "!pip install autokeras"
      ],
      "execution_count": null,
      "outputs": []
    },
    {
      "cell_type": "code",
      "metadata": {
        "id": "X5YUQCGB4X0m"
      },
      "source": [
        "import tensorflow as tf\n",
        "import autokeras as ak"
      ],
      "execution_count": null,
      "outputs": []
    },
    {
      "cell_type": "code",
      "metadata": {
        "colab": {
          "base_uri": "https://localhost:8080/"
        },
        "id": "j42io8GN4X0o",
        "outputId": "823f3e48-7949-49f8-a45d-adbb973da2d9"
      },
      "source": [
        "gpus = tf.config.experimental.list_physical_devices('GPU')\n",
        "print(gpus)"
      ],
      "execution_count": null,
      "outputs": [
        {
          "output_type": "stream",
          "text": [
            "[]\n"
          ],
          "name": "stdout"
        }
      ]
    },
    {
      "cell_type": "markdown",
      "metadata": {
        "id": "0D7scqBWkg5t"
      },
      "source": [
        "### Load 20newsgroup dataset"
      ]
    },
    {
      "cell_type": "code",
      "metadata": {
        "id": "YACSvJ81h_Ry"
      },
      "source": [
        "import numpy as np\n",
        "from sklearn.datasets import fetch_20newsgroups\n",
        "\n",
        "categories = ['rec.autos', 'rec.motorcycles']\n",
        "\n",
        "news_train = fetch_20newsgroups(subset='train', shuffle=True, random_state=42, categories=categories)\n",
        "news_test = fetch_20newsgroups(subset='test', shuffle=True, random_state=42, categories=categories)\n",
        "\n",
        "doc_train, label_train = np.array(news_train.data), np.array(news_train.target)\n",
        "doc_test, label_test =  np.array(news_test.data), np.array(news_test.target)"
      ],
      "execution_count": null,
      "outputs": []
    },
    {
      "cell_type": "code",
      "metadata": {
        "colab": {
          "base_uri": "https://localhost:8080/"
        },
        "id": "sU85XjgB4X0p",
        "outputId": "969b2ed0-d28f-4e11-c395-8081c87aae53"
      },
      "source": [
        "print(\"Unique labels {}. \\nNumber of unique labels: {}.\\n\\n\"\n",
        "      .format(np.unique(label_train), len(np.unique(label_train))))\n",
        "\n",
        "print(\"The number of documents for training: {}.\".format(len(doc_train)))\n",
        "print(\"The number of documents for testing: {}.\".format(len(doc_test)))\n",
        "\n",
        "type(doc_train[0]), doc_train[0]"
      ],
      "execution_count": null,
      "outputs": [
        {
          "output_type": "stream",
          "text": [
            "Unique labels [0 1]. \n",
            "Number of unique labels: 2.\n",
            "\n",
            "\n",
            "The number of documents for training: 1192.\n",
            "The number of documents for testing: 794.\n"
          ],
          "name": "stdout"
        },
        {
          "output_type": "execute_result",
          "data": {
            "text/plain": [
              "(numpy.str_,\n",
              " 'From: gregl@zimmer.CSUFresno.EDU (Greg Lewis)\\nSubject: Re: WARNING.....(please read)...\\nKeywords: BRICK, TRUCK, DANGER\\nNntp-Posting-Host: zimmer.csufresno.edu\\nOrganization: CSU Fresno\\nLines: 33\\n\\nIn article <1qh336INNfl5@CS.UTK.EDU> larose@austin.cs.utk.edu (Brian LaRose) writes:\\n>This just a warning to EVERYBODY on the net.  Watch out for\\n>folks standing NEXT to the road or on overpasses.   They can\\n>cause SERIOUS HARM to you and your car.  \\n>\\n>(just a cliff-notes version of my story follows)\\n>\\n>10pm last night, I was travelling on the interstate here in\\n>knoxville,  I was taking an offramp exit to another interstate\\n>and my wife suddenly screamed and something LARGE hit the side\\n>of my truck.  We slowed down, but after looking back to see the\\n>vandals standing there, we drove on to the police station.\\n>\\n>She did get a good look at the guy and saw him \"cock his arm\" with\\n>something the size of a cinderblock, BUT I never saw him. We are \\n>VERY lucky the truck sits up high on the road; if it would have hit\\n>her window, it would have killed her. \\n>\\n>The police are looking for the guy, but in all likelyhood he is gone. \\nStuff deleted...\\n\\nI am sorry to report that in Southern California it was a sick sport\\nfor a while to drop concrete blocks from the overpasses onto the\\nfreeway.  Several persons were killed when said blocks came through\\ntheir windshields.  Many overpass bridges are now fenced, and they\\nhave made it illegal to loiter on such bridges (as if that would stop\\nsuch people).  Yet many bridges are NOT fenced.  I always look up at a\\nbridge while I still have time to take evasive action even though this\\n*sport* has not reached us here in Fresno.\\n___________________________________________________________________\\nGreg_Lewis@csufresno.edu\\nPhotojournalism sequence, Department of Journalism\\nCSU Fresno, Fresno, CA 93740\\n')"
            ]
          },
          "metadata": {},
          "execution_count": 9
        }
      ]
    },
    {
      "cell_type": "markdown",
      "metadata": {
        "id": "N5xlStkakqJn"
      },
      "source": [
        "### Run the TextClassifier"
      ]
    },
    {
      "cell_type": "code",
      "metadata": {
        "colab": {
          "base_uri": "https://localhost:8080/"
        },
        "id": "58Gob8Hi4X0q",
        "outputId": "3c376fb2-8a6b-4880-ad35-a090f03c1ef6"
      },
      "source": [
        "# Initialize the text classifier.\n",
        "clf = ak.TextClassifier(max_trials=2, overwrite=True) # It tries 3 different models. overwrite the preious history\n",
        "\n",
        "# Feed the text classifier with training data.\n",
        "clf.fit(doc_train, label_train, verbose=2)"
      ],
      "execution_count": null,
      "outputs": [
        {
          "output_type": "stream",
          "text": [
            "Trial 2 Complete [00h 01m 03s]\n",
            "val_loss: 0.025606172159314156\n",
            "\n",
            "Best val_loss So Far: 0.025606172159314156\n",
            "Total elapsed time: 00h 03m 31s\n",
            "INFO:tensorflow:Oracle triggered exit\n",
            "Epoch 1/13\n",
            "38/38 [==============================] - 4s 75ms/step - loss: 0.6947 - accuracy: 0.5210\n",
            "Epoch 2/13\n",
            "38/38 [==============================] - 3s 78ms/step - loss: 0.5887 - accuracy: 0.7215\n",
            "Epoch 3/13\n",
            "38/38 [==============================] - 3s 76ms/step - loss: 0.2486 - accuracy: 0.9346\n",
            "Epoch 4/13\n",
            "38/38 [==============================] - 3s 77ms/step - loss: 0.0676 - accuracy: 0.9924\n",
            "Epoch 5/13\n",
            "38/38 [==============================] - 3s 76ms/step - loss: 0.0671 - accuracy: 0.9883\n",
            "Epoch 6/13\n",
            "38/38 [==============================] - 3s 75ms/step - loss: 0.0551 - accuracy: 0.9891\n",
            "Epoch 7/13\n",
            "38/38 [==============================] - 3s 76ms/step - loss: 0.0747 - accuracy: 0.9849\n",
            "Epoch 8/13\n",
            "38/38 [==============================] - 3s 75ms/step - loss: 0.0260 - accuracy: 0.9983\n",
            "Epoch 9/13\n",
            "38/38 [==============================] - 3s 82ms/step - loss: 0.0222 - accuracy: 0.9975\n",
            "Epoch 10/13\n",
            "38/38 [==============================] - 3s 79ms/step - loss: 0.0222 - accuracy: 0.9983\n",
            "Epoch 11/13\n",
            "38/38 [==============================] - 3s 79ms/step - loss: 0.0147 - accuracy: 1.0000\n",
            "Epoch 12/13\n",
            "38/38 [==============================] - 3s 77ms/step - loss: 0.0181 - accuracy: 0.9992\n",
            "Epoch 13/13\n",
            "38/38 [==============================] - 3s 80ms/step - loss: 0.0210 - accuracy: 0.9941\n",
            "INFO:tensorflow:Assets written to: ./text_classifier/best_model/assets\n"
          ],
          "name": "stdout"
        },
        {
          "output_type": "stream",
          "text": [
            "/usr/local/lib/python3.7/dist-packages/tensorflow/python/keras/utils/generic_utils.py:497: CustomMaskWarning: Custom mask layers require a config and must override get_config. When loading, the custom mask layer must be passed to the custom_objects argument.\n",
            "  category=CustomMaskWarning)\n"
          ],
          "name": "stderr"
        },
        {
          "output_type": "execute_result",
          "data": {
            "text/plain": [
              "<tensorflow.python.keras.callbacks.History at 0x7f811f2ff610>"
            ]
          },
          "metadata": {},
          "execution_count": 10
        }
      ]
    },
    {
      "cell_type": "code",
      "metadata": {
        "colab": {
          "base_uri": "https://localhost:8080/"
        },
        "id": "ENEc_5kaTJzn",
        "outputId": "b7317d67-aea9-4430-a874-255f65bf0ec9"
      },
      "source": [
        "test_loss, test_acc = clf.evaluate(doc_test, label_test, verbose=0)\n",
        "print('Test accuracy: ', test_acc)"
      ],
      "execution_count": null,
      "outputs": [
        {
          "output_type": "stream",
          "text": [
            "Test accuracy:  0.7934508919715881\n"
          ],
          "name": "stdout"
        }
      ]
    }
  ]
}