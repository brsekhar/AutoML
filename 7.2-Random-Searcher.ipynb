{
  "nbformat": 4,
  "nbformat_minor": 0,
  "metadata": {
    "colab": {
      "name": "7.2-Random-Searcher.ipynb",
      "provenance": [],
      "collapsed_sections": []
    },
    "kernelspec": {
      "name": "python3",
      "display_name": "Python 3"
    },
    "language_info": {
      "name": "python"
    }
  },
  "cells": [
    {
      "cell_type": "code",
      "metadata": {
        "colab": {
          "base_uri": "https://localhost:8080/"
        },
        "id": "BiBzLf9m53zE",
        "outputId": "880a8c87-b4e5-44b0-c476-f3465467051a"
      },
      "source": [
        "!pip install git+https://github.com/keras-team/keras-tuner.git -q\n",
        "!pip install autokeras -q\n",
        "!pip install lightgbm==3.2.0 -q"
      ],
      "execution_count": null,
      "outputs": [
        {
          "output_type": "stream",
          "text": [
            "  Building wheel for keras-tuner (setup.py) ... \u001b[?25l\u001b[?25hdone\n",
            "\u001b[K     |████████████████████████████████| 174kB 6.0MB/s \n",
            "\u001b[K     |████████████████████████████████| 2.0MB 4.4MB/s \n",
            "\u001b[?25h"
          ],
          "name": "stdout"
        }
      ]
    },
    {
      "cell_type": "markdown",
      "metadata": {
        "id": "zSa1GjV0Coyz"
      },
      "source": [
        "### Load dataset"
      ]
    },
    {
      "cell_type": "code",
      "metadata": {
        "id": "uF0uxOZQClJ7",
        "colab": {
          "base_uri": "https://localhost:8080/"
        },
        "outputId": "bc8fe5d6-8735-4243-bb21-654855c44a25"
      },
      "source": [
        "from sklearn.datasets import fetch_california_housing\n",
        "\n",
        "house_dataset = fetch_california_housing()\n",
        "\n",
        "# Import pandas package to format the data\n",
        "import pandas as pd\n",
        "\n",
        "# Extract features with their names into the a dataframe format\n",
        "data = pd.DataFrame(house_dataset.data, columns=house_dataset.feature_names)\n",
        "\n",
        "# Extract target with their names into a pd.Series object with name MEDV\n",
        "target = pd.Series(house_dataset.target, name = 'MEDV')\n",
        "\n",
        "from sklearn.model_selection import train_test_split\n",
        "X_train, X_test, y_train, y_test = train_test_split(data, target, test_size=0.2, random_state=42)\n",
        "X_train, X_val, y_train, y_val = train_test_split(X_train, y_train, test_size=0.2, shuffle=False)"
      ],
      "execution_count": null,
      "outputs": [
        {
          "output_type": "stream",
          "text": [
            "Downloading Cal. housing from https://ndownloader.figshare.com/files/5976036 to /root/scikit_learn_data\n"
          ],
          "name": "stderr"
        }
      ]
    },
    {
      "cell_type": "markdown",
      "metadata": {
        "id": "JIPIRDNvDWnZ"
      },
      "source": [
        "### Use LightGBM GBDT model to do regression without tuning"
      ]
    },
    {
      "cell_type": "code",
      "metadata": {
        "colab": {
          "base_uri": "https://localhost:8080/"
        },
        "id": "9ZWOVq24DWFN",
        "outputId": "3bd04ac4-bbdb-467c-e175-e42eb7da0015"
      },
      "source": [
        "import lightgbm as lgb\n",
        "from sklearn.metrics import mean_squared_error\n",
        "\n",
        "gbdt_model = lgb.LGBMRegressor(\n",
        "                    boosting_type='gbdt',\n",
        "                    num_leaves=31,\n",
        "                    learning_rate=0.05,\n",
        "                    n_estimators=10\n",
        "                    )  # create model\n",
        "\n",
        "validation_data = (X_val, y_val)\n",
        "gbdt_model.fit(X_train, y_train,\n",
        "        eval_set=[validation_data],\n",
        "        eval_metric='mse',\n",
        "        early_stopping_rounds=5) # fit the model\n",
        "\n",
        "# evalaute model\n",
        "y_pred_gbdt = gbdt_model.predict(X_test, num_iteration=gbdt_model.best_iteration_)\n",
        "test_mse_1 = mean_squared_error(y_test, y_pred_gbdt)\n",
        "print(\"The GBDT prediction MSE on test set: {}\".format(test_mse_1))"
      ],
      "execution_count": null,
      "outputs": [
        {
          "output_type": "stream",
          "text": [
            "[1]\tvalid_0's l2: 1.28051\n",
            "Training until validation scores don't improve for 5 rounds\n",
            "[2]\tvalid_0's l2: 1.2009\n",
            "[3]\tvalid_0's l2: 1.1316\n",
            "[4]\tvalid_0's l2: 1.06506\n",
            "[5]\tvalid_0's l2: 1.00734\n",
            "[6]\tvalid_0's l2: 0.952642\n",
            "[7]\tvalid_0's l2: 0.903993\n",
            "[8]\tvalid_0's l2: 0.857114\n",
            "[9]\tvalid_0's l2: 0.815805\n",
            "[10]\tvalid_0's l2: 0.778275\n",
            "Did not meet early stopping. Best iteration is:\n",
            "[10]\tvalid_0's l2: 0.778275\n",
            "The GBDT prediction MSE on test set: 0.7514642734431766\n"
          ],
          "name": "stdout"
        }
      ]
    },
    {
      "cell_type": "markdown",
      "metadata": {
        "id": "QndHh3yDDTUn"
      },
      "source": [
        "### Create the LightGBM model building function (search space)"
      ]
    },
    {
      "cell_type": "code",
      "metadata": {
        "id": "u2Z8zkHhDVYF"
      },
      "source": [
        "def build_model(hp):\n",
        "    model = lgb.LGBMRegressor(\n",
        "                        boosting_type='gbdt',\n",
        "                        # you can also search model type such as: \n",
        "                        # boosting_type=hp.Choice(\"model_type\", ['gbdt', 'goss'], default='gbdt'),\n",
        "                        num_leaves=hp.Int(\"num_leaves\", 5, 50, step=1),\n",
        "                        learning_rate=hp.Float('learning_rate', 1e-3, 1, sampling='log', default=0.01),\n",
        "                        n_estimators=hp.Int('n_estimators', 5, 50, step=1)\n",
        "                        )\n",
        "\n",
        "    return model"
      ],
      "execution_count": null,
      "outputs": []
    },
    {
      "cell_type": "markdown",
      "metadata": {
        "id": "IsrxxRcCCyRZ"
      },
      "source": [
        "### Customize tuner"
      ]
    },
    {
      "cell_type": "code",
      "metadata": {
        "id": "oPvUSJAgCmTV"
      },
      "source": [
        "import os\n",
        "import pickle\n",
        "import tensorflow as tf\n",
        "import kerastuner as kt\n",
        "import lightgbm as lgb\n",
        "from sklearn.metrics import mean_squared_error\n",
        "\n",
        "class LightGBMTuner(kt.engine.base_tuner.BaseTuner):\n",
        "\n",
        "    def run_trial(self, trial, X, y, validation_data):\n",
        "        model = self.hypermodel.build(trial.hyperparameters) # build the model\n",
        "        model.fit(X_train, y_train,\n",
        "                eval_set=[validation_data],\n",
        "                eval_metric='mse',\n",
        "                early_stopping_rounds=5) # fit the model\n",
        "        X_val, y_val = validation_data\n",
        "        y_pred = model.predict(X_val, num_iteration=model.best_iteration_) # evaluate the model\n",
        "        eval_mse = mean_squared_error(y_val, y_pred)\n",
        "        self.oracle.update_trial(trial.trial_id, {'mse': eval_mse})  # inform the oracle of the eval result, the result is a dictionary with the metric names as the keys.\n",
        "        self.save_model(trial.trial_id, model) # save the model to disk\n",
        "\n",
        "    def save_model(self, trial_id, model, step=0):\n",
        "        fname = os.path.join(self.get_trial_dir(trial_id), 'model.txt')\n",
        "        model.booster_.save_model(fname, num_iteration=model.best_iteration_) \n",
        "\n",
        "    def load_model(self, trial):\n",
        "        fname = os.path.join(self.get_trial_dir(trial.trial_id), 'model.txt')\n",
        "        model = lgb.Booster(model_file=fname)\n",
        "        return model"
      ],
      "execution_count": null,
      "outputs": []
    },
    {
      "cell_type": "markdown",
      "metadata": {
        "id": "qFnkrnapC5Hp"
      },
      "source": [
        "### Use build-in random search algorithm to tune models"
      ]
    },
    {
      "cell_type": "code",
      "metadata": {
        "colab": {
          "base_uri": "https://localhost:8080/"
        },
        "id": "rFCaYaRJCmr2",
        "outputId": "1c14a523-9c24-4905-90f4-69cc91c778f3"
      },
      "source": [
        "my_lightgbm_tuner = LightGBMTuner(\n",
        "        oracle=kt.oracles.RandomSearch(\n",
        "            objective=kt.Objective('mse', 'min'),\n",
        "            max_trials=100,\n",
        "            seed=42),\n",
        "        hypermodel=build_model,\n",
        "        overwrite=True,\n",
        "        project_name='my_lightgbm_tuner')\n",
        "\n",
        "my_lightgbm_tuner.search(X_train, y_train, validation_data=(X_val, y_val))"
      ],
      "execution_count": null,
      "outputs": [
        {
          "output_type": "stream",
          "text": [
            "Trial 100 Complete [00h 00m 00s]\n",
            "mse: 0.8565818768549603\n",
            "\n",
            "Best mse So Far: 0.23615237093831826\n",
            "Total elapsed time: 00h 00m 15s\n",
            "INFO:tensorflow:Oracle triggered exit\n"
          ],
          "name": "stdout"
        }
      ]
    },
    {
      "cell_type": "markdown",
      "metadata": {
        "id": "74RyEfXPRhAK"
      },
      "source": [
        "### Evaluate the best discovered model"
      ]
    },
    {
      "cell_type": "code",
      "metadata": {
        "colab": {
          "base_uri": "https://localhost:8080/"
        },
        "id": "sh2bNuxfCm4G",
        "outputId": "ebc500a8-aaf8-4cd2-a083-7fc2ebe5c4d3"
      },
      "source": [
        "from sklearn.metrics import mean_squared_error\n",
        "\n",
        "best_model = my_lightgbm_tuner.get_best_models(1)[0]\n",
        "y_pred_test = best_model.predict(X_test)\n",
        "test_mse = mean_squared_error(y_test, y_pred_test)\n",
        "print(\"The prediction MSE on test set: {}\".format(test_mse))"
      ],
      "execution_count": null,
      "outputs": [
        {
          "output_type": "stream",
          "text": [
            "The prediction MSE on test set: 0.22039670222190072\n"
          ],
          "name": "stdout"
        }
      ]
    },
    {
      "cell_type": "markdown",
      "metadata": {
        "id": "Z9NMmCqFEATP"
      },
      "source": [
        "### Customize random search algorithm"
      ]
    },
    {
      "cell_type": "code",
      "metadata": {
        "id": "pc87muB66OrA"
      },
      "source": [
        "from kerastuner.engine.oracle import Oracle\n",
        "from kerastuner.engine import trial as trial_lib\n",
        "import numpy as np\n",
        "import tensorflow as tf\n",
        "import autokeras as ak\n",
        "\n",
        "SEED = 42\n",
        "np.random.seed=SEED\n",
        "tf.random.set_seed(SEED)\n",
        "\n",
        "class RandomSearchOracle(Oracle):\n",
        "\n",
        "    def __init__(self, *args, **kwargs):\n",
        "        super().__init__(*args, **kwargs)\n",
        "        # Add any new attributes.\n",
        "\n",
        "    def _populate_space(self, trial_id):\n",
        "        \"\"\"Fill the hyperparameter space with values for a trial.\n",
        "        This method should be overridden in subclasses and called in\n",
        "        `create_trial` in order to populate the hyperparameter space with\n",
        "        values.\n",
        "        Args:\n",
        "          `trial_id`: The id for this Trial.\n",
        "        Returns:\n",
        "            A dictionary with keys \"values\" and \"status\", where \"values\" is\n",
        "            a mapping of parameter names to suggested values, and \"status\"\n",
        "            is the TrialStatus that should be returned for this trial (one\n",
        "            of \"RUNNING\", \"IDLE\", or \"STOPPED\").\n",
        "        \"\"\"\n",
        "        values = self._random_values()\n",
        "        if values is None:\n",
        "            return {'status': trial_lib.TrialStatus.STOPPED,\n",
        "                    'values': None}\n",
        "        return {'status': trial_lib.TrialStatus.RUNNING,\n",
        "                'values': values}\n",
        "\n",
        "    def update_trial(self, trial_id, metrics, step=0):\n",
        "        \"\"\"Used by a worker to report the status of a trial.\n",
        "        Args:\n",
        "            trial_id: A previously seen trial id.\n",
        "            metrics: Dict of float. The current value of this\n",
        "                trial's metrics.\n",
        "            step: (Optional) Float. Used to report intermediate results. The\n",
        "                current value in a timeseries representing the state of the\n",
        "                trial. This is the value that `metrics` will be associated with.\n",
        "        Returns:\n",
        "            Trial object. Trial.status will be set to \"STOPPED\" if the Trial\n",
        "            should be stopped early.\n",
        "        \"\"\"\n",
        "        super().update_trial(trial_id, metrics, step)"
      ],
      "execution_count": null,
      "outputs": []
    },
    {
      "cell_type": "markdown",
      "metadata": {
        "id": "lLtbgu5NEpT8"
      },
      "source": [
        "### Use customized random search algorithm to tune models"
      ]
    },
    {
      "cell_type": "code",
      "metadata": {
        "colab": {
          "base_uri": "https://localhost:8080/"
        },
        "id": "s71RzWek6qLP",
        "outputId": "9f7cce90-7998-4f2a-ff53-b2488bfacd1a"
      },
      "source": [
        "my_lightgbm_tuner = LightGBMTuner(\n",
        "        oracle=RandomSearchOracle(\n",
        "            objective=kt.Objective('mse', 'min'),\n",
        "            max_trials=100,\n",
        "            seed=42),\n",
        "        hypermodel=build_model,\n",
        "        overwrite=True,\n",
        "        project_name='my_lightgbm_tuner')\n",
        "\n",
        "my_lightgbm_tuner.search(X_train, y_train, validation_data=(X_val, y_val))\n"
      ],
      "execution_count": null,
      "outputs": [
        {
          "output_type": "stream",
          "text": [
            "Trial 100 Complete [00h 00m 00s]\n",
            "mse: 0.8565818768549603\n",
            "\n",
            "Best mse So Far: 0.23615237093831826\n",
            "Total elapsed time: 00h 00m 16s\n",
            "INFO:tensorflow:Oracle triggered exit\n"
          ],
          "name": "stdout"
        }
      ]
    },
    {
      "cell_type": "code",
      "metadata": {
        "colab": {
          "base_uri": "https://localhost:8080/"
        },
        "id": "Atn5-gwJ6sm1",
        "outputId": "3f218e58-039e-40eb-ff6c-c821b2886c4f"
      },
      "source": [
        "from sklearn.metrics import mean_squared_error\n",
        "\n",
        "best_model = my_lightgbm_tuner.get_best_models(1)[0]\n",
        "y_pred_test = best_model.predict(X_test)\n",
        "test_mse = mean_squared_error(y_test, y_pred_test)\n",
        "print(\"The prediction MSE on test set: {}\".format(test_mse))"
      ],
      "execution_count": null,
      "outputs": [
        {
          "output_type": "stream",
          "text": [
            "The prediction MSE on test set: 0.22039670222190072\n"
          ],
          "name": "stdout"
        }
      ]
    },
    {
      "cell_type": "markdown",
      "metadata": {
        "id": "EauPRY0bMChI"
      },
      "source": [
        "### Plot search curves"
      ]
    },
    {
      "cell_type": "code",
      "metadata": {
        "id": "7CvyfVoYFRc2"
      },
      "source": [
        "import matplotlib.pyplot as plt \n",
        "\n",
        "def plot_curve(x, y, xlabel, ylabel, title):\n",
        "    plt.plot(x, y)\n",
        "    plt.xlabel(xlabel)\n",
        "    plt.ylabel(ylabel) \n",
        "    plt.title(title)\n",
        "    plt.show()\n"
      ],
      "execution_count": null,
      "outputs": []
    },
    {
      "cell_type": "code",
      "metadata": {
        "colab": {
          "base_uri": "https://localhost:8080/",
          "height": 573
        },
        "id": "TnjBZ-qTrnX7",
        "outputId": "ec3e83ae-b0fe-4440-9f9c-62d0a8439364"
      },
      "source": [
        "mse = [my_lightgbm_tuner.oracle.get_trial(trial_id).score for trial_id in my_lightgbm_tuner.oracle.end_order]\n",
        "ids = list(range(len(mse)))\n",
        "plot_curve(ids, mse, 'Trials in finish order', 'Validation MSE', 'Searched Results')\n",
        "\n",
        "high_value = float('inf')\n",
        "high_mse = []\n",
        "for value in mse:\n",
        "  high_value = min(high_value, value)\n",
        "  high_mse.append(high_value)\n",
        "plot_curve(ids, high_mse, 'Trials in finish order', 'Highest Validation MSE So Far', 'Searched Results')"
      ],
      "execution_count": null,
      "outputs": [
        {
          "output_type": "display_data",
          "data": {
            "image/png": "[encoded data removed]",
            "text/plain": [
              "<Figure size 432x288 with 1 Axes>"
            ]
          },
          "metadata": {
            "tags": [],
            "needs_background": "light"
          }
        },
        {
          "output_type": "display_data",
          "data": {
            "image/png": "[encoded data removed]",
            "text/plain": [
              "<Figure size 432x288 with 1 Axes>"
            ]
          },
          "metadata": {
            "tags": [],
            "needs_background": "light"
          }
        }
      ]
    },
    {
      "cell_type": "code",
      "metadata": {
        "id": "XOTvObAzhEkg"
      },
      "source": [
        ""
      ],
      "execution_count": null,
      "outputs": []
    }
  ]
}