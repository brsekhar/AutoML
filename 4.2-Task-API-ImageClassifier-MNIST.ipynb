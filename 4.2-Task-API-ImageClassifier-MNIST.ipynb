{
  "nbformat": 4,
  "nbformat_minor": 0,
  "metadata": {
    "colab": {
      "name": "Copy of Copy of ImageClassifier.ipynb",
      "provenance": [],
      "collapsed_sections": []
    },
    "kernelspec": {
      "name": "python3",
      "display_name": "Python 3"
    }
  },
  "cells": [
    {
      "cell_type": "code",
      "metadata": {
        "id": "5aX1dRHHVUUs"
      },
      "source": [
        "!pip install -r https://raw.githubusercontent.com/datamllab/automl-in-action-notebooks/master/requirements.txt"
      ],
      "execution_count": null,
      "outputs": []
    },
    {
      "cell_type": "code",
      "metadata": {
        "id": "YY8mFN25TMTQ"
      },
      "source": [
        "import tensorflow as tf"
      ],
      "execution_count": null,
      "outputs": []
    },
    {
      "cell_type": "code",
      "metadata": {
        "id": "CwvxeCIeTMTU"
      },
      "source": [
        "gpus = tf.config.experimental.list_physical_devices('GPU')\n",
        "tf.config.experimental.set_visible_devices(gpus[-1], 'GPU')"
      ],
      "execution_count": null,
      "outputs": []
    },
    {
      "cell_type": "code",
      "metadata": {
        "id": "YACSvJ81h_Ry"
      },
      "source": [
        "from tensorflow.keras.datasets import mnist\n",
        "(x_train, y_train), (x_test, y_test) = mnist.load_data()\n",
        "print('Training image shape:', x_train.shape) # (60000, 28, 28)\n",
        "print('Training label shape:', y_train.shape) # (60000,)\n",
        "print('First five training labels:', y_train[:5]) # array([5 0 4 1 9], dtype=uint8)"
      ],
      "execution_count": null,
      "outputs": []
    },
    {
      "cell_type": "code",
      "metadata": {
        "id": "QfnaDrkPiTTg"
      },
      "source": [
        "import autokeras as ak\n",
        "\n",
        "# Initialize the image classifier.\n",
        "clf = ak.ImageClassifier(max_trials=2) # It tries two different models.\n",
        "\n",
        "# Feed the image classifier with training data \n",
        "# 20% of the data is used as validation data by default for tuning\n",
        "# the process may run for a bit long time, please try to use GPU\n",
        "clf.fit(x_train, y_train, epochs=3) # each model is trained for three epochs"
      ],
      "execution_count": null,
      "outputs": []
    },
    {
      "cell_type": "code",
      "metadata": {
        "id": "ENEc_5kaTJzn"
      },
      "source": [
        "test_loss, test_acc = clf.evaluate(x_test, y_test, verbose=0)\n",
        "print('Test accuracy: ', test_acc)"
      ],
      "execution_count": null,
      "outputs": []
    },
    {
      "cell_type": "code",
      "metadata": {
        "id": "jPSNnpP6TDAP"
      },
      "source": [
        "predicted_y = clf.predict(x_test)\n",
        "print(predicted_y)"
      ],
      "execution_count": null,
      "outputs": []
    },
    {
      "cell_type": "code",
      "metadata": {
        "id": "rsQ2Ips4TMTe"
      },
      "source": [
        "best_model = clf.export_model()\n",
        "best_model.summary()"
      ],
      "execution_count": null,
      "outputs": []
    },
    {
      "cell_type": "code",
      "metadata": {
        "id": "9dTNi-qBTMTk"
      },
      "source": [
        "from tensorflow.keras.models import load_model\n",
        "\n",
        "best_model.save(\"model_autokeras\")\n",
        "\n",
        "loaded_model = load_model(\"model_autokeras\") # , custom_objects=ak.CUSTOM_OBJECTS\n",
        "\n",
        "predicted_y = loaded_model.predict(tf.expand_dims(x_test, -1))\n",
        "print(predicted_y)\n",
        "\n",
        "test_loss, test_acc = clf.evaluate(x_test, y_test, verbose=0)\n",
        "print('Test accuracy: ', test_acc)"
      ],
      "execution_count": null,
      "outputs": []
    },
    {
      "cell_type": "code",
      "metadata": {
        "id": "eHzEnG7vTMTu"
      },
      "source": [
        "from tensorflow.keras.datasets import mnist\n",
        "(x_train, y_train), (x_test, y_test) = mnist.load_data()\n",
        "\n",
        "clf = ak.ImageClassifier(max_trials=2, \n",
        "                         loss='categorical_crossentropy', \n",
        "                         metrics=['accuracy'],\n",
        "                         objective='val_accuracy',\n",
        "                        )\n",
        "\n",
        "clf.fit(x_train, y_train, \n",
        "        validation_split=0.15,\n",
        "        epochs=3, verbose=2, )"
      ],
      "execution_count": null,
      "outputs": []
    },
    {
      "cell_type": "code",
      "metadata": {
        "id": "He-byiZYWIx0"
      },
      "source": [
        "import keras_tuner\n",
        "def my_metric(y_true, y_pred):\n",
        "    correct_labels = tf.cast(y_true == y_pred, tf.float32)\n",
        "    return tf.reduce_mean(correct_labels, axis=-1) \n",
        "\n",
        "clf = ak.ImageClassifier(\n",
        "    seed=42,\n",
        "    max_trials=2,\n",
        "    loss='categorical_crossentropy',\n",
        "    # Wrap the function into a Keras Tuner Objective \n",
        "    # and pass it to AutoKeras.\n",
        "\n",
        "    # Direction can be 'min' or 'max'\n",
        "    # meaning we want to minimize or maximize the metric.\n",
        "\n",
        "    # 'val_my_metric' is just add a 'val_' prefix\n",
        "    # to the function name or the metric name.\n",
        "    objective=keras_tuner.Objective('val_my_metric', direction='max'),\n",
        "    # Include it as one of the metrics.\n",
        "    metrics=[my_metric],\n",
        ")\n",
        "\n",
        "clf.fit(x_train, y_train, \n",
        "        validation_split=0.15,\n",
        "        epochs=3)"
      ],
      "execution_count": null,
      "outputs": []
    }
  ]
}
