{
  "nbformat": 4,
  "nbformat_minor": 0,
  "metadata": {
    "kernelspec": {
      "display_name": "Python 3",
      "language": "python",
      "name": "python3"
    },
    "language_info": {
      "codemirror_mode": {
        "name": "ipython",
        "version": 3
      },
      "file_extension": ".py",
      "mimetype": "text/x-python",
      "name": "python",
      "nbconvert_exporter": "python",
      "pygments_lexer": "ipython3",
      "version": "3.6.3"
    },
    "colab": {
      "name": "Copy of copy-6.3.1-Tuning-Shallow-Model-Keras-Tuner.ipynb",
      "provenance": [],
      "collapsed_sections": []
    },
    "accelerator": "GPU"
  },
  "cells": [
    {
      "cell_type": "code",
      "metadata": {
        "id": "jD4FlUSy4c5D",
        "colab": {
          "base_uri": "https://localhost:8080/"
        },
        "outputId": "13a0c8d6-d0bd-4a5c-fae0-e3a3e2d8d607"
      },
      "source": [
        "pip install autokeras"
      ],
      "execution_count": null,
      "outputs": [
        {
          "output_type": "stream",
          "text": [
            "Collecting autokeras\n",
            "\u001b[?25l  Downloading https://files.pythonhosted.org/packages/09/12/cf698586ccc8245f08d1843dcafb65b064a2e9e2923b889dc58e1019f099/autokeras-1.0.12-py3-none-any.whl (164kB)\n",
            "\r\u001b[K     |██                              | 10kB 18.7MB/s eta 0:00:01\r\u001b[K     |████                            | 20kB 24.7MB/s eta 0:00:01\r\u001b[K     |██████                          | 30kB 23.2MB/s eta 0:00:01\r\u001b[K     |████████                        | 40kB 19.1MB/s eta 0:00:01\r\u001b[K     |██████████                      | 51kB 14.1MB/s eta 0:00:01\r\u001b[K     |████████████                    | 61kB 14.8MB/s eta 0:00:01\r\u001b[K     |██████████████                  | 71kB 14.1MB/s eta 0:00:01\r\u001b[K     |████████████████                | 81kB 14.2MB/s eta 0:00:01\r\u001b[K     |██████████████████              | 92kB 14.0MB/s eta 0:00:01\r\u001b[K     |████████████████████            | 102kB 13.7MB/s eta 0:00:01\r\u001b[K     |██████████████████████          | 112kB 13.7MB/s eta 0:00:01\r\u001b[K     |████████████████████████        | 122kB 13.7MB/s eta 0:00:01\r\u001b[K     |██████████████████████████      | 133kB 13.7MB/s eta 0:00:01\r\u001b[K     |████████████████████████████    | 143kB 13.7MB/s eta 0:00:01\r\u001b[K     |██████████████████████████████  | 153kB 13.7MB/s eta 0:00:01\r\u001b[K     |████████████████████████████████| 163kB 13.7MB/s eta 0:00:01\r\u001b[K     |████████████████████████████████| 174kB 13.7MB/s \n",
            "\u001b[?25hRequirement already satisfied: packaging in /usr/local/lib/python3.6/dist-packages (from autokeras) (20.8)\n",
            "Requirement already satisfied: scikit-learn in /usr/local/lib/python3.6/dist-packages (from autokeras) (0.22.2.post1)\n",
            "Requirement already satisfied: pandas in /usr/local/lib/python3.6/dist-packages (from autokeras) (1.1.5)\n",
            "Requirement already satisfied: tensorflow>=2.3.0 in /usr/local/lib/python3.6/dist-packages (from autokeras) (2.4.0)\n",
            "Collecting keras-tuner>=1.0.2\n",
            "\u001b[?25l  Downloading https://files.pythonhosted.org/packages/20/ec/1ef246787174b1e2bb591c95f29d3c1310070cad877824f907faba3dade9/keras-tuner-1.0.2.tar.gz (62kB)\n",
            "\r\u001b[K     |█████▏                          | 10kB 24.5MB/s eta 0:00:01\r\u001b[K     |██████████▍                     | 20kB 32.2MB/s eta 0:00:01\r\u001b[K     |███████████████▋                | 30kB 37.8MB/s eta 0:00:01\r\u001b[K     |████████████████████▉           | 40kB 32.0MB/s eta 0:00:01\r\u001b[K     |██████████████████████████      | 51kB 32.3MB/s eta 0:00:01\r\u001b[K     |███████████████████████████████▎| 61kB 35.0MB/s eta 0:00:01\r\u001b[K     |████████████████████████████████| 71kB 10.8MB/s \n",
            "\u001b[?25hRequirement already satisfied: pyparsing>=2.0.2 in /usr/local/lib/python3.6/dist-packages (from packaging->autokeras) (2.4.7)\n",
            "Requirement already satisfied: scipy>=0.17.0 in /usr/local/lib/python3.6/dist-packages (from scikit-learn->autokeras) (1.4.1)\n",
            "Requirement already satisfied: joblib>=0.11 in /usr/local/lib/python3.6/dist-packages (from scikit-learn->autokeras) (1.0.0)\n",
            "Requirement already satisfied: numpy>=1.11.0 in /usr/local/lib/python3.6/dist-packages (from scikit-learn->autokeras) (1.19.4)\n",
            "Requirement already satisfied: python-dateutil>=2.7.3 in /usr/local/lib/python3.6/dist-packages (from pandas->autokeras) (2.8.1)\n",
            "Requirement already satisfied: pytz>=2017.2 in /usr/local/lib/python3.6/dist-packages (from pandas->autokeras) (2018.9)\n",
            "Requirement already satisfied: flatbuffers~=1.12.0 in /usr/local/lib/python3.6/dist-packages (from tensorflow>=2.3.0->autokeras) (1.12)\n",
            "Requirement already satisfied: wheel~=0.35 in /usr/local/lib/python3.6/dist-packages (from tensorflow>=2.3.0->autokeras) (0.36.2)\n",
            "Requirement already satisfied: tensorboard~=2.4 in /usr/local/lib/python3.6/dist-packages (from tensorflow>=2.3.0->autokeras) (2.4.0)\n",
            "Requirement already satisfied: absl-py~=0.10 in /usr/local/lib/python3.6/dist-packages (from tensorflow>=2.3.0->autokeras) (0.10.0)\n",
            "Requirement already satisfied: protobuf>=3.9.2 in /usr/local/lib/python3.6/dist-packages (from tensorflow>=2.3.0->autokeras) (3.12.4)\n",
            "Requirement already satisfied: termcolor~=1.1.0 in /usr/local/lib/python3.6/dist-packages (from tensorflow>=2.3.0->autokeras) (1.1.0)\n",
            "Requirement already satisfied: keras-preprocessing~=1.1.2 in /usr/local/lib/python3.6/dist-packages (from tensorflow>=2.3.0->autokeras) (1.1.2)\n",
            "Requirement already satisfied: typing-extensions~=3.7.4 in /usr/local/lib/python3.6/dist-packages (from tensorflow>=2.3.0->autokeras) (3.7.4.3)\n",
            "Requirement already satisfied: google-pasta~=0.2 in /usr/local/lib/python3.6/dist-packages (from tensorflow>=2.3.0->autokeras) (0.2.0)\n",
            "Requirement already satisfied: wrapt~=1.12.1 in /usr/local/lib/python3.6/dist-packages (from tensorflow>=2.3.0->autokeras) (1.12.1)\n",
            "Requirement already satisfied: six~=1.15.0 in /usr/local/lib/python3.6/dist-packages (from tensorflow>=2.3.0->autokeras) (1.15.0)\n",
            "Requirement already satisfied: gast==0.3.3 in /usr/local/lib/python3.6/dist-packages (from tensorflow>=2.3.0->autokeras) (0.3.3)\n",
            "Requirement already satisfied: astunparse~=1.6.3 in /usr/local/lib/python3.6/dist-packages (from tensorflow>=2.3.0->autokeras) (1.6.3)\n",
            "Requirement already satisfied: tensorflow-estimator<2.5.0,>=2.4.0rc0 in /usr/local/lib/python3.6/dist-packages (from tensorflow>=2.3.0->autokeras) (2.4.0)\n",
            "Requirement already satisfied: opt-einsum~=3.3.0 in /usr/local/lib/python3.6/dist-packages (from tensorflow>=2.3.0->autokeras) (3.3.0)\n",
            "Requirement already satisfied: grpcio~=1.32.0 in /usr/local/lib/python3.6/dist-packages (from tensorflow>=2.3.0->autokeras) (1.32.0)\n",
            "Requirement already satisfied: h5py~=2.10.0 in /usr/local/lib/python3.6/dist-packages (from tensorflow>=2.3.0->autokeras) (2.10.0)\n",
            "Requirement already satisfied: future in /usr/local/lib/python3.6/dist-packages (from keras-tuner>=1.0.2->autokeras) (0.16.0)\n",
            "Requirement already satisfied: tabulate in /usr/local/lib/python3.6/dist-packages (from keras-tuner>=1.0.2->autokeras) (0.8.7)\n",
            "Collecting terminaltables\n",
            "  Downloading https://files.pythonhosted.org/packages/9b/c4/4a21174f32f8a7e1104798c445dacdc1d4df86f2f26722767034e4de4bff/terminaltables-3.1.0.tar.gz\n",
            "Collecting colorama\n",
            "  Downloading https://files.pythonhosted.org/packages/44/98/5b86278fbbf250d239ae0ecb724f8572af1c91f4a11edf4d36a206189440/colorama-0.4.4-py2.py3-none-any.whl\n",
            "Requirement already satisfied: tqdm in /usr/local/lib/python3.6/dist-packages (from keras-tuner>=1.0.2->autokeras) (4.41.1)\n",
            "Requirement already satisfied: requests in /usr/local/lib/python3.6/dist-packages (from keras-tuner>=1.0.2->autokeras) (2.23.0)\n",
            "Requirement already satisfied: google-auth<2,>=1.6.3 in /usr/local/lib/python3.6/dist-packages (from tensorboard~=2.4->tensorflow>=2.3.0->autokeras) (1.17.2)\n",
            "Requirement already satisfied: setuptools>=41.0.0 in /usr/local/lib/python3.6/dist-packages (from tensorboard~=2.4->tensorflow>=2.3.0->autokeras) (51.0.0)\n",
            "Requirement already satisfied: werkzeug>=0.11.15 in /usr/local/lib/python3.6/dist-packages (from tensorboard~=2.4->tensorflow>=2.3.0->autokeras) (1.0.1)\n",
            "Requirement already satisfied: google-auth-oauthlib<0.5,>=0.4.1 in /usr/local/lib/python3.6/dist-packages (from tensorboard~=2.4->tensorflow>=2.3.0->autokeras) (0.4.2)\n",
            "Requirement already satisfied: tensorboard-plugin-wit>=1.6.0 in /usr/local/lib/python3.6/dist-packages (from tensorboard~=2.4->tensorflow>=2.3.0->autokeras) (1.7.0)\n",
            "Requirement already satisfied: markdown>=2.6.8 in /usr/local/lib/python3.6/dist-packages (from tensorboard~=2.4->tensorflow>=2.3.0->autokeras) (3.3.3)\n",
            "Requirement already satisfied: chardet<4,>=3.0.2 in /usr/local/lib/python3.6/dist-packages (from requests->keras-tuner>=1.0.2->autokeras) (3.0.4)\n",
            "Requirement already satisfied: idna<3,>=2.5 in /usr/local/lib/python3.6/dist-packages (from requests->keras-tuner>=1.0.2->autokeras) (2.10)\n",
            "Requirement already satisfied: urllib3!=1.25.0,!=1.25.1,<1.26,>=1.21.1 in /usr/local/lib/python3.6/dist-packages (from requests->keras-tuner>=1.0.2->autokeras) (1.24.3)\n",
            "Requirement already satisfied: certifi>=2017.4.17 in /usr/local/lib/python3.6/dist-packages (from requests->keras-tuner>=1.0.2->autokeras) (2020.12.5)\n",
            "Requirement already satisfied: cachetools<5.0,>=2.0.0 in /usr/local/lib/python3.6/dist-packages (from google-auth<2,>=1.6.3->tensorboard~=2.4->tensorflow>=2.3.0->autokeras) (4.2.0)\n",
            "Requirement already satisfied: pyasn1-modules>=0.2.1 in /usr/local/lib/python3.6/dist-packages (from google-auth<2,>=1.6.3->tensorboard~=2.4->tensorflow>=2.3.0->autokeras) (0.2.8)\n",
            "Requirement already satisfied: rsa<5,>=3.1.4; python_version >= \"3\" in /usr/local/lib/python3.6/dist-packages (from google-auth<2,>=1.6.3->tensorboard~=2.4->tensorflow>=2.3.0->autokeras) (4.6)\n",
            "Requirement already satisfied: requests-oauthlib>=0.7.0 in /usr/local/lib/python3.6/dist-packages (from google-auth-oauthlib<0.5,>=0.4.1->tensorboard~=2.4->tensorflow>=2.3.0->autokeras) (1.3.0)\n",
            "Requirement already satisfied: importlib-metadata; python_version < \"3.8\" in /usr/local/lib/python3.6/dist-packages (from markdown>=2.6.8->tensorboard~=2.4->tensorflow>=2.3.0->autokeras) (3.3.0)\n",
            "Requirement already satisfied: pyasn1<0.5.0,>=0.4.6 in /usr/local/lib/python3.6/dist-packages (from pyasn1-modules>=0.2.1->google-auth<2,>=1.6.3->tensorboard~=2.4->tensorflow>=2.3.0->autokeras) (0.4.8)\n",
            "Requirement already satisfied: oauthlib>=3.0.0 in /usr/local/lib/python3.6/dist-packages (from requests-oauthlib>=0.7.0->google-auth-oauthlib<0.5,>=0.4.1->tensorboard~=2.4->tensorflow>=2.3.0->autokeras) (3.1.0)\n",
            "Requirement already satisfied: zipp>=0.5 in /usr/local/lib/python3.6/dist-packages (from importlib-metadata; python_version < \"3.8\"->markdown>=2.6.8->tensorboard~=2.4->tensorflow>=2.3.0->autokeras) (3.4.0)\n",
            "Building wheels for collected packages: keras-tuner, terminaltables\n",
            "  Building wheel for keras-tuner (setup.py) ... \u001b[?25l\u001b[?25hdone\n",
            "  Created wheel for keras-tuner: filename=keras_tuner-1.0.2-cp36-none-any.whl size=78939 sha256=8b3597bd95f7a449d52ccd2dd9d15fb2c427594319448c227e02cf50a772f113\n",
            "  Stored in directory: /root/.cache/pip/wheels/bb/a1/8a/7c3de0efb3707a1701b36ebbfdbc4e67aedf6d4943a1f463d6\n",
            "  Building wheel for terminaltables (setup.py) ... \u001b[?25l\u001b[?25hdone\n",
            "  Created wheel for terminaltables: filename=terminaltables-3.1.0-cp36-none-any.whl size=15358 sha256=51a38a26c2992c5acb1487149c931804ad0c46cb342407c4d7f7e8735f691f85\n",
            "  Stored in directory: /root/.cache/pip/wheels/30/6b/50/6c75775b681fb36cdfac7f19799888ef9d8813aff9e379663e\n",
            "Successfully built keras-tuner terminaltables\n",
            "Installing collected packages: terminaltables, colorama, keras-tuner, autokeras\n",
            "Successfully installed autokeras-1.0.12 colorama-0.4.4 keras-tuner-1.0.2 terminaltables-3.1.0\n"
          ],
          "name": "stdout"
        }
      ]
    },
    {
      "cell_type": "code",
      "metadata": {
        "id": "Rvv9HQhy5W6S"
      },
      "source": [
        "import kerastuner as kt"
      ],
      "execution_count": null,
      "outputs": []
    },
    {
      "cell_type": "markdown",
      "metadata": {
        "id": "tNFH8Vsx4c5G"
      },
      "source": [
        "## Load data"
      ]
    },
    {
      "cell_type": "code",
      "metadata": {
        "id": "dxERoY1c4c5H",
        "colab": {
          "base_uri": "https://localhost:8080/"
        },
        "outputId": "a2ed9d36-1a5a-4923-85dc-f40f2441655a"
      },
      "source": [
        "# Import the dataset loading function from sklearn\n",
        "from sklearn.datasets import load_digits\n",
        "\n",
        "# Load the hand-written digits dataset\n",
        "digits = load_digits()\n",
        "\n",
        "# Get the images and corresponding labels\n",
        "images, labels = digits.images, digits.target\n",
        "images.shape, labels.shape"
      ],
      "execution_count": null,
      "outputs": [
        {
          "output_type": "execute_result",
          "data": {
            "text/plain": [
              "((1797, 8, 8), (1797,))"
            ]
          },
          "metadata": {
            "tags": []
          },
          "execution_count": 3
        }
      ]
    },
    {
      "cell_type": "markdown",
      "metadata": {
        "id": "vwWKskpc4c5I"
      },
      "source": [
        "## Exploratory data analysis & Data preprocessing &  feature engineering"
      ]
    },
    {
      "cell_type": "code",
      "metadata": {
        "id": "6xfE1emN4c5I",
        "colab": {
          "base_uri": "https://localhost:8080/",
          "height": 148
        },
        "outputId": "9b79c9d5-c2c2-48ab-bc72-88d95c5b4d54"
      },
      "source": [
        "%matplotlib inline\n",
        "import matplotlib\n",
        "import matplotlib.pyplot as plt\n",
        "\n",
        "# plot first 20 images\n",
        "n = 20\n",
        "_, axes = plt.subplots(2, 10, figsize=(10, 2))\n",
        "plt.tight_layout()\n",
        "for i in range(n):\n",
        "    row, col = i // 10, i % 10\n",
        "    axes[row, col].set_axis_off()\n",
        "    axes[row, col].imshow(images[i,], cmap=plt.cm.gray_r, interpolation='nearest')\n",
        "    axes[row, col].set_title('Label: %i' % labels[i])"
      ],
      "execution_count": null,
      "outputs": [
        {
          "output_type": "display_data",
          "data": {
            "image/png": "[encoded data removed]",
            "text/plain": [
              "<Figure size 720x144 with 20 Axes>"
            ]
          },
          "metadata": {
            "tags": [],
            "needs_background": "light"
          }
        }
      ]
    },
    {
      "cell_type": "code",
      "metadata": {
        "id": "KAnIqp_s4c5J",
        "colab": {
          "base_uri": "https://localhost:8080/"
        },
        "outputId": "1fe5fc57-bbe4-46f1-e9b6-b7755b79f665"
      },
      "source": [
        "# reshape images to vectors\n",
        "n_samples = len(digits.images)\n",
        "X = digits.images.reshape((n_samples, -1))\n",
        "X.shape"
      ],
      "execution_count": null,
      "outputs": [
        {
          "output_type": "execute_result",
          "data": {
            "text/plain": [
              "(1797, 64)"
            ]
          },
          "metadata": {
            "tags": []
          },
          "execution_count": 5
        }
      ]
    },
    {
      "cell_type": "code",
      "metadata": {
        "id": "CB4Qieaw4c5K",
        "colab": {
          "base_uri": "https://localhost:8080/"
        },
        "outputId": "821d1f63-f09b-433a-b280-6217fdea2397"
      },
      "source": [
        "# Split data into train and test subsets\n",
        "from sklearn.model_selection import train_test_split\n",
        "X_train, X_test, y_train, y_test = train_test_split(\n",
        "    X, labels, test_size=0.2, shuffle=False)\n",
        "\n",
        "print(\"Shape of the training data: {}\".format(X_train.shape))\n",
        "print(\"Shape of the testing data: {}\".format(X_test.shape))"
      ],
      "execution_count": null,
      "outputs": [
        {
          "output_type": "stream",
          "text": [
            "Shape of the training data: (1437, 64)\n",
            "Shape of the testing data: (360, 64)\n"
          ],
          "name": "stdout"
        }
      ]
    },
    {
      "cell_type": "code",
      "metadata": {
        "id": "fL6MYGEN4c5L",
        "colab": {
          "base_uri": "https://localhost:8080/"
        },
        "outputId": "b265e6d7-202c-4f85-a412-8d73d7a93481"
      },
      "source": [
        "X_train.shape, X_test.shape"
      ],
      "execution_count": null,
      "outputs": [
        {
          "output_type": "execute_result",
          "data": {
            "text/plain": [
              "((1437, 64), (360, 64))"
            ]
          },
          "metadata": {
            "tags": []
          },
          "execution_count": 7
        }
      ]
    },
    {
      "cell_type": "code",
      "metadata": {
        "id": "CKtYRxrKM7CV"
      },
      "source": [
        ""
      ],
      "execution_count": null,
      "outputs": []
    },
    {
      "cell_type": "markdown",
      "metadata": {
        "id": "NQ9PyugO4c5N"
      },
      "source": [
        "## KerasTuner tuning: joint hyperparameter tuning and model selection"
      ]
    },
    {
      "cell_type": "code",
      "metadata": {
        "id": "N9FnJQ7c4c5N"
      },
      "source": [
        "from sklearn.svm import SVC\n",
        "from sklearn.ensemble import RandomForestClassifier\n",
        "from kerastuner.engine import hyperparameters as hp\n",
        "\n",
        "\n",
        "def build_model(hp):\n",
        "    model_type = hp.Choice('model_type', ['svm', 'random_forest'])\n",
        "    if model_type == 'svm':\n",
        "        with hp.conditional_scope('model_type', 'svm'):\n",
        "            model = SVC(C=hp.Float('C', 1e-3, 10, sampling='linear', default=1),\n",
        "                        kernel=hp.Choice(\"kernel_type\", ['linear', 'rbf'], default=\"linear\"), \n",
        "                        random_state=42)\n",
        "    elif model_type == 'random_forest':\n",
        "        with hp.conditional_scope('model_type', 'random_forest'):\n",
        "            model =  RandomForestClassifier(\n",
        "                n_estimators=hp.Int('n_estimators', 10, 200, step=10),\n",
        "                max_depth=hp.Int('max_depth', 3, 10))\n",
        "    else:\n",
        "        raise ValueError('Unrecognized model_type')\n",
        "    return model\n",
        "\n"
      ],
      "execution_count": null,
      "outputs": []
    },
    {
      "cell_type": "markdown",
      "metadata": {
        "id": "8SAAzEhjgfea"
      },
      "source": [
        "### Random Search Algorithm"
      ]
    },
    {
      "cell_type": "code",
      "metadata": {
        "id": "a2p0TGTsgeGW",
        "colab": {
          "base_uri": "https://localhost:8080/"
        },
        "outputId": "72ce1aa1-c5c1-4809-a368-3cb3a5e9fe24"
      },
      "source": [
        "from sklearn.model_selection import KFold\n",
        "\n",
        "random_tuner = kt.tuners.Sklearn(\n",
        "        oracle=kt.oracles.RandomSearch(\n",
        "            objective=kt.Objective('score', 'max'),\n",
        "            max_trials=30,\n",
        "            seed=42),\n",
        "        hypermodel=build_model,\n",
        "        cv=KFold(3, shuffle=False, random_state=42),\n",
        "        overwrite=True,\n",
        "        project_name='random_tuner')\n",
        "\n",
        "random_tuner.search(X_train, y_train)"
      ],
      "execution_count": null,
      "outputs": [
        {
          "output_type": "stream",
          "text": [
            "Trial 30 Complete [00h 00m 00s]\n",
            "score: 0.8983994432846206\n",
            "\n",
            "Best score So Far: 0.9693806541405707\n",
            "Total elapsed time: 00h 00m 11s\n",
            "INFO:tensorflow:Oracle triggered exit\n"
          ],
          "name": "stdout"
        }
      ]
    },
    {
      "cell_type": "code",
      "metadata": {
        "id": "o-RwxId1gqIS",
        "colab": {
          "base_uri": "https://localhost:8080/"
        },
        "outputId": "51815b83-cf74-4682-886a-1be496005db9"
      },
      "source": [
        "random_tuner.search_space_summary()"
      ],
      "execution_count": null,
      "outputs": [
        {
          "output_type": "stream",
          "text": [
            "Search space summary\n",
            "Default search space size: 5\n",
            "model_type (Choice)\n",
            "{'default': 'svm', 'conditions': [], 'values': ['svm', 'random_forest'], 'ordered': False}\n",
            "C (Float)\n",
            "{'default': 1, 'conditions': [{'class_name': 'Parent', 'config': {'name': 'model_type', 'values': ['svm']}}], 'min_value': 0.001, 'max_value': 10.0, 'step': None, 'sampling': 'linear'}\n",
            "kernel_type (Choice)\n",
            "{'default': 'linear', 'conditions': [{'class_name': 'Parent', 'config': {'name': 'model_type', 'values': ['svm']}}], 'values': ['linear', 'rbf'], 'ordered': False}\n",
            "n_estimators (Int)\n",
            "{'default': None, 'conditions': [{'class_name': 'Parent', 'config': {'name': 'model_type', 'values': ['random_forest']}}], 'min_value': 10, 'max_value': 200, 'step': 10, 'sampling': None}\n",
            "max_depth (Int)\n",
            "{'default': None, 'conditions': [{'class_name': 'Parent', 'config': {'name': 'model_type', 'values': ['random_forest']}}], 'min_value': 3, 'max_value': 10, 'step': 1, 'sampling': None}\n"
          ],
          "name": "stdout"
        }
      ]
    },
    {
      "cell_type": "code",
      "metadata": {
        "id": "qW1TKFMGgq57",
        "colab": {
          "base_uri": "https://localhost:8080/"
        },
        "outputId": "0745f914-e10a-46b8-829e-2d30af00ec23"
      },
      "source": [
        "random_tuner.results_summary(1)"
      ],
      "execution_count": null,
      "outputs": [
        {
          "output_type": "stream",
          "text": [
            "Results summary\n",
            "Results in ./random_tuner\n",
            "Showing 1 best trials\n",
            "Objective(name='score', direction='max')\n",
            "Trial summary\n",
            "Hyperparameters:\n",
            "model_type: svm\n",
            "C: 2.242630562998417\n",
            "kernel_type: rbf\n",
            "Score: 0.9693806541405707\n"
          ],
          "name": "stdout"
        }
      ]
    },
    {
      "cell_type": "code",
      "metadata": {
        "id": "J5cwktoWVX27",
        "colab": {
          "base_uri": "https://localhost:8080/"
        },
        "outputId": "4f855b5f-917f-4369-aa4f-f70171f7c4ad"
      },
      "source": [
        "# Evaluate the best discovered model\n",
        "from sklearn.metrics import accuracy_score\n",
        "\n",
        "best_model = random_tuner.get_best_models(1)[0]\n",
        "best_model.fit(X_train, y_train)\n",
        "y_pred_test = best_model.predict(X_test)\n",
        "test_acc = accuracy_score(y_test, y_pred_test)\n",
        "print(\"The prediction accuracy on test set: {:.2f} %\".format(test_acc * 100))"
      ],
      "execution_count": null,
      "outputs": [
        {
          "output_type": "stream",
          "text": [
            "The prediction accuracy on test set: 95.83 %\n"
          ],
          "name": "stdout"
        }
      ]
    },
    {
      "cell_type": "markdown",
      "metadata": {
        "id": "AvucUJkJ7cth"
      },
      "source": [
        "## KerasTuner tuning: whole pipeline with shallow models"
      ]
    },
    {
      "cell_type": "code",
      "metadata": {
        "id": "1ZCHPc6dhs_s",
        "colab": {
          "base_uri": "https://localhost:8080/"
        },
        "outputId": "e18ae97e-c708-43b1-ed5b-1b342c534fed"
      },
      "source": [
        "from kerastuner.engine import hyperparameters as hp\n",
        "from sklearn.decomposition import PCA\n",
        "from sklearn.svm import SVC\n",
        "from sklearn.ensemble import RandomForestClassifier\n",
        "from sklearn.pipeline import Pipeline\n",
        "\n",
        "\n",
        "\n",
        "\n",
        "def build_pipeline(hp):\n",
        "\n",
        "    # select hyperparameters of PCA\n",
        "    n_components=hp.Choice(\"n_components\", [2, 5, 10], default=5)\n",
        "    pca = PCA(n_components=n_components)\n",
        "\n",
        "    # select model type\n",
        "    model_type = hp.Choice('model_type', ['svm', 'random_forest'])\n",
        "    if model_type == 'svm':\n",
        "        with hp.conditional_scope('model_type', 'svm'):\n",
        "            model = SVC(C=hp.Float('C', 1e-3, 10, sampling='linear', default=1),\n",
        "                        kernel=hp.Choice(\"kernel_type\", ['linear', 'rbf'], default=\"linear\"), \n",
        "                        random_state=42)\n",
        "    elif model_type == 'random_forest':\n",
        "        with hp.conditional_scope('model_type', 'random_forest'):\n",
        "            model =  RandomForestClassifier(\n",
        "                n_estimators=hp.Int('n_estimators', 10, 200, step=10),\n",
        "                max_depth=hp.Int('max_depth', 3, 10))\n",
        "    else:\n",
        "        raise ValueError('Unrecognized model_type')\n",
        "\n",
        "    # create pipeline\n",
        "    pipeline = Pipeline([\n",
        "        ('pca', pca),\n",
        "        ('clf', model)\n",
        "        ])\n",
        "\n",
        "    return pipeline\n",
        "\n",
        "tuner = kt.tuners.Sklearn(\n",
        "        oracle=kt.oracles.RandomSearch(\n",
        "            objective=kt.Objective('score', 'max'),\n",
        "            max_trials=3),\n",
        "        hypermodel=build_pipeline,\n",
        "        overwrite=True)\n",
        "tuner.search(X_train, y_train)"
      ],
      "execution_count": null,
      "outputs": [
        {
          "output_type": "stream",
          "text": [
            "Trial 3 Complete [00h 00m 01s]\n",
            "score: 0.9095359078590786\n",
            "\n",
            "Best score So Far: 0.9095359078590786\n",
            "Total elapsed time: 00h 00m 03s\n",
            "INFO:tensorflow:Oracle triggered exit\n"
          ],
          "name": "stdout"
        }
      ]
    },
    {
      "cell_type": "code",
      "metadata": {
        "colab": {
          "base_uri": "https://localhost:8080/"
        },
        "id": "GC2a_fXCnz07",
        "outputId": "710132b7-25d0-460d-920e-a1acf5d80a83"
      },
      "source": [
        "tuner.results_summary(1)"
      ],
      "execution_count": null,
      "outputs": [
        {
          "output_type": "stream",
          "text": [
            "Results summary\n",
            "Results in ./untitled_project\n",
            "Showing 1 best trials\n",
            "Objective(name='score', direction='max')\n",
            "Trial summary\n",
            "Hyperparameters:\n",
            "n_components: 10\n",
            "model_type: random_forest\n",
            "n_estimators: 10\n",
            "max_depth: 3\n",
            "Score: 0.7863700154858692\n"
          ],
          "name": "stdout"
        }
      ]
    },
    {
      "cell_type": "code",
      "metadata": {
        "colab": {
          "base_uri": "https://localhost:8080/"
        },
        "id": "ds0JCzjoQ44K",
        "outputId": "495a6cca-afaf-4715-962a-9e00d241b552"
      },
      "source": [
        "# Evaluate the best discovered model\n",
        "from sklearn.metrics import accuracy_score\n",
        "\n",
        "best_pipeline = tuner.get_best_models(1)[0]\n",
        "best_pipeline.fit(X_train, y_train)\n",
        "y_pred_test = best_pipeline.predict(X_test)\n",
        "test_acc = accuracy_score(y_test, y_pred_test)\n",
        "print(\"The prediction accuracy on test set: {:.2f} %\".format(test_acc * 100))"
      ],
      "execution_count": null,
      "outputs": [
        {
          "output_type": "stream",
          "text": [
            "The prediction accuracy on test set: 94.72 %\n"
          ],
          "name": "stdout"
        }
      ]
    },
    {
      "cell_type": "code",
      "metadata": {
        "id": "cM8wEMHqRNsa"
      },
      "source": [
        ""
      ],
      "execution_count": null,
      "outputs": []
    },
    {
      "cell_type": "markdown",
      "metadata": {
        "id": "vpB5ZfDJRV6H"
      },
      "source": [
        "### Bayersian Optimization Search Algorithm"
      ]
    },
    {
      "cell_type": "code",
      "metadata": {
        "id": "ouE1YRTuRcIg",
        "colab": {
          "base_uri": "https://localhost:8080/"
        },
        "outputId": "697d0973-f052-4d39-859d-34f92eeaff1f"
      },
      "source": [
        "bo_tuner = kt.tuners.Sklearn(\n",
        "        oracle=kt.oracles.BayesianOptimization(\n",
        "            objective=kt.Objective('score', 'max'),\n",
        "            max_trials=30,\n",
        "            seed=42),\n",
        "        hypermodel=build_pipeline,\n",
        "        cv=KFold(3, shuffle=False, random_state=42),\n",
        "        overwrite=True,\n",
        "        project_name='bo_tuner')\n",
        "\n",
        "bo_tuner.search(X_train, y_train)"
      ],
      "execution_count": null,
      "outputs": [
        {
          "output_type": "stream",
          "text": [
            "Trial 30 Complete [00h 00m 00s]\n",
            "score: 0.9478079331941546\n",
            "\n",
            "Best score So Far: 0.9512874043145443\n",
            "Total elapsed time: 00h 00m 16s\n",
            "INFO:tensorflow:Oracle triggered exit\n"
          ],
          "name": "stdout"
        }
      ]
    },
    {
      "cell_type": "code",
      "metadata": {
        "id": "gv-lrWeHRhJw",
        "colab": {
          "base_uri": "https://localhost:8080/"
        },
        "outputId": "7a6a2daa-7ea0-4d6e-ebe5-5cf362a5f3ef"
      },
      "source": [
        "bo_tuner.search_space_summary()"
      ],
      "execution_count": null,
      "outputs": [
        {
          "output_type": "stream",
          "text": [
            "Search space summary\n",
            "Default search space size: 5\n",
            "model_type (Choice)\n",
            "{'default': 'svm', 'conditions': [], 'values': ['svm', 'random_forest'], 'ordered': False}\n",
            "C (Float)\n",
            "{'default': 1, 'conditions': [{'class_name': 'Parent', 'config': {'name': 'model_type', 'values': ['svm']}}], 'min_value': 0.001, 'max_value': 10.0, 'step': None, 'sampling': 'linear'}\n",
            "kernel_type (Choice)\n",
            "{'default': 'linear', 'conditions': [{'class_name': 'Parent', 'config': {'name': 'model_type', 'values': ['svm']}}], 'values': ['linear', 'rbf'], 'ordered': False}\n",
            "n_estimators (Int)\n",
            "{'default': None, 'conditions': [{'class_name': 'Parent', 'config': {'name': 'model_type', 'values': ['random_forest']}}], 'min_value': 10, 'max_value': 200, 'step': 10, 'sampling': None}\n",
            "max_depth (Int)\n",
            "{'default': None, 'conditions': [{'class_name': 'Parent', 'config': {'name': 'model_type', 'values': ['random_forest']}}], 'min_value': 3, 'max_value': 10, 'step': 1, 'sampling': None}\n"
          ],
          "name": "stdout"
        }
      ]
    },
    {
      "cell_type": "code",
      "metadata": {
        "id": "xtI4Ln63RhRS",
        "colab": {
          "base_uri": "https://localhost:8080/"
        },
        "outputId": "4aa45aa8-ea36-412f-b053-64d89d795d07"
      },
      "source": [
        "bo_tuner.results_summary(1)"
      ],
      "execution_count": null,
      "outputs": [
        {
          "output_type": "stream",
          "text": [
            "Results summary\n",
            "Results in ./bo_tuner\n",
            "Showing 1 best trials\n",
            "Objective(name='score', direction='max')\n",
            "Trial summary\n",
            "Hyperparameters:\n",
            "n_components: 10\n",
            "model_type: svm\n",
            "C: 4.085950256665684\n",
            "kernel_type: rbf\n",
            "Score: 0.9512874043145443\n"
          ],
          "name": "stdout"
        }
      ]
    },
    {
      "cell_type": "code",
      "metadata": {
        "id": "0pyvXFV3Rhaj",
        "colab": {
          "base_uri": "https://localhost:8080/"
        },
        "outputId": "0ad8235b-d332-452c-9420-91e1c7d9c1c3"
      },
      "source": [
        "# Evaluate the best discovered model\n",
        "from sklearn.metrics import accuracy_score\n",
        "\n",
        "best_model = bo_tuner.get_best_models(1)[0]\n",
        "best_model.fit(X_train, y_train)\n",
        "y_pred_test = best_model.predict(X_test)\n",
        "test_acc = accuracy_score(y_test, y_pred_test)\n",
        "print(\"The prediction accuracy on test set: {:.2f} %\".format(test_acc * 100))"
      ],
      "execution_count": null,
      "outputs": [
        {
          "output_type": "stream",
          "text": [
            "The prediction accuracy on test set: 94.44 %\n"
          ],
          "name": "stdout"
        }
      ]
    },
    {
      "cell_type": "code",
      "metadata": {
        "id": "NUaaSZJ4nbNn"
      },
      "source": [
        ""
      ],
      "execution_count": null,
      "outputs": []
    }
  ]
}
