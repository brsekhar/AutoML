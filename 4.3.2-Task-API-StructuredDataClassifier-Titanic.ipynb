{
 "cells": [
  {
   "cell_type": "code",
   "execution_count": 1,
   "metadata": {},
   "outputs": [],
   "source": [
    "import tensorflow as tf\n",
    "import autokeras as ak"
   ]
  },
  {
   "cell_type": "code",
   "execution_count": null,
   "metadata": {},
   "outputs": [],
   "source": [
    "gpus = tf.config.experimental.list_physical_devices('GPU')\n",
    "tf.config.experimental.set_visible_devices(gpus[-1], 'GPU')"
   ]
  },
  {
   "cell_type": "markdown",
   "metadata": {},
   "source": [
    "## Titanic data downloaded with csv files"
   ]
  },
  {
   "cell_type": "markdown",
   "metadata": {},
   "source": [
    "### Download training and testing csv files"
   ]
  },
  {
   "cell_type": "code",
   "execution_count": 3,
   "metadata": {},
   "outputs": [
    {
     "name": "stdout",
     "output_type": "stream",
     "text": [
      "--2020-05-12 18:00:10--  https://raw.githubusercontent.com/keras-team/autokeras/master/tests/fixtures/titanic/train.csv\n",
      "Resolving raw.githubusercontent.com (raw.githubusercontent.com)... 151.101.48.133\n",
      "Connecting to raw.githubusercontent.com (raw.githubusercontent.com)|151.101.48.133|:443... connected.\n",
      "HTTP request sent, awaiting response... 200 OK\n",
      "Length: 30874 (30K) [text/plain]\n",
      "Saving to: ‘train.csv’\n",
      "\n",
      "train.csv           100%[===================>]  30.15K  --.-KB/s    in 0.08s   \n",
      "\n",
      "2020-05-12 18:00:11 (372 KB/s) - ‘train.csv’ saved [30874/30874]\n",
      "\n",
      "--2020-05-12 18:00:11--  https://raw.githubusercontent.com/keras-team/autokeras/master/tests/fixtures/titanic/eval.csv\n",
      "Resolving raw.githubusercontent.com (raw.githubusercontent.com)... 151.101.48.133\n",
      "Connecting to raw.githubusercontent.com (raw.githubusercontent.com)|151.101.48.133|:443... connected.\n",
      "HTTP request sent, awaiting response... 200 OK\n",
      "Length: 13049 (13K) [text/plain]\n",
      "Saving to: ‘eval.csv’\n",
      "\n",
      "eval.csv            100%[===================>]  12.74K  --.-KB/s    in 0s      \n",
      "\n",
      "2020-05-12 18:00:11 (68.3 MB/s) - ‘eval.csv’ saved [13049/13049]\n",
      "\n"
     ]
    }
   ],
   "source": [
    "!wget https://raw.githubusercontent.com/keras-team/autokeras/master/tests/fixtures/titanic/train.csv\n",
    "!wget https://raw.githubusercontent.com/keras-team/autokeras/master/tests/fixtures/titanic/eval.csv"
   ]
  },
  {
   "cell_type": "markdown",
   "metadata": {},
   "source": [
    "### Run `StructuredDataClassifier` API"
   ]
  },
  {
   "cell_type": "code",
   "execution_count": 4,
   "metadata": {},
   "outputs": [
    {
     "name": "stdout",
     "output_type": "stream",
     "text": [
      "Train for 16 steps, validate for 4 steps\n",
      "Epoch 1/1000\n",
      "16/16 - 3s - loss: 1.4211 - accuracy: 0.5956 - val_loss: 0.6272 - val_accuracy: 0.7120\n",
      "Epoch 2/1000\n",
      "16/16 - 0s - loss: 0.8064 - accuracy: 0.6394 - val_loss: 0.4955 - val_accuracy: 0.7600\n",
      "Epoch 3/1000\n",
      "16/16 - 0s - loss: 0.6191 - accuracy: 0.6932 - val_loss: 0.5547 - val_accuracy: 0.7440\n",
      "Epoch 4/1000\n",
      "16/16 - 0s - loss: 0.6071 - accuracy: 0.7191 - val_loss: 0.5333 - val_accuracy: 0.7680\n",
      "Epoch 5/1000\n",
      "16/16 - 0s - loss: 0.6013 - accuracy: 0.7171 - val_loss: 0.5334 - val_accuracy: 0.7760\n",
      "Epoch 6/1000\n",
      "16/16 - 0s - loss: 0.5985 - accuracy: 0.7251 - val_loss: 0.5361 - val_accuracy: 0.7600\n",
      "Epoch 7/1000\n",
      "16/16 - 0s - loss: 0.6023 - accuracy: 0.7191 - val_loss: 0.5373 - val_accuracy: 0.7760\n",
      "Epoch 8/1000\n",
      "16/16 - 0s - loss: 0.6018 - accuracy: 0.7131 - val_loss: 0.5413 - val_accuracy: 0.7680\n",
      "Epoch 9/1000\n",
      "16/16 - 0s - loss: 0.6004 - accuracy: 0.7131 - val_loss: 0.5313 - val_accuracy: 0.7680\n",
      "Epoch 10/1000\n",
      "16/16 - 0s - loss: 0.5925 - accuracy: 0.7131 - val_loss: 0.5320 - val_accuracy: 0.7680\n",
      "Epoch 11/1000\n",
      "16/16 - 0s - loss: 0.5871 - accuracy: 0.7112 - val_loss: 0.5261 - val_accuracy: 0.7840\n",
      "Epoch 12/1000\n",
      "16/16 - 0s - loss: 0.5803 - accuracy: 0.7131 - val_loss: 0.5216 - val_accuracy: 0.7840\n"
     ]
    },
    {
     "data": {
      "text/html": [
       "<span style=\"color:#4527A0\"><h1 style=\"font-size:18px\">Trial complete</h1></span>"
      ],
      "text/plain": [
       "<IPython.core.display.HTML object>"
      ]
     },
     "metadata": {},
     "output_type": "display_data"
    },
    {
     "data": {
      "text/html": [
       "<span style=\"color:#4527A0\"><h1 style=\"font-size:18px\">Trial summary</h1></span>"
      ],
      "text/plain": [
       "<IPython.core.display.HTML object>"
      ]
     },
     "metadata": {},
     "output_type": "display_data"
    },
    {
     "data": {
      "text/html": [
       "<span style=\"color:cyan\"> |-Trial ID: 5ae91f361344698190efecb523a9e022</span>"
      ],
      "text/plain": [
       "<IPython.core.display.HTML object>"
      ]
     },
     "metadata": {},
     "output_type": "display_data"
    },
    {
     "data": {
      "text/html": [
       "<span style=\"color:cyan\"> |-Score: 0.7839999794960022</span>"
      ],
      "text/plain": [
       "<IPython.core.display.HTML object>"
      ]
     },
     "metadata": {},
     "output_type": "display_data"
    },
    {
     "data": {
      "text/html": [
       "<span style=\"color:cyan\"> |-Best step: 0</span>"
      ],
      "text/plain": [
       "<IPython.core.display.HTML object>"
      ]
     },
     "metadata": {},
     "output_type": "display_data"
    },
    {
     "data": {
      "text/html": [
       "<span style=\"color:#7E57C2\"><h2 style=\"font-size:16px\">Hyperparameters:</h2></span>"
      ],
      "text/plain": [
       "<IPython.core.display.HTML object>"
      ]
     },
     "metadata": {},
     "output_type": "display_data"
    },
    {
     "data": {
      "text/html": [
       "<span style=\"color:cyan\"> |-classification_head_1/dropout_rate: 0</span>"
      ],
      "text/plain": [
       "<IPython.core.display.HTML object>"
      ]
     },
     "metadata": {},
     "output_type": "display_data"
    },
    {
     "data": {
      "text/html": [
       "<span style=\"color:blue\"> |-optimizer: adam</span>"
      ],
      "text/plain": [
       "<IPython.core.display.HTML object>"
      ]
     },
     "metadata": {},
     "output_type": "display_data"
    },
    {
     "data": {
      "text/html": [
       "<span style=\"color:cyan\"> |-structured_data_block_1/dense_block_1/dropout_rate: 0</span>"
      ],
      "text/plain": [
       "<IPython.core.display.HTML object>"
      ]
     },
     "metadata": {},
     "output_type": "display_data"
    },
    {
     "data": {
      "text/html": [
       "<span style=\"color:blue\"> |-structured_data_block_1/dense_block_1/num_layers: 2</span>"
      ],
      "text/plain": [
       "<IPython.core.display.HTML object>"
      ]
     },
     "metadata": {},
     "output_type": "display_data"
    },
    {
     "data": {
      "text/html": [
       "<span style=\"color:cyan\"> |-structured_data_block_1/dense_block_1/units_0: 32</span>"
      ],
      "text/plain": [
       "<IPython.core.display.HTML object>"
      ]
     },
     "metadata": {},
     "output_type": "display_data"
    },
    {
     "data": {
      "text/html": [
       "<span style=\"color:blue\"> |-structured_data_block_1/dense_block_1/units_1: 32</span>"
      ],
      "text/plain": [
       "<IPython.core.display.HTML object>"
      ]
     },
     "metadata": {},
     "output_type": "display_data"
    },
    {
     "data": {
      "text/html": [
       "<span style=\"color:cyan\"> |-structured_data_block_1/dense_block_1/use_batchnorm: False</span>"
      ],
      "text/plain": [
       "<IPython.core.display.HTML object>"
      ]
     },
     "metadata": {},
     "output_type": "display_data"
    },
    {
     "name": "stdout",
     "output_type": "stream",
     "text": [
      "Train for 16 steps, validate for 4 steps\n",
      "Epoch 1/1000\n",
      "16/16 - 2s - loss: 0.6807 - accuracy: 0.5996 - val_loss: 0.6102 - val_accuracy: 0.7040\n",
      "Epoch 2/1000\n",
      "16/16 - 0s - loss: 0.6347 - accuracy: 0.6554 - val_loss: 0.6855 - val_accuracy: 0.6880\n",
      "Epoch 3/1000\n",
      "16/16 - 0s - loss: 0.5970 - accuracy: 0.6793 - val_loss: 0.6655 - val_accuracy: 0.6800\n",
      "Epoch 4/1000\n",
      "16/16 - 0s - loss: 0.5815 - accuracy: 0.6892 - val_loss: 0.6603 - val_accuracy: 0.6800\n",
      "Epoch 5/1000\n",
      "16/16 - 0s - loss: 0.5672 - accuracy: 0.7052 - val_loss: 0.6660 - val_accuracy: 0.6960\n",
      "Epoch 6/1000\n",
      "16/16 - 0s - loss: 0.5479 - accuracy: 0.7131 - val_loss: 0.6574 - val_accuracy: 0.6960\n",
      "Epoch 7/1000\n",
      "16/16 - 0s - loss: 0.5360 - accuracy: 0.7271 - val_loss: 0.6491 - val_accuracy: 0.7280\n",
      "Epoch 8/1000\n",
      "16/16 - 0s - loss: 0.5214 - accuracy: 0.7390 - val_loss: 0.6429 - val_accuracy: 0.7200\n",
      "Epoch 9/1000\n",
      "16/16 - 0s - loss: 0.5083 - accuracy: 0.7590 - val_loss: 0.6360 - val_accuracy: 0.7280\n",
      "Epoch 10/1000\n",
      "16/16 - 0s - loss: 0.4974 - accuracy: 0.7570 - val_loss: 0.6323 - val_accuracy: 0.7120\n",
      "Epoch 11/1000\n",
      "16/16 - 0s - loss: 0.4858 - accuracy: 0.7669 - val_loss: 0.6180 - val_accuracy: 0.7520\n"
     ]
    },
    {
     "data": {
      "text/html": [
       "<span style=\"color:#4527A0\"><h1 style=\"font-size:18px\">Trial complete</h1></span>"
      ],
      "text/plain": [
       "<IPython.core.display.HTML object>"
      ]
     },
     "metadata": {},
     "output_type": "display_data"
    },
    {
     "data": {
      "text/html": [
       "<span style=\"color:#4527A0\"><h1 style=\"font-size:18px\">Trial summary</h1></span>"
      ],
      "text/plain": [
       "<IPython.core.display.HTML object>"
      ]
     },
     "metadata": {},
     "output_type": "display_data"
    },
    {
     "data": {
      "text/html": [
       "<span style=\"color:cyan\"> |-Trial ID: 27108845b604530e95e37d2f12b63b8e</span>"
      ],
      "text/plain": [
       "<IPython.core.display.HTML object>"
      ]
     },
     "metadata": {},
     "output_type": "display_data"
    },
    {
     "data": {
      "text/html": [
       "<span style=\"color:cyan\"> |-Score: 0.7519999742507935</span>"
      ],
      "text/plain": [
       "<IPython.core.display.HTML object>"
      ]
     },
     "metadata": {},
     "output_type": "display_data"
    },
    {
     "data": {
      "text/html": [
       "<span style=\"color:cyan\"> |-Best step: 0</span>"
      ],
      "text/plain": [
       "<IPython.core.display.HTML object>"
      ]
     },
     "metadata": {},
     "output_type": "display_data"
    },
    {
     "data": {
      "text/html": [
       "<span style=\"color:#7E57C2\"><h2 style=\"font-size:16px\">Hyperparameters:</h2></span>"
      ],
      "text/plain": [
       "<IPython.core.display.HTML object>"
      ]
     },
     "metadata": {},
     "output_type": "display_data"
    },
    {
     "data": {
      "text/html": [
       "<span style=\"color:cyan\"> |-classification_head_1/dropout_rate: 0</span>"
      ],
      "text/plain": [
       "<IPython.core.display.HTML object>"
      ]
     },
     "metadata": {},
     "output_type": "display_data"
    },
    {
     "data": {
      "text/html": [
       "<span style=\"color:blue\"> |-optimizer: adam</span>"
      ],
      "text/plain": [
       "<IPython.core.display.HTML object>"
      ]
     },
     "metadata": {},
     "output_type": "display_data"
    },
    {
     "data": {
      "text/html": [
       "<span style=\"color:cyan\"> |-structured_data_block_1/dense_block_1/dropout_rate: 0.0</span>"
      ],
      "text/plain": [
       "<IPython.core.display.HTML object>"
      ]
     },
     "metadata": {},
     "output_type": "display_data"
    },
    {
     "data": {
      "text/html": [
       "<span style=\"color:blue\"> |-structured_data_block_1/dense_block_1/num_layers: 2</span>"
      ],
      "text/plain": [
       "<IPython.core.display.HTML object>"
      ]
     },
     "metadata": {},
     "output_type": "display_data"
    },
    {
     "data": {
      "text/html": [
       "<span style=\"color:cyan\"> |-structured_data_block_1/dense_block_1/units_0: 32</span>"
      ],
      "text/plain": [
       "<IPython.core.display.HTML object>"
      ]
     },
     "metadata": {},
     "output_type": "display_data"
    },
    {
     "data": {
      "text/html": [
       "<span style=\"color:blue\"> |-structured_data_block_1/dense_block_1/units_1: 256</span>"
      ],
      "text/plain": [
       "<IPython.core.display.HTML object>"
      ]
     },
     "metadata": {},
     "output_type": "display_data"
    },
    {
     "data": {
      "text/html": [
       "<span style=\"color:cyan\"> |-structured_data_block_1/dense_block_1/use_batchnorm: True</span>"
      ],
      "text/plain": [
       "<IPython.core.display.HTML object>"
      ]
     },
     "metadata": {},
     "output_type": "display_data"
    },
    {
     "name": "stdout",
     "output_type": "stream",
     "text": [
      "Train for 16 steps, validate for 4 steps\n",
      "Epoch 1/1000\n",
      "16/16 - 2s - loss: 1.2003 - accuracy: 0.5797 - val_loss: 0.5312 - val_accuracy: 0.7440\n",
      "Epoch 2/1000\n",
      "16/16 - 0s - loss: 0.7653 - accuracy: 0.6255 - val_loss: 0.5443 - val_accuracy: 0.7200\n",
      "Epoch 3/1000\n",
      "16/16 - 0s - loss: 0.6919 - accuracy: 0.6574 - val_loss: 0.6880 - val_accuracy: 0.7200\n",
      "Epoch 4/1000\n",
      "16/16 - 0s - loss: 0.6800 - accuracy: 0.6633 - val_loss: 0.7102 - val_accuracy: 0.7200\n",
      "Epoch 5/1000\n",
      "16/16 - 0s - loss: 0.6670 - accuracy: 0.6733 - val_loss: 0.6948 - val_accuracy: 0.7200\n",
      "Epoch 6/1000\n",
      "16/16 - 0s - loss: 0.6570 - accuracy: 0.6813 - val_loss: 0.6673 - val_accuracy: 0.7200\n",
      "Epoch 7/1000\n",
      "16/16 - 0s - loss: 0.6469 - accuracy: 0.6892 - val_loss: 0.6301 - val_accuracy: 0.7280\n",
      "Epoch 8/1000\n",
      "16/16 - 0s - loss: 0.6378 - accuracy: 0.6912 - val_loss: 0.6096 - val_accuracy: 0.7360\n",
      "Epoch 9/1000\n",
      "16/16 - 0s - loss: 0.6338 - accuracy: 0.6932 - val_loss: 0.5929 - val_accuracy: 0.7200\n",
      "Epoch 10/1000\n",
      "16/16 - 0s - loss: 0.6306 - accuracy: 0.6972 - val_loss: 0.5603 - val_accuracy: 0.7200\n",
      "Epoch 11/1000\n",
      "16/16 - 0s - loss: 0.6226 - accuracy: 0.6972 - val_loss: 0.5549 - val_accuracy: 0.7200\n"
     ]
    },
    {
     "data": {
      "text/html": [
       "<span style=\"color:#4527A0\"><h1 style=\"font-size:18px\">Trial complete</h1></span>"
      ],
      "text/plain": [
       "<IPython.core.display.HTML object>"
      ]
     },
     "metadata": {},
     "output_type": "display_data"
    },
    {
     "data": {
      "text/html": [
       "<span style=\"color:#4527A0\"><h1 style=\"font-size:18px\">Trial summary</h1></span>"
      ],
      "text/plain": [
       "<IPython.core.display.HTML object>"
      ]
     },
     "metadata": {},
     "output_type": "display_data"
    },
    {
     "data": {
      "text/html": [
       "<span style=\"color:cyan\"> |-Trial ID: 567efc09ec9fb8cc7316895f2d463d82</span>"
      ],
      "text/plain": [
       "<IPython.core.display.HTML object>"
      ]
     },
     "metadata": {},
     "output_type": "display_data"
    },
    {
     "data": {
      "text/html": [
       "<span style=\"color:cyan\"> |-Score: 0.7440000176429749</span>"
      ],
      "text/plain": [
       "<IPython.core.display.HTML object>"
      ]
     },
     "metadata": {},
     "output_type": "display_data"
    },
    {
     "data": {
      "text/html": [
       "<span style=\"color:cyan\"> |-Best step: 0</span>"
      ],
      "text/plain": [
       "<IPython.core.display.HTML object>"
      ]
     },
     "metadata": {},
     "output_type": "display_data"
    },
    {
     "data": {
      "text/html": [
       "<span style=\"color:#7E57C2\"><h2 style=\"font-size:16px\">Hyperparameters:</h2></span>"
      ],
      "text/plain": [
       "<IPython.core.display.HTML object>"
      ]
     },
     "metadata": {},
     "output_type": "display_data"
    },
    {
     "data": {
      "text/html": [
       "<span style=\"color:cyan\"> |-classification_head_1/dropout_rate: 0</span>"
      ],
      "text/plain": [
       "<IPython.core.display.HTML object>"
      ]
     },
     "metadata": {},
     "output_type": "display_data"
    },
    {
     "data": {
      "text/html": [
       "<span style=\"color:blue\"> |-optimizer: sgd</span>"
      ],
      "text/plain": [
       "<IPython.core.display.HTML object>"
      ]
     },
     "metadata": {},
     "output_type": "display_data"
    },
    {
     "data": {
      "text/html": [
       "<span style=\"color:cyan\"> |-structured_data_block_1/dense_block_1/dropout_rate: 0</span>"
      ],
      "text/plain": [
       "<IPython.core.display.HTML object>"
      ]
     },
     "metadata": {},
     "output_type": "display_data"
    },
    {
     "data": {
      "text/html": [
       "<span style=\"color:blue\"> |-structured_data_block_1/dense_block_1/num_layers: 2</span>"
      ],
      "text/plain": [
       "<IPython.core.display.HTML object>"
      ]
     },
     "metadata": {},
     "output_type": "display_data"
    },
    {
     "data": {
      "text/html": [
       "<span style=\"color:cyan\"> |-structured_data_block_1/dense_block_1/units_0: 32</span>"
      ],
      "text/plain": [
       "<IPython.core.display.HTML object>"
      ]
     },
     "metadata": {},
     "output_type": "display_data"
    },
    {
     "data": {
      "text/html": [
       "<span style=\"color:blue\"> |-structured_data_block_1/dense_block_1/units_1: 32</span>"
      ],
      "text/plain": [
       "<IPython.core.display.HTML object>"
      ]
     },
     "metadata": {},
     "output_type": "display_data"
    },
    {
     "data": {
      "text/html": [
       "<span style=\"color:cyan\"> |-structured_data_block_1/dense_block_1/use_batchnorm: False</span>"
      ],
      "text/plain": [
       "<IPython.core.display.HTML object>"
      ]
     },
     "metadata": {},
     "output_type": "display_data"
    },
    {
     "name": "stdout",
     "output_type": "stream",
     "text": [
      "Train for 16 steps, validate for 4 steps\n",
      "Epoch 1/1000\n",
      "16/16 - 3s - loss: 0.7193 - accuracy: 0.5717 - val_loss: 0.5923 - val_accuracy: 0.7280\n",
      "Epoch 2/1000\n",
      "16/16 - 0s - loss: 0.6304 - accuracy: 0.6554 - val_loss: 0.6207 - val_accuracy: 0.6640\n",
      "Epoch 3/1000\n",
      "16/16 - 0s - loss: 0.6127 - accuracy: 0.6673 - val_loss: 0.6273 - val_accuracy: 0.6640\n",
      "Epoch 4/1000\n",
      "16/16 - 0s - loss: 0.6025 - accuracy: 0.6813 - val_loss: 0.6254 - val_accuracy: 0.6640\n",
      "Epoch 5/1000\n",
      "16/16 - 0s - loss: 0.5945 - accuracy: 0.6873 - val_loss: 0.6207 - val_accuracy: 0.6720\n",
      "Epoch 6/1000\n",
      "16/16 - 0s - loss: 0.5870 - accuracy: 0.6853 - val_loss: 0.6132 - val_accuracy: 0.6720\n",
      "Epoch 7/1000\n",
      "16/16 - 0s - loss: 0.5802 - accuracy: 0.6912 - val_loss: 0.6068 - val_accuracy: 0.6720\n",
      "Epoch 8/1000\n",
      "16/16 - 0s - loss: 0.5728 - accuracy: 0.7072 - val_loss: 0.5988 - val_accuracy: 0.6640\n",
      "Epoch 9/1000\n",
      "16/16 - 0s - loss: 0.5657 - accuracy: 0.7052 - val_loss: 0.5916 - val_accuracy: 0.6720\n",
      "Epoch 10/1000\n",
      "16/16 - 0s - loss: 0.5580 - accuracy: 0.7112 - val_loss: 0.5808 - val_accuracy: 0.7040\n",
      "Epoch 11/1000\n",
      "16/16 - 0s - loss: 0.5507 - accuracy: 0.7052 - val_loss: 0.5733 - val_accuracy: 0.7280\n",
      "Epoch 12/1000\n",
      "16/16 - 0s - loss: 0.5420 - accuracy: 0.7131 - val_loss: 0.5642 - val_accuracy: 0.7520\n",
      "Epoch 13/1000\n",
      "16/16 - 0s - loss: 0.5334 - accuracy: 0.7251 - val_loss: 0.5547 - val_accuracy: 0.7600\n",
      "Epoch 14/1000\n",
      "16/16 - 0s - loss: 0.5246 - accuracy: 0.7231 - val_loss: 0.5448 - val_accuracy: 0.7440\n",
      "Epoch 15/1000\n",
      "16/16 - 0s - loss: 0.5155 - accuracy: 0.7351 - val_loss: 0.5318 - val_accuracy: 0.7520\n",
      "Epoch 16/1000\n",
      "16/16 - 0s - loss: 0.5057 - accuracy: 0.7510 - val_loss: 0.5186 - val_accuracy: 0.7600\n",
      "Epoch 17/1000\n",
      "16/16 - 0s - loss: 0.4967 - accuracy: 0.7689 - val_loss: 0.5073 - val_accuracy: 0.7600\n",
      "Epoch 18/1000\n",
      "16/16 - 0s - loss: 0.4875 - accuracy: 0.7749 - val_loss: 0.4954 - val_accuracy: 0.7600\n",
      "Epoch 19/1000\n",
      "16/16 - 0s - loss: 0.4797 - accuracy: 0.7809 - val_loss: 0.4855 - val_accuracy: 0.7680\n",
      "Epoch 20/1000\n",
      "16/16 - 0s - loss: 0.4720 - accuracy: 0.7829 - val_loss: 0.4761 - val_accuracy: 0.7760\n",
      "Epoch 21/1000\n",
      "16/16 - 0s - loss: 0.4655 - accuracy: 0.7869 - val_loss: 0.4677 - val_accuracy: 0.7760\n",
      "Epoch 22/1000\n",
      "16/16 - 1s - loss: 0.4599 - accuracy: 0.7908 - val_loss: 0.4607 - val_accuracy: 0.7840\n",
      "Epoch 23/1000\n",
      "16/16 - 0s - loss: 0.4544 - accuracy: 0.7988 - val_loss: 0.4529 - val_accuracy: 0.7840\n",
      "Epoch 24/1000\n",
      "16/16 - 0s - loss: 0.4496 - accuracy: 0.7988 - val_loss: 0.4466 - val_accuracy: 0.7760\n",
      "Epoch 25/1000\n",
      "16/16 - 1s - loss: 0.4447 - accuracy: 0.8088 - val_loss: 0.4401 - val_accuracy: 0.8080\n",
      "Epoch 26/1000\n",
      "16/16 - 0s - loss: 0.4405 - accuracy: 0.8088 - val_loss: 0.4357 - val_accuracy: 0.8400\n",
      "Epoch 27/1000\n",
      "16/16 - 0s - loss: 0.4360 - accuracy: 0.8127 - val_loss: 0.4306 - val_accuracy: 0.8400\n",
      "Epoch 28/1000\n",
      "16/16 - 0s - loss: 0.4319 - accuracy: 0.8088 - val_loss: 0.4271 - val_accuracy: 0.8400\n",
      "Epoch 29/1000\n",
      "16/16 - 0s - loss: 0.4282 - accuracy: 0.8147 - val_loss: 0.4235 - val_accuracy: 0.8400\n",
      "Epoch 30/1000\n",
      "16/16 - 0s - loss: 0.4241 - accuracy: 0.8127 - val_loss: 0.4207 - val_accuracy: 0.8560\n",
      "Epoch 31/1000\n",
      "16/16 - 0s - loss: 0.4207 - accuracy: 0.8167 - val_loss: 0.4199 - val_accuracy: 0.8400\n",
      "Epoch 32/1000\n",
      "16/16 - 0s - loss: 0.4165 - accuracy: 0.8247 - val_loss: 0.4174 - val_accuracy: 0.8320\n",
      "Epoch 33/1000\n",
      "16/16 - 0s - loss: 0.4130 - accuracy: 0.8267 - val_loss: 0.4160 - val_accuracy: 0.8240\n",
      "Epoch 34/1000\n",
      "16/16 - 0s - loss: 0.4095 - accuracy: 0.8307 - val_loss: 0.4138 - val_accuracy: 0.8240\n",
      "Epoch 35/1000\n",
      "16/16 - 0s - loss: 0.4060 - accuracy: 0.8307 - val_loss: 0.4117 - val_accuracy: 0.8240\n",
      "Epoch 36/1000\n",
      "16/16 - 0s - loss: 0.4027 - accuracy: 0.8327 - val_loss: 0.4106 - val_accuracy: 0.8240\n",
      "Epoch 37/1000\n",
      "16/16 - 0s - loss: 0.3993 - accuracy: 0.8327 - val_loss: 0.4099 - val_accuracy: 0.8160\n",
      "Epoch 38/1000\n",
      "16/16 - 0s - loss: 0.3956 - accuracy: 0.8386 - val_loss: 0.4080 - val_accuracy: 0.8160\n",
      "Epoch 39/1000\n",
      "16/16 - 0s - loss: 0.3922 - accuracy: 0.8367 - val_loss: 0.4088 - val_accuracy: 0.8160\n",
      "Epoch 40/1000\n",
      "16/16 - 0s - loss: 0.3887 - accuracy: 0.8406 - val_loss: 0.4065 - val_accuracy: 0.8160\n",
      "Epoch 41/1000\n",
      "16/16 - 0s - loss: 0.3847 - accuracy: 0.8386 - val_loss: 0.4061 - val_accuracy: 0.8160\n",
      "Epoch 42/1000\n",
      "16/16 - 0s - loss: 0.3817 - accuracy: 0.8386 - val_loss: 0.4043 - val_accuracy: 0.8080\n",
      "Epoch 43/1000\n",
      "16/16 - 0s - loss: 0.3784 - accuracy: 0.8386 - val_loss: 0.4032 - val_accuracy: 0.8080\n",
      "Epoch 44/1000\n",
      "16/16 - 0s - loss: 0.3751 - accuracy: 0.8446 - val_loss: 0.3985 - val_accuracy: 0.8160\n",
      "Epoch 45/1000\n",
      "16/16 - 0s - loss: 0.3721 - accuracy: 0.8426 - val_loss: 0.4009 - val_accuracy: 0.8160\n",
      "Epoch 46/1000\n",
      "16/16 - 0s - loss: 0.3695 - accuracy: 0.8426 - val_loss: 0.3967 - val_accuracy: 0.8160\n",
      "Epoch 47/1000\n",
      "16/16 - 0s - loss: 0.3659 - accuracy: 0.8466 - val_loss: 0.3965 - val_accuracy: 0.8240\n",
      "Epoch 48/1000\n",
      "16/16 - 0s - loss: 0.3639 - accuracy: 0.8446 - val_loss: 0.3967 - val_accuracy: 0.8240\n",
      "Epoch 49/1000\n",
      "16/16 - 0s - loss: 0.3605 - accuracy: 0.8466 - val_loss: 0.3965 - val_accuracy: 0.8080\n",
      "Epoch 50/1000\n",
      "16/16 - 0s - loss: 0.3582 - accuracy: 0.8546 - val_loss: 0.3965 - val_accuracy: 0.8160\n",
      "Epoch 51/1000\n",
      "16/16 - 0s - loss: 0.3553 - accuracy: 0.8586 - val_loss: 0.3954 - val_accuracy: 0.8000\n",
      "Epoch 52/1000\n",
      "16/16 - 0s - loss: 0.3526 - accuracy: 0.8566 - val_loss: 0.3953 - val_accuracy: 0.8000\n",
      "Epoch 53/1000\n",
      "16/16 - 0s - loss: 0.3500 - accuracy: 0.8606 - val_loss: 0.3954 - val_accuracy: 0.7920\n",
      "Epoch 54/1000\n",
      "16/16 - 0s - loss: 0.3476 - accuracy: 0.8625 - val_loss: 0.3990 - val_accuracy: 0.7920\n",
      "Epoch 55/1000\n",
      "16/16 - 0s - loss: 0.3445 - accuracy: 0.8625 - val_loss: 0.3944 - val_accuracy: 0.7920\n",
      "Epoch 56/1000\n",
      "16/16 - 0s - loss: 0.3424 - accuracy: 0.8665 - val_loss: 0.3961 - val_accuracy: 0.7920\n",
      "Epoch 57/1000\n",
      "16/16 - 0s - loss: 0.3391 - accuracy: 0.8705 - val_loss: 0.3947 - val_accuracy: 0.8080\n",
      "Epoch 58/1000\n",
      "16/16 - 0s - loss: 0.3371 - accuracy: 0.8725 - val_loss: 0.3962 - val_accuracy: 0.8080\n",
      "Epoch 59/1000\n",
      "16/16 - 0s - loss: 0.3342 - accuracy: 0.8785 - val_loss: 0.3925 - val_accuracy: 0.8160\n",
      "Epoch 60/1000\n",
      "16/16 - 0s - loss: 0.3321 - accuracy: 0.8765 - val_loss: 0.3944 - val_accuracy: 0.8000\n",
      "Epoch 61/1000\n",
      "16/16 - 0s - loss: 0.3295 - accuracy: 0.8785 - val_loss: 0.3921 - val_accuracy: 0.8080\n",
      "Epoch 62/1000\n",
      "16/16 - 0s - loss: 0.3274 - accuracy: 0.8805 - val_loss: 0.3941 - val_accuracy: 0.8160\n",
      "Epoch 63/1000\n",
      "16/16 - 0s - loss: 0.3245 - accuracy: 0.8805 - val_loss: 0.3930 - val_accuracy: 0.8080\n",
      "Epoch 64/1000\n",
      "16/16 - 0s - loss: 0.3220 - accuracy: 0.8805 - val_loss: 0.3922 - val_accuracy: 0.8240\n",
      "Epoch 65/1000\n",
      "16/16 - 0s - loss: 0.3197 - accuracy: 0.8805 - val_loss: 0.3898 - val_accuracy: 0.8240\n",
      "Epoch 66/1000\n",
      "16/16 - 0s - loss: 0.3169 - accuracy: 0.8825 - val_loss: 0.3909 - val_accuracy: 0.8160\n",
      "Epoch 67/1000\n",
      "16/16 - 0s - loss: 0.3146 - accuracy: 0.8865 - val_loss: 0.3929 - val_accuracy: 0.8160\n",
      "Epoch 68/1000\n",
      "16/16 - 0s - loss: 0.3121 - accuracy: 0.8845 - val_loss: 0.3905 - val_accuracy: 0.8160\n",
      "Epoch 69/1000\n",
      "16/16 - 0s - loss: 0.3094 - accuracy: 0.8884 - val_loss: 0.3932 - val_accuracy: 0.8080\n",
      "Epoch 70/1000\n",
      "16/16 - 0s - loss: 0.3073 - accuracy: 0.8865 - val_loss: 0.3923 - val_accuracy: 0.8160\n",
      "Epoch 71/1000\n",
      "16/16 - 0s - loss: 0.3048 - accuracy: 0.8845 - val_loss: 0.3901 - val_accuracy: 0.8160\n",
      "Epoch 72/1000\n",
      "16/16 - 0s - loss: 0.3021 - accuracy: 0.8884 - val_loss: 0.3923 - val_accuracy: 0.8160\n",
      "Epoch 73/1000\n",
      "16/16 - 0s - loss: 0.2999 - accuracy: 0.8944 - val_loss: 0.3908 - val_accuracy: 0.8160\n",
      "Epoch 74/1000\n",
      "16/16 - 0s - loss: 0.2981 - accuracy: 0.9004 - val_loss: 0.3901 - val_accuracy: 0.8160\n",
      "Epoch 75/1000\n",
      "16/16 - 0s - loss: 0.2948 - accuracy: 0.9004 - val_loss: 0.3891 - val_accuracy: 0.8080\n",
      "Epoch 76/1000\n",
      "16/16 - 0s - loss: 0.2931 - accuracy: 0.9004 - val_loss: 0.3898 - val_accuracy: 0.8160\n",
      "Epoch 77/1000\n",
      "16/16 - 0s - loss: 0.2906 - accuracy: 0.9044 - val_loss: 0.3895 - val_accuracy: 0.8160\n",
      "Epoch 78/1000\n",
      "16/16 - 0s - loss: 0.2890 - accuracy: 0.9044 - val_loss: 0.3902 - val_accuracy: 0.8160\n",
      "Epoch 79/1000\n",
      "16/16 - 0s - loss: 0.2860 - accuracy: 0.9044 - val_loss: 0.3917 - val_accuracy: 0.8160\n",
      "Epoch 80/1000\n",
      "16/16 - 0s - loss: 0.2845 - accuracy: 0.9064 - val_loss: 0.3934 - val_accuracy: 0.8160\n",
      "Epoch 81/1000\n",
      "16/16 - 0s - loss: 0.2815 - accuracy: 0.9064 - val_loss: 0.3956 - val_accuracy: 0.8160\n"
     ]
    },
    {
     "name": "stdout",
     "output_type": "stream",
     "text": [
      "Epoch 82/1000\n",
      "16/16 - 0s - loss: 0.2801 - accuracy: 0.9104 - val_loss: 0.3953 - val_accuracy: 0.8160\n",
      "Epoch 83/1000\n",
      "16/16 - 0s - loss: 0.2775 - accuracy: 0.9064 - val_loss: 0.3944 - val_accuracy: 0.8160\n",
      "Epoch 84/1000\n",
      "16/16 - 0s - loss: 0.2765 - accuracy: 0.9084 - val_loss: 0.3960 - val_accuracy: 0.8160\n",
      "Epoch 85/1000\n",
      "16/16 - 0s - loss: 0.2734 - accuracy: 0.9104 - val_loss: 0.3976 - val_accuracy: 0.8160\n"
     ]
    },
    {
     "data": {
      "text/html": [
       "<span style=\"color:#4527A0\"><h1 style=\"font-size:18px\">Trial complete</h1></span>"
      ],
      "text/plain": [
       "<IPython.core.display.HTML object>"
      ]
     },
     "metadata": {},
     "output_type": "display_data"
    },
    {
     "data": {
      "text/html": [
       "<span style=\"color:#4527A0\"><h1 style=\"font-size:18px\">Trial summary</h1></span>"
      ],
      "text/plain": [
       "<IPython.core.display.HTML object>"
      ]
     },
     "metadata": {},
     "output_type": "display_data"
    },
    {
     "data": {
      "text/html": [
       "<span style=\"color:cyan\"> |-Trial ID: 61511153699b94955e706f1a01cc33c6</span>"
      ],
      "text/plain": [
       "<IPython.core.display.HTML object>"
      ]
     },
     "metadata": {},
     "output_type": "display_data"
    },
    {
     "data": {
      "text/html": [
       "<span style=\"color:cyan\"> |-Score: 0.8560000061988831</span>"
      ],
      "text/plain": [
       "<IPython.core.display.HTML object>"
      ]
     },
     "metadata": {},
     "output_type": "display_data"
    },
    {
     "data": {
      "text/html": [
       "<span style=\"color:cyan\"> |-Best step: 0</span>"
      ],
      "text/plain": [
       "<IPython.core.display.HTML object>"
      ]
     },
     "metadata": {},
     "output_type": "display_data"
    },
    {
     "data": {
      "text/html": [
       "<span style=\"color:#7E57C2\"><h2 style=\"font-size:16px\">Hyperparameters:</h2></span>"
      ],
      "text/plain": [
       "<IPython.core.display.HTML object>"
      ]
     },
     "metadata": {},
     "output_type": "display_data"
    },
    {
     "data": {
      "text/html": [
       "<span style=\"color:cyan\"> |-classification_head_1/dropout_rate: 0</span>"
      ],
      "text/plain": [
       "<IPython.core.display.HTML object>"
      ]
     },
     "metadata": {},
     "output_type": "display_data"
    },
    {
     "data": {
      "text/html": [
       "<span style=\"color:blue\"> |-optimizer: adam</span>"
      ],
      "text/plain": [
       "<IPython.core.display.HTML object>"
      ]
     },
     "metadata": {},
     "output_type": "display_data"
    },
    {
     "data": {
      "text/html": [
       "<span style=\"color:cyan\"> |-structured_data_block_1/dense_block_1/dropout_rate: 0.0</span>"
      ],
      "text/plain": [
       "<IPython.core.display.HTML object>"
      ]
     },
     "metadata": {},
     "output_type": "display_data"
    },
    {
     "data": {
      "text/html": [
       "<span style=\"color:blue\"> |-structured_data_block_1/dense_block_1/num_layers: 2</span>"
      ],
      "text/plain": [
       "<IPython.core.display.HTML object>"
      ]
     },
     "metadata": {},
     "output_type": "display_data"
    },
    {
     "data": {
      "text/html": [
       "<span style=\"color:cyan\"> |-structured_data_block_1/dense_block_1/units_0: 16</span>"
      ],
      "text/plain": [
       "<IPython.core.display.HTML object>"
      ]
     },
     "metadata": {},
     "output_type": "display_data"
    },
    {
     "data": {
      "text/html": [
       "<span style=\"color:blue\"> |-structured_data_block_1/dense_block_1/units_1: 128</span>"
      ],
      "text/plain": [
       "<IPython.core.display.HTML object>"
      ]
     },
     "metadata": {},
     "output_type": "display_data"
    },
    {
     "data": {
      "text/html": [
       "<span style=\"color:cyan\"> |-structured_data_block_1/dense_block_1/use_batchnorm: True</span>"
      ],
      "text/plain": [
       "<IPython.core.display.HTML object>"
      ]
     },
     "metadata": {},
     "output_type": "display_data"
    },
    {
     "name": "stdout",
     "output_type": "stream",
     "text": [
      "Train for 16 steps, validate for 4 steps\n",
      "Epoch 1/1000\n",
      "16/16 - 2s - loss: 1.1916 - accuracy: 0.5378 - val_loss: 0.6308 - val_accuracy: 0.6880\n",
      "Epoch 2/1000\n",
      "16/16 - 0s - loss: 0.7968 - accuracy: 0.6016 - val_loss: 0.6156 - val_accuracy: 0.6720\n",
      "Epoch 3/1000\n",
      "16/16 - 0s - loss: 0.7725 - accuracy: 0.6056 - val_loss: 0.6120 - val_accuracy: 0.7120\n",
      "Epoch 4/1000\n",
      "16/16 - 1s - loss: 0.6564 - accuracy: 0.6375 - val_loss: 0.6179 - val_accuracy: 0.7360\n",
      "Epoch 5/1000\n",
      "16/16 - 0s - loss: 0.6989 - accuracy: 0.6335 - val_loss: 0.6097 - val_accuracy: 0.7200\n",
      "Epoch 6/1000\n",
      "16/16 - 0s - loss: 0.7075 - accuracy: 0.5996 - val_loss: 0.6169 - val_accuracy: 0.6720\n",
      "Epoch 7/1000\n",
      "16/16 - 0s - loss: 0.6680 - accuracy: 0.6116 - val_loss: 0.5992 - val_accuracy: 0.6720\n",
      "Epoch 8/1000\n",
      "16/16 - 0s - loss: 0.6439 - accuracy: 0.6275 - val_loss: 0.5691 - val_accuracy: 0.7040\n",
      "Epoch 9/1000\n",
      "16/16 - 0s - loss: 0.6776 - accuracy: 0.6155 - val_loss: 0.5779 - val_accuracy: 0.6880\n",
      "Epoch 10/1000\n",
      "16/16 - 0s - loss: 0.6664 - accuracy: 0.6195 - val_loss: 0.5980 - val_accuracy: 0.6640\n",
      "Epoch 11/1000\n",
      "16/16 - 0s - loss: 0.6382 - accuracy: 0.6155 - val_loss: 0.5892 - val_accuracy: 0.6640\n",
      "Epoch 12/1000\n",
      "16/16 - 0s - loss: 0.6584 - accuracy: 0.6175 - val_loss: 0.5882 - val_accuracy: 0.6640\n",
      "Epoch 13/1000\n",
      "16/16 - 0s - loss: 0.6656 - accuracy: 0.6155 - val_loss: 0.5822 - val_accuracy: 0.6640\n",
      "Epoch 14/1000\n",
      "16/16 - 0s - loss: 0.6380 - accuracy: 0.6056 - val_loss: 0.5886 - val_accuracy: 0.6640\n",
      "Epoch 15/1000\n",
      "16/16 - 0s - loss: 0.6413 - accuracy: 0.6394 - val_loss: 0.5811 - val_accuracy: 0.6640\n",
      "Epoch 16/1000\n",
      "16/16 - 0s - loss: 0.6485 - accuracy: 0.6255 - val_loss: 0.5791 - val_accuracy: 0.6640\n",
      "Epoch 17/1000\n",
      "16/16 - 0s - loss: 0.6509 - accuracy: 0.5857 - val_loss: 0.5760 - val_accuracy: 0.6640\n",
      "Epoch 18/1000\n",
      "16/16 - 0s - loss: 0.6550 - accuracy: 0.6016 - val_loss: 0.5703 - val_accuracy: 0.6640\n"
     ]
    },
    {
     "data": {
      "text/html": [
       "<span style=\"color:#4527A0\"><h1 style=\"font-size:18px\">Trial complete</h1></span>"
      ],
      "text/plain": [
       "<IPython.core.display.HTML object>"
      ]
     },
     "metadata": {},
     "output_type": "display_data"
    },
    {
     "data": {
      "text/html": [
       "<span style=\"color:#4527A0\"><h1 style=\"font-size:18px\">Trial summary</h1></span>"
      ],
      "text/plain": [
       "<IPython.core.display.HTML object>"
      ]
     },
     "metadata": {},
     "output_type": "display_data"
    },
    {
     "data": {
      "text/html": [
       "<span style=\"color:cyan\"> |-Trial ID: bf9549190802cbe9eae4131af5d899d7</span>"
      ],
      "text/plain": [
       "<IPython.core.display.HTML object>"
      ]
     },
     "metadata": {},
     "output_type": "display_data"
    },
    {
     "data": {
      "text/html": [
       "<span style=\"color:cyan\"> |-Score: 0.7360000014305115</span>"
      ],
      "text/plain": [
       "<IPython.core.display.HTML object>"
      ]
     },
     "metadata": {},
     "output_type": "display_data"
    },
    {
     "data": {
      "text/html": [
       "<span style=\"color:cyan\"> |-Best step: 0</span>"
      ],
      "text/plain": [
       "<IPython.core.display.HTML object>"
      ]
     },
     "metadata": {},
     "output_type": "display_data"
    },
    {
     "data": {
      "text/html": [
       "<span style=\"color:#7E57C2\"><h2 style=\"font-size:16px\">Hyperparameters:</h2></span>"
      ],
      "text/plain": [
       "<IPython.core.display.HTML object>"
      ]
     },
     "metadata": {},
     "output_type": "display_data"
    },
    {
     "data": {
      "text/html": [
       "<span style=\"color:cyan\"> |-classification_head_1/dropout_rate: 0</span>"
      ],
      "text/plain": [
       "<IPython.core.display.HTML object>"
      ]
     },
     "metadata": {},
     "output_type": "display_data"
    },
    {
     "data": {
      "text/html": [
       "<span style=\"color:blue\"> |-optimizer: adam</span>"
      ],
      "text/plain": [
       "<IPython.core.display.HTML object>"
      ]
     },
     "metadata": {},
     "output_type": "display_data"
    },
    {
     "data": {
      "text/html": [
       "<span style=\"color:cyan\"> |-structured_data_block_1/dense_block_1/dropout_rate: 0.25</span>"
      ],
      "text/plain": [
       "<IPython.core.display.HTML object>"
      ]
     },
     "metadata": {},
     "output_type": "display_data"
    },
    {
     "data": {
      "text/html": [
       "<span style=\"color:blue\"> |-structured_data_block_1/dense_block_1/num_layers: 3</span>"
      ],
      "text/plain": [
       "<IPython.core.display.HTML object>"
      ]
     },
     "metadata": {},
     "output_type": "display_data"
    },
    {
     "data": {
      "text/html": [
       "<span style=\"color:cyan\"> |-structured_data_block_1/dense_block_1/units_0: 256</span>"
      ],
      "text/plain": [
       "<IPython.core.display.HTML object>"
      ]
     },
     "metadata": {},
     "output_type": "display_data"
    },
    {
     "data": {
      "text/html": [
       "<span style=\"color:blue\"> |-structured_data_block_1/dense_block_1/units_1: 16</span>"
      ],
      "text/plain": [
       "<IPython.core.display.HTML object>"
      ]
     },
     "metadata": {},
     "output_type": "display_data"
    },
    {
     "data": {
      "text/html": [
       "<span style=\"color:cyan\"> |-structured_data_block_1/dense_block_1/units_2: 32</span>"
      ],
      "text/plain": [
       "<IPython.core.display.HTML object>"
      ]
     },
     "metadata": {},
     "output_type": "display_data"
    },
    {
     "data": {
      "text/html": [
       "<span style=\"color:blue\"> |-structured_data_block_1/dense_block_1/use_batchnorm: False</span>"
      ],
      "text/plain": [
       "<IPython.core.display.HTML object>"
      ]
     },
     "metadata": {},
     "output_type": "display_data"
    },
    {
     "name": "stdout",
     "output_type": "stream",
     "text": [
      "Train for 16 steps, validate for 4 steps\n",
      "Epoch 1/1000\n",
      "16/16 - 3s - loss: 0.8019 - accuracy: 0.6394 - val_loss: 0.6698 - val_accuracy: 0.6720\n",
      "Epoch 2/1000\n",
      "16/16 - 0s - loss: 0.6306 - accuracy: 0.6813 - val_loss: 0.6428 - val_accuracy: 0.7600\n",
      "Epoch 3/1000\n",
      "16/16 - 0s - loss: 0.6265 - accuracy: 0.6892 - val_loss: 0.6688 - val_accuracy: 0.7280\n",
      "Epoch 4/1000\n",
      "16/16 - 0s - loss: 0.5599 - accuracy: 0.7490 - val_loss: 0.7143 - val_accuracy: 0.6800\n",
      "Epoch 5/1000\n",
      "16/16 - 0s - loss: 0.5094 - accuracy: 0.7629 - val_loss: 0.7007 - val_accuracy: 0.6960\n",
      "Epoch 6/1000\n",
      "16/16 - 0s - loss: 0.4749 - accuracy: 0.7869 - val_loss: 0.6663 - val_accuracy: 0.7520\n",
      "Epoch 7/1000\n",
      "16/16 - 1s - loss: 0.4430 - accuracy: 0.7988 - val_loss: 0.5999 - val_accuracy: 0.8160\n",
      "Epoch 8/1000\n",
      "16/16 - 0s - loss: 0.4067 - accuracy: 0.8287 - val_loss: 0.5727 - val_accuracy: 0.7760\n",
      "Epoch 9/1000\n",
      "16/16 - 1s - loss: 0.3901 - accuracy: 0.8406 - val_loss: 0.5478 - val_accuracy: 0.8240\n",
      "Epoch 10/1000\n",
      "16/16 - 0s - loss: 0.3719 - accuracy: 0.8367 - val_loss: 0.4796 - val_accuracy: 0.8560\n",
      "Epoch 11/1000\n",
      "16/16 - 0s - loss: 0.3628 - accuracy: 0.8466 - val_loss: 0.4508 - val_accuracy: 0.8400\n",
      "Epoch 12/1000\n",
      "16/16 - 0s - loss: 0.3435 - accuracy: 0.8586 - val_loss: 0.4358 - val_accuracy: 0.8320\n",
      "Epoch 13/1000\n",
      "16/16 - 0s - loss: 0.3305 - accuracy: 0.8586 - val_loss: 0.4308 - val_accuracy: 0.8560\n",
      "Epoch 14/1000\n",
      "16/16 - 0s - loss: 0.3170 - accuracy: 0.8665 - val_loss: 0.4161 - val_accuracy: 0.8320\n",
      "Epoch 15/1000\n",
      "16/16 - 0s - loss: 0.2995 - accuracy: 0.8725 - val_loss: 0.4060 - val_accuracy: 0.8320\n",
      "Epoch 16/1000\n",
      "16/16 - 0s - loss: 0.3086 - accuracy: 0.8725 - val_loss: 0.3999 - val_accuracy: 0.8320\n",
      "Epoch 17/1000\n",
      "16/16 - 0s - loss: 0.2946 - accuracy: 0.8745 - val_loss: 0.4073 - val_accuracy: 0.8320\n",
      "Epoch 18/1000\n",
      "16/16 - 0s - loss: 0.2904 - accuracy: 0.8805 - val_loss: 0.5098 - val_accuracy: 0.8080\n",
      "Epoch 19/1000\n",
      "16/16 - 0s - loss: 0.2832 - accuracy: 0.8964 - val_loss: 0.5997 - val_accuracy: 0.8080\n",
      "Epoch 20/1000\n",
      "16/16 - 0s - loss: 0.3112 - accuracy: 0.8665 - val_loss: 0.4840 - val_accuracy: 0.8160\n",
      "Epoch 21/1000\n",
      "16/16 - 0s - loss: 0.2809 - accuracy: 0.8964 - val_loss: 0.3603 - val_accuracy: 0.8560\n",
      "Epoch 22/1000\n",
      "16/16 - 0s - loss: 0.3068 - accuracy: 0.8665 - val_loss: 0.5958 - val_accuracy: 0.7920\n",
      "Epoch 23/1000\n",
      "16/16 - 0s - loss: 0.3014 - accuracy: 0.8725 - val_loss: 0.4682 - val_accuracy: 0.8080\n",
      "Epoch 24/1000\n",
      "16/16 - 0s - loss: 0.3055 - accuracy: 0.8805 - val_loss: 0.5330 - val_accuracy: 0.8000\n",
      "Epoch 25/1000\n",
      "16/16 - 0s - loss: 0.2979 - accuracy: 0.8865 - val_loss: 0.4698 - val_accuracy: 0.8480\n",
      "Epoch 26/1000\n",
      "16/16 - 0s - loss: 0.2512 - accuracy: 0.9124 - val_loss: 0.7646 - val_accuracy: 0.7760\n",
      "Epoch 27/1000\n",
      "16/16 - 0s - loss: 0.2106 - accuracy: 0.9263 - val_loss: 0.8275 - val_accuracy: 0.7920\n",
      "Epoch 28/1000\n",
      "16/16 - 0s - loss: 0.2252 - accuracy: 0.9064 - val_loss: 0.9279 - val_accuracy: 0.8400\n",
      "Epoch 29/1000\n",
      "16/16 - 0s - loss: 0.2264 - accuracy: 0.9084 - val_loss: 1.1023 - val_accuracy: 0.8320\n",
      "Epoch 30/1000\n",
      "16/16 - 0s - loss: 0.2157 - accuracy: 0.9203 - val_loss: 1.2268 - val_accuracy: 0.8320\n",
      "Epoch 31/1000\n",
      "16/16 - 0s - loss: 0.2351 - accuracy: 0.8964 - val_loss: 0.6298 - val_accuracy: 0.8320\n"
     ]
    },
    {
     "data": {
      "text/html": [
       "<span style=\"color:#4527A0\"><h1 style=\"font-size:18px\">Trial complete</h1></span>"
      ],
      "text/plain": [
       "<IPython.core.display.HTML object>"
      ]
     },
     "metadata": {},
     "output_type": "display_data"
    },
    {
     "data": {
      "text/html": [
       "<span style=\"color:#4527A0\"><h1 style=\"font-size:18px\">Trial summary</h1></span>"
      ],
      "text/plain": [
       "<IPython.core.display.HTML object>"
      ]
     },
     "metadata": {},
     "output_type": "display_data"
    },
    {
     "data": {
      "text/html": [
       "<span style=\"color:cyan\"> |-Trial ID: 659905a60d3040d3d536a3376a401d4a</span>"
      ],
      "text/plain": [
       "<IPython.core.display.HTML object>"
      ]
     },
     "metadata": {},
     "output_type": "display_data"
    },
    {
     "data": {
      "text/html": [
       "<span style=\"color:cyan\"> |-Score: 0.8560000061988831</span>"
      ],
      "text/plain": [
       "<IPython.core.display.HTML object>"
      ]
     },
     "metadata": {},
     "output_type": "display_data"
    },
    {
     "data": {
      "text/html": [
       "<span style=\"color:cyan\"> |-Best step: 0</span>"
      ],
      "text/plain": [
       "<IPython.core.display.HTML object>"
      ]
     },
     "metadata": {},
     "output_type": "display_data"
    },
    {
     "data": {
      "text/html": [
       "<span style=\"color:#7E57C2\"><h2 style=\"font-size:16px\">Hyperparameters:</h2></span>"
      ],
      "text/plain": [
       "<IPython.core.display.HTML object>"
      ]
     },
     "metadata": {},
     "output_type": "display_data"
    },
    {
     "data": {
      "text/html": [
       "<span style=\"color:cyan\"> |-classification_head_1/dropout_rate: 0</span>"
      ],
      "text/plain": [
       "<IPython.core.display.HTML object>"
      ]
     },
     "metadata": {},
     "output_type": "display_data"
    },
    {
     "data": {
      "text/html": [
       "<span style=\"color:blue\"> |-optimizer: adam</span>"
      ],
      "text/plain": [
       "<IPython.core.display.HTML object>"
      ]
     },
     "metadata": {},
     "output_type": "display_data"
    },
    {
     "data": {
      "text/html": [
       "<span style=\"color:cyan\"> |-structured_data_block_1/dense_block_1/dropout_rate: 0.0</span>"
      ],
      "text/plain": [
       "<IPython.core.display.HTML object>"
      ]
     },
     "metadata": {},
     "output_type": "display_data"
    },
    {
     "data": {
      "text/html": [
       "<span style=\"color:blue\"> |-structured_data_block_1/dense_block_1/num_layers: 3</span>"
      ],
      "text/plain": [
       "<IPython.core.display.HTML object>"
      ]
     },
     "metadata": {},
     "output_type": "display_data"
    },
    {
     "data": {
      "text/html": [
       "<span style=\"color:cyan\"> |-structured_data_block_1/dense_block_1/units_0: 512</span>"
      ],
      "text/plain": [
       "<IPython.core.display.HTML object>"
      ]
     },
     "metadata": {},
     "output_type": "display_data"
    },
    {
     "data": {
      "text/html": [
       "<span style=\"color:blue\"> |-structured_data_block_1/dense_block_1/units_1: 128</span>"
      ],
      "text/plain": [
       "<IPython.core.display.HTML object>"
      ]
     },
     "metadata": {},
     "output_type": "display_data"
    },
    {
     "data": {
      "text/html": [
       "<span style=\"color:cyan\"> |-structured_data_block_1/dense_block_1/units_2: 1024</span>"
      ],
      "text/plain": [
       "<IPython.core.display.HTML object>"
      ]
     },
     "metadata": {},
     "output_type": "display_data"
    },
    {
     "data": {
      "text/html": [
       "<span style=\"color:blue\"> |-structured_data_block_1/dense_block_1/use_batchnorm: True</span>"
      ],
      "text/plain": [
       "<IPython.core.display.HTML object>"
      ]
     },
     "metadata": {},
     "output_type": "display_data"
    },
    {
     "name": "stdout",
     "output_type": "stream",
     "text": [
      "Train for 16 steps, validate for 4 steps\n",
      "Epoch 1/1000\n",
      "16/16 - 2s - loss: 7.6844 - accuracy: 0.5378 - val_loss: 0.8992 - val_accuracy: 0.7360\n",
      "Epoch 2/1000\n",
      "16/16 - 0s - loss: 6.0452 - accuracy: 0.5578 - val_loss: 0.7809 - val_accuracy: 0.7440\n",
      "Epoch 3/1000\n",
      "16/16 - 0s - loss: 5.8401 - accuracy: 0.5398 - val_loss: 0.7911 - val_accuracy: 0.7280\n",
      "Epoch 4/1000\n",
      "16/16 - 0s - loss: 5.1911 - accuracy: 0.5518 - val_loss: 0.8189 - val_accuracy: 0.7520\n",
      "Epoch 5/1000\n",
      "16/16 - 0s - loss: 3.7026 - accuracy: 0.5398 - val_loss: 0.8494 - val_accuracy: 0.7440\n",
      "Epoch 6/1000\n",
      "16/16 - 0s - loss: 3.1797 - accuracy: 0.5618 - val_loss: 0.8042 - val_accuracy: 0.7200\n",
      "Epoch 7/1000\n",
      "16/16 - 0s - loss: 3.0032 - accuracy: 0.5558 - val_loss: 0.6978 - val_accuracy: 0.7360\n",
      "Epoch 8/1000\n",
      "16/16 - 0s - loss: 3.1593 - accuracy: 0.5179 - val_loss: 0.6361 - val_accuracy: 0.7280\n",
      "Epoch 9/1000\n",
      "16/16 - 0s - loss: 2.3356 - accuracy: 0.5916 - val_loss: 0.6450 - val_accuracy: 0.6880\n",
      "Epoch 10/1000\n",
      "16/16 - 0s - loss: 2.2680 - accuracy: 0.5518 - val_loss: 0.6291 - val_accuracy: 0.6800\n",
      "Epoch 11/1000\n",
      "16/16 - 0s - loss: 1.9810 - accuracy: 0.5677 - val_loss: 0.6114 - val_accuracy: 0.6720\n",
      "Epoch 12/1000\n",
      "16/16 - 0s - loss: 1.6350 - accuracy: 0.5458 - val_loss: 0.5976 - val_accuracy: 0.6720\n",
      "Epoch 13/1000\n",
      "16/16 - 0s - loss: 1.8091 - accuracy: 0.5279 - val_loss: 0.5920 - val_accuracy: 0.6800\n",
      "Epoch 14/1000\n",
      "16/16 - 0s - loss: 1.7069 - accuracy: 0.5876 - val_loss: 0.5921 - val_accuracy: 0.6880\n",
      "Epoch 15/1000\n",
      "16/16 - 0s - loss: 1.6790 - accuracy: 0.5578 - val_loss: 0.5926 - val_accuracy: 0.6880\n",
      "Epoch 16/1000\n",
      "16/16 - 0s - loss: 1.5324 - accuracy: 0.5737 - val_loss: 0.5881 - val_accuracy: 0.6960\n",
      "Epoch 17/1000\n",
      "16/16 - 0s - loss: 1.1248 - accuracy: 0.5857 - val_loss: 0.5925 - val_accuracy: 0.6960\n",
      "Epoch 18/1000\n",
      "16/16 - 0s - loss: 1.2687 - accuracy: 0.5677 - val_loss: 0.5981 - val_accuracy: 0.6960\n",
      "Epoch 19/1000\n",
      "16/16 - 0s - loss: 1.0944 - accuracy: 0.5717 - val_loss: 0.6026 - val_accuracy: 0.6960\n",
      "Epoch 20/1000\n",
      "16/16 - 0s - loss: 1.0686 - accuracy: 0.5896 - val_loss: 0.6081 - val_accuracy: 0.6880\n",
      "Epoch 21/1000\n",
      "16/16 - 0s - loss: 0.9227 - accuracy: 0.5916 - val_loss: 0.6078 - val_accuracy: 0.6880\n",
      "Epoch 22/1000\n",
      "16/16 - 0s - loss: 0.9436 - accuracy: 0.5518 - val_loss: 0.6079 - val_accuracy: 0.6800\n",
      "Epoch 23/1000\n",
      "16/16 - 0s - loss: 0.9196 - accuracy: 0.5737 - val_loss: 0.6095 - val_accuracy: 0.7040\n",
      "Epoch 24/1000\n",
      "16/16 - 0s - loss: 0.9590 - accuracy: 0.6016 - val_loss: 0.6069 - val_accuracy: 0.7040\n",
      "Epoch 25/1000\n",
      "16/16 - 0s - loss: 0.9520 - accuracy: 0.5916 - val_loss: 0.6107 - val_accuracy: 0.6960\n",
      "Epoch 26/1000\n",
      "16/16 - 0s - loss: 0.9466 - accuracy: 0.6056 - val_loss: 0.6099 - val_accuracy: 0.6960\n"
     ]
    },
    {
     "data": {
      "text/html": [
       "<span style=\"color:#4527A0\"><h1 style=\"font-size:18px\">Trial complete</h1></span>"
      ],
      "text/plain": [
       "<IPython.core.display.HTML object>"
      ]
     },
     "metadata": {},
     "output_type": "display_data"
    },
    {
     "data": {
      "text/html": [
       "<span style=\"color:#4527A0\"><h1 style=\"font-size:18px\">Trial summary</h1></span>"
      ],
      "text/plain": [
       "<IPython.core.display.HTML object>"
      ]
     },
     "metadata": {},
     "output_type": "display_data"
    },
    {
     "data": {
      "text/html": [
       "<span style=\"color:cyan\"> |-Trial ID: d4452b75f8a9b91d47da6eed103b2023</span>"
      ],
      "text/plain": [
       "<IPython.core.display.HTML object>"
      ]
     },
     "metadata": {},
     "output_type": "display_data"
    },
    {
     "data": {
      "text/html": [
       "<span style=\"color:cyan\"> |-Score: 0.7519999742507935</span>"
      ],
      "text/plain": [
       "<IPython.core.display.HTML object>"
      ]
     },
     "metadata": {},
     "output_type": "display_data"
    },
    {
     "data": {
      "text/html": [
       "<span style=\"color:cyan\"> |-Best step: 0</span>"
      ],
      "text/plain": [
       "<IPython.core.display.HTML object>"
      ]
     },
     "metadata": {},
     "output_type": "display_data"
    },
    {
     "data": {
      "text/html": [
       "<span style=\"color:#7E57C2\"><h2 style=\"font-size:16px\">Hyperparameters:</h2></span>"
      ],
      "text/plain": [
       "<IPython.core.display.HTML object>"
      ]
     },
     "metadata": {},
     "output_type": "display_data"
    },
    {
     "data": {
      "text/html": [
       "<span style=\"color:cyan\"> |-classification_head_1/dropout_rate: 0</span>"
      ],
      "text/plain": [
       "<IPython.core.display.HTML object>"
      ]
     },
     "metadata": {},
     "output_type": "display_data"
    },
    {
     "data": {
      "text/html": [
       "<span style=\"color:blue\"> |-optimizer: adam</span>"
      ],
      "text/plain": [
       "<IPython.core.display.HTML object>"
      ]
     },
     "metadata": {},
     "output_type": "display_data"
    },
    {
     "data": {
      "text/html": [
       "<span style=\"color:cyan\"> |-structured_data_block_1/dense_block_1/dropout_rate: 0.5</span>"
      ],
      "text/plain": [
       "<IPython.core.display.HTML object>"
      ]
     },
     "metadata": {},
     "output_type": "display_data"
    },
    {
     "data": {
      "text/html": [
       "<span style=\"color:blue\"> |-structured_data_block_1/dense_block_1/num_layers: 2</span>"
      ],
      "text/plain": [
       "<IPython.core.display.HTML object>"
      ]
     },
     "metadata": {},
     "output_type": "display_data"
    },
    {
     "data": {
      "text/html": [
       "<span style=\"color:cyan\"> |-structured_data_block_1/dense_block_1/units_0: 32</span>"
      ],
      "text/plain": [
       "<IPython.core.display.HTML object>"
      ]
     },
     "metadata": {},
     "output_type": "display_data"
    },
    {
     "data": {
      "text/html": [
       "<span style=\"color:blue\"> |-structured_data_block_1/dense_block_1/units_1: 16</span>"
      ],
      "text/plain": [
       "<IPython.core.display.HTML object>"
      ]
     },
     "metadata": {},
     "output_type": "display_data"
    },
    {
     "data": {
      "text/html": [
       "<span style=\"color:cyan\"> |-structured_data_block_1/dense_block_1/units_2: 16</span>"
      ],
      "text/plain": [
       "<IPython.core.display.HTML object>"
      ]
     },
     "metadata": {},
     "output_type": "display_data"
    },
    {
     "data": {
      "text/html": [
       "<span style=\"color:blue\"> |-structured_data_block_1/dense_block_1/use_batchnorm: False</span>"
      ],
      "text/plain": [
       "<IPython.core.display.HTML object>"
      ]
     },
     "metadata": {},
     "output_type": "display_data"
    },
    {
     "name": "stdout",
     "output_type": "stream",
     "text": [
      "Train for 16 steps, validate for 4 steps\n",
      "Epoch 1/1000\n",
      "16/16 - 2s - loss: 0.9026 - accuracy: 0.6036 - val_loss: 0.7066 - val_accuracy: 0.3600\n",
      "Epoch 2/1000\n",
      "16/16 - 0s - loss: 0.7552 - accuracy: 0.6414 - val_loss: 0.6403 - val_accuracy: 0.7520\n",
      "Epoch 3/1000\n",
      "16/16 - 0s - loss: 0.6979 - accuracy: 0.6673 - val_loss: 0.5841 - val_accuracy: 0.7520\n",
      "Epoch 4/1000\n",
      "16/16 - 0s - loss: 0.6431 - accuracy: 0.6793 - val_loss: 0.5595 - val_accuracy: 0.7520\n",
      "Epoch 5/1000\n",
      "16/16 - 0s - loss: 0.6232 - accuracy: 0.6892 - val_loss: 0.5515 - val_accuracy: 0.7680\n",
      "Epoch 6/1000\n",
      "16/16 - 1s - loss: 0.6122 - accuracy: 0.6992 - val_loss: 0.5348 - val_accuracy: 0.7760\n",
      "Epoch 7/1000\n",
      "16/16 - 0s - loss: 0.6249 - accuracy: 0.6892 - val_loss: 0.5331 - val_accuracy: 0.7600\n",
      "Epoch 8/1000\n",
      "16/16 - 0s - loss: 0.6488 - accuracy: 0.6833 - val_loss: 0.5614 - val_accuracy: 0.7600\n",
      "Epoch 9/1000\n",
      "16/16 - 0s - loss: 0.6460 - accuracy: 0.6813 - val_loss: 0.5568 - val_accuracy: 0.7600\n",
      "Epoch 10/1000\n",
      "16/16 - 0s - loss: 0.6252 - accuracy: 0.6892 - val_loss: 0.5372 - val_accuracy: 0.7680\n",
      "Epoch 11/1000\n",
      "16/16 - 0s - loss: 0.6103 - accuracy: 0.6952 - val_loss: 0.5265 - val_accuracy: 0.7680\n",
      "Epoch 12/1000\n",
      "16/16 - 0s - loss: 0.6022 - accuracy: 0.7032 - val_loss: 0.5209 - val_accuracy: 0.7760\n",
      "Epoch 13/1000\n",
      "16/16 - 0s - loss: 0.5982 - accuracy: 0.7052 - val_loss: 0.5185 - val_accuracy: 0.7600\n",
      "Epoch 14/1000\n",
      "16/16 - 0s - loss: 0.5906 - accuracy: 0.7112 - val_loss: 0.5079 - val_accuracy: 0.7840\n",
      "Epoch 15/1000\n",
      "16/16 - 0s - loss: 0.5898 - accuracy: 0.7191 - val_loss: 0.5148 - val_accuracy: 0.7920\n",
      "Epoch 16/1000\n",
      "16/16 - 0s - loss: 0.5795 - accuracy: 0.7112 - val_loss: 0.5001 - val_accuracy: 0.7920\n",
      "Epoch 17/1000\n",
      "16/16 - 0s - loss: 0.5687 - accuracy: 0.7291 - val_loss: 0.4725 - val_accuracy: 0.8000\n",
      "Epoch 18/1000\n",
      "16/16 - 0s - loss: 0.5565 - accuracy: 0.7371 - val_loss: 0.4547 - val_accuracy: 0.8080\n",
      "Epoch 19/1000\n",
      "16/16 - 0s - loss: 0.5562 - accuracy: 0.7351 - val_loss: 0.4371 - val_accuracy: 0.8160\n",
      "Epoch 20/1000\n",
      "16/16 - 0s - loss: 0.5403 - accuracy: 0.7530 - val_loss: 0.4633 - val_accuracy: 0.8160\n",
      "Epoch 21/1000\n",
      "16/16 - 0s - loss: 0.5492 - accuracy: 0.7629 - val_loss: 0.4847 - val_accuracy: 0.7920\n",
      "Epoch 22/1000\n",
      "16/16 - 0s - loss: 0.5436 - accuracy: 0.7530 - val_loss: 0.4937 - val_accuracy: 0.7760\n",
      "Epoch 23/1000\n",
      "16/16 - 0s - loss: 0.5375 - accuracy: 0.7610 - val_loss: 0.4812 - val_accuracy: 0.8000\n",
      "Epoch 24/1000\n",
      "16/16 - 0s - loss: 0.5234 - accuracy: 0.7689 - val_loss: 0.4676 - val_accuracy: 0.8000\n",
      "Epoch 25/1000\n",
      "16/16 - 0s - loss: 0.5149 - accuracy: 0.7709 - val_loss: 0.4662 - val_accuracy: 0.7920\n",
      "Epoch 26/1000\n",
      "16/16 - 0s - loss: 0.5149 - accuracy: 0.7749 - val_loss: 0.4656 - val_accuracy: 0.8000\n",
      "Epoch 27/1000\n",
      "16/16 - 0s - loss: 0.5080 - accuracy: 0.7729 - val_loss: 0.4614 - val_accuracy: 0.7760\n",
      "Epoch 28/1000\n",
      "16/16 - 0s - loss: 0.5074 - accuracy: 0.7709 - val_loss: 0.4521 - val_accuracy: 0.8000\n",
      "Epoch 29/1000\n",
      "16/16 - 0s - loss: 0.5001 - accuracy: 0.7809 - val_loss: 0.4463 - val_accuracy: 0.8000\n"
     ]
    },
    {
     "data": {
      "text/html": [
       "<span style=\"color:#4527A0\"><h1 style=\"font-size:18px\">Trial complete</h1></span>"
      ],
      "text/plain": [
       "<IPython.core.display.HTML object>"
      ]
     },
     "metadata": {},
     "output_type": "display_data"
    },
    {
     "data": {
      "text/html": [
       "<span style=\"color:#4527A0\"><h1 style=\"font-size:18px\">Trial summary</h1></span>"
      ],
      "text/plain": [
       "<IPython.core.display.HTML object>"
      ]
     },
     "metadata": {},
     "output_type": "display_data"
    },
    {
     "data": {
      "text/html": [
       "<span style=\"color:cyan\"> |-Trial ID: 3f85846a26459a5110518d2244a3b64a</span>"
      ],
      "text/plain": [
       "<IPython.core.display.HTML object>"
      ]
     },
     "metadata": {},
     "output_type": "display_data"
    },
    {
     "data": {
      "text/html": [
       "<span style=\"color:cyan\"> |-Score: 0.8159999847412109</span>"
      ],
      "text/plain": [
       "<IPython.core.display.HTML object>"
      ]
     },
     "metadata": {},
     "output_type": "display_data"
    },
    {
     "data": {
      "text/html": [
       "<span style=\"color:cyan\"> |-Best step: 0</span>"
      ],
      "text/plain": [
       "<IPython.core.display.HTML object>"
      ]
     },
     "metadata": {},
     "output_type": "display_data"
    },
    {
     "data": {
      "text/html": [
       "<span style=\"color:#7E57C2\"><h2 style=\"font-size:16px\">Hyperparameters:</h2></span>"
      ],
      "text/plain": [
       "<IPython.core.display.HTML object>"
      ]
     },
     "metadata": {},
     "output_type": "display_data"
    },
    {
     "data": {
      "text/html": [
       "<span style=\"color:cyan\"> |-classification_head_1/dropout_rate: 0</span>"
      ],
      "text/plain": [
       "<IPython.core.display.HTML object>"
      ]
     },
     "metadata": {},
     "output_type": "display_data"
    },
    {
     "data": {
      "text/html": [
       "<span style=\"color:blue\"> |-optimizer: adam</span>"
      ],
      "text/plain": [
       "<IPython.core.display.HTML object>"
      ]
     },
     "metadata": {},
     "output_type": "display_data"
    },
    {
     "data": {
      "text/html": [
       "<span style=\"color:cyan\"> |-structured_data_block_1/dense_block_1/dropout_rate: 0.0</span>"
      ],
      "text/plain": [
       "<IPython.core.display.HTML object>"
      ]
     },
     "metadata": {},
     "output_type": "display_data"
    },
    {
     "data": {
      "text/html": [
       "<span style=\"color:blue\"> |-structured_data_block_1/dense_block_1/num_layers: 3</span>"
      ],
      "text/plain": [
       "<IPython.core.display.HTML object>"
      ]
     },
     "metadata": {},
     "output_type": "display_data"
    },
    {
     "data": {
      "text/html": [
       "<span style=\"color:cyan\"> |-structured_data_block_1/dense_block_1/units_0: 64</span>"
      ],
      "text/plain": [
       "<IPython.core.display.HTML object>"
      ]
     },
     "metadata": {},
     "output_type": "display_data"
    },
    {
     "data": {
      "text/html": [
       "<span style=\"color:blue\"> |-structured_data_block_1/dense_block_1/units_1: 32</span>"
      ],
      "text/plain": [
       "<IPython.core.display.HTML object>"
      ]
     },
     "metadata": {},
     "output_type": "display_data"
    },
    {
     "data": {
      "text/html": [
       "<span style=\"color:cyan\"> |-structured_data_block_1/dense_block_1/units_2: 16</span>"
      ],
      "text/plain": [
       "<IPython.core.display.HTML object>"
      ]
     },
     "metadata": {},
     "output_type": "display_data"
    },
    {
     "data": {
      "text/html": [
       "<span style=\"color:blue\"> |-structured_data_block_1/dense_block_1/use_batchnorm: False</span>"
      ],
      "text/plain": [
       "<IPython.core.display.HTML object>"
      ]
     },
     "metadata": {},
     "output_type": "display_data"
    },
    {
     "name": "stdout",
     "output_type": "stream",
     "text": [
      "Train for 16 steps, validate for 4 steps\n",
      "Epoch 1/1000\n",
      "16/16 - 3s - loss: 0.6799 - accuracy: 0.6554 - val_loss: 0.7859 - val_accuracy: 0.6800\n",
      "Epoch 2/1000\n",
      "16/16 - 0s - loss: 0.5983 - accuracy: 0.6932 - val_loss: 0.6861 - val_accuracy: 0.6480\n",
      "Epoch 3/1000\n",
      "16/16 - 1s - loss: 0.5557 - accuracy: 0.7271 - val_loss: 0.6403 - val_accuracy: 0.7600\n",
      "Epoch 4/1000\n",
      "16/16 - 0s - loss: 0.5017 - accuracy: 0.7510 - val_loss: 0.6232 - val_accuracy: 0.7840\n",
      "Epoch 5/1000\n",
      "16/16 - 0s - loss: 0.4616 - accuracy: 0.7769 - val_loss: 0.5977 - val_accuracy: 0.7680\n",
      "Epoch 6/1000\n",
      "16/16 - 0s - loss: 0.4338 - accuracy: 0.8088 - val_loss: 0.5861 - val_accuracy: 0.7680\n",
      "Epoch 7/1000\n",
      "16/16 - 0s - loss: 0.4183 - accuracy: 0.8267 - val_loss: 0.5431 - val_accuracy: 0.8160\n",
      "Epoch 8/1000\n",
      "16/16 - 0s - loss: 0.3823 - accuracy: 0.8386 - val_loss: 0.5165 - val_accuracy: 0.8080\n",
      "Epoch 9/1000\n",
      "16/16 - 0s - loss: 0.3647 - accuracy: 0.8466 - val_loss: 0.5166 - val_accuracy: 0.8320\n",
      "Epoch 10/1000\n",
      "16/16 - 0s - loss: 0.3361 - accuracy: 0.8725 - val_loss: 0.4961 - val_accuracy: 0.8080\n",
      "Epoch 11/1000\n",
      "16/16 - 0s - loss: 0.3150 - accuracy: 0.8745 - val_loss: 0.5063 - val_accuracy: 0.8240\n",
      "Epoch 12/1000\n",
      "16/16 - 0s - loss: 0.3160 - accuracy: 0.8665 - val_loss: 0.4685 - val_accuracy: 0.8160\n",
      "Epoch 13/1000\n",
      "16/16 - 0s - loss: 0.3308 - accuracy: 0.8586 - val_loss: 0.4559 - val_accuracy: 0.8320\n",
      "Epoch 14/1000\n",
      "16/16 - 0s - loss: 0.3475 - accuracy: 0.8426 - val_loss: 0.5162 - val_accuracy: 0.8000\n",
      "Epoch 15/1000\n",
      "16/16 - 0s - loss: 0.3570 - accuracy: 0.8586 - val_loss: 0.4147 - val_accuracy: 0.8000\n",
      "Epoch 16/1000\n",
      "16/16 - 0s - loss: 0.3414 - accuracy: 0.8486 - val_loss: 0.4324 - val_accuracy: 0.8080\n",
      "Epoch 17/1000\n",
      "16/16 - 0s - loss: 0.3155 - accuracy: 0.8765 - val_loss: 0.4469 - val_accuracy: 0.8080\n",
      "Epoch 18/1000\n",
      "16/16 - 0s - loss: 0.3174 - accuracy: 0.8705 - val_loss: 0.5112 - val_accuracy: 0.8080\n",
      "Epoch 19/1000\n",
      "16/16 - 0s - loss: 0.3105 - accuracy: 0.8765 - val_loss: 0.7865 - val_accuracy: 0.8080\n",
      "Epoch 20/1000\n",
      "16/16 - 0s - loss: 0.3160 - accuracy: 0.8785 - val_loss: 0.7430 - val_accuracy: 0.8000\n",
      "Epoch 21/1000\n",
      "16/16 - 0s - loss: 0.3130 - accuracy: 0.8705 - val_loss: 0.7910 - val_accuracy: 0.6800\n",
      "Epoch 22/1000\n",
      "16/16 - 0s - loss: 0.3068 - accuracy: 0.8825 - val_loss: 0.8958 - val_accuracy: 0.6720\n",
      "Epoch 23/1000\n",
      "16/16 - 0s - loss: 0.2849 - accuracy: 0.8765 - val_loss: 0.6747 - val_accuracy: 0.7920\n",
      "Epoch 24/1000\n",
      "16/16 - 0s - loss: 0.2535 - accuracy: 0.9004 - val_loss: 0.7209 - val_accuracy: 0.7760\n",
      "Epoch 25/1000\n",
      "16/16 - 0s - loss: 0.2555 - accuracy: 0.9024 - val_loss: 0.5874 - val_accuracy: 0.8000\n"
     ]
    },
    {
     "data": {
      "text/html": [
       "<span style=\"color:#4527A0\"><h1 style=\"font-size:18px\">Trial complete</h1></span>"
      ],
      "text/plain": [
       "<IPython.core.display.HTML object>"
      ]
     },
     "metadata": {},
     "output_type": "display_data"
    },
    {
     "data": {
      "text/html": [
       "<span style=\"color:#4527A0\"><h1 style=\"font-size:18px\">Trial summary</h1></span>"
      ],
      "text/plain": [
       "<IPython.core.display.HTML object>"
      ]
     },
     "metadata": {},
     "output_type": "display_data"
    },
    {
     "data": {
      "text/html": [
       "<span style=\"color:cyan\"> |-Trial ID: e6479deb86103ec08b76c7a71207b839</span>"
      ],
      "text/plain": [
       "<IPython.core.display.HTML object>"
      ]
     },
     "metadata": {},
     "output_type": "display_data"
    },
    {
     "data": {
      "text/html": [
       "<span style=\"color:cyan\"> |-Score: 0.8320000171661377</span>"
      ],
      "text/plain": [
       "<IPython.core.display.HTML object>"
      ]
     },
     "metadata": {},
     "output_type": "display_data"
    },
    {
     "data": {
      "text/html": [
       "<span style=\"color:cyan\"> |-Best step: 0</span>"
      ],
      "text/plain": [
       "<IPython.core.display.HTML object>"
      ]
     },
     "metadata": {},
     "output_type": "display_data"
    },
    {
     "data": {
      "text/html": [
       "<span style=\"color:#7E57C2\"><h2 style=\"font-size:16px\">Hyperparameters:</h2></span>"
      ],
      "text/plain": [
       "<IPython.core.display.HTML object>"
      ]
     },
     "metadata": {},
     "output_type": "display_data"
    },
    {
     "data": {
      "text/html": [
       "<span style=\"color:cyan\"> |-classification_head_1/dropout_rate: 0</span>"
      ],
      "text/plain": [
       "<IPython.core.display.HTML object>"
      ]
     },
     "metadata": {},
     "output_type": "display_data"
    },
    {
     "data": {
      "text/html": [
       "<span style=\"color:blue\"> |-optimizer: adam</span>"
      ],
      "text/plain": [
       "<IPython.core.display.HTML object>"
      ]
     },
     "metadata": {},
     "output_type": "display_data"
    },
    {
     "data": {
      "text/html": [
       "<span style=\"color:cyan\"> |-structured_data_block_1/dense_block_1/dropout_rate: 0.0</span>"
      ],
      "text/plain": [
       "<IPython.core.display.HTML object>"
      ]
     },
     "metadata": {},
     "output_type": "display_data"
    },
    {
     "data": {
      "text/html": [
       "<span style=\"color:blue\"> |-structured_data_block_1/dense_block_1/num_layers: 3</span>"
      ],
      "text/plain": [
       "<IPython.core.display.HTML object>"
      ]
     },
     "metadata": {},
     "output_type": "display_data"
    },
    {
     "data": {
      "text/html": [
       "<span style=\"color:cyan\"> |-structured_data_block_1/dense_block_1/units_0: 256</span>"
      ],
      "text/plain": [
       "<IPython.core.display.HTML object>"
      ]
     },
     "metadata": {},
     "output_type": "display_data"
    },
    {
     "data": {
      "text/html": [
       "<span style=\"color:blue\"> |-structured_data_block_1/dense_block_1/units_1: 128</span>"
      ],
      "text/plain": [
       "<IPython.core.display.HTML object>"
      ]
     },
     "metadata": {},
     "output_type": "display_data"
    },
    {
     "data": {
      "text/html": [
       "<span style=\"color:cyan\"> |-structured_data_block_1/dense_block_1/units_2: 512</span>"
      ],
      "text/plain": [
       "<IPython.core.display.HTML object>"
      ]
     },
     "metadata": {},
     "output_type": "display_data"
    },
    {
     "data": {
      "text/html": [
       "<span style=\"color:blue\"> |-structured_data_block_1/dense_block_1/use_batchnorm: True</span>"
      ],
      "text/plain": [
       "<IPython.core.display.HTML object>"
      ]
     },
     "metadata": {},
     "output_type": "display_data"
    },
    {
     "name": "stdout",
     "output_type": "stream",
     "text": [
      "Train for 16 steps, validate for 4 steps\n",
      "Epoch 1/1000\n",
      "16/16 - 2s - loss: 0.6721 - accuracy: 0.6614 - val_loss: 0.9523 - val_accuracy: 0.2880\n",
      "Epoch 2/1000\n",
      "16/16 - 0s - loss: 0.6029 - accuracy: 0.6892 - val_loss: 0.6267 - val_accuracy: 0.6720\n",
      "Epoch 3/1000\n",
      "16/16 - 0s - loss: 0.5536 - accuracy: 0.7131 - val_loss: 0.6184 - val_accuracy: 0.6640\n",
      "Epoch 4/1000\n",
      "16/16 - 0s - loss: 0.5215 - accuracy: 0.7390 - val_loss: 0.5556 - val_accuracy: 0.7760\n",
      "Epoch 5/1000\n",
      "16/16 - 0s - loss: 0.4934 - accuracy: 0.7669 - val_loss: 0.5311 - val_accuracy: 0.7920\n",
      "Epoch 6/1000\n",
      "16/16 - 0s - loss: 0.4804 - accuracy: 0.7789 - val_loss: 0.5080 - val_accuracy: 0.8080\n",
      "Epoch 7/1000\n",
      "16/16 - 0s - loss: 0.4758 - accuracy: 0.7908 - val_loss: 0.4922 - val_accuracy: 0.8320\n",
      "Epoch 8/1000\n",
      "16/16 - 0s - loss: 0.4663 - accuracy: 0.7928 - val_loss: 0.4646 - val_accuracy: 0.8320\n",
      "Epoch 9/1000\n",
      "16/16 - 0s - loss: 0.4624 - accuracy: 0.7928 - val_loss: 0.4577 - val_accuracy: 0.8160\n",
      "Epoch 10/1000\n",
      "16/16 - 0s - loss: 0.4587 - accuracy: 0.7968 - val_loss: 0.4607 - val_accuracy: 0.8240\n",
      "Epoch 11/1000\n",
      "16/16 - 0s - loss: 0.4563 - accuracy: 0.7968 - val_loss: 0.4528 - val_accuracy: 0.8240\n",
      "Epoch 12/1000\n",
      "16/16 - 0s - loss: 0.4525 - accuracy: 0.7948 - val_loss: 0.4361 - val_accuracy: 0.8240\n",
      "Epoch 13/1000\n",
      "16/16 - 0s - loss: 0.4501 - accuracy: 0.7928 - val_loss: 0.4235 - val_accuracy: 0.8160\n",
      "Epoch 14/1000\n",
      "16/16 - 0s - loss: 0.4454 - accuracy: 0.7968 - val_loss: 0.4159 - val_accuracy: 0.8160\n",
      "Epoch 15/1000\n",
      "16/16 - 0s - loss: 0.4442 - accuracy: 0.7948 - val_loss: 0.4203 - val_accuracy: 0.8080\n",
      "Epoch 16/1000\n",
      "16/16 - 0s - loss: 0.4406 - accuracy: 0.7988 - val_loss: 0.4121 - val_accuracy: 0.8160\n",
      "Epoch 17/1000\n",
      "16/16 - 0s - loss: 0.4358 - accuracy: 0.8028 - val_loss: 0.4142 - val_accuracy: 0.8160\n",
      "Epoch 18/1000\n",
      "16/16 - 0s - loss: 0.4330 - accuracy: 0.8008 - val_loss: 0.4106 - val_accuracy: 0.8160\n",
      "Epoch 19/1000\n",
      "16/16 - 0s - loss: 0.4291 - accuracy: 0.8068 - val_loss: 0.4095 - val_accuracy: 0.8160\n",
      "Epoch 20/1000\n",
      "16/16 - 0s - loss: 0.4268 - accuracy: 0.8088 - val_loss: 0.4111 - val_accuracy: 0.8160\n",
      "Epoch 21/1000\n",
      "16/16 - 0s - loss: 0.4219 - accuracy: 0.8108 - val_loss: 0.4145 - val_accuracy: 0.8160\n",
      "Epoch 22/1000\n",
      "16/16 - 0s - loss: 0.4234 - accuracy: 0.8127 - val_loss: 0.4030 - val_accuracy: 0.8160\n",
      "Epoch 23/1000\n",
      "16/16 - 0s - loss: 0.4169 - accuracy: 0.8147 - val_loss: 0.3963 - val_accuracy: 0.8080\n",
      "Epoch 24/1000\n",
      "16/16 - 0s - loss: 0.4182 - accuracy: 0.8127 - val_loss: 0.3993 - val_accuracy: 0.8000\n",
      "Epoch 25/1000\n",
      "16/16 - 0s - loss: 0.4134 - accuracy: 0.8127 - val_loss: 0.3950 - val_accuracy: 0.8080\n",
      "Epoch 26/1000\n",
      "16/16 - 0s - loss: 0.4139 - accuracy: 0.8127 - val_loss: 0.3945 - val_accuracy: 0.8000\n",
      "Epoch 27/1000\n",
      "16/16 - 0s - loss: 0.4086 - accuracy: 0.8187 - val_loss: 0.3832 - val_accuracy: 0.8080\n",
      "Epoch 28/1000\n",
      "16/16 - 0s - loss: 0.4091 - accuracy: 0.8167 - val_loss: 0.3870 - val_accuracy: 0.8160\n",
      "Epoch 29/1000\n",
      "16/16 - 0s - loss: 0.4080 - accuracy: 0.8167 - val_loss: 0.3891 - val_accuracy: 0.8160\n",
      "Epoch 30/1000\n",
      "16/16 - 0s - loss: 0.4062 - accuracy: 0.8227 - val_loss: 0.3911 - val_accuracy: 0.8000\n",
      "Epoch 31/1000\n",
      "16/16 - 0s - loss: 0.4009 - accuracy: 0.8267 - val_loss: 0.3855 - val_accuracy: 0.8160\n",
      "Epoch 32/1000\n",
      "16/16 - 0s - loss: 0.3985 - accuracy: 0.8187 - val_loss: 0.3865 - val_accuracy: 0.8080\n",
      "Epoch 33/1000\n",
      "16/16 - 0s - loss: 0.3976 - accuracy: 0.8187 - val_loss: 0.3952 - val_accuracy: 0.8080\n",
      "Epoch 34/1000\n",
      "16/16 - 0s - loss: 0.3933 - accuracy: 0.8267 - val_loss: 0.3876 - val_accuracy: 0.8080\n",
      "Epoch 35/1000\n",
      "16/16 - 0s - loss: 0.3929 - accuracy: 0.8247 - val_loss: 0.4016 - val_accuracy: 0.8000\n",
      "Epoch 36/1000\n",
      "16/16 - 0s - loss: 0.3905 - accuracy: 0.8187 - val_loss: 0.3999 - val_accuracy: 0.8080\n",
      "Epoch 37/1000\n",
      "16/16 - 0s - loss: 0.3890 - accuracy: 0.8287 - val_loss: 0.4040 - val_accuracy: 0.8000\n"
     ]
    },
    {
     "data": {
      "text/html": [
       "<span style=\"color:#4527A0\"><h1 style=\"font-size:18px\">Trial complete</h1></span>"
      ],
      "text/plain": [
       "<IPython.core.display.HTML object>"
      ]
     },
     "metadata": {},
     "output_type": "display_data"
    },
    {
     "data": {
      "text/html": [
       "<span style=\"color:#4527A0\"><h1 style=\"font-size:18px\">Trial summary</h1></span>"
      ],
      "text/plain": [
       "<IPython.core.display.HTML object>"
      ]
     },
     "metadata": {},
     "output_type": "display_data"
    },
    {
     "data": {
      "text/html": [
       "<span style=\"color:cyan\"> |-Trial ID: 4da5f3e39313787cb5ae02de2c7cee3f</span>"
      ],
      "text/plain": [
       "<IPython.core.display.HTML object>"
      ]
     },
     "metadata": {},
     "output_type": "display_data"
    },
    {
     "data": {
      "text/html": [
       "<span style=\"color:cyan\"> |-Score: 0.8320000171661377</span>"
      ],
      "text/plain": [
       "<IPython.core.display.HTML object>"
      ]
     },
     "metadata": {},
     "output_type": "display_data"
    },
    {
     "data": {
      "text/html": [
       "<span style=\"color:cyan\"> |-Best step: 0</span>"
      ],
      "text/plain": [
       "<IPython.core.display.HTML object>"
      ]
     },
     "metadata": {},
     "output_type": "display_data"
    },
    {
     "data": {
      "text/html": [
       "<span style=\"color:#7E57C2\"><h2 style=\"font-size:16px\">Hyperparameters:</h2></span>"
      ],
      "text/plain": [
       "<IPython.core.display.HTML object>"
      ]
     },
     "metadata": {},
     "output_type": "display_data"
    },
    {
     "data": {
      "text/html": [
       "<span style=\"color:cyan\"> |-classification_head_1/dropout_rate: 0</span>"
      ],
      "text/plain": [
       "<IPython.core.display.HTML object>"
      ]
     },
     "metadata": {},
     "output_type": "display_data"
    },
    {
     "data": {
      "text/html": [
       "<span style=\"color:blue\"> |-optimizer: adam</span>"
      ],
      "text/plain": [
       "<IPython.core.display.HTML object>"
      ]
     },
     "metadata": {},
     "output_type": "display_data"
    },
    {
     "data": {
      "text/html": [
       "<span style=\"color:cyan\"> |-structured_data_block_1/dense_block_1/dropout_rate: 0.0</span>"
      ],
      "text/plain": [
       "<IPython.core.display.HTML object>"
      ]
     },
     "metadata": {},
     "output_type": "display_data"
    },
    {
     "data": {
      "text/html": [
       "<span style=\"color:blue\"> |-structured_data_block_1/dense_block_1/num_layers: 1</span>"
      ],
      "text/plain": [
       "<IPython.core.display.HTML object>"
      ]
     },
     "metadata": {},
     "output_type": "display_data"
    },
    {
     "data": {
      "text/html": [
       "<span style=\"color:cyan\"> |-structured_data_block_1/dense_block_1/units_0: 1024</span>"
      ],
      "text/plain": [
       "<IPython.core.display.HTML object>"
      ]
     },
     "metadata": {},
     "output_type": "display_data"
    },
    {
     "data": {
      "text/html": [
       "<span style=\"color:blue\"> |-structured_data_block_1/dense_block_1/units_1: 128</span>"
      ],
      "text/plain": [
       "<IPython.core.display.HTML object>"
      ]
     },
     "metadata": {},
     "output_type": "display_data"
    },
    {
     "data": {
      "text/html": [
       "<span style=\"color:cyan\"> |-structured_data_block_1/dense_block_1/units_2: 128</span>"
      ],
      "text/plain": [
       "<IPython.core.display.HTML object>"
      ]
     },
     "metadata": {},
     "output_type": "display_data"
    },
    {
     "data": {
      "text/html": [
       "<span style=\"color:blue\"> |-structured_data_block_1/dense_block_1/use_batchnorm: True</span>"
      ],
      "text/plain": [
       "<IPython.core.display.HTML object>"
      ]
     },
     "metadata": {},
     "output_type": "display_data"
    },
    {
     "name": "stdout",
     "output_type": "stream",
     "text": [
      "INFO:tensorflow:Oracle triggered exit\n",
      "Train for 20 steps, validate for 4 steps\n",
      "Epoch 1/1000\n",
      "20/20 - 2s - loss: 0.6350 - accuracy: 0.6571 - val_loss: 0.6046 - val_accuracy: 0.6880\n",
      "Epoch 2/1000\n",
      "20/20 - 0s - loss: 0.6129 - accuracy: 0.6874 - val_loss: 0.6431 - val_accuracy: 0.6720\n",
      "Epoch 3/1000\n",
      "20/20 - 0s - loss: 0.5924 - accuracy: 0.7002 - val_loss: 0.6324 - val_accuracy: 0.7120\n",
      "Epoch 4/1000\n",
      "20/20 - 0s - loss: 0.5843 - accuracy: 0.7049 - val_loss: 0.6307 - val_accuracy: 0.7120\n",
      "Epoch 5/1000\n",
      "20/20 - 0s - loss: 0.5758 - accuracy: 0.7049 - val_loss: 0.6222 - val_accuracy: 0.7120\n",
      "Epoch 6/1000\n",
      "20/20 - 0s - loss: 0.5690 - accuracy: 0.7065 - val_loss: 0.6127 - val_accuracy: 0.7120\n",
      "Epoch 7/1000\n",
      "20/20 - 0s - loss: 0.5620 - accuracy: 0.7065 - val_loss: 0.6036 - val_accuracy: 0.7120\n",
      "Epoch 8/1000\n",
      "20/20 - 0s - loss: 0.5558 - accuracy: 0.7113 - val_loss: 0.5925 - val_accuracy: 0.7200\n",
      "Epoch 9/1000\n",
      "20/20 - 0s - loss: 0.5496 - accuracy: 0.7161 - val_loss: 0.5857 - val_accuracy: 0.7520\n",
      "Epoch 10/1000\n",
      "20/20 - 0s - loss: 0.5425 - accuracy: 0.7209 - val_loss: 0.5744 - val_accuracy: 0.7760\n",
      "Epoch 11/1000\n",
      "20/20 - 0s - loss: 0.5359 - accuracy: 0.7241 - val_loss: 0.5654 - val_accuracy: 0.7680\n",
      "Epoch 12/1000\n",
      "20/20 - 0s - loss: 0.5278 - accuracy: 0.7289 - val_loss: 0.5512 - val_accuracy: 0.7760\n",
      "Epoch 13/1000\n",
      "20/20 - 0s - loss: 0.5192 - accuracy: 0.7416 - val_loss: 0.5426 - val_accuracy: 0.7840\n",
      "Epoch 14/1000\n",
      "20/20 - 0s - loss: 0.5100 - accuracy: 0.7432 - val_loss: 0.5293 - val_accuracy: 0.7920\n",
      "Epoch 15/1000\n",
      "20/20 - 0s - loss: 0.5002 - accuracy: 0.7528 - val_loss: 0.5182 - val_accuracy: 0.8000\n",
      "Epoch 16/1000\n",
      "20/20 - 0s - loss: 0.4899 - accuracy: 0.7608 - val_loss: 0.5077 - val_accuracy: 0.8320\n",
      "Epoch 17/1000\n",
      "20/20 - 0s - loss: 0.4784 - accuracy: 0.7624 - val_loss: 0.4955 - val_accuracy: 0.8320\n",
      "Epoch 18/1000\n",
      "20/20 - 0s - loss: 0.4663 - accuracy: 0.7751 - val_loss: 0.4862 - val_accuracy: 0.8320\n",
      "Epoch 19/1000\n",
      "20/20 - 0s - loss: 0.4545 - accuracy: 0.7815 - val_loss: 0.4697 - val_accuracy: 0.8240\n",
      "Epoch 20/1000\n",
      "20/20 - 0s - loss: 0.4430 - accuracy: 0.7895 - val_loss: 0.4649 - val_accuracy: 0.8320\n",
      "Epoch 21/1000\n",
      "20/20 - 0s - loss: 0.4341 - accuracy: 0.8006 - val_loss: 0.4547 - val_accuracy: 0.8080\n",
      "Epoch 22/1000\n",
      "20/20 - 0s - loss: 0.4266 - accuracy: 0.8134 - val_loss: 0.4476 - val_accuracy: 0.8160\n",
      "Epoch 23/1000\n",
      "20/20 - 0s - loss: 0.4201 - accuracy: 0.8166 - val_loss: 0.4405 - val_accuracy: 0.8320\n",
      "Epoch 24/1000\n",
      "20/20 - 0s - loss: 0.4148 - accuracy: 0.8134 - val_loss: 0.4394 - val_accuracy: 0.8320\n",
      "Epoch 25/1000\n",
      "20/20 - 0s - loss: 0.4088 - accuracy: 0.8150 - val_loss: 0.4294 - val_accuracy: 0.8320\n",
      "Epoch 26/1000\n",
      "20/20 - 0s - loss: 0.4041 - accuracy: 0.8198 - val_loss: 0.4221 - val_accuracy: 0.8320\n",
      "Epoch 27/1000\n",
      "20/20 - 0s - loss: 0.3996 - accuracy: 0.8246 - val_loss: 0.4202 - val_accuracy: 0.8320\n",
      "Epoch 28/1000\n",
      "20/20 - 0s - loss: 0.3951 - accuracy: 0.8309 - val_loss: 0.4135 - val_accuracy: 0.8320\n",
      "Epoch 29/1000\n",
      "20/20 - 0s - loss: 0.3916 - accuracy: 0.8373 - val_loss: 0.4033 - val_accuracy: 0.8400\n",
      "Epoch 30/1000\n",
      "20/20 - 0s - loss: 0.3884 - accuracy: 0.8373 - val_loss: 0.3991 - val_accuracy: 0.8480\n",
      "Epoch 31/1000\n",
      "20/20 - 0s - loss: 0.3882 - accuracy: 0.8325 - val_loss: 0.4005 - val_accuracy: 0.8400\n",
      "Epoch 32/1000\n",
      "20/20 - 0s - loss: 0.3935 - accuracy: 0.8325 - val_loss: 0.3769 - val_accuracy: 0.8400\n",
      "Epoch 33/1000\n",
      "20/20 - 0s - loss: 0.3933 - accuracy: 0.8278 - val_loss: 0.3912 - val_accuracy: 0.8480\n",
      "Epoch 34/1000\n",
      "20/20 - 0s - loss: 0.3776 - accuracy: 0.8469 - val_loss: 0.3662 - val_accuracy: 0.8480\n",
      "Epoch 35/1000\n",
      "20/20 - 0s - loss: 0.3747 - accuracy: 0.8485 - val_loss: 0.3556 - val_accuracy: 0.8320\n",
      "Epoch 36/1000\n",
      "20/20 - 0s - loss: 0.3708 - accuracy: 0.8469 - val_loss: 0.3448 - val_accuracy: 0.8560\n",
      "Epoch 37/1000\n",
      "20/20 - 0s - loss: 0.3679 - accuracy: 0.8485 - val_loss: 0.3402 - val_accuracy: 0.8480\n",
      "Epoch 38/1000\n",
      "20/20 - 0s - loss: 0.3657 - accuracy: 0.8469 - val_loss: 0.3357 - val_accuracy: 0.8560\n",
      "Epoch 39/1000\n",
      "20/20 - 0s - loss: 0.3643 - accuracy: 0.8501 - val_loss: 0.3380 - val_accuracy: 0.8640\n",
      "Epoch 40/1000\n",
      "20/20 - 0s - loss: 0.3659 - accuracy: 0.8485 - val_loss: 0.3366 - val_accuracy: 0.8640\n",
      "Epoch 41/1000\n",
      "20/20 - 0s - loss: 0.3670 - accuracy: 0.8453 - val_loss: 0.3290 - val_accuracy: 0.8480\n",
      "Epoch 42/1000\n",
      "20/20 - 0s - loss: 0.3679 - accuracy: 0.8453 - val_loss: 0.3211 - val_accuracy: 0.8800\n",
      "Epoch 43/1000\n",
      "20/20 - 0s - loss: 0.3601 - accuracy: 0.8517 - val_loss: 0.3421 - val_accuracy: 0.8720\n",
      "Epoch 44/1000\n",
      "20/20 - 0s - loss: 0.3545 - accuracy: 0.8565 - val_loss: 0.3337 - val_accuracy: 0.8640\n",
      "Epoch 45/1000\n",
      "20/20 - 0s - loss: 0.3520 - accuracy: 0.8549 - val_loss: 0.3212 - val_accuracy: 0.8640\n",
      "Epoch 46/1000\n",
      "20/20 - 0s - loss: 0.3497 - accuracy: 0.8549 - val_loss: 0.3208 - val_accuracy: 0.8640\n",
      "Epoch 47/1000\n",
      "20/20 - 0s - loss: 0.3475 - accuracy: 0.8549 - val_loss: 0.3194 - val_accuracy: 0.8640\n",
      "Epoch 48/1000\n",
      "20/20 - 0s - loss: 0.3475 - accuracy: 0.8596 - val_loss: 0.3222 - val_accuracy: 0.8560\n",
      "Epoch 49/1000\n",
      "20/20 - 0s - loss: 0.3512 - accuracy: 0.8533 - val_loss: 0.3196 - val_accuracy: 0.8640\n",
      "Epoch 50/1000\n",
      "20/20 - 0s - loss: 0.3472 - accuracy: 0.8581 - val_loss: 0.3209 - val_accuracy: 0.8720\n",
      "Epoch 51/1000\n",
      "20/20 - 0s - loss: 0.3414 - accuracy: 0.8596 - val_loss: 0.3249 - val_accuracy: 0.8800\n",
      "Epoch 52/1000\n",
      "20/20 - 0s - loss: 0.3386 - accuracy: 0.8628 - val_loss: 0.3352 - val_accuracy: 0.8800\n",
      "Epoch 53/1000\n",
      "20/20 - 0s - loss: 0.3368 - accuracy: 0.8628 - val_loss: 0.3375 - val_accuracy: 0.8720\n",
      "Epoch 54/1000\n",
      "20/20 - 0s - loss: 0.3348 - accuracy: 0.8660 - val_loss: 0.3290 - val_accuracy: 0.8800\n",
      "Epoch 55/1000\n",
      "20/20 - 0s - loss: 0.3332 - accuracy: 0.8660 - val_loss: 0.3267 - val_accuracy: 0.8800\n",
      "Epoch 56/1000\n",
      "20/20 - 0s - loss: 0.3316 - accuracy: 0.8628 - val_loss: 0.3240 - val_accuracy: 0.8720\n",
      "Epoch 57/1000\n",
      "20/20 - 0s - loss: 0.3300 - accuracy: 0.8644 - val_loss: 0.3214 - val_accuracy: 0.8640\n"
     ]
    }
   ],
   "source": [
    "import autokeras as ak\n",
    "\n",
    "# Initialize the structured data classifier.\n",
    "clf = ak.StructuredDataClassifier(max_trials=10) # Try 10 different pipelines.\n",
    "\n",
    "# Feed the structured data classifier with training data.\n",
    "clf.fit(\n",
    "    # The path to the train.csv file.\n",
    "    './train.csv',\n",
    "    # The name of the label column.\n",
    "    'survived',\n",
    "     verbose=2,)\n"
   ]
  },
  {
   "cell_type": "markdown",
   "metadata": {},
   "source": [
    "### Predict with the best model."
   ]
  },
  {
   "cell_type": "code",
   "execution_count": 10,
   "metadata": {},
   "outputs": [
    {
     "name": "stdout",
     "output_type": "stream",
     "text": [
      "WARNING:tensorflow:Unresolved object in checkpoint: (root).optimizer.iter\n",
      "WARNING:tensorflow:Unresolved object in checkpoint: (root).optimizer.beta_1\n",
      "WARNING:tensorflow:Unresolved object in checkpoint: (root).optimizer.beta_2\n",
      "WARNING:tensorflow:Unresolved object in checkpoint: (root).optimizer.decay\n",
      "WARNING:tensorflow:Unresolved object in checkpoint: (root).optimizer.learning_rate\n",
      "WARNING:tensorflow:A checkpoint was restored (e.g. tf.train.Checkpoint.restore or tf.keras.Model.load_weights) but not all checkpointed values were used. See above for specific issues. Use expect_partial() on the load status object, e.g. tf.train.Checkpoint.restore(...).expect_partial(), to silence these warnings, or use assert_consumed() to make the check explicit. See https://www.tensorflow.org/guide/checkpoint#loading_mechanics for details.\n",
      "WARNING:tensorflow:Unresolved object in checkpoint: (root).optimizer.iter\n",
      "WARNING:tensorflow:Unresolved object in checkpoint: (root).optimizer.beta_1\n",
      "WARNING:tensorflow:Unresolved object in checkpoint: (root).optimizer.beta_2\n",
      "WARNING:tensorflow:Unresolved object in checkpoint: (root).optimizer.decay\n",
      "WARNING:tensorflow:Unresolved object in checkpoint: (root).optimizer.learning_rate\n",
      "WARNING:tensorflow:A checkpoint was restored (e.g. tf.train.Checkpoint.restore or tf.keras.Model.load_weights) but not all checkpointed values were used. See above for specific issues. Use expect_partial() on the load status object, e.g. tf.train.Checkpoint.restore(...).expect_partial(), to silence these warnings, or use assert_consumed() to make the check explicit. See https://www.tensorflow.org/guide/checkpoint#loading_mechanics for details.\n",
      "[[0]\n",
      " [0]\n",
      " [1]\n",
      " [0]\n",
      " [0]]\n"
     ]
    }
   ],
   "source": [
    "import numpy as np\n",
    "\n",
    "predicted_y = clf.predict('./eval.csv')"
   ]
  },
  {
   "cell_type": "markdown",
   "metadata": {},
   "source": [
    "### Evaluate the best pipeline with the testing csv file."
   ]
  },
  {
   "cell_type": "code",
   "execution_count": null,
   "metadata": {},
   "outputs": [],
   "source": [
    "\n",
    "test_loss, test_acc = clf.evaluate('./eval.csv', 'survived', verbose=0)\n",
    "print('Test accuracy: ', test_acc)\n"
   ]
  },
  {
   "cell_type": "markdown",
   "metadata": {},
   "source": [
    "### Evaluate the best pipeline with the panda DataFrame."
   ]
  },
  {
   "cell_type": "code",
   "execution_count": 9,
   "metadata": {},
   "outputs": [
    {
     "name": "stdout",
     "output_type": "stream",
     "text": [
      "Test accuracy:  0.780303\n"
     ]
    }
   ],
   "source": [
    "import pandas as pd\n",
    "\n",
    "# Preparing testing data.\n",
    "x_test = pd.read_csv('eval.csv')\n",
    "y_test = x_test.pop('survived')\n",
    "\n",
    "test_loss, test_acc = clf.evaluate(x_test, y_test, verbose=0)\n",
    "print('Test accuracy: ', test_acc)"
   ]
  },
  {
   "cell_type": "markdown",
   "metadata": {},
   "source": [
    "## Titanic data fetched with Scikit-Learn (version one on openml dataset)"
   ]
  },
  {
   "cell_type": "markdown",
   "metadata": {
    "colab_type": "text",
    "id": "0D7scqBWkg5t"
   },
   "source": [
    "### Load Titanic dataset"
   ]
  },
  {
   "cell_type": "code",
   "execution_count": null,
   "metadata": {
    "colab": {},
    "colab_type": "code",
    "id": "YACSvJ81h_Ry"
   },
   "outputs": [],
   "source": [
    "# Import the dataset loading function from sklearn\n",
    "from sklearn.datasets import fetch_openml\n",
    "\n",
    "# Load the titanic dataset from openml\n",
    "titanic = fetch_openml(name='titanic', version=1, as_frame=True)\n",
    "\n",
    "data, label = titanic.data.copy(), titanic.target.copy()\n",
    "\n",
    "# reformat the label from pd.Series to pd.DataFrame\n",
    "label = pd.DataFrame(label)\n",
    "\n",
    "# Split data into training and test dataset\n",
    "x_train, x_test, y_train, y_test = data[:891], data[891:], label[:891], label[891:]\n",
    "\n",
    "print(\"--Shape of the training data--\\n {}\".format(x_train.shape))\n",
    "print(\"\\n--Shape of the testing data--\\n {}\".format(x_test.shape))"
   ]
  },
  {
   "cell_type": "markdown",
   "metadata": {
    "colab_type": "text",
    "id": "N5xlStkakqJn"
   },
   "source": [
    "### Run the StructuredDataClassifier"
   ]
  },
  {
   "cell_type": "code",
   "execution_count": null,
   "metadata": {
    "colab": {},
    "colab_type": "code",
    "id": "QfnaDrkPiTTg"
   },
   "outputs": [],
   "source": [
    "# It tries 10 different models.\n",
    "clf = ak.StructuredDataClassifier(max_trials=10)\n",
    "\n",
    "# Feed the structured data classifier with training data.\n",
    "clf.fit(x_train, y_train, epochs=20, verbose=2)"
   ]
  },
  {
   "cell_type": "markdown",
   "metadata": {},
   "source": [
    "### Evaluate the best model on the test data."
   ]
  },
  {
   "cell_type": "code",
   "execution_count": null,
   "metadata": {
    "colab": {},
    "colab_type": "code",
    "id": "ENEc_5kaTJzn"
   },
   "outputs": [],
   "source": [
    "\n",
    "test_loss, test_acc = clf.evaluate(x_test, y_test, verbose=0)\n",
    "print('Test accuracy: ', test_acc)\n"
   ]
  },
  {
   "cell_type": "code",
   "execution_count": null,
   "metadata": {},
   "outputs": [],
   "source": []
  },
  {
   "cell_type": "markdown",
   "metadata": {
    "colab_type": "text",
    "id": "FBykhsofDoKf"
   },
   "source": [
    "## Reference\n",
    "[ImageClassifier](/image_classifier),\n",
    "[AutoModel](/auto_model/#automodel-class),\n",
    "[ImageBlock](/block/#imageblock-class),\n",
    "[Normalization](/preprocessor/#normalization-class),\n",
    "[ImageAugmentation](/preprocessor/#image-augmentation-class),\n",
    "[ResNetBlock](/block/#resnetblock-class),\n",
    "[ImageInput](/node/#imageinput-class),\n",
    "[ClassificationHead](/head/#classificationhead-class)."
   ]
  },
  {
   "cell_type": "code",
   "execution_count": null,
   "metadata": {},
   "outputs": [],
   "source": []
  }
 ],
 "metadata": {
  "colab": {
   "collapsed_sections": [],
   "name": "ImageClassifier.ipynb",
   "provenance": []
  },
  "kernelspec": {
   "display_name": "Python 3",
   "language": "python",
   "name": "python3"
  },
  "language_info": {
   "codemirror_mode": {
    "name": "ipython",
    "version": 3
   },
   "file_extension": ".py",
   "mimetype": "text/x-python",
   "name": "python",
   "nbconvert_exporter": "python",
   "pygments_lexer": "ipython3",
   "version": "3.6.2"
  }
 },
 "nbformat": 4,
 "nbformat_minor": 1
}
