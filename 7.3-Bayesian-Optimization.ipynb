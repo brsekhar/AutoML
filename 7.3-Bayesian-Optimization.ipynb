{
  "nbformat": 4,
  "nbformat_minor": 0,
  "metadata": {
    "colab": {
      "name": "7.3-Bayesian-Optimization.ipynb",
      "provenance": [],
      "collapsed_sections": []
    },
    "kernelspec": {
      "name": "python3",
      "display_name": "Python 3"
    },
    "language_info": {
      "name": "python"
    }
  },
  "cells": [
    {
      "cell_type": "code",
      "metadata": {
        "colab": {
          "base_uri": "https://localhost:8080/"
        },
        "id": "zfrIbTIZ55WI",
        "outputId": "854d0e6a-ad58-41b1-aca9-3cad60f02eab"
      },
      "source": [
        "!pip install git+https://github.com/keras-team/keras-tuner.git -q\n",
        "!pip install autokeras -q\n",
        "!pip install lightgbm==3.2.0 -q"
      ],
      "execution_count": 1,
      "outputs": [
        {
          "output_type": "stream",
          "text": [
            "  Building wheel for keras-tuner (setup.py) ... \u001b[?25l\u001b[?25hdone\n",
            "\u001b[K     |████████████████████████████████| 174kB 5.8MB/s \n",
            "\u001b[K     |████████████████████████████████| 2.0MB 5.8MB/s \n",
            "\u001b[?25h"
          ],
          "name": "stdout"
        }
      ]
    },
    {
      "cell_type": "markdown",
      "metadata": {
        "id": "E5vfLH5dGDUc"
      },
      "source": [
        "### Load dataset"
      ]
    },
    {
      "cell_type": "code",
      "metadata": {
        "colab": {
          "base_uri": "https://localhost:8080/"
        },
        "id": "PmncuLxjGFyn",
        "outputId": "79d32c00-dbac-4239-b4f6-ebe1b2ccaf0d"
      },
      "source": [
        "from sklearn.datasets import fetch_california_housing\n",
        "\n",
        "house_dataset = fetch_california_housing()\n",
        "\n",
        "# Import pandas package to format the data\n",
        "import pandas as pd\n",
        "\n",
        "# Extract features with their names into the a dataframe format\n",
        "data = pd.DataFrame(house_dataset.data, columns=house_dataset.feature_names)\n",
        "\n",
        "# Extract target with their names into a pd.Series object with name MEDV\n",
        "target = pd.Series(house_dataset.target, name = 'MEDV')\n",
        "\n",
        "from sklearn.model_selection import train_test_split\n",
        "X_train, X_test, y_train, y_test = train_test_split(data, target, test_size=0.2, random_state=42)\n",
        "X_train, X_val, y_train, y_val = train_test_split(X_train, y_train, test_size=0.2, shuffle=False)"
      ],
      "execution_count": 2,
      "outputs": [
        {
          "output_type": "stream",
          "text": [
            "Downloading Cal. housing from https://ndownloader.figshare.com/files/5976036 to /root/scikit_learn_data\n"
          ],
          "name": "stderr"
        }
      ]
    },
    {
      "cell_type": "code",
      "metadata": {
        "colab": {
          "base_uri": "https://localhost:8080/"
        },
        "id": "hiwzdPo3lYL4",
        "outputId": "4336cfdf-eb9c-4c3a-cf9d-6f8e18f88aa9"
      },
      "source": [
        "X_train.shape, X_test.shape"
      ],
      "execution_count": 3,
      "outputs": [
        {
          "output_type": "execute_result",
          "data": {
            "text/plain": [
              "((13209, 8), (4128, 8))"
            ]
          },
          "metadata": {
            "tags": []
          },
          "execution_count": 3
        }
      ]
    },
    {
      "cell_type": "markdown",
      "metadata": {
        "id": "Jvrc_2rDKiMU"
      },
      "source": [
        "### Use LightGBM GBDT model to do regression without tuning"
      ]
    },
    {
      "cell_type": "code",
      "metadata": {
        "colab": {
          "base_uri": "https://localhost:8080/"
        },
        "id": "XUUVVfwjKgpM",
        "outputId": "c8485fd8-56d4-43c2-9d86-001f68600666"
      },
      "source": [
        "import lightgbm as lgb\n",
        "from sklearn.metrics import mean_squared_error\n",
        "\n",
        "gbdt_model = lgb.LGBMRegressor(\n",
        "                    boosting_type='gbdt',\n",
        "                    num_leaves=31,\n",
        "                    learning_rate=0.05,\n",
        "                    n_estimators=10\n",
        "                    )  # create model\n",
        "\n",
        "validation_data = (X_val, y_val)\n",
        "gbdt_model.fit(X_train, y_train,\n",
        "        eval_set=[validation_data],\n",
        "        eval_metric='mse',\n",
        "        early_stopping_rounds=5) # fit the model\n",
        "\n",
        "# evalaute model\n",
        "y_pred_gbdt = gbdt_model.predict(X_test, num_iteration=gbdt_model.best_iteration_)\n",
        "test_mse_1 = mean_squared_error(y_test, y_pred_gbdt)\n",
        "print(\"The GBDT prediction MSE on test set: {}\".format(test_mse_1))"
      ],
      "execution_count": 4,
      "outputs": [
        {
          "output_type": "stream",
          "text": [
            "[1]\tvalid_0's l2: 1.28051\n",
            "Training until validation scores don't improve for 5 rounds\n",
            "[2]\tvalid_0's l2: 1.2009\n",
            "[3]\tvalid_0's l2: 1.1316\n",
            "[4]\tvalid_0's l2: 1.06506\n",
            "[5]\tvalid_0's l2: 1.00734\n",
            "[6]\tvalid_0's l2: 0.952642\n",
            "[7]\tvalid_0's l2: 0.903993\n",
            "[8]\tvalid_0's l2: 0.857114\n",
            "[9]\tvalid_0's l2: 0.815805\n",
            "[10]\tvalid_0's l2: 0.778275\n",
            "Did not meet early stopping. Best iteration is:\n",
            "[10]\tvalid_0's l2: 0.778275\n",
            "The GBDT prediction MSE on test set: 0.7514642734431766\n"
          ],
          "name": "stdout"
        }
      ]
    },
    {
      "cell_type": "markdown",
      "metadata": {
        "id": "xyld2C55KtfG"
      },
      "source": [
        "### Create the LightGBM model building function (search space)"
      ]
    },
    {
      "cell_type": "code",
      "metadata": {
        "id": "u2Z8zkHhDVYF"
      },
      "source": [
        "def build_model(hp):\n",
        "    model = lgb.LGBMRegressor(\n",
        "                        boosting_type='gbdt',\n",
        "                        # you can also search model type such as: \n",
        "                        # boosting_type=hp.Choice(\"model_type\", ['gbdt', 'goss'], default='gbdt'),\n",
        "                        num_leaves=hp.Int(\"num_leaves\", 5, 50, step=1),\n",
        "                        learning_rate=hp.Float('learning_rate', 1e-3, 1, sampling='log', default=0.01),\n",
        "                        n_estimators=hp.Int('n_estimators', 5, 50, step=1)\n",
        "                        )\n",
        "\n",
        "    return model"
      ],
      "execution_count": 5,
      "outputs": []
    },
    {
      "cell_type": "markdown",
      "metadata": {
        "id": "HVYmNtqTK2Jv"
      },
      "source": [
        "### Customize tuner"
      ]
    },
    {
      "cell_type": "code",
      "metadata": {
        "id": "hJsGY1lpK1wt"
      },
      "source": [
        "\n",
        "import os\n",
        "import pickle\n",
        "import tensorflow as tf\n",
        "import kerastuner as kt\n",
        "import lightgbm as lgb\n",
        "from sklearn.metrics import mean_squared_error\n",
        "\n",
        "class LightGBMTuner(kt.engine.base_tuner.BaseTuner):\n",
        "\n",
        "    def run_trial(self, trial, X, y, validation_data):\n",
        "        model = self.hypermodel.build(trial.hyperparameters) # build the model\n",
        "        model.fit(X_train, y_train,\n",
        "                eval_set=[validation_data],\n",
        "                eval_metric='mse',\n",
        "                early_stopping_rounds=5) # fit the model\n",
        "        X_val, y_val = validation_data\n",
        "        y_pred = model.predict(X_val, num_iteration=model.best_iteration_) # evaluate the model\n",
        "        eval_mse = mean_squared_error(y_val, y_pred)\n",
        "        self.oracle.update_trial(trial.trial_id, {'mse': eval_mse})  # inform the oracle of the eval result, the result is a dictionary with the metric names as the keys.\n",
        "        self.save_model(trial.trial_id, model) # save the model to disk\n",
        "\n",
        "    def save_model(self, trial_id, model, step=0):\n",
        "        fname = os.path.join(self.get_trial_dir(trial_id), 'model.txt')\n",
        "        model.booster_.save_model(fname, num_iteration=model.best_iteration_) \n",
        "\n",
        "    def load_model(self, trial):\n",
        "        fname = os.path.join(self.get_trial_dir(trial.trial_id), 'model.txt')\n",
        "        model = lgb.Booster(model_file=fname)\n",
        "        return model"
      ],
      "execution_count": 6,
      "outputs": []
    },
    {
      "cell_type": "markdown",
      "metadata": {
        "id": "xYlNlwEALFH3"
      },
      "source": [
        "### Use build-in random search algorithm to tune models"
      ]
    },
    {
      "cell_type": "code",
      "metadata": {
        "colab": {
          "base_uri": "https://localhost:8080/"
        },
        "id": "oCRZ-nIVLGpG",
        "outputId": "ea536afd-8c47-43cf-95da-c747191f76e1"
      },
      "source": [
        "my_lightgbm_tuner = LightGBMTuner(\n",
        "        oracle=kt.oracles.RandomSearch(\n",
        "            objective=kt.Objective('mse', 'min'),\n",
        "            max_trials=100,\n",
        "            seed=42),\n",
        "        hypermodel=build_model,\n",
        "        overwrite=True,\n",
        "        project_name='my_lightgbm_tuner')\n",
        "\n",
        "my_lightgbm_tuner.search(X_train, y_train, validation_data=(X_val, y_val))"
      ],
      "execution_count": 7,
      "outputs": [
        {
          "output_type": "stream",
          "text": [
            "Trial 100 Complete [00h 00m 00s]\n",
            "mse: 0.8565818768549603\n",
            "\n",
            "Best mse So Far: 0.23615237093831826\n",
            "Total elapsed time: 00h 00m 15s\n",
            "INFO:tensorflow:Oracle triggered exit\n"
          ],
          "name": "stdout"
        }
      ]
    },
    {
      "cell_type": "code",
      "metadata": {
        "colab": {
          "base_uri": "https://localhost:8080/"
        },
        "id": "yzmKZDjyLJDX",
        "outputId": "2e5e2bb1-fafb-4b96-d6cf-609d486cdf95"
      },
      "source": [
        "from sklearn.metrics import mean_squared_error\n",
        "\n",
        "best_model = my_lightgbm_tuner.get_best_models(1)[0]\n",
        "y_pred_test = best_model.predict(X_test)\n",
        "test_mse = mean_squared_error(y_test, y_pred_test)\n",
        "print(\"The prediction MSE on test set: {}\".format(test_mse))"
      ],
      "execution_count": 8,
      "outputs": [
        {
          "output_type": "stream",
          "text": [
            "The prediction MSE on test set: 0.22039670222190072\n"
          ],
          "name": "stdout"
        }
      ]
    },
    {
      "cell_type": "code",
      "metadata": {
        "colab": {
          "base_uri": "https://localhost:8080/"
        },
        "id": "uCnFIFZ7pyaG",
        "outputId": "e5a1e792-e9cc-4a7b-f63e-dc5207bf2b68"
      },
      "source": [
        "my_lightgbm_tuner.results_summary(1)"
      ],
      "execution_count": 9,
      "outputs": [
        {
          "output_type": "stream",
          "text": [
            "Results summary\n",
            "Results in ./my_lightgbm_tuner\n",
            "Showing 1 best trials\n",
            "Objective(name='mse', direction='min')\n",
            "Trial summary\n",
            "Hyperparameters:\n",
            "num_leaves: 33\n",
            "learning_rate: 0.2678840060400965\n",
            "n_estimators: 48\n",
            "Score: 0.23615237093831826\n"
          ],
          "name": "stdout"
        }
      ]
    },
    {
      "cell_type": "markdown",
      "metadata": {
        "id": "nFszrn9rLNlk"
      },
      "source": [
        "### Customize Bayesian Optimization search algorithm"
      ]
    },
    {
      "cell_type": "code",
      "metadata": {
        "id": "785rmdQ2LLH4"
      },
      "source": [
        "import random\n",
        "\n",
        "import numpy as np\n",
        "from scipy import optimize as scipy_optimize\n",
        "from scipy.stats import norm\n",
        "from sklearn import exceptions\n",
        "from sklearn import gaussian_process\n",
        "\n",
        "from kerastuner.engine import hyperparameters as hp_module\n",
        "from kerastuner.engine import multi_execution_tuner\n",
        "from kerastuner.engine import oracle as oracle_module\n",
        "from kerastuner.engine import trial as trial_lib\n",
        "\n",
        "\n",
        "class BayesianOptimizationOracle(oracle_module.Oracle):\n",
        "    \"\"\"Bayesian optimization oracle.\n",
        "\n",
        "    It uses Bayesian optimization with a underlying Gaussian process model.\n",
        "    The acquisition function used is upper confidence bound (UCB), which can\n",
        "    be found in the following link:\n",
        "    https://www.cse.wustl.edu/~garnett/cse515t/spring_2015/files/lecture_notes/12.pdf\n",
        "\n",
        "    # Arguments\n",
        "        objective: String or `kerastuner.Objective`. If a string,\n",
        "          the direction of the optimization (min or max) will be\n",
        "          inferred.\n",
        "        max_trials: Int. Total number of trials\n",
        "            (model configurations) to test at most.\n",
        "            Note that the oracle may interrupt the search\n",
        "            before `max_trial` models have been tested if the search space has been\n",
        "            exhausted.\n",
        "        num_initial_points: (Optional) Int. The number of randomly generated samples\n",
        "            as initial training data for Bayesian optimization. (If not specified,\n",
        "            a trick is to use the square root of the dimensionality of the \n",
        "            hyperparameter space.)\n",
        "        beta: Float. The balancing factor of exploration and exploitation.\n",
        "            The larger it is, the more explorative it is.\n",
        "        seed: Int. Random seed.\n",
        "        hyperparameters: HyperParameters class instance.\n",
        "            Can be used to override (or register in advance)\n",
        "            hyperparamters in the search space.\n",
        "    \"\"\"\n",
        "\n",
        "    def __init__(self,\n",
        "                 objective,\n",
        "                 max_trials,\n",
        "                 beta=2.6,\n",
        "                 acq_type=\"ucb\",\n",
        "                 num_initial_points=None,\n",
        "                 seed=None,\n",
        "                 hyperparameters=None,\n",
        "                 *args, **kwargs):\n",
        "        super(BayesianOptimizationOracle, self).__init__(\n",
        "            objective=objective,\n",
        "            max_trials=max_trials,\n",
        "            hyperparameters=hyperparameters,\n",
        "            seed=seed,\n",
        "            *args, **kwargs)\n",
        "        # Use 2 as the initial number of random points if not presented.\n",
        "        self.num_initial_points = num_initial_points or 2\n",
        "        self.beta = beta\n",
        "        self.seed = seed or random.randint(1, 1e4)\n",
        "        self._random_state = np.random.RandomState(self.seed)\n",
        "        self.gpr = self._make_gpr()\n",
        "        self.acq_type = acq_type\n",
        "\n",
        "    def _make_gpr(self):\n",
        "        return gaussian_process.GaussianProcessRegressor(\n",
        "            kernel=gaussian_process.kernels.Matern(nu=2.5),\n",
        "            alpha=1e-4,\n",
        "            normalize_y=True,\n",
        "            random_state=self.seed)\n",
        "\n",
        "    def _vectorize_trials(self):\n",
        "        x, y = [], []\n",
        "        for trial in self.trials.values():\n",
        "            # Create a vector representation of each Trial's hyperparameters.\n",
        "            trial_hps = trial.hyperparameters\n",
        "            vector = []\n",
        "            nonfixed_hp_space = [hp for hp in self.hyperparameters.space\n",
        "                if not isinstance(hp, hp_module.Fixed)]\n",
        "            for hp in nonfixed_hp_space:\n",
        "                # For hyperparameters not present in the trial (either added after\n",
        "                # the trial or inactive in the trial), set to default value.\n",
        "                if trial_hps.is_active(hp):\n",
        "                    trial_value = trial_hps.values[hp.name]\n",
        "                else:\n",
        "                    trial_value = hp.default\n",
        "\n",
        "                # Embed an HP value into the continuous space [0, 1].\n",
        "                prob = hp_module.value_to_cumulative_prob(trial_value, hp)\n",
        "                vector.append(prob)\n",
        "\n",
        "            if trial.status == \"COMPLETED\":\n",
        "                score = trial.score\n",
        "                if self.objective.direction == \"min\":\n",
        "                    score = -1 * score\n",
        "            else:\n",
        "                continue\n",
        "\n",
        "            x.append(vector)\n",
        "            y.append(score)\n",
        "\n",
        "        x = np.array(x)\n",
        "        y = np.array(y)\n",
        "        return x, y\n",
        "\n",
        "    def _vector_to_values(self, vector):\n",
        "        hps = hp_module.HyperParameters()\n",
        "        vector_index = 0\n",
        "        for hp in self.hyperparameters.space:\n",
        "            hps.merge([hp])\n",
        "            if isinstance(hp, hp_module.Fixed):\n",
        "                value = hp.value\n",
        "            else:\n",
        "                prob = vector[vector_index]\n",
        "                vector_index += 1\n",
        "                value = hp_module.cumulative_prob_to_value(prob, hp)\n",
        "\n",
        "            if hps.is_active(hp):\n",
        "                hps.values[hp.name] = value\n",
        "        return hps.values\n",
        "\n",
        "\n",
        "\n",
        "    def _random_populate_space(self):\n",
        "        values = self._random_values()\n",
        "        if values is None:\n",
        "            return {'status': trial_lib.TrialStatus.STOPPED,\n",
        "                    'values': None}\n",
        "        return {'status': trial_lib.TrialStatus.RUNNING,\n",
        "                'values': values}\n",
        "\n",
        "    def _num_completed_trials(self):\n",
        "        return len([t for t in self.trials.values() if t.status == 'COMPLETED'])\n",
        "\n",
        "    def _populate_space(self, trial_id):\n",
        "\n",
        "        if self._num_completed_trials() < self.num_initial_points:\n",
        "            return self._random_populate_space()\n",
        "\n",
        "\n",
        "        # Update Gaussian process regressor\n",
        "        x, y = self._vectorize_trials()\n",
        "        try:\n",
        "            self.gpr.fit(x, y)\n",
        "        except exceptions.ConvergenceWarning:\n",
        "            raise e\n",
        "\n",
        "        # Three acquisition functions\n",
        "        def _upper_confidence_bound(x):\n",
        "            x = x.reshape(1, -1)\n",
        "            mu, sigma = self.gpr.predict(x, return_std=True)\n",
        "            return -1 * (mu + self.beta * sigma)\n",
        "\n",
        "        def _probability_of_improvement(x):\n",
        "            # calculate the best surrogate score found so far\n",
        "            x_history, _ = self._vectorize_trials()\n",
        "            y_pred = self.gpr.predict(x_history, return_std=False)\n",
        "            y_best = max(y_pred)\n",
        "            # calculate mean and stdev via surrogate function\n",
        "            x = x.reshape(1, -1)\n",
        "            mu, sigma = self.gpr.predict(x, return_std=True)\n",
        "            # calculate the probability of improvement\n",
        "            z = (mu - y_best) / (sigma+1E-9)\n",
        "            prob = norm.cdf(z)\n",
        "            return -1 * prob\n",
        "\n",
        "        def _expected_improvement(x):\n",
        "            # calculate the best surrogate score found so far\n",
        "            x_history, _ = self._vectorize_trials()\n",
        "            y_pred = self.gpr.predict(x_history, return_std=False)\n",
        "            y_best = max(y_pred)\n",
        "            # calculate mean and stdev via surrogate function\n",
        "            x = x.reshape(1, -1)\n",
        "            mu, sigma = self.gpr.predict(x, return_std=True)\n",
        "            # calculate the probability of improvement\n",
        "            z = (mu - y_best) / (sigma+1E-9)\n",
        "            ei = (mu - y_best) * norm.cdf(z) + sigma * norm.pdf(z)\n",
        "            return -1 * ei\n",
        "\n",
        "        acq_funcs = { \"ucb\": _upper_confidence_bound,\n",
        "            \"pi\": _probability_of_improvement,\n",
        "            \"ei\": _expected_improvement,\n",
        "        }\n",
        "\n",
        "        # Sampling based on acquisition functions\n",
        "        optimal_val = float('inf')\n",
        "        optimal_x = None\n",
        "        num_restarts = 50\n",
        "        bounds = self._get_hp_bounds()\n",
        "        x_seeds = self._random_state.uniform(bounds[:, 0], bounds[:, 1],\n",
        "                                             size=(num_restarts, bounds.shape[0]))\n",
        "        for x_try in x_seeds:\n",
        "            # Sign of score is flipped when maximizing.\n",
        "            result = scipy_optimize.minimize(acq_funcs[self.acq_type],\n",
        "                                             x0=x_try,\n",
        "                                             bounds=bounds,\n",
        "                                             method='L-BFGS-B')\n",
        "            if result.fun[0] < optimal_val:\n",
        "                optimal_val = result.fun[0]\n",
        "                optimal_x = result.x\n",
        "\n",
        "        values = self._vector_to_values(optimal_x)\n",
        "        return {'status': trial_lib.TrialStatus.RUNNING,\n",
        "                'values': values}\n",
        "\n",
        "    def _get_hp_bounds(self):\n",
        "        nonfixed_hp_space = [hp for hp in self.hyperparameters.space\n",
        "                if not isinstance(hp, hp_module.Fixed)]\n",
        "        bounds = []\n",
        "        for hp in nonfixed_hp_space:\n",
        "            bounds.append([0, 1])\n",
        "        return np.array(bounds)\n",
        "      \n",
        "    def get_state(self):\n",
        "        state = super(BayesianOptimizationOracle, self).get_state()\n",
        "        state.update({\n",
        "            'num_initial_points': self.num_initial_points,\n",
        "            'acq_type': self.acq_type,\n",
        "            'beta': self.beta,\n",
        "            'seed': self.seed,\n",
        "        })\n",
        "        return state\n",
        "\n",
        "    def set_state(self, state):\n",
        "        super(BayesianOptimizationOracle, self).set_state(state)\n",
        "        self.num_initial_points = state['num_initial_points']\n",
        "        self.acq_type = state['acq_type']\n",
        "        self.beta = state['beta']\n",
        "        self.seed = state['seed']\n",
        "        self._random_state = np.random.RandomState(self.seed)\n",
        "        self.gpr = self._make_gpr()\n"
      ],
      "execution_count": 10,
      "outputs": []
    },
    {
      "cell_type": "markdown",
      "metadata": {
        "id": "G_yA1DrYLk36"
      },
      "source": [
        "### Use customized Bayesian Optimization search algorithm to tune models"
      ]
    },
    {
      "cell_type": "code",
      "metadata": {
        "colab": {
          "base_uri": "https://localhost:8080/"
        },
        "id": "Ri1vPLF1Lbxh",
        "outputId": "26eeceee-20bb-4f7c-ae17-a92d226f716d"
      },
      "source": [
        "my_lightgbm_tuner_2 = LightGBMTuner(\n",
        "        oracle=BayesianOptimizationOracle(\n",
        "            objective=kt.Objective('mse', 'min'),\n",
        "            max_trials=100,\n",
        "            acq_type=\"ucb\", # you can switch between different acquisition functions\n",
        "            seed=42),\n",
        "        hypermodel=build_model,\n",
        "        overwrite=True,\n",
        "        project_name='my_lightgbm_tuner_2')\n",
        "\n",
        "my_lightgbm_tuner_2.search(X_train, y_train, validation_data=(X_val, y_val))"
      ],
      "execution_count": 11,
      "outputs": [
        {
          "output_type": "stream",
          "text": [
            "Trial 100 Complete [00h 00m 00s]\n",
            "mse: 0.23013593082493572\n",
            "\n",
            "Best mse So Far: 0.22657451402044926\n",
            "Total elapsed time: 00h 02m 23s\n",
            "INFO:tensorflow:Oracle triggered exit\n"
          ],
          "name": "stdout"
        }
      ]
    },
    {
      "cell_type": "code",
      "metadata": {
        "colab": {
          "base_uri": "https://localhost:8080/"
        },
        "id": "VmODtJv9LwVI",
        "outputId": "2ac7e818-04c4-402b-fa88-362014415f79"
      },
      "source": [
        "from sklearn.metrics import mean_squared_error\n",
        "\n",
        "best_model_2 = my_lightgbm_tuner_2.get_best_models(1)[0]\n",
        "y_pred_test_2 = best_model_2.predict(X_test)\n",
        "test_mse_2 = mean_squared_error(y_test, y_pred_test_2)\n",
        "print(\"The prediction MSE on test set: {}\".format(test_mse_2))"
      ],
      "execution_count": 12,
      "outputs": [
        {
          "output_type": "stream",
          "text": [
            "The prediction MSE on test set: 0.2201682086069178\n"
          ],
          "name": "stdout"
        }
      ]
    },
    {
      "cell_type": "code",
      "metadata": {
        "colab": {
          "base_uri": "https://localhost:8080/"
        },
        "id": "09VNAQLyq1_S",
        "outputId": "10078fff-9cb1-4ab5-e8a3-76b54589aad1"
      },
      "source": [
        "my_lightgbm_tuner_2.results_summary(1)"
      ],
      "execution_count": 13,
      "outputs": [
        {
          "output_type": "stream",
          "text": [
            "Results summary\n",
            "Results in ./my_lightgbm_tuner_2\n",
            "Showing 1 best trials\n",
            "Objective(name='mse', direction='min')\n",
            "Trial summary\n",
            "Hyperparameters:\n",
            "num_leaves: 50\n",
            "learning_rate: 0.21665341881986094\n",
            "n_estimators: 50\n",
            "Score: 0.22657451402044926\n"
          ],
          "name": "stdout"
        }
      ]
    },
    {
      "cell_type": "markdown",
      "metadata": {
        "id": "T-NlN2VIMtYd"
      },
      "source": [
        "### Plot search curves"
      ]
    },
    {
      "cell_type": "code",
      "metadata": {
        "id": "vAgJglrUL8YF"
      },
      "source": [
        "import matplotlib.pyplot as plt \n",
        "\n",
        "def plot_curve(x, y, xlabel, ylabel, title):\n",
        "    plt.plot(x, y)\n",
        "    plt.xlabel(xlabel)\n",
        "    plt.ylabel(ylabel) \n",
        "    plt.title(title)\n",
        "    plt.show()\n",
        "\n",
        "def plot_curves(x, ys, xlabel, ylabel, title, ymin, ymax, legend, markers, linestyles, markevery=1):\n",
        "    for i, y in enumerate(ys):\n",
        "        plt.plot(x, y, marker=markers[i], linestyle=linestyles[i], markevery=markevery)\n",
        "    plt.xlabel(xlabel)\n",
        "    plt.ylabel(ylabel) \n",
        "    plt.title(title)\n",
        "    plt.ylim(ymin, ymax)\n",
        "    plt.legend(legend)\n",
        "    plt.show()"
      ],
      "execution_count": 20,
      "outputs": []
    },
    {
      "cell_type": "code",
      "metadata": {
        "colab": {
          "base_uri": "https://localhost:8080/",
          "height": 573
        },
        "id": "7wYA2Y5eM13L",
        "outputId": "2e9f07e7-18ff-491b-d6ea-848aa164f4db"
      },
      "source": [
        "mse_bo = [my_lightgbm_tuner_2.oracle.get_trial(trial_id).score for trial_id in my_lightgbm_tuner_2.oracle.end_order]\n",
        "ids = list(range(len(mse_bo)))\n",
        "plot_curve(ids, mse_bo, 'Trials in finish order', 'Validation MSE', 'Searched Results')\n",
        "\n",
        "high_value = float('inf')\n",
        "high_mse_bo = []\n",
        "for value in mse_bo:\n",
        "  high_value = min(high_value, value)\n",
        "  high_mse_bo.append(high_value)\n",
        "plot_curve(ids, high_mse_bo, 'Trials in finish order', 'Highest Validation MSE So Far', 'Searched Results')"
      ],
      "execution_count": 15,
      "outputs": [
        {
          "output_type": "display_data",
          "data": {
            "image/png": "[encoded data removed]",
            "text/plain": [
              "<Figure size 432x288 with 1 Axes>"
            ]
          },
          "metadata": {
            "tags": [],
            "needs_background": "light"
          }
        },
        {
          "output_type": "display_data",
          "data": {
            "image/png": "[encoded data removed]",
            "text/plain": [
              "<Figure size 432x288 with 1 Axes>"
            ]
          },
          "metadata": {
            "tags": [],
            "needs_background": "light"
          }
        }
      ]
    },
    {
      "cell_type": "code",
      "metadata": {
        "colab": {
          "base_uri": "https://localhost:8080/",
          "height": 573
        },
        "id": "TQUGxOlcv4Wb",
        "outputId": "8171017d-a92a-423e-e661-26abe30dc71a"
      },
      "source": [
        "mse_random = [my_lightgbm_tuner.oracle.get_trial(trial_id).score for trial_id in my_lightgbm_tuner.oracle.end_order]\n",
        "mse_bo = [my_lightgbm_tuner_2.oracle.get_trial(trial_id).score for trial_id in my_lightgbm_tuner_2.oracle.end_order]\n",
        "\n",
        "high_value = float('inf')\n",
        "high_mse_random = []\n",
        "for value in mse_random:\n",
        "  high_value = min(high_value, value)\n",
        "  high_mse_random.append(high_value)\n",
        "\n",
        "high_value = float('inf')\n",
        "high_mse_bo = []\n",
        "for value in mse_bo:\n",
        "  high_value = min(high_value, value)\n",
        "  high_mse_bo.append(high_value)\n",
        "\n",
        "plot_curves(ids, [mse_random, mse_bo], 'Trials in finish order', 'Validation MSE', 'Searched Results', 0, 1.5, markers=['o', '+'], linestyles=['-', '-.'], legend=['Random search', 'Bayesian optimization'])\n",
        "plot_curves(ids, [high_mse_random, high_mse_bo], 'Trials in finish order', 'Highest Validation MSE So Far', 'Searched Results', 0.2, 0.4,  markers=['o', '+'], linestyles=['-', '-.'], legend=['Random search', 'Bayesian optimization'], markevery=5)\n"
      ],
      "execution_count": 21,
      "outputs": [
        {
          "output_type": "display_data",
          "data": {
            "image/png": "[encoded data removed]",
            "text/plain": [
              "<Figure size 432x288 with 1 Axes>"
            ]
          },
          "metadata": {
            "tags": [],
            "needs_background": "light"
          }
        },
        {
          "output_type": "display_data",
          "data": {
            "image/png": "[encoded data removed]",
            "text/plain": [
              "<Figure size 432x288 with 1 Axes>"
            ]
          },
          "metadata": {
            "tags": [],
            "needs_background": "light"
          }
        }
      ]
    },
    {
      "cell_type": "code",
      "metadata": {
        "id": "4IUhrGOofojZ"
      },
      "source": [
        ""
      ],
      "execution_count": null,
      "outputs": []
    }
  ]
}